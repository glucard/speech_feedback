{
 "cells": [
  {
   "cell_type": "code",
   "execution_count": 1,
   "metadata": {},
   "outputs": [
    {
     "data": {
      "text/plain": [
       "'/home/glucas11/faculdade/speech_feedback'"
      ]
     },
     "execution_count": 1,
     "metadata": {},
     "output_type": "execute_result"
    }
   ],
   "source": [
    "import os\n",
    "os.chdir(\"..\")  # Move up one directory level\n",
    "os.getcwd()"
   ]
  },
  {
   "cell_type": "code",
   "execution_count": 2,
   "metadata": {},
   "outputs": [],
   "source": [
    "from IPython.display import Audio\n",
    "import random\n",
    "import matplotlib.pyplot as plt\n",
    "import tempfile\n",
    "import numpy as np\n",
    "import pandas as pd\n",
    "import os"
   ]
  },
  {
   "cell_type": "code",
   "execution_count": 3,
   "metadata": {},
   "outputs": [],
   "source": [
    "import torch\n",
    "from torch import optim\n",
    "from torch.nn.functional import cross_entropy\n",
    "import torchaudio\n",
    "import torchaudio.transforms as T\n",
    "from torch.optim.lr_scheduler import ReduceLROnPlateau"
   ]
  },
  {
   "cell_type": "code",
   "execution_count": 4,
   "metadata": {},
   "outputs": [],
   "source": [
    "from sklearn.metrics import confusion_matrix, ConfusionMatrixDisplay, accuracy_score, f1_score, classification_report"
   ]
  },
  {
   "cell_type": "code",
   "execution_count": 5,
   "metadata": {},
   "outputs": [],
   "source": [
    "import ray\n",
    "from ray import tune\n",
    "from ray import train\n",
    "from ray.train import Checkpoint\n",
    "from ray.tune.search.optuna import OptunaSearch\n",
    "from ray.tune.schedulers import ASHAScheduler\n",
    "from ray.train import RunConfig\n",
    "from ray.tune import CLIReporter"
   ]
  },
  {
   "cell_type": "code",
   "execution_count": 6,
   "metadata": {},
   "outputs": [],
   "source": [
    "from src.custom_audio_dataset import CustomAudioDataset\n",
    "from src.utils import pad_collate_fn, plot_spectrogram, dataloader_from_split\n",
    "from src.datasets.datasets import get_data_path\n",
    "from src.datasets.utils import split_train_val_test\n",
    "from src import custom_layers, models"
   ]
  },
  {
   "cell_type": "code",
   "execution_count": 7,
   "metadata": {},
   "outputs": [
    {
     "data": {
      "text/plain": [
       "'cuda'"
      ]
     },
     "execution_count": 7,
     "metadata": {},
     "output_type": "execute_result"
    }
   ],
   "source": [
    "DEVICE = \"cuda\" if torch.cuda.is_available() else \"cpu\"\n",
    "\n",
    "MAX_EPOCH = 15\n",
    "\n",
    "TRAIN_SIZE = 0.6\n",
    "TEST_FROM_VAL_SIZE = 0.5\n",
    "\n",
    "SAMPLE_RATE = 16_000\n",
    "\n",
    "DEVICE"
   ]
  },
  {
   "cell_type": "code",
   "execution_count": 8,
   "metadata": {},
   "outputs": [
    {
     "data": {
      "text/plain": [
       "('/home/glucas11/faculdade/speech_feedback/temp_datasets/alip_sample/annotations.csv',\n",
       " '/home/glucas11/faculdade/speech_feedback/temp_datasets/alip_sample')"
      ]
     },
     "execution_count": 8,
     "metadata": {},
     "output_type": "execute_result"
    }
   ],
   "source": [
    "annotations_file_path, data_dir_path = get_data_path(\"alip_sample\")\n",
    "annotations_file_path, data_dir_path"
   ]
  },
  {
   "cell_type": "code",
   "execution_count": 9,
   "metadata": {},
   "outputs": [
    {
     "data": {
      "text/plain": [
       "np.float64(1.957217319188885)"
      ]
     },
     "execution_count": 9,
     "metadata": {},
     "output_type": "execute_result"
    }
   ],
   "source": [
    "annotations = pd.read_csv(annotations_file_path)\n",
    "\n",
    "q_low = annotations[\"duration\"].quantile(0.01)\n",
    "q_hi  = annotations[\"duration\"].quantile(0.99)\n",
    "\n",
    "annotations = annotations[(annotations[\"duration\"] < q_hi) & (annotations[\"duration\"] > q_low)]\n",
    "\n",
    "MAX_SECONDS_DURATION = annotations[\"duration\"].max()\n",
    "MAX_SECONDS_DURATION"
   ]
  },
  {
   "cell_type": "code",
   "execution_count": 10,
   "metadata": {},
   "outputs": [],
   "source": [
    "MAX_FEATURES_IN = SAMPLE_RATE * MAX_SECONDS_DURATION"
   ]
  },
  {
   "cell_type": "code",
   "execution_count": 11,
   "metadata": {},
   "outputs": [
    {
     "data": {
      "text/plain": [
       "('/home/glucas11/faculdade/speech_feedback/temp_datasets/alip_sample/split_annotations/train.csv',\n",
       " '/home/glucas11/faculdade/speech_feedback/temp_datasets/alip_sample/split_annotations/val.csv',\n",
       " '/home/glucas11/faculdade/speech_feedback/temp_datasets/alip_sample/split_annotations/test.csv')"
      ]
     },
     "execution_count": 11,
     "metadata": {},
     "output_type": "execute_result"
    }
   ],
   "source": [
    "train_annotation_path, val_annotation_path, test_annotation_path = split_train_val_test(annotations_file_path, 0.6, 0.5)\n",
    "train_annotation_path, val_annotation_path, test_annotation_path"
   ]
  },
  {
   "cell_type": "code",
   "execution_count": 12,
   "metadata": {},
   "outputs": [],
   "source": [
    "models_arch = {\n",
    "    \"CnnMFCC\": models.CnnMFCC,\n",
    "    \"CnnMFCC_v2\": models.CnnMFCC_v2,\n",
    "    \"CnnSpectrogram\": models.CnnSpectrogram,\n",
    "}"
   ]
  },
  {
   "cell_type": "code",
   "execution_count": 13,
   "metadata": {},
   "outputs": [],
   "source": [
    "def train_func(model, optimizer, dataloader):\n",
    "\tmodel.train()\n",
    "\tlosses = []\n",
    "\tpred_np = []\n",
    "\ttarget_np = []\n",
    "\tfor batch_idx, (data, target) in enumerate(dataloader):\n",
    "\t\toptimizer.zero_grad()\n",
    "\t\tdata, target = data.to(DEVICE), target.to(DEVICE)\n",
    "\t\tlogits = model(data)\n",
    "\t\tloss = cross_entropy(logits, target)\n",
    "\t\tlosses.append(loss.item())\n",
    "\t\tloss.backward()\n",
    "\t\toptimizer.step()\n",
    "\t\t\n",
    "\t\tpreds = torch.max(logits, dim=1).indices\n",
    "\t\tpred_np.append(preds.detach().cpu().numpy())\n",
    "\t\ttarget_np.append(target.detach().cpu().numpy())\n",
    "\t\n",
    "\tpred_np = np.concatenate(pred_np)\n",
    "\ttarget_np = np.concatenate(target_np)\n",
    "\n",
    "\treturn {\n",
    "\t\t\"mean_loss\": sum(losses) / len(losses),\n",
    "\t\t\"accuracy\": accuracy_score(target_np, pred_np),\n",
    "\t\t\"f1_score\": f1_score(target_np, pred_np),\n",
    "\t}\n",
    "\n",
    "def validate_func(model, dataloader):\n",
    "\tmodel.eval()\n",
    "\t\n",
    "\tlosses = []\n",
    "\tpred_np = []\n",
    "\ttarget_np = []\n",
    "\twith torch.no_grad():\n",
    "\t\tfor batch_idx, (data, target) in enumerate(dataloader):\n",
    "\t\t\tdata, target = data.to(DEVICE), target.to(DEVICE)\n",
    "\t\t\tlogits = model(data)\n",
    "\t\t\tloss = cross_entropy(logits, target)\n",
    "\t\t\tlosses.append(loss.item())\n",
    "\t\t\t\n",
    "\t\t\tpreds = torch.max(logits, dim=1).indices\n",
    "\t\t\tpred_np.append(preds.detach().cpu().numpy())\n",
    "\t\t\ttarget_np.append(target.detach().cpu().numpy())\n",
    "\n",
    "\tpred_np = np.concatenate(pred_np)\n",
    "\ttarget_np = np.concatenate(target_np)\n",
    "\n",
    "\treturn {\n",
    "\t\t\"mean_loss\": sum(losses) / len(losses),\n",
    "\t\t\"accuracy\": accuracy_score(target_np, pred_np),\n",
    "\t\t\"f1_score\": f1_score(target_np, pred_np),\n",
    "\t\t\"confusion_matrix\": confusion_matrix(target_np, pred_np),\n",
    "\t}"
   ]
  },
  {
   "cell_type": "code",
   "execution_count": 14,
   "metadata": {},
   "outputs": [],
   "source": [
    "def train_hesitation(config:dict, max_epochs=30, tunning=True):\n",
    "\tfeatures_in = config['max_seconds_length'] * SAMPLE_RATE\n",
    "\ttrain_data_transform = torch.nn.Sequential(\n",
    "\t\t# custom_layers.RandomPitchShiftLayer(p=0.001, sample_rate=SAMPLE_RATE, min_steps=-5, max_steps=5), # too heavy\n",
    "\t\t# custom_layers.ReverberationLayer(1,400), # not working yet\n",
    "\t\tcustom_layers.PadOrTruncateLayer(features_in),\n",
    "\t\tcustom_layers.NoiseLayer(p=0.5, noise_factor=0.05),\n",
    "\t)\n",
    "\tdata_transform = torch.nn.Sequential(\n",
    "\t\tcustom_layers.PadOrTruncateLayer(features_in),\n",
    "\t)\n",
    "\ttrain_dataloader, val_dataloader, test_dataloader = dataloader_from_split(\n",
    "        annotations_train_path=train_annotation_path,\n",
    "        annotations_val_path=val_annotation_path,\n",
    "        annotations_test_path=test_annotation_path,\n",
    "\t\tdata_dir_path=data_dir_path,\n",
    "\t\ttarget_column_name=\"has_hesitation\",\n",
    "\t\ttrain_data_transform=train_data_transform,\n",
    "\t\tdata_transform=data_transform,\n",
    "\t)\n",
    "\tmodel_architecture = models_arch[config['model_architecture']]\n",
    "\tmodel = model_architecture(n_classes=2, sample_rate=SAMPLE_RATE, features_in=features_in, dropout=config['dropout'])\n",
    "\tmodel = model.to(DEVICE)\n",
    "\n",
    "\toptimizer = optim.Adam(model.parameters(), lr=config['learning_rate'], weight_decay=config['weight_decay'])\n",
    "\n",
    "\t# early_stopping_patience = 5  # Number of epochs to wait before stopping\n",
    "\tscheduler = ReduceLROnPlateau(optimizer, mode='min', factor=0.7, patience=3)\n",
    "\tfor i in range(max_epochs):\n",
    "\t\ttrain_log = train_func(model, optimizer, train_dataloader)\n",
    "\t\tval_log = validate_func(model, val_dataloader)\n",
    "\t\t\n",
    "\t\tscheduler.step(val_log['mean_loss'])\n",
    "\n",
    "\t\tif tunning:\n",
    "\t\t\twith tempfile.TemporaryDirectory() as temp_checkpoint_dir:\n",
    "\t\t\t\tcheckpoint = None\n",
    "\t\t\t\tif (i + 1) % max_epochs == 0 and (val_log[\"mean_loss\"] < 0.4):\n",
    "\t\t\t\t\t# This saves the model to the trial directory\n",
    "\t\t\t\t\ttorch.save(\n",
    "\t\t\t\t\t\tmodel.state_dict(),\n",
    "\t\t\t\t\t\tos.path.join(temp_checkpoint_dir, \"model.pth\")\n",
    "\t\t\t\t\t)\n",
    "\t\t\t\t\tcheckpoint = Checkpoint.from_directory(temp_checkpoint_dir)\n",
    "\n",
    "\t\t\t\t# Send the current training result back to Tune\n",
    "\t\t\t\ttrain.report(\n",
    "\t\t\t\t\t{\n",
    "\t\t\t\t\t\t\"train_mean_loss\": train_log[\"mean_loss\"],\n",
    "\t\t\t\t\t\t\"train_accuracy\": train_log[\"accuracy\"],\n",
    "\t\t\t\t\t\t\"train_f1_score\": train_log[\"f1_score\"],\n",
    "\t\t\t\t\t\t\"val_mean_loss\": val_log[\"mean_loss\"],\n",
    "\t\t\t\t\t\t\"val_accuracy\": val_log[\"accuracy\"],\n",
    "\t\t\t\t\t\t\"val_f1_score\": val_log[\"f1_score\"],\n",
    "\t\t\t\t\t},\n",
    "\t\t\t\t\tcheckpoint=checkpoint\n",
    "\t\t\t\t)\n",
    "\t\telse:\n",
    "\t\t\tprint(\"-\"*10, f\"epoch: {i+1}/{max_epochs}\",\"-\"*10)\n",
    "\t\t\tprint(f\"train: {train_log}\\nval: {val_log}\")\n",
    "\tif not tunning:\n",
    "\t\treturn {\n",
    "\t\t\t\"model\": model,\n",
    "\t\t\t\"test_dataloader\": test_dataloader,\n",
    "\t\t}\n",
    "\ttest_log = validate_func(model, test_dataloader)\n",
    "\tprint(test_log)\n",
    "\ttrain.report(\n",
    "\t\t{\n",
    "\t\t\t\"test_mean_loss\": test_log[\"mean_loss\"],\n",
    "\t\t\t\"test_accuracy\": test_log[\"accuracy\"],\n",
    "\t\t\t\"test_f1_score\": test_log[\"f1_score\"],\n",
    "\t\t},\n",
    "\t\tcheckpoint=checkpoint\n",
    "\t)"
   ]
  },
  {
   "cell_type": "code",
   "execution_count": 15,
   "metadata": {},
   "outputs": [],
   "source": [
    "max_cpus = os.cpu_count()\n",
    "max_gpus = torch.cuda.device_count()\n",
    "max_cpus, max_gpus\n",
    "\n",
    "config = {\n",
    "    \"max_seconds_length\": tune.randint(3, 20),\n",
    "    \"dropout\": tune.uniform(0.1, 0.5),\n",
    "    \"learning_rate\":  tune.loguniform(1e-5, 1e-2),\n",
    "\t\"weight_decay\": tune.loguniform(1e-5, 1e-2),\n",
    "    \"model_architecture\": tune.choice(models_arch.keys()),\n",
    "}\n",
    "\n",
    "metric = \"train_mean_loss\"\n",
    "mode = \"min\"\n",
    "\n",
    "optuna_search = OptunaSearch(\n",
    "\tmetric=metric,\n",
    "\tmode=mode,\n",
    "\t# points_to_evaluate = curr_best_params,\n",
    ")\n",
    "\n",
    "asas_scheduler = ASHAScheduler(\n",
    "\ttime_attr='training_iteration',\n",
    "\tmetric=metric,\n",
    "\tmode=mode,\n",
    "\tmax_t=30,\n",
    "\tgrace_period=10,\n",
    "\treduction_factor=3,\n",
    "\tbrackets=2\n",
    ")\n"
   ]
  },
  {
   "cell_type": "code",
   "execution_count": 16,
   "metadata": {},
   "outputs": [],
   "source": [
    "pd.set_option('display.max_columns', None)  # Show all columns\n",
    "pd.set_option('display.max_rows', None)     # Show all rows\n",
    "pd.set_option('display.max_colwidth', None)   # No limit on column width\n",
    "pd.set_option('display.width', 1000)        # Set the display width to a large number"
   ]
  },
  {
   "cell_type": "code",
   "execution_count": 17,
   "metadata": {},
   "outputs": [
    {
     "data": {
      "text/html": [
       "<div class=\"tuneStatus\">\n",
       "  <div style=\"display: flex;flex-direction: row\">\n",
       "    <div style=\"display: flex;flex-direction: column;\">\n",
       "      <h3>Tune Status</h3>\n",
       "      <table>\n",
       "<tbody>\n",
       "<tr><td>Current time:</td><td>2024-11-14 10:32:26</td></tr>\n",
       "<tr><td>Running for: </td><td>00:08:20.85        </td></tr>\n",
       "<tr><td>Memory:      </td><td>5.8/15.6 GiB       </td></tr>\n",
       "</tbody>\n",
       "</table>\n",
       "    </div>\n",
       "    <div class=\"vDivider\"></div>\n",
       "    <div class=\"systemInfo\">\n",
       "      <h3>System Info</h3>\n",
       "      Using AsyncHyperBand: num_stopped=50<br>Bracket: Iter 30.000: -0.4965540766716003 | Iter 10.000: -0.7466252048810323<br>Bracket: Iter 30.000: -0.5354534586270651<br>Logical resource usage: 16.0/16 CPUs, 1.0/1 GPUs (0.0/1.0 accelerator_type:G)\n",
       "    </div>\n",
       "    \n",
       "  </div>\n",
       "  <div class=\"hDivider\"></div>\n",
       "  <div class=\"trialStatus\">\n",
       "    <h3>Trial Status</h3>\n",
       "    <table>\n",
       "<thead>\n",
       "<tr><th>Trial name               </th><th>status    </th><th>loc               </th><th style=\"text-align: right;\">  dropout</th><th style=\"text-align: right;\">  learning_rate</th><th style=\"text-align: right;\">  max_seconds_length</th><th>model_architecture  </th><th style=\"text-align: right;\">  weight_decay</th><th style=\"text-align: right;\">  iter</th><th style=\"text-align: right;\">  total time (s)</th><th style=\"text-align: right;\">  train_mean_loss</th><th style=\"text-align: right;\">  train_accuracy</th><th style=\"text-align: right;\">  train_f1_score</th></tr>\n",
       "</thead>\n",
       "<tbody>\n",
       "<tr><td>train_hesitation_2bba44d8</td><td>TERMINATED</td><td>172.18.55.40:28185</td><td style=\"text-align: right;\"> 0.458811</td><td style=\"text-align: right;\">    0.000627336</td><td style=\"text-align: right;\">                   5</td><td>CnnSpectrogram      </td><td style=\"text-align: right;\">   0.00574688 </td><td style=\"text-align: right;\">    30</td><td style=\"text-align: right;\">         9.43948</td><td style=\"text-align: right;\">         0.711076</td><td style=\"text-align: right;\">        0.571429</td><td style=\"text-align: right;\">        0.594595</td></tr>\n",
       "<tr><td>train_hesitation_4f114ae4</td><td>TERMINATED</td><td>172.18.55.40:28453</td><td style=\"text-align: right;\"> 0.255907</td><td style=\"text-align: right;\">    0.00178182 </td><td style=\"text-align: right;\">                  11</td><td>CnnMFCC             </td><td style=\"text-align: right;\">   3.96536e-05</td><td style=\"text-align: right;\">    30</td><td style=\"text-align: right;\">         8.39471</td><td style=\"text-align: right;\">         0.825891</td><td style=\"text-align: right;\">        0.442857</td><td style=\"text-align: right;\">        0.48    </td></tr>\n",
       "<tr><td>train_hesitation_4dd67b1d</td><td>TERMINATED</td><td>172.18.55.40:28648</td><td style=\"text-align: right;\"> 0.318283</td><td style=\"text-align: right;\">    7.4801e-05 </td><td style=\"text-align: right;\">                   9</td><td>CnnMFCC_v2          </td><td style=\"text-align: right;\">   0.00116619 </td><td style=\"text-align: right;\">    10</td><td style=\"text-align: right;\">         3.21786</td><td style=\"text-align: right;\">         0.918754</td><td style=\"text-align: right;\">        0.471429</td><td style=\"text-align: right;\">        0.430769</td></tr>\n",
       "<tr><td>train_hesitation_82a0d105</td><td>TERMINATED</td><td>172.18.55.40:28821</td><td style=\"text-align: right;\"> 0.309119</td><td style=\"text-align: right;\">    1.51859e-05</td><td style=\"text-align: right;\">                  19</td><td>CnnMFCC             </td><td style=\"text-align: right;\">   0.00350816 </td><td style=\"text-align: right;\">    10</td><td style=\"text-align: right;\">         3.68963</td><td style=\"text-align: right;\">         0.934572</td><td style=\"text-align: right;\">        0.428571</td><td style=\"text-align: right;\">        0.5     </td></tr>\n",
       "<tr><td>train_hesitation_77178281</td><td>TERMINATED</td><td>172.18.55.40:29001</td><td style=\"text-align: right;\"> 0.177531</td><td style=\"text-align: right;\">    0.00376548 </td><td style=\"text-align: right;\">                  19</td><td>CnnMFCC             </td><td style=\"text-align: right;\">   0.00975717 </td><td style=\"text-align: right;\">    10</td><td style=\"text-align: right;\">         4.06931</td><td style=\"text-align: right;\">         1.38577 </td><td style=\"text-align: right;\">        0.514286</td><td style=\"text-align: right;\">        0.679245</td></tr>\n",
       "<tr><td>train_hesitation_196bcf26</td><td>TERMINATED</td><td>172.18.55.40:29176</td><td style=\"text-align: right;\"> 0.32816 </td><td style=\"text-align: right;\">    0.00717496 </td><td style=\"text-align: right;\">                  18</td><td>CnnMFCC_v2          </td><td style=\"text-align: right;\">   7.52128e-05</td><td style=\"text-align: right;\">    30</td><td style=\"text-align: right;\">         9.46701</td><td style=\"text-align: right;\">         0.847892</td><td style=\"text-align: right;\">        0.528571</td><td style=\"text-align: right;\">        0.47619 </td></tr>\n",
       "<tr><td>train_hesitation_7b198af9</td><td>TERMINATED</td><td>172.18.55.40:29375</td><td style=\"text-align: right;\"> 0.200405</td><td style=\"text-align: right;\">    0.00346651 </td><td style=\"text-align: right;\">                   9</td><td>CnnMFCC             </td><td style=\"text-align: right;\">   0.00199178 </td><td style=\"text-align: right;\">    30</td><td style=\"text-align: right;\">         7.89571</td><td style=\"text-align: right;\">         0.725538</td><td style=\"text-align: right;\">        0.557143</td><td style=\"text-align: right;\">        0.659341</td></tr>\n",
       "<tr><td>train_hesitation_b3edd907</td><td>TERMINATED</td><td>172.18.55.40:29569</td><td style=\"text-align: right;\"> 0.192988</td><td style=\"text-align: right;\">    0.00482071 </td><td style=\"text-align: right;\">                  15</td><td>CnnMFCC_v2          </td><td style=\"text-align: right;\">   0.000224089</td><td style=\"text-align: right;\">    30</td><td style=\"text-align: right;\">         8.83645</td><td style=\"text-align: right;\">         0.712798</td><td style=\"text-align: right;\">        0.5     </td><td style=\"text-align: right;\">        0.545455</td></tr>\n",
       "<tr><td>train_hesitation_f0154399</td><td>TERMINATED</td><td>172.18.55.40:29760</td><td style=\"text-align: right;\"> 0.107309</td><td style=\"text-align: right;\">    8.06579e-05</td><td style=\"text-align: right;\">                   9</td><td>CnnMFCC_v2          </td><td style=\"text-align: right;\">   2.63816e-05</td><td style=\"text-align: right;\">    30</td><td style=\"text-align: right;\">         7.74148</td><td style=\"text-align: right;\">         0.722541</td><td style=\"text-align: right;\">        0.471429</td><td style=\"text-align: right;\">        0.463768</td></tr>\n",
       "<tr><td>train_hesitation_c279f2c0</td><td>TERMINATED</td><td>172.18.55.40:29950</td><td style=\"text-align: right;\"> 0.491131</td><td style=\"text-align: right;\">    0.00105301 </td><td style=\"text-align: right;\">                  12</td><td>CnnMFCC_v2          </td><td style=\"text-align: right;\">   0.000625467</td><td style=\"text-align: right;\">    10</td><td style=\"text-align: right;\">         3.52859</td><td style=\"text-align: right;\">         1.07132 </td><td style=\"text-align: right;\">        0.471429</td><td style=\"text-align: right;\">        0.506667</td></tr>\n",
       "<tr><td>train_hesitation_94cd6e99</td><td>TERMINATED</td><td>172.18.55.40:30124</td><td style=\"text-align: right;\"> 0.364085</td><td style=\"text-align: right;\">    0.000189053</td><td style=\"text-align: right;\">                   5</td><td>CnnMFCC             </td><td style=\"text-align: right;\">   0.00144781 </td><td style=\"text-align: right;\">    30</td><td style=\"text-align: right;\">         8.73704</td><td style=\"text-align: right;\">         0.771932</td><td style=\"text-align: right;\">        0.528571</td><td style=\"text-align: right;\">        0.535211</td></tr>\n",
       "<tr><td>train_hesitation_0a73a8e3</td><td>TERMINATED</td><td>172.18.55.40:30311</td><td style=\"text-align: right;\"> 0.494247</td><td style=\"text-align: right;\">    0.000406814</td><td style=\"text-align: right;\">                   3</td><td>CnnSpectrogram      </td><td style=\"text-align: right;\">   0.00787448 </td><td style=\"text-align: right;\">    30</td><td style=\"text-align: right;\">         6.71618</td><td style=\"text-align: right;\">         0.918609</td><td style=\"text-align: right;\">        0.457143</td><td style=\"text-align: right;\">        0.5     </td></tr>\n",
       "<tr><td>train_hesitation_95a85844</td><td>TERMINATED</td><td>172.18.55.40:30498</td><td style=\"text-align: right;\"> 0.461586</td><td style=\"text-align: right;\">    0.000622332</td><td style=\"text-align: right;\">                   3</td><td>CnnSpectrogram      </td><td style=\"text-align: right;\">   0.000201405</td><td style=\"text-align: right;\">    30</td><td style=\"text-align: right;\">         6.67253</td><td style=\"text-align: right;\">         0.661935</td><td style=\"text-align: right;\">        0.6     </td><td style=\"text-align: right;\">        0.641026</td></tr>\n",
       "<tr><td>train_hesitation_2c8b4265</td><td>TERMINATED</td><td>172.18.55.40:30692</td><td style=\"text-align: right;\"> 0.403873</td><td style=\"text-align: right;\">    0.000673702</td><td style=\"text-align: right;\">                  14</td><td>CnnSpectrogram      </td><td style=\"text-align: right;\">   0.000203514</td><td style=\"text-align: right;\">    30</td><td style=\"text-align: right;\">        10.0889 </td><td style=\"text-align: right;\">         0.78446 </td><td style=\"text-align: right;\">        0.5     </td><td style=\"text-align: right;\">        0.545455</td></tr>\n",
       "<tr><td>train_hesitation_6bd97996</td><td>TERMINATED</td><td>172.18.55.40:30885</td><td style=\"text-align: right;\"> 0.427701</td><td style=\"text-align: right;\">    0.000628002</td><td style=\"text-align: right;\">                   5</td><td>CnnSpectrogram      </td><td style=\"text-align: right;\">   0.000189376</td><td style=\"text-align: right;\">    10</td><td style=\"text-align: right;\">         3.15606</td><td style=\"text-align: right;\">         0.922127</td><td style=\"text-align: right;\">        0.5     </td><td style=\"text-align: right;\">        0.507042</td></tr>\n",
       "<tr><td>train_hesitation_9596e221</td><td>TERMINATED</td><td>172.18.55.40:31059</td><td style=\"text-align: right;\"> 0.42078 </td><td style=\"text-align: right;\">    0.000171007</td><td style=\"text-align: right;\">                   5</td><td>CnnSpectrogram      </td><td style=\"text-align: right;\">   9.36185e-05</td><td style=\"text-align: right;\">    30</td><td style=\"text-align: right;\">         6.98638</td><td style=\"text-align: right;\">         0.839796</td><td style=\"text-align: right;\">        0.514286</td><td style=\"text-align: right;\">        0.527778</td></tr>\n",
       "<tr><td>train_hesitation_ee2f8eb1</td><td>TERMINATED</td><td>172.18.55.40:31244</td><td style=\"text-align: right;\"> 0.429631</td><td style=\"text-align: right;\">    0.000176154</td><td style=\"text-align: right;\">                   3</td><td>CnnSpectrogram      </td><td style=\"text-align: right;\">   0.000111326</td><td style=\"text-align: right;\">    30</td><td style=\"text-align: right;\">         8.07326</td><td style=\"text-align: right;\">         0.770903</td><td style=\"text-align: right;\">        0.585714</td><td style=\"text-align: right;\">        0.591549</td></tr>\n",
       "<tr><td>train_hesitation_176d8ba7</td><td>TERMINATED</td><td>172.18.55.40:31433</td><td style=\"text-align: right;\"> 0.458418</td><td style=\"text-align: right;\">    0.00132172 </td><td style=\"text-align: right;\">                   3</td><td>CnnSpectrogram      </td><td style=\"text-align: right;\">   1.05032e-05</td><td style=\"text-align: right;\">    30</td><td style=\"text-align: right;\">         6.73264</td><td style=\"text-align: right;\">         0.65915 </td><td style=\"text-align: right;\">        0.571429</td><td style=\"text-align: right;\">        0.615385</td></tr>\n",
       "<tr><td>train_hesitation_00a89d47</td><td>TERMINATED</td><td>172.18.55.40:31614</td><td style=\"text-align: right;\"> 0.464879</td><td style=\"text-align: right;\">    0.00161905 </td><td style=\"text-align: right;\">                   7</td><td>CnnSpectrogram      </td><td style=\"text-align: right;\">   1.22966e-05</td><td style=\"text-align: right;\">    10</td><td style=\"text-align: right;\">         3.10874</td><td style=\"text-align: right;\">         0.910014</td><td style=\"text-align: right;\">        0.485714</td><td style=\"text-align: right;\">        0.470588</td></tr>\n",
       "<tr><td>train_hesitation_3991758b</td><td>TERMINATED</td><td>172.18.55.40:31804</td><td style=\"text-align: right;\"> 0.383318</td><td style=\"text-align: right;\">    0.00165524 </td><td style=\"text-align: right;\">                   7</td><td>CnnSpectrogram      </td><td style=\"text-align: right;\">   1.17279e-05</td><td style=\"text-align: right;\">    30</td><td style=\"text-align: right;\">         7.13707</td><td style=\"text-align: right;\">         0.666233</td><td style=\"text-align: right;\">        0.614286</td><td style=\"text-align: right;\">        0.571429</td></tr>\n",
       "<tr><td>train_hesitation_d073b3db</td><td>TERMINATED</td><td>172.18.55.40:31991</td><td style=\"text-align: right;\"> 0.369475</td><td style=\"text-align: right;\">    1.28542e-05</td><td style=\"text-align: right;\">                   7</td><td>CnnSpectrogram      </td><td style=\"text-align: right;\">   1.06518e-05</td><td style=\"text-align: right;\">    30</td><td style=\"text-align: right;\">         8.52369</td><td style=\"text-align: right;\">         0.968319</td><td style=\"text-align: right;\">        0.514286</td><td style=\"text-align: right;\">        0.585366</td></tr>\n",
       "<tr><td>train_hesitation_feb067d8</td><td>TERMINATED</td><td>172.18.55.40:32193</td><td style=\"text-align: right;\"> 0.358837</td><td style=\"text-align: right;\">    3.87707e-05</td><td style=\"text-align: right;\">                   3</td><td>CnnSpectrogram      </td><td style=\"text-align: right;\">   0.000527777</td><td style=\"text-align: right;\">    10</td><td style=\"text-align: right;\">         2.92057</td><td style=\"text-align: right;\">         0.973415</td><td style=\"text-align: right;\">        0.471429</td><td style=\"text-align: right;\">        0.626263</td></tr>\n",
       "<tr><td>train_hesitation_29e333be</td><td>TERMINATED</td><td>172.18.55.40:32370</td><td style=\"text-align: right;\"> 0.363607</td><td style=\"text-align: right;\">    0.00171992 </td><td style=\"text-align: right;\">                   3</td><td>CnnSpectrogram      </td><td style=\"text-align: right;\">   2.08956e-05</td><td style=\"text-align: right;\">    30</td><td style=\"text-align: right;\">         6.79176</td><td style=\"text-align: right;\">         0.617296</td><td style=\"text-align: right;\">        0.585714</td><td style=\"text-align: right;\">        0.567164</td></tr>\n",
       "<tr><td>train_hesitation_5582d003</td><td>TERMINATED</td><td>172.18.55.40:32563</td><td style=\"text-align: right;\"> 0.402867</td><td style=\"text-align: right;\">    0.00173364 </td><td style=\"text-align: right;\">                   7</td><td>CnnSpectrogram      </td><td style=\"text-align: right;\">   3.47813e-05</td><td style=\"text-align: right;\">    10</td><td style=\"text-align: right;\">         3.1075 </td><td style=\"text-align: right;\">         0.809422</td><td style=\"text-align: right;\">        0.514286</td><td style=\"text-align: right;\">        0.514286</td></tr>\n",
       "<tr><td>train_hesitation_2a6530a9</td><td>TERMINATED</td><td>172.18.55.40:32737</td><td style=\"text-align: right;\"> 0.459429</td><td style=\"text-align: right;\">    0.00252782 </td><td style=\"text-align: right;\">                   4</td><td>CnnSpectrogram      </td><td style=\"text-align: right;\">   2.63164e-05</td><td style=\"text-align: right;\">    10</td><td style=\"text-align: right;\">         4.33697</td><td style=\"text-align: right;\">         0.828838</td><td style=\"text-align: right;\">        0.514286</td><td style=\"text-align: right;\">        0.46875 </td></tr>\n",
       "<tr><td>train_hesitation_0eafd574</td><td>TERMINATED</td><td>172.18.55.40:32910</td><td style=\"text-align: right;\"> 0.26148 </td><td style=\"text-align: right;\">    0.000304233</td><td style=\"text-align: right;\">                   4</td><td>CnnSpectrogram      </td><td style=\"text-align: right;\">   2.0306e-05 </td><td style=\"text-align: right;\">    30</td><td style=\"text-align: right;\">         6.62952</td><td style=\"text-align: right;\">         0.69365 </td><td style=\"text-align: right;\">        0.542857</td><td style=\"text-align: right;\">        0.5     </td></tr>\n",
       "<tr><td>train_hesitation_a73f38f1</td><td>TERMINATED</td><td>172.18.55.40:33097</td><td style=\"text-align: right;\"> 0.263262</td><td style=\"text-align: right;\">    0.00795397 </td><td style=\"text-align: right;\">                   4</td><td>CnnSpectrogram      </td><td style=\"text-align: right;\">   1.93813e-05</td><td style=\"text-align: right;\">    30</td><td style=\"text-align: right;\">         6.88405</td><td style=\"text-align: right;\">         0.332231</td><td style=\"text-align: right;\">        0.871429</td><td style=\"text-align: right;\">        0.876712</td></tr>\n",
       "<tr><td>train_hesitation_00cf2eda</td><td>TERMINATED</td><td>172.18.55.40:33284</td><td style=\"text-align: right;\"> 0.276736</td><td style=\"text-align: right;\">    0.00860846 </td><td style=\"text-align: right;\">                   6</td><td>CnnSpectrogram      </td><td style=\"text-align: right;\">   5.65895e-05</td><td style=\"text-align: right;\">    30</td><td style=\"text-align: right;\">         8.51319</td><td style=\"text-align: right;\">         0.466223</td><td style=\"text-align: right;\">        0.742857</td><td style=\"text-align: right;\">        0.709677</td></tr>\n",
       "<tr><td>train_hesitation_f6acaf32</td><td>TERMINATED</td><td>172.18.55.40:33471</td><td style=\"text-align: right;\"> 0.266624</td><td style=\"text-align: right;\">    0.00785452 </td><td style=\"text-align: right;\">                   6</td><td>CnnSpectrogram      </td><td style=\"text-align: right;\">   5.40149e-05</td><td style=\"text-align: right;\">    30</td><td style=\"text-align: right;\">         7.04091</td><td style=\"text-align: right;\">         0.370754</td><td style=\"text-align: right;\">        0.871429</td><td style=\"text-align: right;\">        0.861538</td></tr>\n",
       "<tr><td>train_hesitation_f95670df</td><td>TERMINATED</td><td>172.18.55.40:33695</td><td style=\"text-align: right;\"> 0.281203</td><td style=\"text-align: right;\">    0.0090563  </td><td style=\"text-align: right;\">                   6</td><td>CnnSpectrogram      </td><td style=\"text-align: right;\">   5.42868e-05</td><td style=\"text-align: right;\">    30</td><td style=\"text-align: right;\">         7.26527</td><td style=\"text-align: right;\">         0.422498</td><td style=\"text-align: right;\">        0.828571</td><td style=\"text-align: right;\">        0.828571</td></tr>\n",
       "<tr><td>train_hesitation_114e9624</td><td>TERMINATED</td><td>172.18.55.40:33899</td><td style=\"text-align: right;\"> 0.269367</td><td style=\"text-align: right;\">    0.0098008  </td><td style=\"text-align: right;\">                   6</td><td>CnnSpectrogram      </td><td style=\"text-align: right;\">   5.51563e-05</td><td style=\"text-align: right;\">    30</td><td style=\"text-align: right;\">         8.3661 </td><td style=\"text-align: right;\">         0.519223</td><td style=\"text-align: right;\">        0.728571</td><td style=\"text-align: right;\">        0.716418</td></tr>\n",
       "<tr><td>train_hesitation_ff772b39</td><td>TERMINATED</td><td>172.18.55.40:34089</td><td style=\"text-align: right;\"> 0.227648</td><td style=\"text-align: right;\">    0.00988614 </td><td style=\"text-align: right;\">                  10</td><td>CnnSpectrogram      </td><td style=\"text-align: right;\">   5.15008e-05</td><td style=\"text-align: right;\">    30</td><td style=\"text-align: right;\">         7.80136</td><td style=\"text-align: right;\">         0.363199</td><td style=\"text-align: right;\">        0.814286</td><td style=\"text-align: right;\">        0.80597 </td></tr>\n",
       "<tr><td>train_hesitation_e5c54f3a</td><td>TERMINATED</td><td>172.18.55.40:34282</td><td style=\"text-align: right;\"> 0.231563</td><td style=\"text-align: right;\">    0.00669218 </td><td style=\"text-align: right;\">                   8</td><td>CnnSpectrogram      </td><td style=\"text-align: right;\">   5.45137e-05</td><td style=\"text-align: right;\">    30</td><td style=\"text-align: right;\">         7.6436 </td><td style=\"text-align: right;\">         0.442512</td><td style=\"text-align: right;\">        0.8     </td><td style=\"text-align: right;\">        0.78125 </td></tr>\n",
       "<tr><td>train_hesitation_7e9474e7</td><td>TERMINATED</td><td>172.18.55.40:34476</td><td style=\"text-align: right;\"> 0.229375</td><td style=\"text-align: right;\">    0.00601019 </td><td style=\"text-align: right;\">                  10</td><td>CnnSpectrogram      </td><td style=\"text-align: right;\">   0.000117406</td><td style=\"text-align: right;\">    30</td><td style=\"text-align: right;\">         9.48105</td><td style=\"text-align: right;\">         0.487018</td><td style=\"text-align: right;\">        0.771429</td><td style=\"text-align: right;\">        0.757576</td></tr>\n",
       "<tr><td>train_hesitation_7e4b7db2</td><td>TERMINATED</td><td>172.18.55.40:34670</td><td style=\"text-align: right;\"> 0.229976</td><td style=\"text-align: right;\">    0.00443532 </td><td style=\"text-align: right;\">                  11</td><td>CnnSpectrogram      </td><td style=\"text-align: right;\">   0.000132213</td><td style=\"text-align: right;\">    30</td><td style=\"text-align: right;\">         8.03634</td><td style=\"text-align: right;\">         0.465525</td><td style=\"text-align: right;\">        0.785714</td><td style=\"text-align: right;\">        0.761905</td></tr>\n",
       "<tr><td>train_hesitation_73581b44</td><td>TERMINATED</td><td>172.18.55.40:34857</td><td style=\"text-align: right;\"> 0.295879</td><td style=\"text-align: right;\">    0.00310423 </td><td style=\"text-align: right;\">                  11</td><td>CnnSpectrogram      </td><td style=\"text-align: right;\">   4.49095e-05</td><td style=\"text-align: right;\">    30</td><td style=\"text-align: right;\">         7.93974</td><td style=\"text-align: right;\">         0.515626</td><td style=\"text-align: right;\">        0.642857</td><td style=\"text-align: right;\">        0.657534</td></tr>\n",
       "<tr><td>train_hesitation_fb76ba40</td><td>TERMINATED</td><td>172.18.55.40:35044</td><td style=\"text-align: right;\"> 0.297958</td><td style=\"text-align: right;\">    0.00296648 </td><td style=\"text-align: right;\">                  13</td><td>CnnMFCC             </td><td style=\"text-align: right;\">   3.25882e-05</td><td style=\"text-align: right;\">    10</td><td style=\"text-align: right;\">         4.87735</td><td style=\"text-align: right;\">         0.869119</td><td style=\"text-align: right;\">        0.542857</td><td style=\"text-align: right;\">        0.686275</td></tr>\n",
       "<tr><td>train_hesitation_5aa3ae9a</td><td>TERMINATED</td><td>172.18.55.40:35225</td><td style=\"text-align: right;\"> 0.150202</td><td style=\"text-align: right;\">    0.00243581 </td><td style=\"text-align: right;\">                   8</td><td>CnnMFCC             </td><td style=\"text-align: right;\">   0.00047628 </td><td style=\"text-align: right;\">    30</td><td style=\"text-align: right;\">         7.15794</td><td style=\"text-align: right;\">         0.686065</td><td style=\"text-align: right;\">        0.585714</td><td style=\"text-align: right;\">        0.641975</td></tr>\n",
       "<tr><td>train_hesitation_4370df68</td><td>TERMINATED</td><td>172.18.55.40:35412</td><td style=\"text-align: right;\"> 0.144678</td><td style=\"text-align: right;\">    0.00987061 </td><td style=\"text-align: right;\">                   8</td><td>CnnMFCC_v2          </td><td style=\"text-align: right;\">   1.8012e-05 </td><td style=\"text-align: right;\">    10</td><td style=\"text-align: right;\">         3.09493</td><td style=\"text-align: right;\">         0.907431</td><td style=\"text-align: right;\">        0.514286</td><td style=\"text-align: right;\">        0.679245</td></tr>\n",
       "<tr><td>train_hesitation_2aae622e</td><td>TERMINATED</td><td>172.18.55.40:35585</td><td style=\"text-align: right;\"> 0.330094</td><td style=\"text-align: right;\">    0.00995937 </td><td style=\"text-align: right;\">                  17</td><td>CnnMFCC_v2          </td><td style=\"text-align: right;\">   1.84366e-05</td><td style=\"text-align: right;\">    10</td><td style=\"text-align: right;\">         3.79971</td><td style=\"text-align: right;\">         0.914428</td><td style=\"text-align: right;\">        0.585714</td><td style=\"text-align: right;\">        0.701031</td></tr>\n",
       "<tr><td>train_hesitation_5f08d510</td><td>TERMINATED</td><td>172.18.55.40:35759</td><td style=\"text-align: right;\"> 0.328342</td><td style=\"text-align: right;\">    0.00560612 </td><td style=\"text-align: right;\">                   6</td><td>CnnSpectrogram      </td><td style=\"text-align: right;\">   7.42959e-05</td><td style=\"text-align: right;\">    30</td><td style=\"text-align: right;\">         8.18224</td><td style=\"text-align: right;\">         0.558249</td><td style=\"text-align: right;\">        0.685714</td><td style=\"text-align: right;\">        0.645161</td></tr>\n",
       "<tr><td>train_hesitation_31f9f0b1</td><td>TERMINATED</td><td>172.18.55.40:35946</td><td style=\"text-align: right;\"> 0.243824</td><td style=\"text-align: right;\">    0.00540575 </td><td style=\"text-align: right;\">                  10</td><td>CnnSpectrogram      </td><td style=\"text-align: right;\">   7.09299e-05</td><td style=\"text-align: right;\">    10</td><td style=\"text-align: right;\">         3.37333</td><td style=\"text-align: right;\">         0.793428</td><td style=\"text-align: right;\">        0.571429</td><td style=\"text-align: right;\">        0.615385</td></tr>\n",
       "<tr><td>train_hesitation_454333d8</td><td>TERMINATED</td><td>172.18.55.40:36127</td><td style=\"text-align: right;\"> 0.234344</td><td style=\"text-align: right;\">    0.00645906 </td><td style=\"text-align: right;\">                   9</td><td>CnnSpectrogram      </td><td style=\"text-align: right;\">   5.62618e-05</td><td style=\"text-align: right;\">    30</td><td style=\"text-align: right;\">         7.73017</td><td style=\"text-align: right;\">         0.47951 </td><td style=\"text-align: right;\">        0.742857</td><td style=\"text-align: right;\">        0.71875 </td></tr>\n",
       "<tr><td>train_hesitation_2aaa8804</td><td>TERMINATED</td><td>172.18.55.40:36317</td><td style=\"text-align: right;\"> 0.222867</td><td style=\"text-align: right;\">    0.00696587 </td><td style=\"text-align: right;\">                   8</td><td>CnnSpectrogram      </td><td style=\"text-align: right;\">   4.56406e-05</td><td style=\"text-align: right;\">    30</td><td style=\"text-align: right;\">         8.9157 </td><td style=\"text-align: right;\">         0.51449 </td><td style=\"text-align: right;\">        0.714286</td><td style=\"text-align: right;\">        0.69697 </td></tr>\n",
       "<tr><td>train_hesitation_e89946a0</td><td>TERMINATED</td><td>172.18.55.40:36507</td><td style=\"text-align: right;\"> 0.209329</td><td style=\"text-align: right;\">    0.00407522 </td><td style=\"text-align: right;\">                   8</td><td>CnnSpectrogram      </td><td style=\"text-align: right;\">   4.37708e-05</td><td style=\"text-align: right;\">    30</td><td style=\"text-align: right;\">         7.75599</td><td style=\"text-align: right;\">         0.471774</td><td style=\"text-align: right;\">        0.8     </td><td style=\"text-align: right;\">        0.794118</td></tr>\n",
       "<tr><td>train_hesitation_dd761340</td><td>TERMINATED</td><td>172.18.55.40:36694</td><td style=\"text-align: right;\"> 0.208265</td><td style=\"text-align: right;\">    0.00451684 </td><td style=\"text-align: right;\">                   5</td><td>CnnMFCC             </td><td style=\"text-align: right;\">   0.000317614</td><td style=\"text-align: right;\">    30</td><td style=\"text-align: right;\">         6.69382</td><td style=\"text-align: right;\">         0.717449</td><td style=\"text-align: right;\">        0.528571</td><td style=\"text-align: right;\">        0.62069 </td></tr>\n",
       "<tr><td>train_hesitation_85a2f62a</td><td>TERMINATED</td><td>172.18.55.40:36881</td><td style=\"text-align: right;\"> 0.174073</td><td style=\"text-align: right;\">    0.00408037 </td><td style=\"text-align: right;\">                  10</td><td>CnnMFCC             </td><td style=\"text-align: right;\">   2.90432e-05</td><td style=\"text-align: right;\">    10</td><td style=\"text-align: right;\">         3.28974</td><td style=\"text-align: right;\">         0.871989</td><td style=\"text-align: right;\">        0.442857</td><td style=\"text-align: right;\">        0.170213</td></tr>\n",
       "<tr><td>train_hesitation_992a3ae1</td><td>TERMINATED</td><td>172.18.55.40:37062</td><td style=\"text-align: right;\"> 0.17852 </td><td style=\"text-align: right;\">    0.00683522 </td><td style=\"text-align: right;\">                  10</td><td>CnnMFCC_v2          </td><td style=\"text-align: right;\">   2.83923e-05</td><td style=\"text-align: right;\">    10</td><td style=\"text-align: right;\">         3.46075</td><td style=\"text-align: right;\">         0.94039 </td><td style=\"text-align: right;\">        0.457143</td><td style=\"text-align: right;\">        0.525   </td></tr>\n",
       "<tr><td>train_hesitation_9282eb03</td><td>TERMINATED</td><td>172.18.55.40:37235</td><td style=\"text-align: right;\"> 0.280616</td><td style=\"text-align: right;\">    0.00750856 </td><td style=\"text-align: right;\">                   4</td><td>CnnMFCC_v2          </td><td style=\"text-align: right;\">   8.83842e-05</td><td style=\"text-align: right;\">    30</td><td style=\"text-align: right;\">         6.75877</td><td style=\"text-align: right;\">         0.635663</td><td style=\"text-align: right;\">        0.542857</td><td style=\"text-align: right;\">        0.448276</td></tr>\n",
       "<tr><td>train_hesitation_3f3e2c6c</td><td>TERMINATED</td><td>172.18.55.40:37422</td><td style=\"text-align: right;\"> 0.287559</td><td style=\"text-align: right;\">    0.00100592 </td><td style=\"text-align: right;\">                   4</td><td>CnnSpectrogram      </td><td style=\"text-align: right;\">   0.000165437</td><td style=\"text-align: right;\">    30</td><td style=\"text-align: right;\">         6.55898</td><td style=\"text-align: right;\">         0.543569</td><td style=\"text-align: right;\">        0.728571</td><td style=\"text-align: right;\">        0.746667</td></tr>\n",
       "</tbody>\n",
       "</table>\n",
       "  </div>\n",
       "</div>\n",
       "<style>\n",
       ".tuneStatus {\n",
       "  color: var(--jp-ui-font-color1);\n",
       "}\n",
       ".tuneStatus .systemInfo {\n",
       "  display: flex;\n",
       "  flex-direction: column;\n",
       "}\n",
       ".tuneStatus td {\n",
       "  white-space: nowrap;\n",
       "}\n",
       ".tuneStatus .trialStatus {\n",
       "  display: flex;\n",
       "  flex-direction: column;\n",
       "}\n",
       ".tuneStatus h3 {\n",
       "  font-weight: bold;\n",
       "}\n",
       ".tuneStatus .hDivider {\n",
       "  border-bottom-width: var(--jp-border-width);\n",
       "  border-bottom-color: var(--jp-border-color0);\n",
       "  border-bottom-style: solid;\n",
       "}\n",
       ".tuneStatus .vDivider {\n",
       "  border-left-width: var(--jp-border-width);\n",
       "  border-left-color: var(--jp-border-color0);\n",
       "  border-left-style: solid;\n",
       "  margin: 0.5em 1em 0.5em 1em;\n",
       "}\n",
       "</style>\n"
      ],
      "text/plain": [
       "<IPython.core.display.HTML object>"
      ]
     },
     "metadata": {},
     "output_type": "display_data"
    },
    {
     "name": "stderr",
     "output_type": "stream",
     "text": [
      "2024-11-14 10:32:26,706\tINFO tune.py:1009 -- Wrote the latest version of all result files and experiment state to '/home/glucas11/ray_results/train_hesitation_2024-11-14_10-24-03' in 0.0108s.\n",
      "2024-11-14 10:32:26,718\tINFO tune.py:1041 -- Total run time: 500.90 seconds (500.84 seconds for the tuning loop).\n"
     ]
    }
   ],
   "source": [
    "trainable_with_resources = tune.with_resources(train_hesitation, {\"cpu\": max_cpus, \"gpu\": max_gpus})\n",
    "\n",
    "tuner = tune.Tuner(\n",
    "\ttrainable_with_resources,\n",
    "\ttune_config=tune.TuneConfig(\n",
    "\t\tnum_samples=50,\n",
    "\t\tsearch_alg=optuna_search,\n",
    "\t\tscheduler=asas_scheduler\n",
    "\t),\n",
    "\tparam_space=config,\n",
    ")\n",
    "results = tuner.fit()"
   ]
  },
  {
   "cell_type": "code",
   "execution_count": 18,
   "metadata": {},
   "outputs": [],
   "source": [
    "results.get_dataframe().to_csv(\"./raytune_results/raytune_results.csv\")"
   ]
  },
  {
   "cell_type": "code",
   "execution_count": 19,
   "metadata": {},
   "outputs": [
    {
     "data": {
      "text/plain": [
       "<Axes: title={'center': 'f1_score hist'}, ylabel='Frequency'>"
      ]
     },
     "execution_count": 19,
     "metadata": {},
     "output_type": "execute_result"
    },
    {
     "data": {
      "image/png": "[encoded data removed]",
      "text/plain": [
       "<Figure size 640x480 with 1 Axes>"
      ]
     },
     "metadata": {},
     "output_type": "display_data"
    }
   ],
   "source": [
    "df_results = results.get_dataframe()\n",
    "df_results['val_f1_score'].plot(kind='hist', title='f1_score hist')"
   ]
  },
  {
   "cell_type": "code",
   "execution_count": 20,
   "metadata": {},
   "outputs": [
    {
     "data": {
      "text/plain": [
       "<Axes: title={'center': 'val loss hist'}, ylabel='Frequency'>"
      ]
     },
     "execution_count": 20,
     "metadata": {},
     "output_type": "execute_result"
    },
    {
     "data": {
      "image/png": "[encoded data removed]",
      "text/plain": [
       "<Figure size 640x480 with 1 Axes>"
      ]
     },
     "metadata": {},
     "output_type": "display_data"
    }
   ],
   "source": [
    "df_results[df_results['val_mean_loss'] < 1]['val_mean_loss'].plot(kind='hist', title='val loss hist')"
   ]
  },
  {
   "cell_type": "code",
   "execution_count": 21,
   "metadata": {},
   "outputs": [
    {
     "data": {
      "text/plain": [
       "<Axes: title={'center': 'accuracy hist'}, ylabel='Frequency'>"
      ]
     },
     "execution_count": 21,
     "metadata": {},
     "output_type": "execute_result"
    },
    {
     "data": {
      "image/png": "[encoded data removed]",
      "text/plain": [
       "<Figure size 640x480 with 1 Axes>"
      ]
     },
     "metadata": {},
     "output_type": "display_data"
    }
   ],
   "source": [
    "df_results['val_accuracy'].plot(kind='hist', title='accuracy hist')"
   ]
  },
  {
   "cell_type": "code",
   "execution_count": 22,
   "metadata": {},
   "outputs": [
    {
     "data": {
      "text/plain": [
       "<Axes: title={'center': 'train loss hist'}, ylabel='Frequency'>"
      ]
     },
     "execution_count": 22,
     "metadata": {},
     "output_type": "execute_result"
    },
    {
     "data": {
      "image/png": "[encoded data removed]",
      "text/plain": [
       "<Figure size 640x480 with 1 Axes>"
      ]
     },
     "metadata": {},
     "output_type": "display_data"
    }
   ],
   "source": [
    "df_results[df_results['train_mean_loss'] < 1]['train_mean_loss'].plot(kind='hist', title='train loss hist')"
   ]
  },
  {
   "cell_type": "code",
   "execution_count": 23,
   "metadata": {},
   "outputs": [
    {
     "name": "stdout",
     "output_type": "stream",
     "text": [
      "{'max_seconds_length': 9, 'dropout': 0.10730898383137984, 'learning_rate': 8.065792381295561e-05, 'weight_decay': 2.638155786177101e-05, 'model_architecture': 'CnnMFCC_v2'}\n",
      "---------- epoch: 1/30 ----------\n",
      "train: {'mean_loss': 1.16517174243927, 'accuracy': 0.4857142857142857, 'f1_score': np.float64(0.0)}\n",
      "val: {'mean_loss': 0.739283561706543, 'accuracy': 0.5, 'f1_score': np.float64(0.0), 'confusion_matrix': array([[12,  0],\n",
      "       [12,  0]])}\n",
      "---------- epoch: 2/30 ----------\n",
      "train: {'mean_loss': 1.0725959539413452, 'accuracy': 0.4857142857142857, 'f1_score': np.float64(0.0)}\n",
      "val: {'mean_loss': 0.7242646217346191, 'accuracy': 0.5, 'f1_score': np.float64(0.0), 'confusion_matrix': array([[12,  0],\n",
      "       [12,  0]])}\n",
      "---------- epoch: 3/30 ----------\n",
      "train: {'mean_loss': 1.0584490299224854, 'accuracy': 0.4857142857142857, 'f1_score': np.float64(0.0)}\n",
      "val: {'mean_loss': 0.7153163552284241, 'accuracy': 0.5, 'f1_score': np.float64(0.0), 'confusion_matrix': array([[12,  0],\n",
      "       [12,  0]])}\n",
      "---------- epoch: 4/30 ----------\n",
      "train: {'mean_loss': 1.1451854705810547, 'accuracy': 0.4857142857142857, 'f1_score': np.float64(0.0)}\n",
      "val: {'mean_loss': 0.7108531594276428, 'accuracy': 0.5, 'f1_score': np.float64(0.0), 'confusion_matrix': array([[12,  0],\n",
      "       [12,  0]])}\n",
      "---------- epoch: 5/30 ----------\n",
      "train: {'mean_loss': 0.968948245048523, 'accuracy': 0.4714285714285714, 'f1_score': np.float64(0.0)}\n",
      "val: {'mean_loss': 0.707547128200531, 'accuracy': 0.5, 'f1_score': np.float64(0.0), 'confusion_matrix': array([[12,  0],\n",
      "       [12,  0]])}\n",
      "---------- epoch: 6/30 ----------\n",
      "train: {'mean_loss': 0.9730783700942993, 'accuracy': 0.4714285714285714, 'f1_score': np.float64(0.0)}\n",
      "val: {'mean_loss': 0.7048640251159668, 'accuracy': 0.4166666666666667, 'f1_score': np.float64(0.0), 'confusion_matrix': array([[10,  2],\n",
      "       [12,  0]])}\n",
      "---------- epoch: 7/30 ----------\n",
      "train: {'mean_loss': 0.8936660885810852, 'accuracy': 0.4857142857142857, 'f1_score': np.float64(0.0)}\n",
      "val: {'mean_loss': 0.7036528587341309, 'accuracy': 0.4166666666666667, 'f1_score': np.float64(0.125), 'confusion_matrix': array([[ 9,  3],\n",
      "       [11,  1]])}\n",
      "---------- epoch: 8/30 ----------\n",
      "train: {'mean_loss': 0.8241555094718933, 'accuracy': 0.4714285714285714, 'f1_score': np.float64(0.0)}\n",
      "val: {'mean_loss': 0.7024052739143372, 'accuracy': 0.5416666666666666, 'f1_score': np.float64(0.56), 'confusion_matrix': array([[6, 6],\n",
      "       [5, 7]])}\n",
      "---------- epoch: 9/30 ----------\n",
      "train: {'mean_loss': 0.8292334675788879, 'accuracy': 0.5142857142857142, 'f1_score': np.float64(0.19047619047619047)}\n",
      "val: {'mean_loss': 0.7022020816802979, 'accuracy': 0.4166666666666667, 'f1_score': np.float64(0.5), 'confusion_matrix': array([[3, 9],\n",
      "       [5, 7]])}\n",
      "---------- epoch: 10/30 ----------\n",
      "train: {'mean_loss': 0.8665266036987305, 'accuracy': 0.5, 'f1_score': np.float64(0.18604651162790697)}\n",
      "val: {'mean_loss': 0.7022922039031982, 'accuracy': 0.4166666666666667, 'f1_score': np.float64(0.5625), 'confusion_matrix': array([[ 1, 11],\n",
      "       [ 3,  9]])}\n",
      "---------- epoch: 11/30 ----------\n",
      "train: {'mean_loss': 0.798107385635376, 'accuracy': 0.5, 'f1_score': np.float64(0.2222222222222222)}\n",
      "val: {'mean_loss': 0.7035319805145264, 'accuracy': 0.4166666666666667, 'f1_score': np.float64(0.5625), 'confusion_matrix': array([[ 1, 11],\n",
      "       [ 3,  9]])}\n",
      "---------- epoch: 12/30 ----------\n",
      "train: {'mean_loss': 0.7986862659454346, 'accuracy': 0.4857142857142857, 'f1_score': np.float64(0.18181818181818182)}\n",
      "val: {'mean_loss': 0.7054499983787537, 'accuracy': 0.4583333333333333, 'f1_score': np.float64(0.6060606060606061), 'confusion_matrix': array([[ 1, 11],\n",
      "       [ 2, 10]])}\n",
      "---------- epoch: 13/30 ----------\n",
      "train: {'mean_loss': 0.7456567287445068, 'accuracy': 0.5142857142857142, 'f1_score': np.float64(0.2916666666666667)}\n",
      "val: {'mean_loss': 0.7079916000366211, 'accuracy': 0.5, 'f1_score': np.float64(0.6470588235294118), 'confusion_matrix': array([[ 1, 11],\n",
      "       [ 1, 11]])}\n",
      "---------- epoch: 14/30 ----------\n",
      "train: {'mean_loss': 0.8084186911582947, 'accuracy': 0.38571428571428573, 'f1_score': np.float64(0.1568627450980392)}\n",
      "val: {'mean_loss': 0.7102628350257874, 'accuracy': 0.5, 'f1_score': np.float64(0.6470588235294118), 'confusion_matrix': array([[ 1, 11],\n",
      "       [ 1, 11]])}\n",
      "---------- epoch: 15/30 ----------\n",
      "train: {'mean_loss': 0.8132368922233582, 'accuracy': 0.4, 'f1_score': np.float64(0.25)}\n",
      "val: {'mean_loss': 0.712791383266449, 'accuracy': 0.5, 'f1_score': np.float64(0.6470588235294118), 'confusion_matrix': array([[ 1, 11],\n",
      "       [ 1, 11]])}\n",
      "---------- epoch: 16/30 ----------\n",
      "train: {'mean_loss': 0.8342152833938599, 'accuracy': 0.44285714285714284, 'f1_score': np.float64(0.2909090909090909)}\n",
      "val: {'mean_loss': 0.7154383063316345, 'accuracy': 0.5, 'f1_score': np.float64(0.6470588235294118), 'confusion_matrix': array([[ 1, 11],\n",
      "       [ 1, 11]])}\n",
      "---------- epoch: 17/30 ----------\n",
      "train: {'mean_loss': 0.7346159815788269, 'accuracy': 0.5285714285714286, 'f1_score': np.float64(0.4406779661016949)}\n",
      "val: {'mean_loss': 0.7183162569999695, 'accuracy': 0.5, 'f1_score': np.float64(0.6470588235294118), 'confusion_matrix': array([[ 1, 11],\n",
      "       [ 1, 11]])}\n",
      "---------- epoch: 18/30 ----------\n",
      "train: {'mean_loss': 0.6779680848121643, 'accuracy': 0.5857142857142857, 'f1_score': np.float64(0.5396825396825397)}\n",
      "val: {'mean_loss': 0.7213172316551208, 'accuracy': 0.5, 'f1_score': np.float64(0.6470588235294118), 'confusion_matrix': array([[ 1, 11],\n",
      "       [ 1, 11]])}\n",
      "---------- epoch: 19/30 ----------\n",
      "train: {'mean_loss': 0.7266029715538025, 'accuracy': 0.5285714285714286, 'f1_score': np.float64(0.4406779661016949)}\n",
      "val: {'mean_loss': 0.7244566082954407, 'accuracy': 0.5, 'f1_score': np.float64(0.6470588235294118), 'confusion_matrix': array([[ 1, 11],\n",
      "       [ 1, 11]])}\n",
      "---------- epoch: 20/30 ----------\n",
      "train: {'mean_loss': 0.7729668617248535, 'accuracy': 0.5428571428571428, 'f1_score': np.float64(0.5)}\n",
      "val: {'mean_loss': 0.727424144744873, 'accuracy': 0.5, 'f1_score': np.float64(0.6470588235294118), 'confusion_matrix': array([[ 1, 11],\n",
      "       [ 1, 11]])}\n",
      "---------- epoch: 21/30 ----------\n",
      "train: {'mean_loss': 0.7214140295982361, 'accuracy': 0.5, 'f1_score': np.float64(0.5070422535211268)}\n",
      "val: {'mean_loss': 0.7302903532981873, 'accuracy': 0.5, 'f1_score': np.float64(0.6470588235294118), 'confusion_matrix': array([[ 1, 11],\n",
      "       [ 1, 11]])}\n",
      "---------- epoch: 22/30 ----------\n",
      "train: {'mean_loss': 0.7793325781822205, 'accuracy': 0.4714285714285714, 'f1_score': np.float64(0.5066666666666667)}\n",
      "val: {'mean_loss': 0.7329258918762207, 'accuracy': 0.5, 'f1_score': np.float64(0.6470588235294118), 'confusion_matrix': array([[ 1, 11],\n",
      "       [ 1, 11]])}\n",
      "---------- epoch: 23/30 ----------\n",
      "train: {'mean_loss': 0.7613130211830139, 'accuracy': 0.5142857142857142, 'f1_score': np.float64(0.45161290322580644)}\n",
      "val: {'mean_loss': 0.7356347441673279, 'accuracy': 0.5, 'f1_score': np.float64(0.6470588235294118), 'confusion_matrix': array([[ 1, 11],\n",
      "       [ 1, 11]])}\n",
      "---------- epoch: 24/30 ----------\n",
      "train: {'mean_loss': 0.7451513409614563, 'accuracy': 0.5, 'f1_score': np.float64(0.46153846153846156)}\n",
      "val: {'mean_loss': 0.7376711964607239, 'accuracy': 0.5, 'f1_score': np.float64(0.6470588235294118), 'confusion_matrix': array([[ 1, 11],\n",
      "       [ 1, 11]])}\n",
      "---------- epoch: 25/30 ----------\n",
      "train: {'mean_loss': 0.6893486380577087, 'accuracy': 0.5714285714285714, 'f1_score': np.float64(0.5833333333333334)}\n",
      "val: {'mean_loss': 0.7401679158210754, 'accuracy': 0.5, 'f1_score': np.float64(0.6470588235294118), 'confusion_matrix': array([[ 1, 11],\n",
      "       [ 1, 11]])}\n",
      "---------- epoch: 26/30 ----------\n",
      "train: {'mean_loss': 0.6985129117965698, 'accuracy': 0.5285714285714286, 'f1_score': np.float64(0.5352112676056338)}\n",
      "val: {'mean_loss': 0.7426943778991699, 'accuracy': 0.5, 'f1_score': np.float64(0.6470588235294118), 'confusion_matrix': array([[ 1, 11],\n",
      "       [ 1, 11]])}\n",
      "---------- epoch: 27/30 ----------\n",
      "train: {'mean_loss': 0.7567335963249207, 'accuracy': 0.5, 'f1_score': np.float64(0.5454545454545454)}\n",
      "val: {'mean_loss': 0.7452816367149353, 'accuracy': 0.5, 'f1_score': np.float64(0.6470588235294118), 'confusion_matrix': array([[ 1, 11],\n",
      "       [ 1, 11]])}\n",
      "---------- epoch: 28/30 ----------\n",
      "train: {'mean_loss': 0.7702566981315613, 'accuracy': 0.4714285714285714, 'f1_score': np.float64(0.4931506849315068)}\n",
      "val: {'mean_loss': 0.7472102046012878, 'accuracy': 0.5, 'f1_score': np.float64(0.6470588235294118), 'confusion_matrix': array([[ 1, 11],\n",
      "       [ 1, 11]])}\n",
      "---------- epoch: 29/30 ----------\n",
      "train: {'mean_loss': 0.7167565226554871, 'accuracy': 0.5428571428571428, 'f1_score': np.float64(0.5428571428571428)}\n",
      "val: {'mean_loss': 0.7492644190788269, 'accuracy': 0.5, 'f1_score': np.float64(0.6470588235294118), 'confusion_matrix': array([[ 1, 11],\n",
      "       [ 1, 11]])}\n",
      "---------- epoch: 30/30 ----------\n",
      "train: {'mean_loss': 0.7133446335792542, 'accuracy': 0.4857142857142857, 'f1_score': np.float64(0.45454545454545453)}\n",
      "val: {'mean_loss': 0.7512937188148499, 'accuracy': 0.5, 'f1_score': np.float64(0.6470588235294118), 'confusion_matrix': array([[ 1, 11],\n",
      "       [ 1, 11]])}\n"
     ]
    }
   ],
   "source": [
    "best_result = results.get_best_result(\"val_f1_score\", mode=\"max\")\n",
    "best_config = best_result.metrics['config']\n",
    "print(best_config)\n",
    "best_train = train_hesitation(best_config, max_epochs=30, tunning=False)\n",
    "model = best_train[\"model\"]"
   ]
  },
  {
   "cell_type": "code",
   "execution_count": 24,
   "metadata": {},
   "outputs": [
    {
     "data": {
      "image/png": "[encoded data removed]",
      "text/plain": [
       "<Figure size 640x480 with 2 Axes>"
      ]
     },
     "metadata": {},
     "output_type": "display_data"
    },
    {
     "name": "stdout",
     "output_type": "stream",
     "text": [
      "\n",
      "\n",
      "              precision    recall  f1-score   support\n",
      "\n",
      "      ausent       0.00      0.00      0.00        13\n",
      "  hesitation       0.46      1.00      0.63        11\n",
      "\n",
      "    accuracy                           0.46        24\n",
      "   macro avg       0.23      0.50      0.31        24\n",
      "weighted avg       0.21      0.46      0.29        24\n",
      "\n",
      "\n",
      "accuracy: 0.4583333333333333\n",
      "\n",
      "f1_score: 0.6285714285714286\n"
     ]
    },
    {
     "name": "stderr",
     "output_type": "stream",
     "text": [
      "/home/glucas11/faculdade/speech_feedback/.venv/lib/python3.12/site-packages/sklearn/metrics/_classification.py:1531: UndefinedMetricWarning: Precision is ill-defined and being set to 0.0 in labels with no predicted samples. Use `zero_division` parameter to control this behavior.\n",
      "  _warn_prf(average, modifier, f\"{metric.capitalize()} is\", len(result))\n",
      "/home/glucas11/faculdade/speech_feedback/.venv/lib/python3.12/site-packages/sklearn/metrics/_classification.py:1531: UndefinedMetricWarning: Precision is ill-defined and being set to 0.0 in labels with no predicted samples. Use `zero_division` parameter to control this behavior.\n",
      "  _warn_prf(average, modifier, f\"{metric.capitalize()} is\", len(result))\n",
      "/home/glucas11/faculdade/speech_feedback/.venv/lib/python3.12/site-packages/sklearn/metrics/_classification.py:1531: UndefinedMetricWarning: Precision is ill-defined and being set to 0.0 in labels with no predicted samples. Use `zero_division` parameter to control this behavior.\n",
      "  _warn_prf(average, modifier, f\"{metric.capitalize()} is\", len(result))\n"
     ]
    }
   ],
   "source": [
    "model.eval()\n",
    "losses = []\n",
    "pred_np = []\n",
    "target_np = []\n",
    "with torch.no_grad():\n",
    "\tfor batch_idx, (data, target) in enumerate(best_train['test_dataloader']):\n",
    "\t\tdata, target = data.to(DEVICE), target.to(DEVICE)\n",
    "\t\tlogits = model(data)\n",
    "\t\tloss = cross_entropy(logits, target)\n",
    "\t\tlosses.append(loss.item())\n",
    "\t\t\n",
    "\t\tpreds = torch.max(logits, dim=1).indices\n",
    "\t\tpred_np.append(preds.detach().cpu().numpy())\n",
    "\t\ttarget_np.append(target.detach().cpu().numpy())\n",
    "\n",
    "pred_np = np.concatenate(pred_np)\n",
    "target_np = np.concatenate(target_np)\n",
    "\n",
    "classes_names = ['ausent', 'hesitation']\n",
    "\n",
    "cm = confusion_matrix(target_np, pred_np)\n",
    "disp = ConfusionMatrixDisplay(confusion_matrix=cm, display_labels=classes_names)\n",
    "disp.plot()\n",
    "plt.show()\n",
    "print(\"\\n\")\n",
    "print(classification_report(target_np, pred_np, target_names=classes_names))\n",
    "print(\"\\naccuracy:\", accuracy_score(target_np, pred_np))\n",
    "print(\"\\nf1_score:\", f1_score(target_np, pred_np))"
   ]
  },
  {
   "cell_type": "code",
   "execution_count": 25,
   "metadata": {},
   "outputs": [],
   "source": [
    "# todo : listen audios and check labels form current model"
   ]
  }
 ],
 "metadata": {
  "kernelspec": {
   "display_name": ".venv",
   "language": "python",
   "name": "python3"
  },
  "language_info": {
   "codemirror_mode": {
    "name": "ipython",
    "version": 3
   },
   "file_extension": ".py",
   "mimetype": "text/x-python",
   "name": "python",
   "nbconvert_exporter": "python",
   "pygments_lexer": "ipython3",
   "version": "3.12.3"
  }
 },
 "nbformat": 4,
 "nbformat_minor": 2
}
