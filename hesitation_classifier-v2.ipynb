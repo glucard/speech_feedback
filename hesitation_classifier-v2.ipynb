{
 "cells": [
  {
   "cell_type": "code",
   "execution_count": 1,
   "metadata": {},
   "outputs": [],
   "source": [
    "import torch\n",
    "from torch import optim\n",
    "from torch.nn.functional import cross_entropy"
   ]
  },
  {
   "cell_type": "code",
   "execution_count": 2,
   "metadata": {},
   "outputs": [],
   "source": [
    "import matplotlib.pyplot as plt"
   ]
  },
  {
   "cell_type": "code",
   "execution_count": 3,
   "metadata": {},
   "outputs": [],
   "source": [
    "from sklearn.metrics import confusion_matrix, ConfusionMatrixDisplay"
   ]
  },
  {
   "cell_type": "code",
   "execution_count": 4,
   "metadata": {},
   "outputs": [],
   "source": [
    "from src.custom_audio_dataset import CustomAudioDataset\n",
    "from src.models import CnnMFCC\n",
    "from src.utils import pad_collate_fn, plot_spectrogram\n",
    "from src.datasets import get_data_path\n",
    "from src.custom_layers import PadOrTruncateLayer\n",
    "from src.hesitation import coraa_filters"
   ]
  },
  {
   "cell_type": "code",
   "execution_count": 5,
   "metadata": {},
   "outputs": [],
   "source": [
    "DEVICE = \"cuda\" if torch.cuda.is_available() else \"cpu\"\n",
    "\n",
    "MAX_EPOCH = 20\n",
    "\n",
    "TRAIN_SIZE = 0.6\n",
    "TEST_FROM_VAL_SIZE = 0.5\n",
    "\n",
    "SAMPLE_RATE = 16_000\n",
    "MAX_SECONDS_DURATION = 8\n",
    "\n",
    "MAX_FEATURES_IN = SAMPLE_RATE * MAX_SECONDS_DURATION"
   ]
  },
  {
   "cell_type": "code",
   "execution_count": 6,
   "metadata": {},
   "outputs": [],
   "source": [
    "annotations_file_path, data_dir_path = get_data_path(\"hesitation_dev\")\n",
    "\n",
    "train_filter0_annotations_file, val_filter0_annotations_file, test_filter0_annotations_file = coraa_filters.filter0(\n",
    "    annotations_file_path, train_size=TRAIN_SIZE, test_size_from_val_size=TEST_FROM_VAL_SIZE\n",
    "\t)"
   ]
  },
  {
   "cell_type": "code",
   "execution_count": 7,
   "metadata": {},
   "outputs": [],
   "source": [
    "data_transform = torch.nn.Sequential(\n",
    "    PadOrTruncateLayer(MAX_FEATURES_IN)\n",
    ")\n",
    "\n",
    "train_filter0_dataset = CustomAudioDataset(train_filter0_annotations_file, data_dir_path, column_predict_name=\"has_hesitation\", data_transform=data_transform)\n",
    "val_filter0_dataset = CustomAudioDataset(val_filter0_annotations_file, data_dir_path, column_predict_name=\"has_hesitation\", data_transform=data_transform)\n",
    "test_filter0_dataset = CustomAudioDataset(test_filter0_annotations_file, data_dir_path, column_predict_name=\"has_hesitation\", data_transform=data_transform)\n",
    "\n",
    "# Usage in DataLoader\n",
    "train_filter0_dataloader = torch.utils.data.DataLoader(\n",
    "    dataset=train_filter0_dataset,\n",
    "    batch_size=32,\n",
    "    # collate_fn=pad_collate_fn\n",
    ")\n",
    "val_filter0_dataloader = torch.utils.data.DataLoader(\n",
    "    dataset=val_filter0_dataset,\n",
    "    batch_size=32,\n",
    "    # collate_fn=pad_collate_fn\n",
    ")\n",
    "test_filter0_dataloader = torch.utils.data.DataLoader(\n",
    "    dataset=test_filter0_dataset,\n",
    "    batch_size=32,\n",
    "    # collate_fn=pad_collate_fn\n",
    ")"
   ]
  },
  {
   "cell_type": "code",
   "execution_count": 8,
   "metadata": {},
   "outputs": [
    {
     "name": "stderr",
     "output_type": "stream",
     "text": [
      "/home/glucas11/projects/repos/speech_feedback/.venv/lib/python3.10/site-packages/torchaudio/functional/functional.py:584: UserWarning: At least one mel filterbank has all zero values. The value for `n_mels` (128) may be set too high. Or, the value for `n_freqs` (201) may be set too low.\n",
      "  warnings.warn(\n"
     ]
    },
    {
     "data": {
      "text/plain": [
       "CnnMFCC(\n",
       "  (feature_extractor): Sequential(\n",
       "    (0): MFCC(\n",
       "      (amplitude_to_DB): AmplitudeToDB()\n",
       "      (MelSpectrogram): MelSpectrogram(\n",
       "        (spectrogram): Spectrogram()\n",
       "        (mel_scale): MelScale()\n",
       "      )\n",
       "    )\n",
       "  )\n",
       "  (conv): Sequential(\n",
       "    (0): Conv2d(1, 16, kernel_size=(5, 5), stride=(2, 2))\n",
       "    (1): BatchNorm2d(16, eps=1e-05, momentum=0.1, affine=True, track_running_stats=True)\n",
       "    (2): MaxPool2d(kernel_size=2, stride=2, padding=0, dilation=1, ceil_mode=False)\n",
       "    (3): Conv2d(16, 32, kernel_size=(5, 5), stride=(2, 2))\n",
       "    (4): BatchNorm2d(32, eps=1e-05, momentum=0.1, affine=True, track_running_stats=True)\n",
       "    (5): MaxPool2d(kernel_size=2, stride=2, padding=0, dilation=1, ceil_mode=False)\n",
       "    (6): Flatten(start_dim=1, end_dim=-1)\n",
       "  )\n",
       "  (classifier): Sequential(\n",
       "    (0): Dropout(p=0.5, inplace=True)\n",
       "    (1): Linear(in_features=1248, out_features=2, bias=True)\n",
       "  )\n",
       ")"
      ]
     },
     "execution_count": 8,
     "metadata": {},
     "output_type": "execute_result"
    }
   ],
   "source": [
    "model = CnnMFCC(n_classes=2, sample_rate=SAMPLE_RATE, max_audio_length_seconds=MAX_SECONDS_DURATION)\n",
    "model = model.to(DEVICE)\n",
    "\n",
    "optimizer = optim.Adam(model.parameters(), lr=0.003)\n",
    "model"
   ]
  },
  {
   "cell_type": "code",
   "execution_count": 9,
   "metadata": {},
   "outputs": [
    {
     "name": "stdout",
     "output_type": "stream",
     "text": [
      "1.4569520354270935\n",
      "0.5295193552970886\n",
      "0.5367430746555328\n",
      "0.46758887767791746\n",
      "0.446172921359539\n",
      "0.40727830678224564\n",
      "0.39617403596639633\n",
      "0.4263394795358181\n",
      "0.3132245361804962\n",
      "0.3190376624464989\n",
      "0.2662693396443501\n",
      "0.32435222491621973\n",
      "0.24019220769405364\n",
      "0.25118832737207414\n",
      "0.19047817401587963\n",
      "0.16923053413629532\n",
      "0.14647961743175983\n",
      "0.11771782720461488\n",
      "0.09430915070697665\n",
      "0.07396913007833064\n"
     ]
    }
   ],
   "source": [
    "for i in range(MAX_EPOCH):\n",
    "\tlosses = []\n",
    "\tfor batch_idx, (data, target) in enumerate(train_filter0_dataloader):\n",
    "\t\toptimizer.zero_grad()\n",
    "\t\tdata, target = data.to(DEVICE), target.to(DEVICE)\n",
    "\t\tlogits = model(data)\n",
    "\t\tloss = cross_entropy(logits, target)\n",
    "\t\tlosses.append(loss.item())\n",
    "\t\tloss.backward()\n",
    "\t\toptimizer.step()\n",
    "\tprint(sum(losses)/len(losses))"
   ]
  },
  {
   "cell_type": "code",
   "execution_count": 10,
   "metadata": {},
   "outputs": [
    {
     "data": {
      "text/plain": [
       "tensor(0.9699, device='cuda:0')"
      ]
     },
     "execution_count": 10,
     "metadata": {},
     "output_type": "execute_result"
    }
   ],
   "source": [
    "preds = []\n",
    "targets = []\n",
    "with torch.no_grad():\n",
    "\tfor batch_idx, (data, target) in enumerate(test_filter0_dataloader):\n",
    "\t\toptimizer.zero_grad()\n",
    "\t\tdata, target = data.to(DEVICE), target.to(DEVICE)\n",
    "\t\tlogits = model(data)\n",
    "\t\tpreds.append(torch.max(logits, dim=1).indices)\n",
    "\t\ttargets.append(target)\n",
    "\n",
    "preds = torch.concat(preds)\n",
    "targets = torch.concat(targets)\n",
    "\n",
    "sum(preds == targets)/len(preds)"
   ]
  },
  {
   "cell_type": "code",
   "execution_count": 11,
   "metadata": {},
   "outputs": [
    {
     "data": {
      "image/png": "[encoded data removed]",
      "text/plain": [
       "<Figure size 640x480 with 2 Axes>"
      ]
     },
     "metadata": {},
     "output_type": "display_data"
    }
   ],
   "source": [
    "cm =confusion_matrix(targets.cpu().numpy(), preds.cpu().numpy())\n",
    "disp = ConfusionMatrixDisplay(confusion_matrix=cm, display_labels=['no_hesitation', 'hesitation'])\n",
    "\n",
    "disp.plot()\n",
    "plt.show()"
   ]
  },
  {
   "cell_type": "code",
   "execution_count": null,
   "metadata": {},
   "outputs": [],
   "source": []
  }
 ],
 "metadata": {
  "kernelspec": {
   "display_name": ".venv",
   "language": "python",
   "name": "python3"
  },
  "language_info": {
   "codemirror_mode": {
    "name": "ipython",
    "version": 3
   },
   "file_extension": ".py",
   "mimetype": "text/x-python",
   "name": "python",
   "nbconvert_exporter": "python",
   "pygments_lexer": "ipython3",
   "version": "3.10.12"
  }
 },
 "nbformat": 4,
 "nbformat_minor": 2
}
