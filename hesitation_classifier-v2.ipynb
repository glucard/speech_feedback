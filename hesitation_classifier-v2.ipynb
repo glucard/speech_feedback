{
 "cells": [
  {
   "cell_type": "code",
   "execution_count": 1,
   "metadata": {},
   "outputs": [],
   "source": [
    "import torch\n",
    "from torch import optim\n",
    "from torch.nn.functional import cross_entropy"
   ]
  },
  {
   "cell_type": "code",
   "execution_count": 2,
   "metadata": {},
   "outputs": [],
   "source": [
    "import matplotlib.pyplot as plt"
   ]
  },
  {
   "cell_type": "code",
   "execution_count": 3,
   "metadata": {},
   "outputs": [],
   "source": [
    "from sklearn.metrics import confusion_matrix, ConfusionMatrixDisplay"
   ]
  },
  {
   "cell_type": "code",
   "execution_count": 4,
   "metadata": {},
   "outputs": [],
   "source": [
    "from src.custom_audio_dataset import CustomAudioDataset\n",
    "from src.models import CnnMFCC\n",
    "from src.utils import pad_collate_fn, plot_spectrogram\n",
    "from src.datasets import get_data_path\n",
    "from src.custom_layers import PadOrTruncateLayer"
   ]
  },
  {
   "cell_type": "code",
   "execution_count": 5,
   "metadata": {},
   "outputs": [],
   "source": [
    "DEVICE = \"cuda\" if torch.cuda.is_available() else \"cpu\"\n",
    "\n",
    "MAX_EPOCH = 20\n",
    "\n",
    "SAMPLE_RATE = 16_000\n",
    "MAX_SECONDS_DURATION = 8\n",
    "\n",
    "MAX_FEATURES_IN = SAMPLE_RATE * MAX_SECONDS_DURATION"
   ]
  },
  {
   "cell_type": "code",
   "execution_count": 6,
   "metadata": {},
   "outputs": [],
   "source": [
    "annotations_file_path, data_dir_path = get_data_path(\"hesitation_dev\")\n",
    "\n",
    "data_transform = torch.nn.Sequential(\n",
    "    PadOrTruncateLayer(MAX_FEATURES_IN)\n",
    ")\n",
    "\n",
    "dev_dataset = CustomAudioDataset(annotations_file_path, data_dir_path, data_transform=data_transform)\n",
    "\n",
    "# Usage in DataLoader\n",
    "train_dataloader = torch.utils.data.DataLoader(\n",
    "    dataset=dev_dataset,\n",
    "    batch_size=32,\n",
    "    # collate_fn=pad_collate_fn\n",
    ")"
   ]
  },
  {
   "cell_type": "code",
   "execution_count": 7,
   "metadata": {},
   "outputs": [
    {
     "name": "stderr",
     "output_type": "stream",
     "text": [
      "/home/glucas11/projects/repos/speech_feedback/.venv/lib/python3.10/site-packages/torchaudio/functional/functional.py:584: UserWarning: At least one mel filterbank has all zero values. The value for `n_mels` (128) may be set too high. Or, the value for `n_freqs` (201) may be set too low.\n",
      "  warnings.warn(\n"
     ]
    }
   ],
   "source": [
    "model = CnnMFCC(n_classes=2, sample_rate=SAMPLE_RATE, max_audio_length_seconds=MAX_SECONDS_DURATION)\n",
    "model = model.to(DEVICE)\n",
    "\n",
    "optimizer = optim.Adam(model.parameters(), lr=0.0003)"
   ]
  },
  {
   "cell_type": "code",
   "execution_count": 11,
   "metadata": {},
   "outputs": [
    {
     "data": {
      "text/plain": [
       "CnnMFCC(\n",
       "  (feature_extractor): Sequential(\n",
       "    (0): MFCC(\n",
       "      (amplitude_to_DB): AmplitudeToDB()\n",
       "      (MelSpectrogram): MelSpectrogram(\n",
       "        (spectrogram): Spectrogram()\n",
       "        (mel_scale): MelScale()\n",
       "      )\n",
       "    )\n",
       "  )\n",
       "  (conv): Sequential(\n",
       "    (0): Conv2d(1, 16, kernel_size=(5, 5), stride=(2, 2))\n",
       "    (1): Conv2d(16, 32, kernel_size=(5, 5), stride=(2, 2))\n",
       "    (2): Flatten(start_dim=1, end_dim=-1)\n",
       "  )\n",
       "  (classifier): Sequential(\n",
       "    (0): Linear(in_features=35392, out_features=2, bias=True)\n",
       "  )\n",
       "  (net): Sequential(\n",
       "    (0): Sequential(\n",
       "      (0): MFCC(\n",
       "        (amplitude_to_DB): AmplitudeToDB()\n",
       "        (MelSpectrogram): MelSpectrogram(\n",
       "          (spectrogram): Spectrogram()\n",
       "          (mel_scale): MelScale()\n",
       "        )\n",
       "      )\n",
       "    )\n",
       "    (1): Sequential(\n",
       "      (0): Conv2d(1, 16, kernel_size=(5, 5), stride=(2, 2))\n",
       "      (1): Conv2d(16, 32, kernel_size=(5, 5), stride=(2, 2))\n",
       "      (2): Flatten(start_dim=1, end_dim=-1)\n",
       "    )\n",
       "    (2): Sequential(\n",
       "      (0): Linear(in_features=35392, out_features=2, bias=True)\n",
       "    )\n",
       "  )\n",
       ")"
      ]
     },
     "execution_count": 11,
     "metadata": {},
     "output_type": "execute_result"
    }
   ],
   "source": [
    "model"
   ]
  },
  {
   "cell_type": "code",
   "execution_count": 8,
   "metadata": {},
   "outputs": [
    {
     "name": "stdout",
     "output_type": "stream",
     "text": [
      "1.6472682559485434\n",
      "0.5036323955452795\n",
      "0.7758635323686647\n",
      "0.3902799652610377\n",
      "0.2585653820090686\n",
      "0.18974745175508834\n",
      "0.2069985503423217\n",
      "0.23609537642034725\n",
      "0.1543028726926608\n",
      "0.1355513537287558\n",
      "0.15858237062690758\n",
      "0.10118218127039015\n",
      "0.05480133744366775\n",
      "0.04190611172151669\n",
      "0.019142034052867265\n",
      "0.019169490162578448\n",
      "0.012491332981219886\n",
      "0.00566958589365696\n",
      "0.005503847354904334\n",
      "0.01308072789749846\n"
     ]
    }
   ],
   "source": [
    "for i in range(MAX_EPOCH):\n",
    "\tlosses = []\n",
    "\tfor batch_idx, (data, target) in enumerate(train_dataloader):\n",
    "\t\toptimizer.zero_grad()\n",
    "\t\tdata, target = data.to(DEVICE), target.to(DEVICE)\n",
    "\t\tlogits = model(data)\n",
    "\t\tloss = cross_entropy(logits, target)\n",
    "\t\tlosses.append(loss.item())\n",
    "\t\tloss.backward()\n",
    "\t\toptimizer.step()\n",
    "\tprint(sum(losses)/len(losses))"
   ]
  },
  {
   "cell_type": "code",
   "execution_count": 9,
   "metadata": {},
   "outputs": [
    {
     "data": {
      "text/plain": [
       "tensor(0.9634, device='cuda:0')"
      ]
     },
     "execution_count": 9,
     "metadata": {},
     "output_type": "execute_result"
    }
   ],
   "source": [
    "preds = []\n",
    "targets = []\n",
    "with torch.no_grad():\n",
    "\tfor batch_idx, (data, target) in enumerate(train_dataloader):\n",
    "\t\toptimizer.zero_grad()\n",
    "\t\tdata, target = data.to(DEVICE), target.to(DEVICE)\n",
    "\t\tlogits = model(data)\n",
    "\t\tpreds.append(torch.max(logits, dim=1).indices)\n",
    "\t\ttargets.append(target)\n",
    "\n",
    "preds = torch.concat(preds)\n",
    "targets = torch.concat(targets)\n",
    "\n",
    "sum(preds == targets)/len(preds)"
   ]
  },
  {
   "cell_type": "code",
   "execution_count": 10,
   "metadata": {},
   "outputs": [
    {
     "data": {
      "image/png": "[encoded data removed]",
      "text/plain": [
       "<Figure size 640x480 with 2 Axes>"
      ]
     },
     "metadata": {},
     "output_type": "display_data"
    }
   ],
   "source": [
    "cm =confusion_matrix(targets.cpu().numpy(), preds.cpu().numpy())\n",
    "disp = ConfusionMatrixDisplay(confusion_matrix=cm, display_labels=['no_hesitation', 'hesitation'])\n",
    "\n",
    "disp.plot()\n",
    "plt.show()"
   ]
  },
  {
   "cell_type": "code",
   "execution_count": null,
   "metadata": {},
   "outputs": [],
   "source": []
  }
 ],
 "metadata": {
  "kernelspec": {
   "display_name": ".venv",
   "language": "python",
   "name": "python3"
  },
  "language_info": {
   "codemirror_mode": {
    "name": "ipython",
    "version": 3
   },
   "file_extension": ".py",
   "mimetype": "text/x-python",
   "name": "python",
   "nbconvert_exporter": "python",
   "pygments_lexer": "ipython3",
   "version": "3.10.12"
  }
 },
 "nbformat": 4,
 "nbformat_minor": 2
}
