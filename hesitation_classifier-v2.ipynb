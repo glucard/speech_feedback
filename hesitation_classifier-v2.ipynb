{
 "cells": [
  {
   "cell_type": "code",
   "execution_count": 1,
   "metadata": {},
   "outputs": [],
   "source": [
    "import torch\n",
    "from torch import optim\n",
    "from torch.nn.functional import cross_entropy"
   ]
  },
  {
   "cell_type": "code",
   "execution_count": 2,
   "metadata": {},
   "outputs": [],
   "source": [
    "import matplotlib.pyplot as plt"
   ]
  },
  {
   "cell_type": "code",
   "execution_count": 3,
   "metadata": {},
   "outputs": [],
   "source": [
    "from sklearn.metrics import confusion_matrix, ConfusionMatrixDisplay"
   ]
  },
  {
   "cell_type": "code",
   "execution_count": 4,
   "metadata": {},
   "outputs": [],
   "source": [
    "from src.custom_audio_dataset import CustomAudioDataset\n",
    "from src.models import CnnMFCC\n",
    "from src.utils import pad_collate_fn, plot_spectrogram\n",
    "from src.datasets import get_data_path\n",
    "from src.custom_layers import PadOrTruncateLayer\n",
    "from src.hesitation import coraa_filters"
   ]
  },
  {
   "cell_type": "code",
   "execution_count": 5,
   "metadata": {},
   "outputs": [],
   "source": [
    "DEVICE = \"cuda\" if torch.cuda.is_available() else \"cpu\"\n",
    "\n",
    "MAX_EPOCH = 50\n",
    "\n",
    "TRAIN_SIZE = 0.6\n",
    "TEST_FROM_VAL_SIZE = 0.5\n",
    "\n",
    "SAMPLE_RATE = 16_000\n",
    "MAX_SECONDS_DURATION = 8\n",
    "\n",
    "MAX_FEATURES_IN = SAMPLE_RATE * MAX_SECONDS_DURATION"
   ]
  },
  {
   "cell_type": "code",
   "execution_count": 6,
   "metadata": {},
   "outputs": [],
   "source": [
    "annotations_file_path, data_dir_path = get_data_path(\"hesitation_dev\")\n",
    "\n",
    "train_filter_annotations_file, val_filter_annotations_file, test_filter_annotations_file = coraa_filters.filter1(\n",
    "    annotations_file_path, train_size=TRAIN_SIZE, test_size_from_val_size=TEST_FROM_VAL_SIZE\n",
    "\t)"
   ]
  },
  {
   "cell_type": "code",
   "execution_count": 7,
   "metadata": {},
   "outputs": [],
   "source": [
    "data_transform = torch.nn.Sequential(\n",
    "    PadOrTruncateLayer(MAX_FEATURES_IN)\n",
    ")\n",
    "\n",
    "train_filter_dataset = CustomAudioDataset(train_filter_annotations_file, data_dir_path, column_predict_name=\"has_hesitation\", data_transform=data_transform)\n",
    "val_filter_dataset = CustomAudioDataset(val_filter_annotations_file, data_dir_path, column_predict_name=\"has_hesitation\", data_transform=data_transform)\n",
    "test_filter_dataset = CustomAudioDataset(test_filter_annotations_file, data_dir_path, column_predict_name=\"has_hesitation\", data_transform=data_transform)\n",
    "\n",
    "# Usage in DataLoader\n",
    "train_filter_dataloader = torch.utils.data.DataLoader(\n",
    "    dataset=train_filter_dataset,\n",
    "    batch_size=32,\n",
    "    # collate_fn=pad_collate_fn\n",
    ")\n",
    "val_filter_dataloader = torch.utils.data.DataLoader(\n",
    "    dataset=val_filter_dataset,\n",
    "    batch_size=32,\n",
    "    # collate_fn=pad_collate_fn\n",
    ")\n",
    "test_filter_dataloader = torch.utils.data.DataLoader(\n",
    "    dataset=test_filter_dataset,\n",
    "    batch_size=32,\n",
    "    # collate_fn=pad_collate_fn\n",
    ")"
   ]
  },
  {
   "cell_type": "code",
   "execution_count": 8,
   "metadata": {},
   "outputs": [
    {
     "name": "stderr",
     "output_type": "stream",
     "text": [
      "/home/glucas11/projects/repos/speech_feedback/.venv/lib/python3.10/site-packages/torchaudio/functional/functional.py:584: UserWarning: At least one mel filterbank has all zero values. The value for `n_mels` (128) may be set too high. Or, the value for `n_freqs` (201) may be set too low.\n",
      "  warnings.warn(\n"
     ]
    },
    {
     "data": {
      "text/plain": [
       "CnnMFCC(\n",
       "  (feature_extractor): Sequential(\n",
       "    (0): MFCC(\n",
       "      (amplitude_to_DB): AmplitudeToDB()\n",
       "      (MelSpectrogram): MelSpectrogram(\n",
       "        (spectrogram): Spectrogram()\n",
       "        (mel_scale): MelScale()\n",
       "      )\n",
       "    )\n",
       "  )\n",
       "  (conv): Sequential(\n",
       "    (0): Conv2d(1, 16, kernel_size=(5, 5), stride=(2, 2))\n",
       "    (1): BatchNorm2d(16, eps=1e-05, momentum=0.1, affine=True, track_running_stats=True)\n",
       "    (2): MaxPool2d(kernel_size=2, stride=2, padding=0, dilation=1, ceil_mode=False)\n",
       "    (3): Dropout(p=0.5, inplace=True)\n",
       "    (4): Conv2d(16, 32, kernel_size=(5, 5), stride=(2, 2))\n",
       "    (5): BatchNorm2d(32, eps=1e-05, momentum=0.1, affine=True, track_running_stats=True)\n",
       "    (6): MaxPool2d(kernel_size=2, stride=2, padding=0, dilation=1, ceil_mode=False)\n",
       "    (7): Dropout(p=0.5, inplace=True)\n",
       "    (8): Flatten(start_dim=1, end_dim=-1)\n",
       "  )\n",
       "  (classifier): Sequential(\n",
       "    (0): Dropout(p=0.5, inplace=True)\n",
       "    (1): Linear(in_features=1248, out_features=2, bias=True)\n",
       "  )\n",
       ")"
      ]
     },
     "execution_count": 8,
     "metadata": {},
     "output_type": "execute_result"
    }
   ],
   "source": [
    "model = CnnMFCC(n_classes=2, sample_rate=SAMPLE_RATE, max_audio_length_seconds=MAX_SECONDS_DURATION)\n",
    "model = model.to(DEVICE)\n",
    "\n",
    "optimizer = optim.Adam(model.parameters(), lr=0.003)\n",
    "model"
   ]
  },
  {
   "cell_type": "code",
   "execution_count": 9,
   "metadata": {},
   "outputs": [
    {
     "name": "stdout",
     "output_type": "stream",
     "text": [
      "train_loss = 1.0294821183932454, val_loss = 0.526764418397631\n",
      "train_loss = 0.6971158212737033, val_loss = 0.5483763771397727\n",
      "train_loss = 0.64188089496211, val_loss = 0.5148257740906307\n",
      "train_loss = 0.5791209293039221, val_loss = 0.5350043901375362\n",
      "train_loss = 0.5873288449488188, val_loss = 0.5213150637490409\n",
      "train_loss = 0.6174703601159548, val_loss = 0.5145876961094993\n",
      "train_loss = 0.5559101692940059, val_loss = 0.5548152327537537\n",
      "train_loss = 0.5280343654908632, val_loss = 0.5532979156289782\n",
      "train_loss = 0.5681108471594358, val_loss = 0.5641383741583142\n",
      "train_loss = 0.5688751637935638, val_loss = 0.5685863622597286\n",
      "train_loss = 0.5456214060908869, val_loss = 0.5380924897534507\n",
      "train_loss = 0.5287295579910278, val_loss = 0.5211676699774606\n",
      "train_loss = 0.5507391832376781, val_loss = 0.5270302380834307\n",
      "train_loss = 0.5557101572814741, val_loss = 0.5150876428399768\n",
      "train_loss = 0.5249661489536888, val_loss = 0.5081931480339595\n",
      "train_loss = 0.5086746435416373, val_loss = 0.5012916539396558\n",
      "train_loss = 0.5410999734150735, val_loss = 0.5124265764440809\n",
      "train_loss = 0.4965522399074153, val_loss = 0.5122535824775696\n",
      "train_loss = 0.5289211084968165, val_loss = 0.5088895516736167\n",
      "train_loss = 0.4873041134131582, val_loss = 0.5068175111498151\n",
      "train_loss = 0.4724378381904803, val_loss = 0.5079460995537894\n",
      "train_loss = 0.4715031652074111, val_loss = 0.5100382012980325\n",
      "train_loss = 0.47103795722911235, val_loss = 0.5385953060218266\n",
      "train_loss = 0.4944960694564016, val_loss = 0.5243990123271942\n",
      "train_loss = 0.46410472298923294, val_loss = 0.5202012998717171\n",
      "train_loss = 0.4797808778913398, val_loss = 0.5076665282249451\n",
      "train_loss = 0.46355010647522776, val_loss = 0.5051441660949162\n",
      "train_loss = 0.4571957760735562, val_loss = 0.4990876615047455\n",
      "train_loss = 0.4435953199863434, val_loss = 0.49449738008635385\n",
      "train_loss = 0.4528883585804387, val_loss = 0.5098721938473838\n",
      "train_loss = 0.4602861357362647, val_loss = 0.5088877848216465\n",
      "train_loss = 0.4480926049383063, val_loss = 0.5083117612770626\n",
      "train_loss = 0.4151663811583268, val_loss = 0.5166291849953788\n",
      "train_loss = 0.42679139422742945, val_loss = 0.5148528686591557\n",
      "train_loss = 0.43242817411297246, val_loss = 0.50769904255867\n",
      "train_loss = 0.42849842027613994, val_loss = 0.49747601577213835\n",
      "train_loss = 0.411813066193932, val_loss = 0.5096550839287894\n",
      "train_loss = 0.4277549370339042, val_loss = 0.5304642830576215\n",
      "train_loss = 0.4249806482540934, val_loss = 0.524793667452676\n",
      "train_loss = 0.4308428638859799, val_loss = 0.525081353528159\n",
      "train_loss = 0.41264719163116653, val_loss = 0.5303189158439636\n",
      "train_loss = 0.42088429080812556, val_loss = 0.511017416204725\n",
      "train_loss = 0.4269228326646905, val_loss = 0.5151909462043217\n",
      "train_loss = 0.3847012206127769, val_loss = 0.5091068361486707\n",
      "train_loss = 0.43085608984294693, val_loss = 0.5042882221085685\n",
      "train_loss = 0.4157931255666833, val_loss = 0.5001795377050128\n",
      "train_loss = 0.3860945787869002, val_loss = 0.49487882001059397\n",
      "train_loss = 0.37451303318927165, val_loss = 0.5021062791347504\n",
      "train_loss = 0.3920590430498123, val_loss = 0.5069556789738792\n",
      "train_loss = 0.403605602289501, val_loss = 0.5154819360801152\n"
     ]
    }
   ],
   "source": [
    "for i in range(MAX_EPOCH):\n",
    "\tmodel.train()\n",
    "\tlosses = []\n",
    "\tfor batch_idx, (data, target) in enumerate(train_filter_dataloader):\n",
    "\t\toptimizer.zero_grad()\n",
    "\t\tdata, target = data.to(DEVICE), target.to(DEVICE)\n",
    "\t\tlogits = model(data)\n",
    "\t\tloss = cross_entropy(logits, target)\n",
    "\t\tlosses.append(loss.item())\n",
    "\t\tloss.backward()\n",
    "\t\toptimizer.step()\n",
    "\t\n",
    "\tmodel.eval()\n",
    "\tval_losses = []\n",
    "\tfor batch_idx, (data, target) in enumerate(val_filter_dataloader):\n",
    "\t\twith torch.no_grad():\n",
    "\t\t\tdata, target = data.to(DEVICE), target.to(DEVICE)\n",
    "\t\t\tlogits = model(data)\n",
    "\t\t\tloss = cross_entropy(logits, target)\n",
    "\t\t\tval_losses.append(loss.item())\n",
    "\t\n",
    "\tprint(f\"train_loss = {sum(losses)/len(losses)}, val_loss = {sum(val_losses)/len(val_losses)}\")"
   ]
  },
  {
   "cell_type": "code",
   "execution_count": 10,
   "metadata": {},
   "outputs": [
    {
     "name": "stdout",
     "output_type": "stream",
     "text": [
      "train_loss = 0.5998470996107373\n",
      "accuracy: 0.7178217768669128\n"
     ]
    }
   ],
   "source": [
    "model.eval()\n",
    "preds = []\n",
    "targets = []\n",
    "losses = []\n",
    "with torch.no_grad():\n",
    "\tfor batch_idx, (data, target) in enumerate(test_filter_dataloader):\n",
    "\t\toptimizer.zero_grad()\n",
    "\t\tdata, target = data.to(DEVICE), target.to(DEVICE)\n",
    "\t\tlogits = model(data)\n",
    "\t\tloss = cross_entropy(logits, target)\n",
    "\t\tlosses.append(loss.item())\n",
    "\t\tpreds.append(torch.max(logits, dim=1).indices)\n",
    "\t\ttargets.append(target)\n",
    "\tprint(f\"train_loss = {sum(losses)/len(losses)}\")\n",
    "\n",
    "preds = torch.concat(preds)\n",
    "targets = torch.concat(targets)\n",
    "\n",
    "print(f\"accuracy: {sum(preds == targets)/len(preds)}\")"
   ]
  },
  {
   "cell_type": "code",
   "execution_count": 11,
   "metadata": {},
   "outputs": [
    {
     "data": {
      "image/png": "[encoded data removed]",
      "text/plain": [
       "<Figure size 640x480 with 2 Axes>"
      ]
     },
     "metadata": {},
     "output_type": "display_data"
    }
   ],
   "source": [
    "cm =confusion_matrix(targets.cpu().numpy(), preds.cpu().numpy())\n",
    "disp = ConfusionMatrixDisplay(confusion_matrix=cm, display_labels=['no_hesitation', 'hesitation'])\n",
    "\n",
    "disp.plot()\n",
    "plt.show()"
   ]
  }
 ],
 "metadata": {
  "kernelspec": {
   "display_name": ".venv",
   "language": "python",
   "name": "python3"
  },
  "language_info": {
   "codemirror_mode": {
    "name": "ipython",
    "version": 3
   },
   "file_extension": ".py",
   "mimetype": "text/x-python",
   "name": "python",
   "nbconvert_exporter": "python",
   "pygments_lexer": "ipython3",
   "version": "3.10.12"
  }
 },
 "nbformat": 4,
 "nbformat_minor": 2
}
