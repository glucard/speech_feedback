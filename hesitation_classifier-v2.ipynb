{
 "cells": [
  {
   "cell_type": "code",
   "execution_count": 1,
   "metadata": {},
   "outputs": [],
   "source": [
    "from src.hesitation_classifier.hesitation_dataset import HesitationDataset\n",
    "from src.hesitation_classifier.utils import pad_collate_fn, plot_spectrogram\n",
    "from src.hesitation_classifier.datasets import get_data_path\n",
    "import torch"
   ]
  },
  {
   "cell_type": "code",
   "execution_count": 2,
   "metadata": {},
   "outputs": [
    {
     "name": "stdout",
     "output_type": "stream",
     "text": [
      "downloading_dataset\n",
      "download done.\n",
      "unzip dataset...\n",
      "unzip done.\n"
     ]
    },
    {
     "data": {
      "text/plain": [
       "{'data_dir': 'temp_datasets/hesitation_dev',\n",
       " 'labels_file': 'datasets/hesitation/metadata_dev_final.csv'}"
      ]
     },
     "execution_count": 2,
     "metadata": {},
     "output_type": "execute_result"
    }
   ],
   "source": [
    "get_data_path(\"hesitation_dev\")"
   ]
  },
  {
   "cell_type": "code",
   "execution_count": null,
   "metadata": {},
   "outputs": [],
   "source": [
    "dev_dataset = HesitationDataset(annotations_file='metadata_dev_final.csv', audio_dir='./')\n",
    "\n",
    "# Usage in DataLoader\n",
    "train_dataloader = torch.utils.data.DataLoader(\n",
    "    dataset=dev_dataset,\n",
    "    batch_size=32,\n",
    "    collate_fn=pad_collate_fn\n",
    ")"
   ]
  },
  {
   "cell_type": "code",
   "execution_count": null,
   "metadata": {},
   "outputs": [],
   "source": [
    "for batch_idx, (data, target) in enumerate(train_dataloader):\n",
    "\ttest_sample_mfcc = data[5]\n",
    "\tfor d in data:\n",
    "\t\tprint(d.shape)\n",
    "\tplot_spectrogram(test_sample_mfcc)\n"
   ]
  },
  {
   "cell_type": "code",
   "execution_count": null,
   "metadata": {},
   "outputs": [],
   "source": []
  }
 ],
 "metadata": {
  "kernelspec": {
   "display_name": ".venv",
   "language": "python",
   "name": "python3"
  },
  "language_info": {
   "codemirror_mode": {
    "name": "ipython",
    "version": 3
   },
   "file_extension": ".py",
   "mimetype": "text/x-python",
   "name": "python",
   "nbconvert_exporter": "python",
   "pygments_lexer": "ipython3",
   "version": "3.10.12"
  }
 },
 "nbformat": 4,
 "nbformat_minor": 2
}
