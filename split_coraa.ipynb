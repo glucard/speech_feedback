{
 "cells": [
  {
   "cell_type": "code",
   "execution_count": null,
   "metadata": {},
   "outputs": [],
   "source": [
    "import pandas as pd\n",
    "import torchaudio\n",
    "import shutil\n",
    "import os\n",
    "import math\n",
    "from src.datasets import get_data_path, DATASET_PATH"
   ]
  },
  {
   "cell_type": "code",
   "execution_count": null,
   "metadata": {},
   "outputs": [],
   "source": [
    "annotations_path, data_path = get_data_path(\"hesitation_test\")"
   ]
  },
  {
   "cell_type": "code",
   "execution_count": null,
   "metadata": {},
   "outputs": [],
   "source": [
    "annotations = pd.read_csv(annotations_path)\n",
    "annotations.head(5)"
   ]
  },
  {
   "cell_type": "code",
   "execution_count": null,
   "metadata": {},
   "outputs": [],
   "source": [
    "len(annotations)"
   ]
  },
  {
   "cell_type": "code",
   "execution_count": null,
   "metadata": {},
   "outputs": [],
   "source": [
    "def get_audio_duration(file_path):\n",
    "\t# print(file_path)\n",
    "\twaveform, sample_rate = torchaudio.load(os.path.join(data_path, file_path))\n",
    "\treturn math.ceil(waveform.shape[-1] / sample_rate)\n",
    "annotations['duration(sec)'] = annotations['file_path'].apply(get_audio_duration)\n",
    "annotations['duration(sec)'].describe()"
   ]
  },
  {
   "cell_type": "code",
   "execution_count": null,
   "metadata": {},
   "outputs": [],
   "source": [
    "annotations = annotations[annotations['duration(sec)']>=3]\n",
    "annotations['duration(sec)'].describe()"
   ]
  },
  {
   "cell_type": "code",
   "execution_count": null,
   "metadata": {},
   "outputs": [],
   "source": [
    "filtered_annotations = annotations[annotations['votes_for_noise_or_low_voice'] == 0].reset_index(names=[\"original_idx\"])\n",
    "len(filtered_annotations)"
   ]
  },
  {
   "cell_type": "code",
   "execution_count": null,
   "metadata": {},
   "outputs": [],
   "source": [
    "filtered_annotations[\"has_hesitation\"] = (filtered_annotations[['votes_for_hesitation', 'votes_for_filled_pause']] > 0).any(axis=1).astype(int)\n",
    "filtered_annotations[[\"has_hesitation\"]].value_counts()"
   ]
  },
  {
   "cell_type": "code",
   "execution_count": null,
   "metadata": {},
   "outputs": [],
   "source": [
    "classes = filtered_annotations[\"has_hesitation\"].unique()\n",
    "less_class_count = filtered_annotations[[\"has_hesitation\"]].value_counts().min()\n",
    "classes, less_class_count"
   ]
  },
  {
   "cell_type": "code",
   "execution_count": null,
   "metadata": {},
   "outputs": [],
   "source": [
    "balanced_data = pd.concat(filtered_annotations[filtered_annotations['has_hesitation'] == c].sample(less_class_count, random_state=1) for c in classes)\n",
    "balanced_data = balanced_data.sort_index().reset_index(drop=True)\n",
    "balanced_data['NEW_HAS_HESITATION'] = -999\n",
    "balanced_data['has_hesitation'].value_counts()"
   ]
  },
  {
   "cell_type": "code",
   "execution_count": null,
   "metadata": {},
   "outputs": [],
   "source": [
    "data_to_label_dir = os.path.join(DATASET_PATH, \"data_to_label\")\n",
    "def copy_audio(path):\n",
    "\tnew_path = os.path.join(data_to_label_dir, path)\n",
    "\tnew_dir = os.path.join(*new_path.split(os.sep)[:-1])\n",
    "\tif not os.path.isdir(new_dir):\n",
    "\t\tos.makedirs(new_dir)\n",
    "\tshutil.copy(os.path.join(data_path, path), new_path)\n",
    "    \n",
    "balanced_data['file_path'].apply(copy_audio)\n",
    "\n",
    "new_annotations_path = os.path.join(data_to_label_dir, \"annotations_to_label.csv\")\n",
    "balanced_data.drop(\n",
    "\t[\"task\", \"variety\", \"accent\", \"speech_genre\", \"speech_style\", \"up_votes\", \"down_votes\", \"votes_for_hesitation\", \"votes_for_filled_pause\", \"votes_for_noise_or_low_voice\", \"votes_for_second_voice\", \"votes_for_no_identified_problem\", \"text\", \"duration(sec)\", \"has_hesitation\"],\n",
    "\taxis=1).sample(frac=1).to_csv(new_annotations_path, index=False)"
   ]
  }
 ],
 "metadata": {
  "kernelspec": {
   "display_name": ".venv",
   "language": "python",
   "name": "python3"
  },
  "language_info": {
   "codemirror_mode": {
    "name": "ipython",
    "version": 3
   },
   "file_extension": ".py",
   "mimetype": "text/x-python",
   "name": "python",
   "nbconvert_exporter": "python",
   "pygments_lexer": "ipython3",
   "version": "3.10.12"
  }
 },
 "nbformat": 4,
 "nbformat_minor": 2
}
