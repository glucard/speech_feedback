{
 "cells": [
  {
   "cell_type": "code",
   "execution_count": 1,
   "metadata": {},
   "outputs": [],
   "source": [
    "import pandas as pd\n",
    "import torchaudio\n",
    "import shutil\n",
    "import os\n",
    "import math\n",
    "from src.datasets import get_data_path, DATASET_PATH"
   ]
  },
  {
   "cell_type": "code",
   "execution_count": 2,
   "metadata": {},
   "outputs": [],
   "source": [
    "annotations_path, data_path = get_data_path(\"hesitation_test\")"
   ]
  },
  {
   "cell_type": "code",
   "execution_count": 3,
   "metadata": {},
   "outputs": [
    {
     "data": {
      "text/html": [
       "<div>\n",
       "<style scoped>\n",
       "    .dataframe tbody tr th:only-of-type {\n",
       "        vertical-align: middle;\n",
       "    }\n",
       "\n",
       "    .dataframe tbody tr th {\n",
       "        vertical-align: top;\n",
       "    }\n",
       "\n",
       "    .dataframe thead th {\n",
       "        text-align: right;\n",
       "    }\n",
       "</style>\n",
       "<table border=\"1\" class=\"dataframe\">\n",
       "  <thead>\n",
       "    <tr style=\"text-align: right;\">\n",
       "      <th></th>\n",
       "      <th>file_path</th>\n",
       "      <th>task</th>\n",
       "      <th>variety</th>\n",
       "      <th>dataset</th>\n",
       "      <th>accent</th>\n",
       "      <th>speech_genre</th>\n",
       "      <th>speech_style</th>\n",
       "      <th>up_votes</th>\n",
       "      <th>down_votes</th>\n",
       "      <th>votes_for_hesitation</th>\n",
       "      <th>votes_for_filled_pause</th>\n",
       "      <th>votes_for_noise_or_low_voice</th>\n",
       "      <th>votes_for_second_voice</th>\n",
       "      <th>votes_for_no_identified_problem</th>\n",
       "      <th>text</th>\n",
       "      <th>duration(sec)</th>\n",
       "    </tr>\n",
       "  </thead>\n",
       "  <tbody>\n",
       "    <tr>\n",
       "      <th>0</th>\n",
       "      <td>test/sp/42881_sp_.wav</td>\n",
       "      <td>annotation_and_transcription</td>\n",
       "      <td>pt_br</td>\n",
       "      <td>SP2010</td>\n",
       "      <td>São Paulo (cap.)</td>\n",
       "      <td>Conversation or Interview or Reading</td>\n",
       "      <td>Spontaneous and Read Speech</td>\n",
       "      <td>2</td>\n",
       "      <td>1</td>\n",
       "      <td>0.0</td>\n",
       "      <td>0.0</td>\n",
       "      <td>1.0</td>\n",
       "      <td>0.0</td>\n",
       "      <td>2.0</td>\n",
       "      <td>certo e aí quanto tempo você mora aqui ne ness...</td>\n",
       "      <td>4</td>\n",
       "    </tr>\n",
       "    <tr>\n",
       "      <th>1</th>\n",
       "      <td>test/sp/42883_sp_.wav</td>\n",
       "      <td>annotation_and_transcription</td>\n",
       "      <td>pt_br</td>\n",
       "      <td>SP2010</td>\n",
       "      <td>São Paulo (cap.)</td>\n",
       "      <td>Conversation or Interview or Reading</td>\n",
       "      <td>Spontaneous and Read Speech</td>\n",
       "      <td>2</td>\n",
       "      <td>1</td>\n",
       "      <td>0.0</td>\n",
       "      <td>0.0</td>\n",
       "      <td>1.0</td>\n",
       "      <td>0.0</td>\n",
       "      <td>2.0</td>\n",
       "      <td>ah legal faz tempão já</td>\n",
       "      <td>2</td>\n",
       "    </tr>\n",
       "    <tr>\n",
       "      <th>2</th>\n",
       "      <td>test/sp/42885_sp_.wav</td>\n",
       "      <td>annotation_and_transcription</td>\n",
       "      <td>pt_br</td>\n",
       "      <td>SP2010</td>\n",
       "      <td>São Paulo (cap.)</td>\n",
       "      <td>Conversation or Interview or Reading</td>\n",
       "      <td>Spontaneous and Read Speech</td>\n",
       "      <td>2</td>\n",
       "      <td>1</td>\n",
       "      <td>0.0</td>\n",
       "      <td>0.0</td>\n",
       "      <td>1.0</td>\n",
       "      <td>0.0</td>\n",
       "      <td>2.0</td>\n",
       "      <td>no jardins e aqui eu moro há vinte anos</td>\n",
       "      <td>4</td>\n",
       "    </tr>\n",
       "    <tr>\n",
       "      <th>3</th>\n",
       "      <td>test/sp/42889_sp_.wav</td>\n",
       "      <td>annotation_and_transcription</td>\n",
       "      <td>pt_br</td>\n",
       "      <td>SP2010</td>\n",
       "      <td>São Paulo (cap.)</td>\n",
       "      <td>Conversation or Interview or Reading</td>\n",
       "      <td>Spontaneous and Read Speech</td>\n",
       "      <td>2</td>\n",
       "      <td>1</td>\n",
       "      <td>0.0</td>\n",
       "      <td>0.0</td>\n",
       "      <td>1.0</td>\n",
       "      <td>0.0</td>\n",
       "      <td>1.0</td>\n",
       "      <td>e eu nasci aqui eu e meus irmãos</td>\n",
       "      <td>3</td>\n",
       "    </tr>\n",
       "    <tr>\n",
       "      <th>4</th>\n",
       "      <td>test/sp/42893_sp_.wav</td>\n",
       "      <td>annotation_and_transcription</td>\n",
       "      <td>pt_br</td>\n",
       "      <td>SP2010</td>\n",
       "      <td>São Paulo (cap.)</td>\n",
       "      <td>Conversation or Interview or Reading</td>\n",
       "      <td>Spontaneous and Read Speech</td>\n",
       "      <td>3</td>\n",
       "      <td>0</td>\n",
       "      <td>0.0</td>\n",
       "      <td>0.0</td>\n",
       "      <td>2.0</td>\n",
       "      <td>0.0</td>\n",
       "      <td>2.0</td>\n",
       "      <td>gosto bastante</td>\n",
       "      <td>2</td>\n",
       "    </tr>\n",
       "  </tbody>\n",
       "</table>\n",
       "</div>"
      ],
      "text/plain": [
       "               file_path                          task variety dataset  \\\n",
       "0  test/sp/42881_sp_.wav  annotation_and_transcription   pt_br  SP2010   \n",
       "1  test/sp/42883_sp_.wav  annotation_and_transcription   pt_br  SP2010   \n",
       "2  test/sp/42885_sp_.wav  annotation_and_transcription   pt_br  SP2010   \n",
       "3  test/sp/42889_sp_.wav  annotation_and_transcription   pt_br  SP2010   \n",
       "4  test/sp/42893_sp_.wav  annotation_and_transcription   pt_br  SP2010   \n",
       "\n",
       "             accent                          speech_genre  \\\n",
       "0  São Paulo (cap.)  Conversation or Interview or Reading   \n",
       "1  São Paulo (cap.)  Conversation or Interview or Reading   \n",
       "2  São Paulo (cap.)  Conversation or Interview or Reading   \n",
       "3  São Paulo (cap.)  Conversation or Interview or Reading   \n",
       "4  São Paulo (cap.)  Conversation or Interview or Reading   \n",
       "\n",
       "                  speech_style  up_votes  down_votes  votes_for_hesitation  \\\n",
       "0  Spontaneous and Read Speech         2           1                   0.0   \n",
       "1  Spontaneous and Read Speech         2           1                   0.0   \n",
       "2  Spontaneous and Read Speech         2           1                   0.0   \n",
       "3  Spontaneous and Read Speech         2           1                   0.0   \n",
       "4  Spontaneous and Read Speech         3           0                   0.0   \n",
       "\n",
       "   votes_for_filled_pause  votes_for_noise_or_low_voice  \\\n",
       "0                     0.0                           1.0   \n",
       "1                     0.0                           1.0   \n",
       "2                     0.0                           1.0   \n",
       "3                     0.0                           1.0   \n",
       "4                     0.0                           2.0   \n",
       "\n",
       "   votes_for_second_voice  votes_for_no_identified_problem  \\\n",
       "0                     0.0                              2.0   \n",
       "1                     0.0                              2.0   \n",
       "2                     0.0                              2.0   \n",
       "3                     0.0                              1.0   \n",
       "4                     0.0                              2.0   \n",
       "\n",
       "                                                text  duration(sec)  \n",
       "0  certo e aí quanto tempo você mora aqui ne ness...              4  \n",
       "1                             ah legal faz tempão já              2  \n",
       "2            no jardins e aqui eu moro há vinte anos              4  \n",
       "3                   e eu nasci aqui eu e meus irmãos              3  \n",
       "4                                     gosto bastante              2  "
      ]
     },
     "execution_count": 3,
     "metadata": {},
     "output_type": "execute_result"
    }
   ],
   "source": [
    "annotations = pd.read_csv(annotations_path)\n",
    "annotations.head(5)"
   ]
  },
  {
   "cell_type": "code",
   "execution_count": 4,
   "metadata": {},
   "outputs": [
    {
     "data": {
      "text/plain": [
       "12676"
      ]
     },
     "execution_count": 4,
     "metadata": {},
     "output_type": "execute_result"
    }
   ],
   "source": [
    "len(annotations)"
   ]
  },
  {
   "cell_type": "code",
   "execution_count": 5,
   "metadata": {},
   "outputs": [
    {
     "data": {
      "text/plain": [
       "count    12676.000000\n",
       "mean         3.683181\n",
       "std          2.767088\n",
       "min          1.000000\n",
       "25%          2.000000\n",
       "50%          3.000000\n",
       "75%          4.000000\n",
       "max         40.000000\n",
       "Name: duration(sec), dtype: float64"
      ]
     },
     "execution_count": 5,
     "metadata": {},
     "output_type": "execute_result"
    }
   ],
   "source": [
    "def get_audio_duration(file_path):\n",
    "\t# print(file_path)\n",
    "\twaveform, sample_rate = torchaudio.load(os.path.join(data_path, file_path))\n",
    "\treturn math.ceil(waveform.shape[-1] / sample_rate)\n",
    "annotations['duration(sec)'] = annotations['file_path'].apply(get_audio_duration)\n",
    "annotations['duration(sec)'].describe()"
   ]
  },
  {
   "cell_type": "code",
   "execution_count": 6,
   "metadata": {},
   "outputs": [
    {
     "data": {
      "text/plain": [
       "count    7421.000000\n",
       "mean        5.070610\n",
       "std         2.879919\n",
       "min         3.000000\n",
       "25%         3.000000\n",
       "50%         4.000000\n",
       "75%         6.000000\n",
       "max        40.000000\n",
       "Name: duration(sec), dtype: float64"
      ]
     },
     "execution_count": 6,
     "metadata": {},
     "output_type": "execute_result"
    }
   ],
   "source": [
    "annotations = annotations[annotations['duration(sec)']>=3]\n",
    "annotations['duration(sec)'].describe()"
   ]
  },
  {
   "cell_type": "code",
   "execution_count": 7,
   "metadata": {},
   "outputs": [
    {
     "data": {
      "text/plain": [
       "2801"
      ]
     },
     "execution_count": 7,
     "metadata": {},
     "output_type": "execute_result"
    }
   ],
   "source": [
    "filtered_annotations = annotations[annotations['votes_for_noise_or_low_voice'] == 0].reset_index(names=[\"original_idx\"])\n",
    "len(filtered_annotations)"
   ]
  },
  {
   "cell_type": "code",
   "execution_count": 8,
   "metadata": {},
   "outputs": [
    {
     "data": {
      "text/plain": [
       "has_hesitation\n",
       "0                 2093\n",
       "1                  708\n",
       "Name: count, dtype: int64"
      ]
     },
     "execution_count": 8,
     "metadata": {},
     "output_type": "execute_result"
    }
   ],
   "source": [
    "filtered_annotations[\"has_hesitation\"] = (filtered_annotations[['votes_for_hesitation', 'votes_for_filled_pause']] > 0).any(axis=1).astype(int)\n",
    "filtered_annotations[[\"has_hesitation\"]].value_counts()"
   ]
  },
  {
   "cell_type": "code",
   "execution_count": 9,
   "metadata": {},
   "outputs": [
    {
     "data": {
      "text/plain": [
       "(array([0, 1]), np.int64(708))"
      ]
     },
     "execution_count": 9,
     "metadata": {},
     "output_type": "execute_result"
    }
   ],
   "source": [
    "classes = filtered_annotations[\"has_hesitation\"].unique()\n",
    "less_class_count = filtered_annotations[[\"has_hesitation\"]].value_counts().min()\n",
    "classes, less_class_count"
   ]
  },
  {
   "cell_type": "code",
   "execution_count": 10,
   "metadata": {},
   "outputs": [
    {
     "data": {
      "text/plain": [
       "has_hesitation\n",
       "0    708\n",
       "1    708\n",
       "Name: count, dtype: int64"
      ]
     },
     "execution_count": 10,
     "metadata": {},
     "output_type": "execute_result"
    }
   ],
   "source": [
    "balanced_data = pd.concat(filtered_annotations[filtered_annotations['has_hesitation'] == c].sample(less_class_count, random_state=1) for c in classes)\n",
    "balanced_data = balanced_data.sort_index().reset_index(drop=True)\n",
    "balanced_data['tem_hesitacao(0-1)'] = None\n",
    "balanced_data['nivel_de_hesitacao(0-5)'] = None\n",
    "balanced_data['duvida(0-1)'] = None\n",
    "balanced_data['has_hesitation'].value_counts()"
   ]
  },
  {
   "cell_type": "code",
   "execution_count": 11,
   "metadata": {},
   "outputs": [],
   "source": [
    "data_to_label_dir = os.path.join(DATASET_PATH, \"data_to_label\")\n",
    "def copy_audio(path):\n",
    "\tnew_path = os.path.join(data_to_label_dir, path)\n",
    "\tnew_dir = os.path.join(*new_path.split(os.sep)[:-1])\n",
    "\tif not os.path.isdir(new_dir):\n",
    "\t\tos.makedirs(new_dir)\n",
    "\tshutil.copy(os.path.join(data_path, path), new_path)\n",
    "    \n",
    "balanced_data['file_path'].apply(copy_audio)\n",
    "\n",
    "new_annotations_path = os.path.join(data_to_label_dir, \"annotations_to_label.xlsx\")\n",
    "balanced_data.drop(\n",
    "\t[\"task\", \"variety\", \"accent\", \"speech_genre\", \"speech_style\", \"up_votes\", \"down_votes\", \"votes_for_hesitation\", \"votes_for_filled_pause\", \"votes_for_noise_or_low_voice\", \"votes_for_second_voice\", \"votes_for_no_identified_problem\", \"text\", \"duration(sec)\", \"has_hesitation\"],\n",
    "\taxis=1).sample(frac=1).to_excel(new_annotations_path, index=False)"
   ]
  }
 ],
 "metadata": {
  "kernelspec": {
   "display_name": ".venv",
   "language": "python",
   "name": "python3"
  },
  "language_info": {
   "codemirror_mode": {
    "name": "ipython",
    "version": 3
   },
   "file_extension": ".py",
   "mimetype": "text/x-python",
   "name": "python",
   "nbconvert_exporter": "python",
   "pygments_lexer": "ipython3",
   "version": "3.12.3"
  }
 },
 "nbformat": 4,
 "nbformat_minor": 2
}
