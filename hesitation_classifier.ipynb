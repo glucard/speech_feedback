{
 "cells": [
  {
   "cell_type": "code",
   "execution_count": 1,
   "metadata": {},
   "outputs": [],
   "source": [
    "from IPython.display import Audio\n",
    "import random\n",
    "import matplotlib.pyplot as plt\n",
    "import tempfile\n",
    "import numpy as np\n",
    "import pandas as pd\n",
    "import os"
   ]
  },
  {
   "cell_type": "code",
   "execution_count": 2,
   "metadata": {},
   "outputs": [],
   "source": [
    "import torch\n",
    "from torch import optim\n",
    "from torch.nn.functional import cross_entropy\n",
    "import torchaudio\n",
    "import torchaudio.transforms as T\n",
    "from torch.optim.lr_scheduler import ReduceLROnPlateau"
   ]
  },
  {
   "cell_type": "code",
   "execution_count": 3,
   "metadata": {},
   "outputs": [],
   "source": [
    "from sklearn.metrics import confusion_matrix, ConfusionMatrixDisplay, accuracy_score, f1_score, classification_report"
   ]
  },
  {
   "cell_type": "code",
   "execution_count": 4,
   "metadata": {},
   "outputs": [],
   "source": [
    "import ray\n",
    "from ray import tune\n",
    "from ray import train\n",
    "from ray.train import Checkpoint\n",
    "from ray.tune.search.optuna import OptunaSearch\n",
    "from ray.tune.schedulers import ASHAScheduler\n",
    "from ray.train import RunConfig\n",
    "from ray.tune import CLIReporter"
   ]
  },
  {
   "cell_type": "code",
   "execution_count": 5,
   "metadata": {},
   "outputs": [],
   "source": [
    "from src.custom_audio_dataset import CustomAudioDataset\n",
    "from src.utils import pad_collate_fn, plot_spectrogram, dataloader_from_filter\n",
    "from src.datasets import get_data_path\n",
    "from src import custom_layers, models\n",
    "from src.hesitation import coraa_filters"
   ]
  },
  {
   "cell_type": "code",
   "execution_count": 6,
   "metadata": {},
   "outputs": [
    {
     "data": {
      "text/plain": [
       "'cuda'"
      ]
     },
     "execution_count": 6,
     "metadata": {},
     "output_type": "execute_result"
    }
   ],
   "source": [
    "DEVICE = \"cuda\" if torch.cuda.is_available() else \"cpu\"\n",
    "\n",
    "MAX_EPOCH = 15\n",
    "\n",
    "TRAIN_SIZE = 0.6\n",
    "TEST_FROM_VAL_SIZE = 0.5\n",
    "\n",
    "SAMPLE_RATE = 16_000\n",
    "MAX_SECONDS_DURATION = 10\n",
    "\n",
    "MAX_FEATURES_IN = SAMPLE_RATE * MAX_SECONDS_DURATION\n",
    "\n",
    "DEVICE"
   ]
  },
  {
   "cell_type": "code",
   "execution_count": 7,
   "metadata": {},
   "outputs": [
    {
     "data": {
      "text/plain": [
       "('/home/glucas11/projects/repos/speech_feedback/temp_datasets/hesitation_dev/annotations.csv',\n",
       " '/home/glucas11/projects/repos/speech_feedback/temp_datasets/hesitation_dev')"
      ]
     },
     "execution_count": 7,
     "metadata": {},
     "output_type": "execute_result"
    }
   ],
   "source": [
    "annotations_file_path, data_dir_path = get_data_path(\"hesitation_dev\")\n",
    "annotations_file_path, data_dir_path"
   ]
  },
  {
   "cell_type": "code",
   "execution_count": 8,
   "metadata": {},
   "outputs": [],
   "source": [
    "filters_func = {\n",
    "    \"filter0\": coraa_filters.filter0,\n",
    "    \"filter1\": coraa_filters.filter1,\n",
    "    \"filter2\": coraa_filters.filter2,\n",
    "}\n",
    "\n",
    "models_arch = {\n",
    "    \"CnnMFCC\": models.CnnMFCC,\n",
    "    \"CnnMFCC_v2\": models.CnnMFCC_v2,\n",
    "    \"CnnSpectrogram\": models.CnnSpectrogram,\n",
    "}"
   ]
  },
  {
   "cell_type": "code",
   "execution_count": 9,
   "metadata": {},
   "outputs": [],
   "source": [
    "def train_func(model, optimizer, dataloader):\n",
    "\tmodel.train()\n",
    "\tlosses = []\n",
    "\tpred_np = []\n",
    "\ttarget_np = []\n",
    "\tfor batch_idx, (data, target) in enumerate(dataloader):\n",
    "\t\toptimizer.zero_grad()\n",
    "\t\tdata, target = data.to(DEVICE), target.to(DEVICE)\n",
    "\t\tlogits = model(data)\n",
    "\t\tloss = cross_entropy(logits, target)\n",
    "\t\tlosses.append(loss.item())\n",
    "\t\tloss.backward()\n",
    "\t\toptimizer.step()\n",
    "\t\t\n",
    "\t\tpreds = torch.max(logits, dim=1).indices\n",
    "\t\tpred_np.append(preds.detach().cpu().numpy())\n",
    "\t\ttarget_np.append(target.detach().cpu().numpy())\n",
    "\t\n",
    "\tpred_np = np.concatenate(pred_np)\n",
    "\ttarget_np = np.concatenate(target_np)\n",
    "\n",
    "\treturn {\n",
    "\t\t\"mean_loss\": sum(losses) / len(losses),\n",
    "\t\t\"accuracy\": accuracy_score(target_np, pred_np),\n",
    "\t\t\"f1_score\": f1_score(target_np, pred_np),\n",
    "\t\t# \"confusion_matrix\": confusion_matrix(target_np, pred_np),\n",
    "\t}\n",
    "\n",
    "def validate_func(model, dataloader):\n",
    "\tmodel.eval()\n",
    "\t\n",
    "\tlosses = []\n",
    "\tpred_np = []\n",
    "\ttarget_np = []\n",
    "\twith torch.no_grad():\n",
    "\t\tfor batch_idx, (data, target) in enumerate(dataloader):\n",
    "\t\t\tdata, target = data.to(DEVICE), target.to(DEVICE)\n",
    "\t\t\tlogits = model(data)\n",
    "\t\t\tloss = cross_entropy(logits, target)\n",
    "\t\t\tlosses.append(loss.item())\n",
    "\t\t\t\n",
    "\t\t\tpreds = torch.max(logits, dim=1).indices\n",
    "\t\t\tpred_np.append(preds.detach().cpu().numpy())\n",
    "\t\t\ttarget_np.append(target.detach().cpu().numpy())\n",
    "\n",
    "\tpred_np = np.concatenate(pred_np)\n",
    "\ttarget_np = np.concatenate(target_np)\n",
    "\n",
    "\treturn {\n",
    "\t\t\"mean_loss\": sum(losses) / len(losses),\n",
    "\t\t\"accuracy\": accuracy_score(target_np, pred_np),\n",
    "\t\t\"f1_score\": f1_score(target_np, pred_np),\n",
    "\t}"
   ]
  },
  {
   "cell_type": "code",
   "execution_count": 10,
   "metadata": {},
   "outputs": [],
   "source": [
    "def train_hesitation(config:dict, max_epochs=30, tunning=True):\n",
    "\tfeatures_in = config['max_seconds_length'] * SAMPLE_RATE\n",
    "\ttrain_data_transform = torch.nn.Sequential(\n",
    "    # custom_layers.RandomPitchShiftLayer(p=0.001, sample_rate=SAMPLE_RATE, min_steps=-5, max_steps=5), # too heavy\n",
    "    # custom_layers.ReverberationLayer(1,400), # not working yet\n",
    "    custom_layers.PadOrTruncateLayer(features_in),\n",
    "    custom_layers.NoiseLayer(p=0.5, noise_factor=0.05),\n",
    "\t)\n",
    "\tdata_transform = torch.nn.Sequential(\n",
    "\t\tcustom_layers.PadOrTruncateLayer(features_in),\n",
    "\t)\n",
    "\tfilter_func = filters_func[config[\"coraa_filter_func\"]]\n",
    "\ttrain_dataloader, val_dataloader, test_dataloader = dataloader_from_filter(\n",
    "\t\tannotations_file_path=annotations_file_path,\n",
    "\t\tdata_dir_path=data_dir_path,\n",
    "\t\tfilter=filter_func,\n",
    "\t\ttarget_column_name=\"has_hesitation\",\n",
    "\t\ttrain_data_transform=train_data_transform,\n",
    "\t\tdata_transform=data_transform,\n",
    "\t\ttrain_size=0.6,\n",
    "\t\ttest_from_val_size=0.5\n",
    "\t)\n",
    "\tmodel_architecture = models_arch[config['model_architecture']]\n",
    "\tmodel = model_architecture(n_classes=2, sample_rate=SAMPLE_RATE, features_in=features_in, dropout=config['dropout'])\n",
    "\tmodel = model.to(DEVICE)\n",
    "\n",
    "\toptimizer = optim.Adam(model.parameters(), lr=config['learning_rate'], weight_decay=config['weight_decay'])\n",
    "\n",
    "\t# early_stopping_patience = 5  # Number of epochs to wait before stopping\n",
    "\tscheduler = ReduceLROnPlateau(optimizer, mode='min', factor=0.7, patience=3)\n",
    "\tfor i in range(max_epochs):\n",
    "\t\ttrain_log = train_func(model, optimizer, train_dataloader)\n",
    "\t\tval_log = validate_func(model, val_dataloader)\n",
    "\t\t\n",
    "\t\tscheduler.step(val_log['mean_loss'])\n",
    "\n",
    "\t\tif tunning:\n",
    "\t\t\twith tempfile.TemporaryDirectory() as temp_checkpoint_dir:\n",
    "\t\t\t\tcheckpoint = None\n",
    "\t\t\t\tif (i + 1) % max_epochs == 0 and (val_log[\"mean_loss\"] < 0.4):\n",
    "\t\t\t\t\t# This saves the model to the trial directory\n",
    "\t\t\t\t\ttorch.save(\n",
    "\t\t\t\t\t\tmodel.state_dict(),\n",
    "\t\t\t\t\t\tos.path.join(temp_checkpoint_dir, \"model.pth\")\n",
    "\t\t\t\t\t)\n",
    "\t\t\t\t\tcheckpoint = Checkpoint.from_directory(temp_checkpoint_dir)\n",
    "\n",
    "\t\t\t\t# Send the current training result back to Tune\n",
    "\t\t\t\ttrain.report(\n",
    "\t\t\t\t\t{\n",
    "\t\t\t\t\t\t\"train_mean_loss\": train_log[\"mean_loss\"],\n",
    "\t\t\t\t\t\t\"train_accuracy\": train_log[\"accuracy\"],\n",
    "\t\t\t\t\t\t\"train_f1_score\": train_log[\"f1_score\"],\n",
    "\t\t\t\t\t\t\"val_mean_loss\": val_log[\"mean_loss\"],\n",
    "\t\t\t\t\t\t\"val_accuracy\": val_log[\"accuracy\"],\n",
    "\t\t\t\t\t\t\"val_f1_score\": val_log[\"f1_score\"],\n",
    "\t\t\t\t\t},\n",
    "\t\t\t\t\tcheckpoint=checkpoint\n",
    "\t\t\t\t)\n",
    "\t\telse:\n",
    "\t\t\tprint(\"-\"*10, f\"epoch: {i+1}/{max_epochs}\",\"-\"*10)\n",
    "\t\t\tprint(f\"train: {train_log}\\nval: {val_log}\")\n",
    "\tif not tunning:\n",
    "\t\treturn {\n",
    "\t\t\t\"model\": model,\n",
    "\t\t\t\"test_dataloader\": test_dataloader,\n",
    "\t\t}\n",
    "\ttest_log = validate_func(model, test_dataloader)\n",
    "\tprint(test_log)\n",
    "\ttrain.report(\n",
    "\t\t{\n",
    "\t\t\t\"test_mean_loss\": test_log[\"mean_loss\"],\n",
    "\t\t\t\"test_accuracy\": test_log[\"accuracy\"],\n",
    "\t\t\t\"test_f1_score\": test_log[\"f1_score\"],\n",
    "\t\t},\n",
    "\t\tcheckpoint=checkpoint\n",
    "\t)"
   ]
  },
  {
   "cell_type": "code",
   "execution_count": 11,
   "metadata": {},
   "outputs": [],
   "source": [
    "max_cpus = os.cpu_count()\n",
    "max_gpus = torch.cuda.device_count()\n",
    "max_cpus, max_gpus\n",
    "\n",
    "config = {\n",
    "    \"max_seconds_length\": tune.randint(3, 20),\n",
    "    \"dropout\": tune.uniform(0.1, 0.5),\n",
    "    \"coraa_filter_func\": tune.choice(filters_func.keys()),\n",
    "    \"learning_rate\":  tune.loguniform(1e-5, 1e-2),\n",
    "\t\"weight_decay\": tune.loguniform(1e-5, 1e-2),\n",
    "    \"model_architecture\": tune.choice(models_arch.keys()),\n",
    "}\n",
    "\n",
    "metric = \"val_mean_loss\"\n",
    "mode = \"min\"\n",
    "\n",
    "optuna_search = OptunaSearch(\n",
    "\tmetric=metric,\n",
    "\tmode=mode,\n",
    "\t# points_to_evaluate = curr_best_params,\n",
    ")\n",
    "\n",
    "asas_scheduler = ASHAScheduler(\n",
    "\ttime_attr='training_iteration',\n",
    "\tmetric=metric,\n",
    "\tmode=mode,\n",
    "\tmax_t=30,\n",
    "\tgrace_period=10,\n",
    "\treduction_factor=3,\n",
    "\tbrackets=2\n",
    ")\n"
   ]
  },
  {
   "cell_type": "code",
   "execution_count": 12,
   "metadata": {},
   "outputs": [],
   "source": [
    "pd.set_option('display.max_columns', None)  # Show all columns\n",
    "pd.set_option('display.max_rows', None)     # Show all rows\n",
    "pd.set_option('display.max_colwidth', None)   # No limit on column width\n",
    "pd.set_option('display.width', 1000)        # Set the display width to a large number"
   ]
  },
  {
   "cell_type": "code",
   "execution_count": 13,
   "metadata": {},
   "outputs": [
    {
     "data": {
      "text/html": [
       "<div class=\"tuneStatus\">\n",
       "  <div style=\"display: flex;flex-direction: row\">\n",
       "    <div style=\"display: flex;flex-direction: column;\">\n",
       "      <h3>Tune Status</h3>\n",
       "      <table>\n",
       "<tbody>\n",
       "<tr><td>Current time:</td><td>2024-09-03 13:22:28</td></tr>\n",
       "<tr><td>Running for: </td><td>00:11:39.61        </td></tr>\n",
       "<tr><td>Memory:      </td><td>4.4/15.6 GiB       </td></tr>\n",
       "</tbody>\n",
       "</table>\n",
       "    </div>\n",
       "    <div class=\"vDivider\"></div>\n",
       "    <div class=\"systemInfo\">\n",
       "      <h3>System Info</h3>\n",
       "      Using AsyncHyperBand: num_stopped=50<br>Bracket: Iter 30.000: -0.633829653263092 | Iter 10.000: -0.6594749192396799<br>Bracket: Iter 30.000: -0.6458187500635783<br>Logical resource usage: 16.0/16 CPUs, 1.0/1 GPUs (0.0/1.0 accelerator_type:G)\n",
       "    </div>\n",
       "    \n",
       "  </div>\n",
       "  <div class=\"hDivider\"></div>\n",
       "  <div class=\"trialStatus\">\n",
       "    <h3>Trial Status</h3>\n",
       "    <table>\n",
       "<thead>\n",
       "<tr><th>Trial name               </th><th>status    </th><th>loc                </th><th>coraa_filter_func  </th><th style=\"text-align: right;\">  dropout</th><th style=\"text-align: right;\">  learning_rate</th><th style=\"text-align: right;\">  max_seconds_length</th><th>model_architecture  </th><th style=\"text-align: right;\">  weight_decay</th><th style=\"text-align: right;\">  iter</th><th style=\"text-align: right;\">  total time (s)</th><th style=\"text-align: right;\">  train_mean_loss</th><th style=\"text-align: right;\">  train_accuracy</th><th style=\"text-align: right;\">  train_f1_score</th></tr>\n",
       "</thead>\n",
       "<tbody>\n",
       "<tr><td>train_hesitation_1dd88f21</td><td>TERMINATED</td><td>172.18.58.174:3088 </td><td>filter1            </td><td style=\"text-align: right;\"> 0.253865</td><td style=\"text-align: right;\">    0.00450157 </td><td style=\"text-align: right;\">                  12</td><td>CnnMFCC             </td><td style=\"text-align: right;\">   7.0906e-05 </td><td style=\"text-align: right;\">    30</td><td style=\"text-align: right;\">        32.1915 </td><td style=\"text-align: right;\">         0.615662</td><td style=\"text-align: right;\">        0.626761</td><td style=\"text-align: right;\">        0.615942</td></tr>\n",
       "<tr><td>train_hesitation_6ad8f175</td><td>TERMINATED</td><td>172.18.58.174:3580 </td><td>filter2            </td><td style=\"text-align: right;\"> 0.345569</td><td style=\"text-align: right;\">    0.00200933 </td><td style=\"text-align: right;\">                   7</td><td>CnnSpectrogram      </td><td style=\"text-align: right;\">   3.91051e-05</td><td style=\"text-align: right;\">    30</td><td style=\"text-align: right;\">        10.5799 </td><td style=\"text-align: right;\">         0.534771</td><td style=\"text-align: right;\">        0.740741</td><td style=\"text-align: right;\">        0.740741</td></tr>\n",
       "<tr><td>train_hesitation_2571a091</td><td>TERMINATED</td><td>172.18.58.174:3829 </td><td>filter2            </td><td style=\"text-align: right;\"> 0.370783</td><td style=\"text-align: right;\">    6.97014e-05</td><td style=\"text-align: right;\">                  13</td><td>CnnMFCC             </td><td style=\"text-align: right;\">   3.45781e-05</td><td style=\"text-align: right;\">    30</td><td style=\"text-align: right;\">        12.5901 </td><td style=\"text-align: right;\">         0.880423</td><td style=\"text-align: right;\">        0.481481</td><td style=\"text-align: right;\">        0.525424</td></tr>\n",
       "<tr><td>train_hesitation_ac3d3873</td><td>TERMINATED</td><td>172.18.58.174:4100 </td><td>filter2            </td><td style=\"text-align: right;\"> 0.154148</td><td style=\"text-align: right;\">    0.000138686</td><td style=\"text-align: right;\">                   3</td><td>CnnSpectrogram      </td><td style=\"text-align: right;\">   0.00341358 </td><td style=\"text-align: right;\">    30</td><td style=\"text-align: right;\">         7.26345</td><td style=\"text-align: right;\">         0.576321</td><td style=\"text-align: right;\">        0.694444</td><td style=\"text-align: right;\">        0.685714</td></tr>\n",
       "<tr><td>train_hesitation_259a3be7</td><td>TERMINATED</td><td>172.18.58.174:4338 </td><td>filter1            </td><td style=\"text-align: right;\"> 0.494179</td><td style=\"text-align: right;\">    0.000729582</td><td style=\"text-align: right;\">                   6</td><td>CnnMFCC_v2          </td><td style=\"text-align: right;\">   0.0072739  </td><td style=\"text-align: right;\">    10</td><td style=\"text-align: right;\">         8.51968</td><td style=\"text-align: right;\">         0.780653</td><td style=\"text-align: right;\">        0.549296</td><td style=\"text-align: right;\">        0.515152</td></tr>\n",
       "<tr><td>train_hesitation_ef267a4d</td><td>TERMINATED</td><td>172.18.58.174:4575 </td><td>filter1            </td><td style=\"text-align: right;\"> 0.330956</td><td style=\"text-align: right;\">    0.000152712</td><td style=\"text-align: right;\">                  18</td><td>CnnSpectrogram      </td><td style=\"text-align: right;\">   0.00294858 </td><td style=\"text-align: right;\">    10</td><td style=\"text-align: right;\">        11.8713 </td><td style=\"text-align: right;\">         0.785099</td><td style=\"text-align: right;\">        0.56338 </td><td style=\"text-align: right;\">        0.628743</td></tr>\n",
       "<tr><td>train_hesitation_23a7f036</td><td>TERMINATED</td><td>172.18.58.174:4847 </td><td>filter0            </td><td style=\"text-align: right;\"> 0.411885</td><td style=\"text-align: right;\">    0.00104341 </td><td style=\"text-align: right;\">                  15</td><td>CnnMFCC_v2          </td><td style=\"text-align: right;\">   5.1251e-05 </td><td style=\"text-align: right;\">    10</td><td style=\"text-align: right;\">         3.46769</td><td style=\"text-align: right;\">         0.939435</td><td style=\"text-align: right;\">        0.487179</td><td style=\"text-align: right;\">        0.534884</td></tr>\n",
       "<tr><td>train_hesitation_d5626717</td><td>TERMINATED</td><td>172.18.58.174:5050 </td><td>filter0            </td><td style=\"text-align: right;\"> 0.403542</td><td style=\"text-align: right;\">    0.00637233 </td><td style=\"text-align: right;\">                  19</td><td>CnnSpectrogram      </td><td style=\"text-align: right;\">   0.00147752 </td><td style=\"text-align: right;\">    30</td><td style=\"text-align: right;\">        10.4785 </td><td style=\"text-align: right;\">         0.734436</td><td style=\"text-align: right;\">        0.641026</td><td style=\"text-align: right;\">        0.575758</td></tr>\n",
       "<tr><td>train_hesitation_4a20cbe8</td><td>TERMINATED</td><td>172.18.58.174:5301 </td><td>filter1            </td><td style=\"text-align: right;\"> 0.112159</td><td style=\"text-align: right;\">    0.000782202</td><td style=\"text-align: right;\">                  16</td><td>CnnSpectrogram      </td><td style=\"text-align: right;\">   0.000107464</td><td style=\"text-align: right;\">    10</td><td style=\"text-align: right;\">        11.0608 </td><td style=\"text-align: right;\">         0.522218</td><td style=\"text-align: right;\">        0.693662</td><td style=\"text-align: right;\">        0.735562</td></tr>\n",
       "<tr><td>train_hesitation_d7eac50e</td><td>TERMINATED</td><td>172.18.58.174:5563 </td><td>filter2            </td><td style=\"text-align: right;\"> 0.39434 </td><td style=\"text-align: right;\">    0.00246526 </td><td style=\"text-align: right;\">                  12</td><td>CnnSpectrogram      </td><td style=\"text-align: right;\">   0.000432713</td><td style=\"text-align: right;\">    10</td><td style=\"text-align: right;\">         4.28729</td><td style=\"text-align: right;\">         0.608751</td><td style=\"text-align: right;\">        0.703704</td><td style=\"text-align: right;\">        0.636364</td></tr>\n",
       "<tr><td>train_hesitation_a744fdc3</td><td>TERMINATED</td><td>172.18.58.174:5771 </td><td>filter0            </td><td style=\"text-align: right;\"> 0.243024</td><td style=\"text-align: right;\">    0.00483372 </td><td style=\"text-align: right;\">                   4</td><td>CnnMFCC_v2          </td><td style=\"text-align: right;\">   0.00382408 </td><td style=\"text-align: right;\">    30</td><td style=\"text-align: right;\">         5.83757</td><td style=\"text-align: right;\">         0.520931</td><td style=\"text-align: right;\">        0.74359 </td><td style=\"text-align: right;\">        0.75    </td></tr>\n",
       "<tr><td>train_hesitation_27b9c0a4</td><td>TERMINATED</td><td>172.18.58.174:5993 </td><td>filter2            </td><td style=\"text-align: right;\"> 0.102939</td><td style=\"text-align: right;\">    1.04147e-05</td><td style=\"text-align: right;\">                   3</td><td>CnnMFCC             </td><td style=\"text-align: right;\">   1.01795e-05</td><td style=\"text-align: right;\">    10</td><td style=\"text-align: right;\">         2.86179</td><td style=\"text-align: right;\">         0.736343</td><td style=\"text-align: right;\">        0.62037 </td><td style=\"text-align: right;\">        0.616822</td></tr>\n",
       "<tr><td>train_hesitation_8578e9f8</td><td>TERMINATED</td><td>172.18.58.174:6195 </td><td>filter0            </td><td style=\"text-align: right;\"> 0.107381</td><td style=\"text-align: right;\">    1.00852e-05</td><td style=\"text-align: right;\">                   9</td><td>CnnSpectrogram      </td><td style=\"text-align: right;\">   0.00084779 </td><td style=\"text-align: right;\">    10</td><td style=\"text-align: right;\">         3.03281</td><td style=\"text-align: right;\">         0.881492</td><td style=\"text-align: right;\">        0.435897</td><td style=\"text-align: right;\">        0.5     </td></tr>\n",
       "<tr><td>train_hesitation_3701993b</td><td>TERMINATED</td><td>172.18.58.174:6398 </td><td>filter0            </td><td style=\"text-align: right;\"> 0.170938</td><td style=\"text-align: right;\">    6.84143e-05</td><td style=\"text-align: right;\">                   9</td><td>CnnSpectrogram      </td><td style=\"text-align: right;\">   0.000968552</td><td style=\"text-align: right;\">    30</td><td style=\"text-align: right;\">         7.71571</td><td style=\"text-align: right;\">         0.614959</td><td style=\"text-align: right;\">        0.564103</td><td style=\"text-align: right;\">        0.346154</td></tr>\n",
       "<tr><td>train_hesitation_df2e39b2</td><td>TERMINATED</td><td>172.18.58.174:6642 </td><td>filter0            </td><td style=\"text-align: right;\"> 0.191299</td><td style=\"text-align: right;\">    5.49121e-05</td><td style=\"text-align: right;\">                  19</td><td>CnnSpectrogram      </td><td style=\"text-align: right;\">   0.00139676 </td><td style=\"text-align: right;\">    10</td><td style=\"text-align: right;\">         3.8075 </td><td style=\"text-align: right;\">         0.803171</td><td style=\"text-align: right;\">        0.384615</td><td style=\"text-align: right;\">        0.25    </td></tr>\n",
       "<tr><td>train_hesitation_a3601612</td><td>TERMINATED</td><td>172.18.58.174:6848 </td><td>filter2            </td><td style=\"text-align: right;\"> 0.457251</td><td style=\"text-align: right;\">    0.00975917 </td><td style=\"text-align: right;\">                  19</td><td>CnnSpectrogram      </td><td style=\"text-align: right;\">   0.00159072 </td><td style=\"text-align: right;\">    10</td><td style=\"text-align: right;\">         5.08655</td><td style=\"text-align: right;\">         0.727365</td><td style=\"text-align: right;\">        0.666667</td><td style=\"text-align: right;\">        0.64    </td></tr>\n",
       "<tr><td>train_hesitation_ba14dd83</td><td>TERMINATED</td><td>172.18.58.174:7067 </td><td>filter2            </td><td style=\"text-align: right;\"> 0.45889 </td><td style=\"text-align: right;\">    0.00985219 </td><td style=\"text-align: right;\">                  15</td><td>CnnSpectrogram      </td><td style=\"text-align: right;\">   0.00777922 </td><td style=\"text-align: right;\">    10</td><td style=\"text-align: right;\">         4.698  </td><td style=\"text-align: right;\">         0.891672</td><td style=\"text-align: right;\">        0.62963 </td><td style=\"text-align: right;\">        0.642857</td></tr>\n",
       "<tr><td>train_hesitation_0db62293</td><td>TERMINATED</td><td>172.18.58.174:7285 </td><td>filter0            </td><td style=\"text-align: right;\"> 0.288363</td><td style=\"text-align: right;\">    0.000269983</td><td style=\"text-align: right;\">                  10</td><td>CnnSpectrogram      </td><td style=\"text-align: right;\">   0.00999876 </td><td style=\"text-align: right;\">    30</td><td style=\"text-align: right;\">         7.86952</td><td style=\"text-align: right;\">         0.554366</td><td style=\"text-align: right;\">        0.653846</td><td style=\"text-align: right;\">        0.597015</td></tr>\n",
       "<tr><td>train_hesitation_51c0969e</td><td>TERMINATED</td><td>172.18.58.174:7521 </td><td>filter0            </td><td style=\"text-align: right;\"> 0.291323</td><td style=\"text-align: right;\">    0.000280001</td><td style=\"text-align: right;\">                   9</td><td>CnnSpectrogram      </td><td style=\"text-align: right;\">   0.000400255</td><td style=\"text-align: right;\">    10</td><td style=\"text-align: right;\">         3.04388</td><td style=\"text-align: right;\">         0.632788</td><td style=\"text-align: right;\">        0.602564</td><td style=\"text-align: right;\">        0.617284</td></tr>\n",
       "<tr><td>train_hesitation_d47c86a6</td><td>TERMINATED</td><td>172.18.58.174:7725 </td><td>filter2            </td><td style=\"text-align: right;\"> 0.191092</td><td style=\"text-align: right;\">    0.000261998</td><td style=\"text-align: right;\">                   6</td><td>CnnMFCC             </td><td style=\"text-align: right;\">   0.000265513</td><td style=\"text-align: right;\">    30</td><td style=\"text-align: right;\">        10.0009 </td><td style=\"text-align: right;\">         0.550874</td><td style=\"text-align: right;\">        0.712963</td><td style=\"text-align: right;\">        0.75969 </td></tr>\n",
       "<tr><td>train_hesitation_4e654039</td><td>TERMINATED</td><td>172.18.58.174:7975 </td><td>filter2            </td><td style=\"text-align: right;\"> 0.180068</td><td style=\"text-align: right;\">    2.97332e-05</td><td style=\"text-align: right;\">                   5</td><td>CnnMFCC             </td><td style=\"text-align: right;\">   0.00303459 </td><td style=\"text-align: right;\">    30</td><td style=\"text-align: right;\">         8.97262</td><td style=\"text-align: right;\">         0.701991</td><td style=\"text-align: right;\">        0.564815</td><td style=\"text-align: right;\">        0.605042</td></tr>\n",
       "<tr><td>train_hesitation_3e9f9057</td><td>TERMINATED</td><td>172.18.58.174:8223 </td><td>filter2            </td><td style=\"text-align: right;\"> 0.150641</td><td style=\"text-align: right;\">    3.04815e-05</td><td style=\"text-align: right;\">                  17</td><td>CnnMFCC_v2          </td><td style=\"text-align: right;\">   0.00262896 </td><td style=\"text-align: right;\">    30</td><td style=\"text-align: right;\">        13.9479 </td><td style=\"text-align: right;\">         0.70373 </td><td style=\"text-align: right;\">        0.574074</td><td style=\"text-align: right;\">        0.629032</td></tr>\n",
       "<tr><td>train_hesitation_d823ac2d</td><td>TERMINATED</td><td>172.18.58.174:8503 </td><td>filter2            </td><td style=\"text-align: right;\"> 0.213674</td><td style=\"text-align: right;\">    0.000195685</td><td style=\"text-align: right;\">                   3</td><td>CnnMFCC             </td><td style=\"text-align: right;\">   0.000244631</td><td style=\"text-align: right;\">    10</td><td style=\"text-align: right;\">         2.8451 </td><td style=\"text-align: right;\">         0.742614</td><td style=\"text-align: right;\">        0.453704</td><td style=\"text-align: right;\">        0.495726</td></tr>\n",
       "<tr><td>train_hesitation_2fe83659</td><td>TERMINATED</td><td>172.18.58.174:8706 </td><td>filter2            </td><td style=\"text-align: right;\"> 0.142938</td><td style=\"text-align: right;\">    2.55906e-05</td><td style=\"text-align: right;\">                  17</td><td>CnnMFCC_v2          </td><td style=\"text-align: right;\">   0.00367495 </td><td style=\"text-align: right;\">    30</td><td style=\"text-align: right;\">        14.5579 </td><td style=\"text-align: right;\">         0.639827</td><td style=\"text-align: right;\">        0.62037 </td><td style=\"text-align: right;\">        0.666667</td></tr>\n",
       "<tr><td>train_hesitation_754741c9</td><td>TERMINATED</td><td>172.18.58.174:8996 </td><td>filter2            </td><td style=\"text-align: right;\"> 0.137901</td><td style=\"text-align: right;\">    2.14014e-05</td><td style=\"text-align: right;\">                  17</td><td>CnnMFCC_v2          </td><td style=\"text-align: right;\">   0.00424871 </td><td style=\"text-align: right;\">    10</td><td style=\"text-align: right;\">         5.05134</td><td style=\"text-align: right;\">         0.682287</td><td style=\"text-align: right;\">        0.555556</td><td style=\"text-align: right;\">        0.54717 </td></tr>\n",
       "<tr><td>train_hesitation_8faba02b</td><td>TERMINATED</td><td>172.18.58.174:9215 </td><td>filter2            </td><td style=\"text-align: right;\"> 0.146811</td><td style=\"text-align: right;\">    2.72308e-05</td><td style=\"text-align: right;\">                  14</td><td>CnnMFCC_v2          </td><td style=\"text-align: right;\">   0.0017722  </td><td style=\"text-align: right;\">    30</td><td style=\"text-align: right;\">        12.5562 </td><td style=\"text-align: right;\">         0.680363</td><td style=\"text-align: right;\">        0.564815</td><td style=\"text-align: right;\">        0.617886</td></tr>\n",
       "<tr><td>train_hesitation_f3cf5e90</td><td>TERMINATED</td><td>172.18.58.174:9497 </td><td>filter0            </td><td style=\"text-align: right;\"> 0.233166</td><td style=\"text-align: right;\">    0.000117892</td><td style=\"text-align: right;\">                  14</td><td>CnnMFCC_v2          </td><td style=\"text-align: right;\">   0.00200714 </td><td style=\"text-align: right;\">    10</td><td style=\"text-align: right;\">         3.36353</td><td style=\"text-align: right;\">         0.729927</td><td style=\"text-align: right;\">        0.525641</td><td style=\"text-align: right;\">        0.554217</td></tr>\n",
       "<tr><td>train_hesitation_045b8a3b</td><td>TERMINATED</td><td>172.18.58.174:9693 </td><td>filter0            </td><td style=\"text-align: right;\"> 0.238594</td><td style=\"text-align: right;\">    0.000111524</td><td style=\"text-align: right;\">                  17</td><td>CnnMFCC_v2          </td><td style=\"text-align: right;\">   0.000699055</td><td style=\"text-align: right;\">    10</td><td style=\"text-align: right;\">         3.60359</td><td style=\"text-align: right;\">         0.874945</td><td style=\"text-align: right;\">        0.487179</td><td style=\"text-align: right;\">        0.487179</td></tr>\n",
       "<tr><td>train_hesitation_6aa7f2cd</td><td>TERMINATED</td><td>172.18.58.174:9907 </td><td>filter2            </td><td style=\"text-align: right;\"> 0.261499</td><td style=\"text-align: right;\">    0.000573315</td><td style=\"text-align: right;\">                  17</td><td>CnnMFCC_v2          </td><td style=\"text-align: right;\">   0.000681162</td><td style=\"text-align: right;\">    30</td><td style=\"text-align: right;\">        14.6234 </td><td style=\"text-align: right;\">         0.798032</td><td style=\"text-align: right;\">        0.546296</td><td style=\"text-align: right;\">        0.566372</td></tr>\n",
       "<tr><td>train_hesitation_bf4748cc</td><td>TERMINATED</td><td>172.18.58.174:10200</td><td>filter1            </td><td style=\"text-align: right;\"> 0.273287</td><td style=\"text-align: right;\">    0.000484014</td><td style=\"text-align: right;\">                  19</td><td>CnnSpectrogram      </td><td style=\"text-align: right;\">   0.00562776 </td><td style=\"text-align: right;\">    10</td><td style=\"text-align: right;\">        12.1839 </td><td style=\"text-align: right;\">         0.668744</td><td style=\"text-align: right;\">        0.637324</td><td style=\"text-align: right;\">        0.633452</td></tr>\n",
       "<tr><td>train_hesitation_8c0c09c2</td><td>TERMINATED</td><td>172.18.58.174:10466</td><td>filter2            </td><td style=\"text-align: right;\"> 0.270561</td><td style=\"text-align: right;\">    0.00044001 </td><td style=\"text-align: right;\">                  12</td><td>CnnMFCC_v2          </td><td style=\"text-align: right;\">   0.000169356</td><td style=\"text-align: right;\">    30</td><td style=\"text-align: right;\">        12.317  </td><td style=\"text-align: right;\">         0.664383</td><td style=\"text-align: right;\">        0.574074</td><td style=\"text-align: right;\">        0.646154</td></tr>\n",
       "<tr><td>train_hesitation_07f92573</td><td>TERMINATED</td><td>172.18.58.174:10732</td><td>filter2            </td><td style=\"text-align: right;\"> 0.21298 </td><td style=\"text-align: right;\">    0.000447104</td><td style=\"text-align: right;\">                  11</td><td>CnnMFCC_v2          </td><td style=\"text-align: right;\">   0.00018878 </td><td style=\"text-align: right;\">    30</td><td style=\"text-align: right;\">        12.3528 </td><td style=\"text-align: right;\">         0.703291</td><td style=\"text-align: right;\">        0.490741</td><td style=\"text-align: right;\">        0.586466</td></tr>\n",
       "<tr><td>train_hesitation_c5eca896</td><td>TERMINATED</td><td>172.18.58.174:11000</td><td>filter2            </td><td style=\"text-align: right;\"> 0.211332</td><td style=\"text-align: right;\">    0.00171054 </td><td style=\"text-align: right;\">                  18</td><td>CnnMFCC_v2          </td><td style=\"text-align: right;\">   0.000567936</td><td style=\"text-align: right;\">    30</td><td style=\"text-align: right;\">        14.7009 </td><td style=\"text-align: right;\">         0.637557</td><td style=\"text-align: right;\">        0.638889</td><td style=\"text-align: right;\">        0.635514</td></tr>\n",
       "<tr><td>train_hesitation_7ff977fe</td><td>TERMINATED</td><td>172.18.58.174:11290</td><td>filter2            </td><td style=\"text-align: right;\"> 0.160688</td><td style=\"text-align: right;\">    0.00167789 </td><td style=\"text-align: right;\">                  11</td><td>CnnMFCC_v2          </td><td style=\"text-align: right;\">   0.000638774</td><td style=\"text-align: right;\">    10</td><td style=\"text-align: right;\">         4.16269</td><td style=\"text-align: right;\">         0.660703</td><td style=\"text-align: right;\">        0.583333</td><td style=\"text-align: right;\">        0.526316</td></tr>\n",
       "<tr><td>train_hesitation_6571db19</td><td>TERMINATED</td><td>172.18.58.174:11502</td><td>filter2            </td><td style=\"text-align: right;\"> 0.311369</td><td style=\"text-align: right;\">    0.0013505  </td><td style=\"text-align: right;\">                  11</td><td>CnnMFCC_v2          </td><td style=\"text-align: right;\">   0.000150236</td><td style=\"text-align: right;\">    30</td><td style=\"text-align: right;\">        12.2311 </td><td style=\"text-align: right;\">         0.62804 </td><td style=\"text-align: right;\">        0.601852</td><td style=\"text-align: right;\">        0.598131</td></tr>\n",
       "<tr><td>train_hesitation_47caa96f</td><td>TERMINATED</td><td>172.18.58.174:11770</td><td>filter2            </td><td style=\"text-align: right;\"> 0.323871</td><td style=\"text-align: right;\">    0.000458531</td><td style=\"text-align: right;\">                   7</td><td>CnnMFCC_v2          </td><td style=\"text-align: right;\">   0.000103209</td><td style=\"text-align: right;\">    10</td><td style=\"text-align: right;\">         3.74204</td><td style=\"text-align: right;\">         0.797699</td><td style=\"text-align: right;\">        0.509259</td><td style=\"text-align: right;\">        0.607407</td></tr>\n",
       "<tr><td>train_hesitation_6499c5ca</td><td>TERMINATED</td><td>172.18.58.174:11978</td><td>filter2            </td><td style=\"text-align: right;\"> 0.215098</td><td style=\"text-align: right;\">    0.0005266  </td><td style=\"text-align: right;\">                  14</td><td>CnnMFCC_v2          </td><td style=\"text-align: right;\">   0.00227735 </td><td style=\"text-align: right;\">    30</td><td style=\"text-align: right;\">        12.6512 </td><td style=\"text-align: right;\">         0.649848</td><td style=\"text-align: right;\">        0.564815</td><td style=\"text-align: right;\">        0.584071</td></tr>\n",
       "<tr><td>train_hesitation_18ebd6a5</td><td>TERMINATED</td><td>172.18.58.174:12254</td><td>filter2            </td><td style=\"text-align: right;\"> 0.216351</td><td style=\"text-align: right;\">    4.82389e-05</td><td style=\"text-align: right;\">                  14</td><td>CnnMFCC_v2          </td><td style=\"text-align: right;\">   2.41711e-05</td><td style=\"text-align: right;\">    10</td><td style=\"text-align: right;\">         4.41971</td><td style=\"text-align: right;\">         0.779774</td><td style=\"text-align: right;\">        0.453704</td><td style=\"text-align: right;\">        0.512397</td></tr>\n",
       "<tr><td>train_hesitation_36fc62f0</td><td>TERMINATED</td><td>172.18.58.174:12462</td><td>filter1            </td><td style=\"text-align: right;\"> 0.265123</td><td style=\"text-align: right;\">    0.000804233</td><td style=\"text-align: right;\">                  16</td><td>CnnMFCC_v2          </td><td style=\"text-align: right;\">   0.00122399 </td><td style=\"text-align: right;\">    30</td><td style=\"text-align: right;\">        35.6921 </td><td style=\"text-align: right;\">         0.697354</td><td style=\"text-align: right;\">        0.577465</td><td style=\"text-align: right;\">        0.545455</td></tr>\n",
       "<tr><td>train_hesitation_c5531af8</td><td>TERMINATED</td><td>172.18.58.174:12901</td><td>filter1            </td><td style=\"text-align: right;\"> 0.129541</td><td style=\"text-align: right;\">    0.00077341 </td><td style=\"text-align: right;\">                  16</td><td>CnnMFCC_v2          </td><td style=\"text-align: right;\">   0.00110915 </td><td style=\"text-align: right;\">    30</td><td style=\"text-align: right;\">        35.2433 </td><td style=\"text-align: right;\">         0.6204  </td><td style=\"text-align: right;\">        0.644366</td><td style=\"text-align: right;\">        0.662207</td></tr>\n",
       "<tr><td>train_hesitation_1aac3683</td><td>TERMINATED</td><td>172.18.58.174:13338</td><td>filter2            </td><td style=\"text-align: right;\"> 0.128879</td><td style=\"text-align: right;\">    0.000169835</td><td style=\"text-align: right;\">                   7</td><td>CnnMFCC_v2          </td><td style=\"text-align: right;\">   6.92989e-05</td><td style=\"text-align: right;\">    30</td><td style=\"text-align: right;\">        10.9547 </td><td style=\"text-align: right;\">         0.666691</td><td style=\"text-align: right;\">        0.546296</td><td style=\"text-align: right;\">        0.614173</td></tr>\n",
       "<tr><td>train_hesitation_cb862dba</td><td>TERMINATED</td><td>172.18.58.174:13593</td><td>filter1            </td><td style=\"text-align: right;\"> 0.130425</td><td style=\"text-align: right;\">    0.000167918</td><td style=\"text-align: right;\">                  16</td><td>CnnMFCC_v2          </td><td style=\"text-align: right;\">   0.00548498 </td><td style=\"text-align: right;\">    30</td><td style=\"text-align: right;\">        35.953  </td><td style=\"text-align: right;\">         0.692752</td><td style=\"text-align: right;\">        0.588028</td><td style=\"text-align: right;\">        0.592334</td></tr>\n",
       "<tr><td>train_hesitation_589b192b</td><td>TERMINATED</td><td>172.18.58.174:14033</td><td>filter1            </td><td style=\"text-align: right;\"> 0.160431</td><td style=\"text-align: right;\">    0.00247432 </td><td style=\"text-align: right;\">                  18</td><td>CnnMFCC_v2          </td><td style=\"text-align: right;\">   0.00249403 </td><td style=\"text-align: right;\">    10</td><td style=\"text-align: right;\">        11.8858 </td><td style=\"text-align: right;\">         0.69216 </td><td style=\"text-align: right;\">        0.556338</td><td style=\"text-align: right;\">        0.577181</td></tr>\n",
       "<tr><td>train_hesitation_9b74cc29</td><td>TERMINATED</td><td>172.18.58.174:14383</td><td>filter1            </td><td style=\"text-align: right;\"> 0.159303</td><td style=\"text-align: right;\">    0.00319285 </td><td style=\"text-align: right;\">                  18</td><td>CnnMFCC_v2          </td><td style=\"text-align: right;\">   0.000417479</td><td style=\"text-align: right;\">    10</td><td style=\"text-align: right;\">        12.0644 </td><td style=\"text-align: right;\">         0.70289 </td><td style=\"text-align: right;\">        0.552817</td><td style=\"text-align: right;\">        0.505837</td></tr>\n",
       "<tr><td>train_hesitation_fa1a61aa</td><td>TERMINATED</td><td>172.18.58.174:14648</td><td>filter1            </td><td style=\"text-align: right;\"> 0.357381</td><td style=\"text-align: right;\">    0.00109891 </td><td style=\"text-align: right;\">                  15</td><td>CnnMFCC_v2          </td><td style=\"text-align: right;\">   0.000419443</td><td style=\"text-align: right;\">    10</td><td style=\"text-align: right;\">        10.5603 </td><td style=\"text-align: right;\">         0.757633</td><td style=\"text-align: right;\">        0.521127</td><td style=\"text-align: right;\">        0.496296</td></tr>\n",
       "<tr><td>train_hesitation_e07c0a80</td><td>TERMINATED</td><td>172.18.58.174:14898</td><td>filter1            </td><td style=\"text-align: right;\"> 0.192521</td><td style=\"text-align: right;\">    0.00110249 </td><td style=\"text-align: right;\">                  15</td><td>CnnMFCC_v2          </td><td style=\"text-align: right;\">   0.00087073 </td><td style=\"text-align: right;\">    10</td><td style=\"text-align: right;\">        10.9006 </td><td style=\"text-align: right;\">         0.759886</td><td style=\"text-align: right;\">        0.521127</td><td style=\"text-align: right;\">        0.57764 </td></tr>\n",
       "<tr><td>train_hesitation_d88c0c51</td><td>TERMINATED</td><td>172.18.58.174:15161</td><td>filter2            </td><td style=\"text-align: right;\"> 0.119802</td><td style=\"text-align: right;\">    0.000799168</td><td style=\"text-align: right;\">                  13</td><td>CnnMFCC             </td><td style=\"text-align: right;\">   0.00102806 </td><td style=\"text-align: right;\">    30</td><td style=\"text-align: right;\">        13.3541 </td><td style=\"text-align: right;\">         0.578194</td><td style=\"text-align: right;\">        0.648148</td><td style=\"text-align: right;\">        0.627451</td></tr>\n",
       "<tr><td>train_hesitation_b5e2211a</td><td>TERMINATED</td><td>172.18.58.174:15436</td><td>filter2            </td><td style=\"text-align: right;\"> 0.120819</td><td style=\"text-align: right;\">    0.000616719</td><td style=\"text-align: right;\">                  13</td><td>CnnMFCC             </td><td style=\"text-align: right;\">   0.000980748</td><td style=\"text-align: right;\">    30</td><td style=\"text-align: right;\">        13.2129 </td><td style=\"text-align: right;\">         0.54719 </td><td style=\"text-align: right;\">        0.694444</td><td style=\"text-align: right;\">        0.685714</td></tr>\n",
       "<tr><td>train_hesitation_72c174a6</td><td>TERMINATED</td><td>172.18.58.174:15706</td><td>filter2            </td><td style=\"text-align: right;\"> 0.173397</td><td style=\"text-align: right;\">    0.000617499</td><td style=\"text-align: right;\">                   8</td><td>CnnMFCC_v2          </td><td style=\"text-align: right;\">   0.000186573</td><td style=\"text-align: right;\">    30</td><td style=\"text-align: right;\">        11.34   </td><td style=\"text-align: right;\">         0.695701</td><td style=\"text-align: right;\">        0.527778</td><td style=\"text-align: right;\">        0.564103</td></tr>\n",
       "<tr><td>train_hesitation_bd255072</td><td>TERMINATED</td><td>172.18.58.174:15968</td><td>filter2            </td><td style=\"text-align: right;\"> 0.182811</td><td style=\"text-align: right;\">    0.000386686</td><td style=\"text-align: right;\">                  17</td><td>CnnMFCC_v2          </td><td style=\"text-align: right;\">   0.000227025</td><td style=\"text-align: right;\">    30</td><td style=\"text-align: right;\">        14.6484 </td><td style=\"text-align: right;\">         0.712997</td><td style=\"text-align: right;\">        0.527778</td><td style=\"text-align: right;\">        0.523364</td></tr>\n",
       "</tbody>\n",
       "</table>\n",
       "  </div>\n",
       "</div>\n",
       "<style>\n",
       ".tuneStatus {\n",
       "  color: var(--jp-ui-font-color1);\n",
       "}\n",
       ".tuneStatus .systemInfo {\n",
       "  display: flex;\n",
       "  flex-direction: column;\n",
       "}\n",
       ".tuneStatus td {\n",
       "  white-space: nowrap;\n",
       "}\n",
       ".tuneStatus .trialStatus {\n",
       "  display: flex;\n",
       "  flex-direction: column;\n",
       "}\n",
       ".tuneStatus h3 {\n",
       "  font-weight: bold;\n",
       "}\n",
       ".tuneStatus .hDivider {\n",
       "  border-bottom-width: var(--jp-border-width);\n",
       "  border-bottom-color: var(--jp-border-color0);\n",
       "  border-bottom-style: solid;\n",
       "}\n",
       ".tuneStatus .vDivider {\n",
       "  border-left-width: var(--jp-border-width);\n",
       "  border-left-color: var(--jp-border-color0);\n",
       "  border-left-style: solid;\n",
       "  margin: 0.5em 1em 0.5em 1em;\n",
       "}\n",
       "</style>\n"
      ],
      "text/plain": [
       "<IPython.core.display.HTML object>"
      ]
     },
     "metadata": {},
     "output_type": "display_data"
    },
    {
     "name": "stderr",
     "output_type": "stream",
     "text": [
      "2024-09-03 13:22:28,862\tINFO tune.py:1009 -- Wrote the latest version of all result files and experiment state to '/home/glucas11/ray_results/train_hesitation_2024-09-03_13-10-46' in 0.0093s.\n",
      "2024-09-03 13:22:28,877\tINFO tune.py:1041 -- Total run time: 699.65 seconds (699.60 seconds for the tuning loop).\n"
     ]
    }
   ],
   "source": [
    "trainable_with_resources = tune.with_resources(train_hesitation, {\"cpu\": max_cpus, \"gpu\": max_gpus})\n",
    "\n",
    "tuner = tune.Tuner(\n",
    "\ttrainable_with_resources,\n",
    "\ttune_config=tune.TuneConfig(\n",
    "\t\tnum_samples=50,\n",
    "\t\tsearch_alg=optuna_search,\n",
    "\t\tscheduler=asas_scheduler\n",
    "\t),\n",
    "\tparam_space=config,\n",
    ")\n",
    "results = tuner.fit()"
   ]
  },
  {
   "cell_type": "code",
   "execution_count": 14,
   "metadata": {},
   "outputs": [],
   "source": [
    "results.get_dataframe().to_csv(\"raytune_results.csv\")"
   ]
  },
  {
   "cell_type": "code",
   "execution_count": 15,
   "metadata": {},
   "outputs": [
    {
     "data": {
      "text/plain": [
       "<Axes: title={'center': 'f1_score hist'}, ylabel='Frequency'>"
      ]
     },
     "execution_count": 15,
     "metadata": {},
     "output_type": "execute_result"
    },
    {
     "data": {
      "image/png": "[encoded data removed]",
      "text/plain": [
       "<Figure size 640x480 with 1 Axes>"
      ]
     },
     "metadata": {},
     "output_type": "display_data"
    }
   ],
   "source": [
    "df_results = results.get_dataframe()\n",
    "df_results['val_f1_score'].plot(kind='hist', title='f1_score hist')"
   ]
  },
  {
   "cell_type": "code",
   "execution_count": 16,
   "metadata": {},
   "outputs": [
    {
     "data": {
      "text/plain": [
       "<Axes: title={'center': 'val loss hist'}, ylabel='Frequency'>"
      ]
     },
     "execution_count": 16,
     "metadata": {},
     "output_type": "execute_result"
    },
    {
     "data": {
      "image/png": "[encoded data removed]",
      "text/plain": [
       "<Figure size 640x480 with 1 Axes>"
      ]
     },
     "metadata": {},
     "output_type": "display_data"
    }
   ],
   "source": [
    "df_results[df_results['val_mean_loss'] < 1]['val_mean_loss'].plot(kind='hist', title='val loss hist')"
   ]
  },
  {
   "cell_type": "code",
   "execution_count": 17,
   "metadata": {},
   "outputs": [
    {
     "data": {
      "text/plain": [
       "<Axes: title={'center': 'accuracy hist'}, ylabel='Frequency'>"
      ]
     },
     "execution_count": 17,
     "metadata": {},
     "output_type": "execute_result"
    },
    {
     "data": {
      "image/png": "[encoded data removed]",
      "text/plain": [
       "<Figure size 640x480 with 1 Axes>"
      ]
     },
     "metadata": {},
     "output_type": "display_data"
    }
   ],
   "source": [
    "df_results['val_accuracy'].plot(kind='hist', title='accuracy hist')"
   ]
  },
  {
   "cell_type": "code",
   "execution_count": 18,
   "metadata": {},
   "outputs": [
    {
     "data": {
      "text/plain": [
       "<Axes: title={'center': 'train loss hist'}, ylabel='Frequency'>"
      ]
     },
     "execution_count": 18,
     "metadata": {},
     "output_type": "execute_result"
    },
    {
     "data": {
      "image/png": "[encoded data removed]",
      "text/plain": [
       "<Figure size 640x480 with 1 Axes>"
      ]
     },
     "metadata": {},
     "output_type": "display_data"
    }
   ],
   "source": [
    "df_results[df_results['train_mean_loss'] < 1]['train_mean_loss'].plot(kind='hist', title='train loss hist')"
   ]
  },
  {
   "cell_type": "code",
   "execution_count": 19,
   "metadata": {},
   "outputs": [
    {
     "name": "stdout",
     "output_type": "stream",
     "text": [
      "{'max_seconds_length': 15, 'dropout': 0.19252144841596175, 'coraa_filter_func': 'filter1', 'learning_rate': 0.0011024850246353784, 'weight_decay': 0.0008707303314739007, 'model_architecture': 'CnnMFCC_v2'}\n",
      "---------- epoch: 1/30 ----------\n",
      "train: {'mean_loss': 0.9070492453045316, 'accuracy': 0.45774647887323944, 'f1_score': np.float64(0.45390070921985815)}\n",
      "val: {'mean_loss': 0.9369895855585734, 'accuracy': 0.45263157894736844, 'f1_score': np.float64(0.0)}\n",
      "---------- epoch: 2/30 ----------\n",
      "train: {'mean_loss': 0.8347700834274292, 'accuracy': 0.5246478873239436, 'f1_score': np.float64(0.466403162055336)}\n",
      "val: {'mean_loss': 0.710673451423645, 'accuracy': 0.5789473684210527, 'f1_score': np.float64(0.5918367346938775)}\n",
      "---------- epoch: 3/30 ----------\n",
      "train: {'mean_loss': 0.70952265130149, 'accuracy': 0.5845070422535211, 'f1_score': np.float64(0.48695652173913045)}\n",
      "val: {'mean_loss': 0.7312018871307373, 'accuracy': 0.5368421052631579, 'f1_score': np.float64(0.5111111111111111)}\n",
      "---------- epoch: 4/30 ----------\n",
      "train: {'mean_loss': 0.7304714785681831, 'accuracy': 0.5246478873239436, 'f1_score': np.float64(0.49814126394052044)}\n",
      "val: {'mean_loss': 0.7728724479675293, 'accuracy': 0.47368421052631576, 'f1_score': np.float64(0.358974358974359)}\n",
      "---------- epoch: 5/30 ----------\n",
      "train: {'mean_loss': 0.7218776345252991, 'accuracy': 0.5387323943661971, 'f1_score': np.float64(0.43776824034334766)}\n",
      "val: {'mean_loss': 0.7453931172688802, 'accuracy': 0.5368421052631579, 'f1_score': np.float64(0.5)}\n",
      "---------- epoch: 6/30 ----------\n",
      "train: {'mean_loss': 0.7105669644143846, 'accuracy': 0.5633802816901409, 'f1_score': np.float64(0.504)}\n",
      "val: {'mean_loss': 0.7330889105796814, 'accuracy': 0.5263157894736842, 'f1_score': np.float64(0.4827586206896552)}\n",
      "---------- epoch: 7/30 ----------\n",
      "train: {'mean_loss': 0.7272309594684176, 'accuracy': 0.5387323943661971, 'f1_score': np.float64(0.4177777777777778)}\n",
      "val: {'mean_loss': 0.739514688650767, 'accuracy': 0.5473684210526316, 'f1_score': np.float64(0.5274725274725275)}\n",
      "---------- epoch: 8/30 ----------\n",
      "train: {'mean_loss': 0.6485999491479661, 'accuracy': 0.6197183098591549, 'f1_score': np.float64(0.5609756097560976)}\n",
      "val: {'mean_loss': 0.7566079894701639, 'accuracy': 0.5052631578947369, 'f1_score': np.float64(0.43373493975903615)}\n",
      "---------- epoch: 9/30 ----------\n",
      "train: {'mean_loss': 0.6744744314087762, 'accuracy': 0.5211267605633803, 'f1_score': np.float64(0.4728682170542636)}\n",
      "val: {'mean_loss': 0.7708536982536316, 'accuracy': 0.5157894736842106, 'f1_score': np.float64(0.43902439024390244)}\n",
      "---------- epoch: 10/30 ----------\n",
      "train: {'mean_loss': 0.6921201017167833, 'accuracy': 0.573943661971831, 'f1_score': np.float64(0.4979253112033195)}\n",
      "val: {'mean_loss': 0.7687713702519735, 'accuracy': 0.4842105263157895, 'f1_score': np.float64(0.5242718446601942)}\n",
      "---------- epoch: 11/30 ----------\n",
      "train: {'mean_loss': 0.6953978074921502, 'accuracy': 0.5985915492957746, 'f1_score': np.float64(0.5365853658536586)}\n",
      "val: {'mean_loss': 0.7641362349192301, 'accuracy': 0.49473684210526314, 'f1_score': np.float64(0.5714285714285714)}\n",
      "---------- epoch: 12/30 ----------\n",
      "train: {'mean_loss': 0.6878107322586907, 'accuracy': 0.573943661971831, 'f1_score': np.float64(0.41545893719806765)}\n",
      "val: {'mean_loss': 0.7979329427083334, 'accuracy': 0.49473684210526314, 'f1_score': np.float64(0.4)}\n",
      "---------- epoch: 13/30 ----------\n",
      "train: {'mean_loss': 0.6953545212745667, 'accuracy': 0.5633802816901409, 'f1_score': np.float64(0.5407407407407407)}\n",
      "val: {'mean_loss': 0.7472749749819437, 'accuracy': 0.5368421052631579, 'f1_score': np.float64(0.5416666666666666)}\n",
      "---------- epoch: 14/30 ----------\n",
      "train: {'mean_loss': 0.6681509878900316, 'accuracy': 0.573943661971831, 'f1_score': np.float64(0.5363984674329502)}\n",
      "val: {'mean_loss': 0.7412548263867696, 'accuracy': 0.4842105263157895, 'f1_score': np.float64(0.5739130434782609)}\n",
      "---------- epoch: 15/30 ----------\n",
      "train: {'mean_loss': 0.7022949722078111, 'accuracy': 0.5669014084507042, 'f1_score': np.float64(0.49382716049382713)}\n",
      "val: {'mean_loss': 0.7595351537068685, 'accuracy': 0.5473684210526316, 'f1_score': np.float64(0.5567010309278351)}\n",
      "---------- epoch: 16/30 ----------\n",
      "train: {'mean_loss': 0.6400477621290419, 'accuracy': 0.6197183098591549, 'f1_score': np.float64(0.509090909090909)}\n",
      "val: {'mean_loss': 0.7487906416257223, 'accuracy': 0.4842105263157895, 'f1_score': np.float64(0.5333333333333333)}\n",
      "---------- epoch: 17/30 ----------\n",
      "train: {'mean_loss': 0.6508114867740207, 'accuracy': 0.5915492957746479, 'f1_score': np.float64(0.5206611570247934)}\n",
      "val: {'mean_loss': 0.759056011835734, 'accuracy': 0.5473684210526316, 'f1_score': np.float64(0.5567010309278351)}\n",
      "---------- epoch: 18/30 ----------\n",
      "train: {'mean_loss': 0.6590488420592414, 'accuracy': 0.573943661971831, 'f1_score': np.float64(0.48945147679324896)}\n",
      "val: {'mean_loss': 0.7580448587735494, 'accuracy': 0.5473684210526316, 'f1_score': np.float64(0.5473684210526316)}\n",
      "---------- epoch: 19/30 ----------\n",
      "train: {'mean_loss': 0.6519723931948344, 'accuracy': 0.5915492957746479, 'f1_score': np.float64(0.5606060606060606)}\n",
      "val: {'mean_loss': 0.7458060185114542, 'accuracy': 0.5368421052631579, 'f1_score': np.float64(0.5686274509803921)}\n",
      "---------- epoch: 20/30 ----------\n",
      "train: {'mean_loss': 0.6355118287934197, 'accuracy': 0.602112676056338, 'f1_score': np.float64(0.5890909090909091)}\n",
      "val: {'mean_loss': 0.7485264539718628, 'accuracy': 0.5157894736842106, 'f1_score': np.float64(0.54)}\n",
      "---------- epoch: 21/30 ----------\n",
      "train: {'mean_loss': 0.6556969351238675, 'accuracy': 0.647887323943662, 'f1_score': np.float64(0.576271186440678)}\n",
      "val: {'mean_loss': 0.7614995837211609, 'accuracy': 0.5368421052631579, 'f1_score': np.float64(0.5416666666666666)}\n",
      "---------- epoch: 22/30 ----------\n",
      "train: {'mean_loss': 0.6318745414415995, 'accuracy': 0.5985915492957746, 'f1_score': np.float64(0.544)}\n",
      "val: {'mean_loss': 0.7554047703742981, 'accuracy': 0.5263157894736842, 'f1_score': np.float64(0.5454545454545454)}\n",
      "---------- epoch: 23/30 ----------\n",
      "train: {'mean_loss': 0.6715272002749972, 'accuracy': 0.5880281690140845, 'f1_score': np.float64(0.5482625482625483)}\n",
      "val: {'mean_loss': 0.7600846687952677, 'accuracy': 0.5263157894736842, 'f1_score': np.float64(0.5544554455445545)}\n",
      "---------- epoch: 24/30 ----------\n",
      "train: {'mean_loss': 0.6322311361630758, 'accuracy': 0.6514084507042254, 'f1_score': np.float64(0.611764705882353)}\n",
      "val: {'mean_loss': 0.7726500233014425, 'accuracy': 0.5578947368421052, 'f1_score': np.float64(0.5714285714285714)}\n",
      "---------- epoch: 25/30 ----------\n",
      "train: {'mean_loss': 0.6212308075692918, 'accuracy': 0.647887323943662, 'f1_score': np.float64(0.5967741935483871)}\n",
      "val: {'mean_loss': 0.7745719154675802, 'accuracy': 0.5263157894736842, 'f1_score': np.float64(0.5161290322580645)}\n",
      "---------- epoch: 26/30 ----------\n",
      "train: {'mean_loss': 0.653321709897783, 'accuracy': 0.6091549295774648, 'f1_score': np.float64(0.5747126436781609)}\n",
      "val: {'mean_loss': 0.7544722755750021, 'accuracy': 0.5157894736842106, 'f1_score': np.float64(0.5740740740740741)}\n",
      "---------- epoch: 27/30 ----------\n",
      "train: {'mean_loss': 0.627161893579695, 'accuracy': 0.6232394366197183, 'f1_score': np.float64(0.6051660516605166)}\n",
      "val: {'mean_loss': 0.7613040010134379, 'accuracy': 0.49473684210526314, 'f1_score': np.float64(0.5471698113207547)}\n",
      "---------- epoch: 28/30 ----------\n",
      "train: {'mean_loss': 0.62919110722012, 'accuracy': 0.6338028169014085, 'f1_score': np.float64(0.5702479338842975)}\n",
      "val: {'mean_loss': 0.7672456304232279, 'accuracy': 0.5263157894736842, 'f1_score': np.float64(0.5631067961165048)}\n",
      "---------- epoch: 29/30 ----------\n",
      "train: {'mean_loss': 0.5944429503546821, 'accuracy': 0.6584507042253521, 'f1_score': np.float64(0.6104417670682731)}\n",
      "val: {'mean_loss': 0.7708922624588013, 'accuracy': 0.5263157894736842, 'f1_score': np.float64(0.5631067961165048)}\n",
      "---------- epoch: 30/30 ----------\n",
      "train: {'mean_loss': 0.6019313004281786, 'accuracy': 0.6830985915492958, 'f1_score': np.float64(0.6370967741935484)}\n",
      "val: {'mean_loss': 0.7626845240592957, 'accuracy': 0.5157894736842106, 'f1_score': np.float64(0.5576923076923077)}\n"
     ]
    }
   ],
   "source": [
    "best_result = results.get_best_result(\"val_f1_score\", mode=\"max\")\n",
    "best_config = best_result.metrics['config']\n",
    "print(best_config)\n",
    "best_train = train_hesitation(best_config, max_epochs=30, tunning=False)\n",
    "model = best_train[\"model\"]"
   ]
  },
  {
   "cell_type": "code",
   "execution_count": 20,
   "metadata": {},
   "outputs": [
    {
     "data": {
      "image/png": "[encoded data removed]",
      "text/plain": [
       "<Figure size 640x480 with 2 Axes>"
      ]
     },
     "metadata": {},
     "output_type": "display_data"
    },
    {
     "name": "stdout",
     "output_type": "stream",
     "text": [
      "\n",
      "\n",
      "              precision    recall  f1-score   support\n",
      "\n",
      "      ausent       0.55      0.41      0.47        41\n",
      "  hesitation       0.62      0.74      0.68        54\n",
      "\n",
      "    accuracy                           0.60        95\n",
      "   macro avg       0.59      0.58      0.58        95\n",
      "weighted avg       0.59      0.60      0.59        95\n",
      "\n",
      "\n",
      "accuracy: 0.6\n",
      "\n",
      "f1_score: 0.6779661016949152\n"
     ]
    }
   ],
   "source": [
    "model.eval()\n",
    "losses = []\n",
    "pred_np = []\n",
    "target_np = []\n",
    "with torch.no_grad():\n",
    "\tfor batch_idx, (data, target) in enumerate(best_train['test_dataloader']):\n",
    "\t\tdata, target = data.to(DEVICE), target.to(DEVICE)\n",
    "\t\tlogits = model(data)\n",
    "\t\tloss = cross_entropy(logits, target)\n",
    "\t\tlosses.append(loss.item())\n",
    "\t\t\n",
    "\t\tpreds = torch.max(logits, dim=1).indices\n",
    "\t\tpred_np.append(preds.detach().cpu().numpy())\n",
    "\t\ttarget_np.append(target.detach().cpu().numpy())\n",
    "\n",
    "pred_np = np.concatenate(pred_np)\n",
    "target_np = np.concatenate(target_np)\n",
    "\n",
    "classes_names = ['ausent', 'hesitation']\n",
    "\n",
    "cm = confusion_matrix(target_np, pred_np)\n",
    "disp = ConfusionMatrixDisplay(confusion_matrix=cm, display_labels=classes_names)\n",
    "disp.plot()\n",
    "plt.show()\n",
    "print(\"\\n\")\n",
    "print(classification_report(target_np, pred_np, target_names=classes_names))\n",
    "print(\"\\naccuracy:\", accuracy_score(target_np, pred_np))\n",
    "print(\"\\nf1_score:\", f1_score(target_np, pred_np))"
   ]
  }
 ],
 "metadata": {
  "kernelspec": {
   "display_name": ".venv",
   "language": "python",
   "name": "python3"
  },
  "language_info": {
   "codemirror_mode": {
    "name": "ipython",
    "version": 3
   },
   "file_extension": ".py",
   "mimetype": "text/x-python",
   "name": "python",
   "nbconvert_exporter": "python",
   "pygments_lexer": "ipython3",
   "version": "3.10.12"
  }
 },
 "nbformat": 4,
 "nbformat_minor": 2
}
