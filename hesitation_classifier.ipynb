{
 "cells": [
  {
   "cell_type": "code",
   "execution_count": 1,
   "metadata": {},
   "outputs": [],
   "source": [
    "from IPython.display import Audio\n",
    "import random\n",
    "import matplotlib.pyplot as plt\n",
    "import tempfile\n",
    "import numpy as np\n",
    "import os"
   ]
  },
  {
   "cell_type": "code",
   "execution_count": 2,
   "metadata": {},
   "outputs": [],
   "source": [
    "import torch\n",
    "from torch import optim\n",
    "from torch.nn.functional import cross_entropy\n",
    "import torchaudio\n",
    "import torchaudio.transforms as T\n",
    "from torch.optim.lr_scheduler import ReduceLROnPlateau"
   ]
  },
  {
   "cell_type": "code",
   "execution_count": 3,
   "metadata": {},
   "outputs": [],
   "source": [
    "from sklearn.metrics import confusion_matrix, ConfusionMatrixDisplay, accuracy_score, f1_score"
   ]
  },
  {
   "cell_type": "code",
   "execution_count": 4,
   "metadata": {},
   "outputs": [],
   "source": [
    "import ray\n",
    "from ray import tune\n",
    "from ray import train\n",
    "from ray.train import Checkpoint\n",
    "from ray.tune.search.optuna import OptunaSearch\n",
    "from ray.tune.schedulers import ASHAScheduler"
   ]
  },
  {
   "cell_type": "code",
   "execution_count": 5,
   "metadata": {},
   "outputs": [],
   "source": [
    "from src.custom_audio_dataset import CustomAudioDataset\n",
    "from src.models import CnnMFCC\n",
    "from src.utils import pad_collate_fn, plot_spectrogram, dataloader_from_filter\n",
    "from src.datasets import get_data_path\n",
    "from src import custom_layers\n",
    "from src.hesitation import coraa_filters"
   ]
  },
  {
   "cell_type": "code",
   "execution_count": 6,
   "metadata": {},
   "outputs": [
    {
     "data": {
      "text/plain": [
       "'cuda'"
      ]
     },
     "execution_count": 6,
     "metadata": {},
     "output_type": "execute_result"
    }
   ],
   "source": [
    "DEVICE = \"cuda\" if torch.cuda.is_available() else \"cpu\"\n",
    "\n",
    "MAX_EPOCH = 15\n",
    "\n",
    "TRAIN_SIZE = 0.6\n",
    "TEST_FROM_VAL_SIZE = 0.5\n",
    "\n",
    "SAMPLE_RATE = 16_000\n",
    "MAX_SECONDS_DURATION = 10\n",
    "\n",
    "MAX_FEATURES_IN = SAMPLE_RATE * MAX_SECONDS_DURATION\n",
    "\n",
    "DEVICE"
   ]
  },
  {
   "cell_type": "code",
   "execution_count": 7,
   "metadata": {},
   "outputs": [
    {
     "data": {
      "text/plain": [
       "('/home/glucas11/projects/repos/speech_feedback/temp_datasets/hesitation_dev/annotations.csv',\n",
       " '/home/glucas11/projects/repos/speech_feedback/temp_datasets/hesitation_dev')"
      ]
     },
     "execution_count": 7,
     "metadata": {},
     "output_type": "execute_result"
    }
   ],
   "source": [
    "annotations_file_path, data_dir_path = get_data_path(\"hesitation_dev\")\n",
    "annotations_file_path, data_dir_path"
   ]
  },
  {
   "cell_type": "code",
   "execution_count": 8,
   "metadata": {},
   "outputs": [],
   "source": [
    "train_data_transform = torch.nn.Sequential(\n",
    "    # custom_layers.RandomPitchShiftLayer(p=0.001, sample_rate=SAMPLE_RATE, min_steps=-5, max_steps=5), # too heavy\n",
    "    # custom_layers.ReverberationLayer(1,400), # not working yet\n",
    "    custom_layers.PadOrTruncateLayer(MAX_FEATURES_IN),\n",
    "    custom_layers.NoiseLayer(p=0.5, noise_factor=0.05),\n",
    ")\n",
    "data_transform = torch.nn.Sequential(\n",
    "    custom_layers.PadOrTruncateLayer(MAX_FEATURES_IN),\n",
    ")"
   ]
  },
  {
   "cell_type": "code",
   "execution_count": 9,
   "metadata": {},
   "outputs": [],
   "source": [
    "filters_func = {\n",
    "    \"filter0\": coraa_filters.filter0,\n",
    "    \"filter1\": coraa_filters.filter1,\n",
    "    \"filter2\": coraa_filters.filter2,\n",
    "}\n",
    "\n",
    "models_arch = {\n",
    "    \"CnnMFCC\": CnnMFCC,\n",
    "}"
   ]
  },
  {
   "cell_type": "code",
   "execution_count": 10,
   "metadata": {},
   "outputs": [],
   "source": [
    "def train_func(model, optimizer, dataloader):\n",
    "\tmodel.train()\n",
    "\tlosses = []\n",
    "\tpred_np = []\n",
    "\ttarget_np = []\n",
    "\tfor batch_idx, (data, target) in enumerate(dataloader):\n",
    "\t\toptimizer.zero_grad()\n",
    "\t\tdata, target = data.to(DEVICE), target.to(DEVICE)\n",
    "\t\tlogits = model(data)\n",
    "\t\tloss = cross_entropy(logits, target)\n",
    "\t\tlosses.append(loss.item())\n",
    "\t\tloss.backward()\n",
    "\t\toptimizer.step()\n",
    "\t\t\n",
    "\t\tpreds = torch.max(logits, dim=1).indices\n",
    "\t\tpred_np.append(preds.detach().cpu().numpy())\n",
    "\t\ttarget_np.append(target.detach().cpu().numpy())\n",
    "\t\n",
    "\tpred_np = np.concatenate(pred_np)\n",
    "\ttarget_np = np.concatenate(target_np)\n",
    "\n",
    "\treturn {\n",
    "\t\t\"mean_loss\": sum(losses) / len(losses),\n",
    "\t\t\"accuracy\": accuracy_score(target_np, pred_np),\n",
    "\t\t\"f1_score\": f1_score(target_np, pred_np),\n",
    "\t\t# \"confusion_matrix\": confusion_matrix(target_np, pred_np),\n",
    "\t}\n",
    "\n",
    "def validate_func(model, dataloader):\n",
    "\tmodel.eval()\n",
    "\t\n",
    "\tlosses = []\n",
    "\tpred_np = []\n",
    "\ttarget_np = []\n",
    "\twith torch.no_grad():\n",
    "\t\tfor batch_idx, (data, target) in enumerate(dataloader):\n",
    "\t\t\tdata, target = data.to(DEVICE), target.to(DEVICE)\n",
    "\t\t\tlogits = model(data)\n",
    "\t\t\tloss = cross_entropy(logits, target)\n",
    "\t\t\tlosses.append(loss.item())\n",
    "\t\t\t\n",
    "\t\t\tpreds = torch.max(logits, dim=1).indices\n",
    "\t\t\tpred_np.append(preds.detach().cpu().numpy())\n",
    "\t\t\ttarget_np.append(target.detach().cpu().numpy())\n",
    "\n",
    "\tpred_np = np.concatenate(pred_np)\n",
    "\ttarget_np = np.concatenate(target_np)\n",
    "\n",
    "\treturn {\n",
    "\t\t\"mean_loss\": sum(losses) / len(losses),\n",
    "\t\t\"accuracy\": accuracy_score(target_np, pred_np),\n",
    "\t\t\"f1_score\": f1_score(target_np, pred_np),\n",
    "\t}"
   ]
  },
  {
   "cell_type": "code",
   "execution_count": 11,
   "metadata": {},
   "outputs": [],
   "source": [
    "def train_hesitation(config:dict, max_epochs=30, tunning=True):\n",
    "\tfilter_func = filters_func[config[\"coraa_filter_func\"]]\n",
    "\ttrain_dataloader, val_dataloader, test_dataloader = dataloader_from_filter(\n",
    "\t\tannotations_file_path=annotations_file_path,\n",
    "\t\tdata_dir_path=data_dir_path,\n",
    "\t\tfilter=filter_func,\n",
    "\t\ttarget_column_name=\"has_hesitation\",\n",
    "\t\ttrain_data_transform=train_data_transform,\n",
    "\t\tdata_transform=data_transform,\n",
    "\t\ttrain_size=0.6,\n",
    "\t\ttest_from_val_size=0.5\n",
    "\t)\n",
    "\tmodel_architecture = models_arch[config['model_architecture']]\n",
    "\tmodel = model_architecture(n_classes=2, sample_rate=SAMPLE_RATE, max_audio_length_seconds=MAX_SECONDS_DURATION, dropout=config['dropout'])\n",
    "\tmodel = model.to(DEVICE)\n",
    "\n",
    "\toptimizer = optim.Adam(model.parameters(), lr=config['learning_rate'], weight_decay=config['weight_decay'])\n",
    "\n",
    "\t# early_stopping_patience = 5  # Number of epochs to wait before stopping\n",
    "\tscheduler = ReduceLROnPlateau(optimizer, mode='min', factor=0.7, patience=3)\n",
    "\tfor i in range(max_epochs):\n",
    "\t\ttrain_log = train_func(model, optimizer, train_dataloader)\n",
    "\t\tval_log = validate_func(model, val_dataloader)\n",
    "\t\t\n",
    "\t\tscheduler.step(val_log['mean_loss'])\n",
    "\n",
    "\t\tif tunning:\n",
    "\t\t\twith tempfile.TemporaryDirectory() as temp_checkpoint_dir:\n",
    "\t\t\t\tcheckpoint = None\n",
    "\t\t\t\tif (i + 1) % max_epochs == 0 and (val_log[\"mean_loss\"] < 0.4):\n",
    "\t\t\t\t\t# This saves the model to the trial directory\n",
    "\t\t\t\t\ttorch.save(\n",
    "\t\t\t\t\t\tmodel.state_dict(),\n",
    "\t\t\t\t\t\tos.path.join(temp_checkpoint_dir, \"model.pth\")\n",
    "\t\t\t\t\t)\n",
    "\t\t\t\t\tcheckpoint = Checkpoint.from_directory(temp_checkpoint_dir)\n",
    "\n",
    "\t\t\t\t# Send the current training result back to Tune\n",
    "\t\t\t\ttrain.report(\n",
    "\t\t\t\t\t{\n",
    "\t\t\t\t\t\t\"train_mean_loss\": train_log[\"mean_loss\"],\n",
    "\t\t\t\t\t\t\"train_accuracy\": train_log[\"accuracy\"],\n",
    "\t\t\t\t\t\t\"train_f1_score\": train_log[\"f1_score\"],\n",
    "\t\t\t\t\t\t\"val_mean_loss\": val_log[\"mean_loss\"],\n",
    "\t\t\t\t\t\t\"val_accuracy\": val_log[\"accuracy\"],\n",
    "\t\t\t\t\t\t\"val_f1_score\": val_log[\"f1_score\"],\n",
    "\t\t\t\t\t},\n",
    "\t\t\t\t\tcheckpoint=checkpoint\n",
    "\t\t\t\t)\n",
    "\t\telse:\n",
    "\t\t\tprint(\"-\"*10, f\"epoch: {i+1}/{max_epochs}\",\"-\"*10)\n",
    "\t\t\tprint(f\"train: {train_log}\\nval: {val_log}\")\n",
    "\tif not tunning:\n",
    "\t\treturn {\n",
    "\t\t\t\"model\": model,\n",
    "\t\t\t\"log\": {\n",
    "\t\t\t\t\"train\": train_log,\n",
    "\t\t\t\t\"val\": val_log,\n",
    "\t\t\t},\n",
    "\t\t}\n"
   ]
  },
  {
   "cell_type": "code",
   "execution_count": 12,
   "metadata": {},
   "outputs": [],
   "source": [
    "max_cpus = os.cpu_count()\n",
    "max_gpus = torch.cuda.device_count()\n",
    "max_cpus, max_gpus\n",
    "\n",
    "config = {\n",
    "    \"dropout\": tune.uniform(0.0, 1.0),\n",
    "    \"coraa_filter_func\": tune.choice(filters_func.keys()),\n",
    "    \"learning_rate\":  tune.loguniform(1e-5, 1e-0),\n",
    "\t\"weight_decay\": tune.loguniform(1e-6, 1e-2),\n",
    "    \"model_architecture\": tune.choice(models_arch.keys()),\n",
    "}\n",
    "\n",
    "metric = \"val_mean_loss\"\n",
    "mode = \"min\"\n",
    "\n",
    "optuna_search = OptunaSearch(\n",
    "\tmetric=metric,\n",
    "\tmode=mode,\n",
    "\t# points_to_evaluate = curr_best_params,\n",
    ")\n",
    "\n",
    "asas_scheduler = ASHAScheduler(\n",
    "\ttime_attr='training_iteration',\n",
    "\tmetric=metric,\n",
    "\tmode=mode,\n",
    "\tmax_t=30,\n",
    "\tgrace_period=1,\n",
    "\treduction_factor=3,\n",
    "\tbrackets=2\n",
    ")"
   ]
  },
  {
   "cell_type": "code",
   "execution_count": 13,
   "metadata": {},
   "outputs": [
    {
     "data": {
      "text/html": [
       "<div class=\"tuneStatus\">\n",
       "  <div style=\"display: flex;flex-direction: row\">\n",
       "    <div style=\"display: flex;flex-direction: column;\">\n",
       "      <h3>Tune Status</h3>\n",
       "      <table>\n",
       "<tbody>\n",
       "<tr><td>Current time:</td><td>2024-09-03 01:03:03</td></tr>\n",
       "<tr><td>Running for: </td><td>00:11:20.06        </td></tr>\n",
       "<tr><td>Memory:      </td><td>5.4/15.6 GiB       </td></tr>\n",
       "</tbody>\n",
       "</table>\n",
       "    </div>\n",
       "    <div class=\"vDivider\"></div>\n",
       "    <div class=\"systemInfo\">\n",
       "      <h3>System Info</h3>\n",
       "      Using AsyncHyperBand: num_stopped=100<br>Bracket: Iter 27.000: -0.6498674352963766 | Iter 9.000: -0.6610397232903374 | Iter 3.000: -0.6752294699350992 | Iter 1.000: -0.6895683109760284<br>Bracket: Iter 27.000: -0.6838821371396383 | Iter 9.000: -0.6851298113663992 | Iter 3.000: -0.6889363924662272<br>Logical resource usage: 16.0/16 CPUs, 1.0/1 GPUs (0.0/1.0 accelerator_type:G)\n",
       "    </div>\n",
       "    \n",
       "  </div>\n",
       "  <div class=\"hDivider\"></div>\n",
       "  <div class=\"trialStatus\">\n",
       "    <h3>Trial Status</h3>\n",
       "    <table>\n",
       "<thead>\n",
       "<tr><th>Trial name               </th><th>status    </th><th>loc                 </th><th>coraa_filter_func  </th><th style=\"text-align: right;\">  dropout</th><th style=\"text-align: right;\">  learning_rate</th><th>model_architecture  </th><th style=\"text-align: right;\">  weight_decay</th><th style=\"text-align: right;\">  iter</th><th style=\"text-align: right;\">  total time (s)</th><th style=\"text-align: right;\">  train_mean_loss</th><th style=\"text-align: right;\">  train_accuracy</th><th style=\"text-align: right;\">  train_f1_score</th></tr>\n",
       "</thead>\n",
       "<tbody>\n",
       "<tr><td>train_hesitation_92572b02</td><td>TERMINATED</td><td>172.18.58.174:92728 </td><td>filter1            </td><td style=\"text-align: right;\">0.467911 </td><td style=\"text-align: right;\">    0.00441725 </td><td>CnnMFCC             </td><td style=\"text-align: right;\">   0.00493649 </td><td style=\"text-align: right;\">    30</td><td style=\"text-align: right;\">       32.4974  </td><td style=\"text-align: right;\">         0.648476</td><td style=\"text-align: right;\">        0.619718</td><td style=\"text-align: right;\">        0.684211</td></tr>\n",
       "<tr><td>train_hesitation_741009a2</td><td>TERMINATED</td><td>172.18.58.174:93255 </td><td>filter1            </td><td style=\"text-align: right;\">0.0458555</td><td style=\"text-align: right;\">    0.011392   </td><td>CnnMFCC             </td><td style=\"text-align: right;\">   0.000804487</td><td style=\"text-align: right;\">     1</td><td style=\"text-align: right;\">        1.63008 </td><td style=\"text-align: right;\">         1.68008 </td><td style=\"text-align: right;\">        0.422535</td><td style=\"text-align: right;\">        0.405797</td></tr>\n",
       "<tr><td>train_hesitation_6ab172b7</td><td>TERMINATED</td><td>172.18.58.174:93450 </td><td>filter1            </td><td style=\"text-align: right;\">0.217036 </td><td style=\"text-align: right;\">    1.51189e-05</td><td>CnnMFCC             </td><td style=\"text-align: right;\">   7.10757e-06</td><td style=\"text-align: right;\">    30</td><td style=\"text-align: right;\">       33.7169  </td><td style=\"text-align: right;\">         0.798677</td><td style=\"text-align: right;\">        0.510563</td><td style=\"text-align: right;\">        0.413502</td></tr>\n",
       "<tr><td>train_hesitation_2164930a</td><td>TERMINATED</td><td>172.18.58.174:93875 </td><td>filter0            </td><td style=\"text-align: right;\">0.163252 </td><td style=\"text-align: right;\">    0.846643   </td><td>CnnMFCC             </td><td style=\"text-align: right;\">   1.59857e-06</td><td style=\"text-align: right;\">     3</td><td style=\"text-align: right;\">        1.55954 </td><td style=\"text-align: right;\">       269.605   </td><td style=\"text-align: right;\">        0.397436</td><td style=\"text-align: right;\">        0.175439</td></tr>\n",
       "<tr><td>train_hesitation_039cecf2</td><td>TERMINATED</td><td>172.18.58.174:94067 </td><td>filter1            </td><td style=\"text-align: right;\">0.350041 </td><td style=\"text-align: right;\">    0.194651   </td><td>CnnMFCC             </td><td style=\"text-align: right;\">   0.00193305 </td><td style=\"text-align: right;\">     1</td><td style=\"text-align: right;\">        1.61556 </td><td style=\"text-align: right;\">        11.5214  </td><td style=\"text-align: right;\">        0.521127</td><td style=\"text-align: right;\">        0.447154</td></tr>\n",
       "<tr><td>train_hesitation_f609f7d2</td><td>TERMINATED</td><td>172.18.58.174:94265 </td><td>filter1            </td><td style=\"text-align: right;\">0.238778 </td><td style=\"text-align: right;\">    0.00251653 </td><td>CnnMFCC             </td><td style=\"text-align: right;\">   4.31276e-06</td><td style=\"text-align: right;\">     9</td><td style=\"text-align: right;\">        8.66967 </td><td style=\"text-align: right;\">         0.68024 </td><td style=\"text-align: right;\">        0.602113</td><td style=\"text-align: right;\">        0.629508</td></tr>\n",
       "<tr><td>train_hesitation_f994b048</td><td>TERMINATED</td><td>172.18.58.174:94507 </td><td>filter1            </td><td style=\"text-align: right;\">0.932794 </td><td style=\"text-align: right;\">    0.00636446 </td><td>CnnMFCC             </td><td style=\"text-align: right;\">   0.000240795</td><td style=\"text-align: right;\">    30</td><td style=\"text-align: right;\">       32.8123  </td><td style=\"text-align: right;\">         2.68921 </td><td style=\"text-align: right;\">        0.464789</td><td style=\"text-align: right;\">        0.415385</td></tr>\n",
       "<tr><td>train_hesitation_46ae7bbc</td><td>TERMINATED</td><td>172.18.58.174:94928 </td><td>filter0            </td><td style=\"text-align: right;\">0.884405 </td><td style=\"text-align: right;\">    0.00136535 </td><td>CnnMFCC             </td><td style=\"text-align: right;\">   7.37463e-05</td><td style=\"text-align: right;\">     9</td><td style=\"text-align: right;\">        2.96476 </td><td style=\"text-align: right;\">         2.50078 </td><td style=\"text-align: right;\">        0.5     </td><td style=\"text-align: right;\">        0.450704</td></tr>\n",
       "<tr><td>train_hesitation_2d535f19</td><td>TERMINATED</td><td>172.18.58.174:95131 </td><td>filter0            </td><td style=\"text-align: right;\">0.675086 </td><td style=\"text-align: right;\">    0.0938631  </td><td>CnnMFCC             </td><td style=\"text-align: right;\">   4.43485e-05</td><td style=\"text-align: right;\">     1</td><td style=\"text-align: right;\">        0.977238</td><td style=\"text-align: right;\">         9.53712 </td><td style=\"text-align: right;\">        0.461538</td><td style=\"text-align: right;\">        0.432432</td></tr>\n",
       "<tr><td>train_hesitation_df238580</td><td>TERMINATED</td><td>172.18.58.174:95318 </td><td>filter0            </td><td style=\"text-align: right;\">0.863058 </td><td style=\"text-align: right;\">    0.394246   </td><td>CnnMFCC             </td><td style=\"text-align: right;\">   1.02877e-06</td><td style=\"text-align: right;\">     1</td><td style=\"text-align: right;\">        0.988312</td><td style=\"text-align: right;\">        60.2905  </td><td style=\"text-align: right;\">        0.461538</td><td style=\"text-align: right;\">        0.487805</td></tr>\n",
       "<tr><td>train_hesitation_30775394</td><td>TERMINATED</td><td>172.18.58.174:95500 </td><td>filter0            </td><td style=\"text-align: right;\">0.81949  </td><td style=\"text-align: right;\">    2.74227e-05</td><td>CnnMFCC             </td><td style=\"text-align: right;\">   0.00562912 </td><td style=\"text-align: right;\">    30</td><td style=\"text-align: right;\">        8.62124 </td><td style=\"text-align: right;\">         1.75369 </td><td style=\"text-align: right;\">        0.538462</td><td style=\"text-align: right;\">        0.55    </td></tr>\n",
       "<tr><td>train_hesitation_bd7b9b85</td><td>TERMINATED</td><td>172.18.58.174:95748 </td><td>filter2            </td><td style=\"text-align: right;\">0.694038 </td><td style=\"text-align: right;\">    0.000156448</td><td>CnnMFCC             </td><td style=\"text-align: right;\">   2.34935e-05</td><td style=\"text-align: right;\">     9</td><td style=\"text-align: right;\">        3.97427 </td><td style=\"text-align: right;\">         1.17816 </td><td style=\"text-align: right;\">        0.537037</td><td style=\"text-align: right;\">        0.583333</td></tr>\n",
       "<tr><td>train_hesitation_5f07c941</td><td>TERMINATED</td><td>172.18.58.174:95962 </td><td>filter2            </td><td style=\"text-align: right;\">0.719403 </td><td style=\"text-align: right;\">    4.03956e-05</td><td>CnnMFCC             </td><td style=\"text-align: right;\">   4.31256e-05</td><td style=\"text-align: right;\">     3</td><td style=\"text-align: right;\">        1.84309 </td><td style=\"text-align: right;\">         1.26307 </td><td style=\"text-align: right;\">        0.546296</td><td style=\"text-align: right;\">        0.566372</td></tr>\n",
       "<tr><td>train_hesitation_e5907c88</td><td>TERMINATED</td><td>172.18.58.174:96155 </td><td>filter0            </td><td style=\"text-align: right;\">0.745638 </td><td style=\"text-align: right;\">    0.000205987</td><td>CnnMFCC             </td><td style=\"text-align: right;\">   0.000197724</td><td style=\"text-align: right;\">    30</td><td style=\"text-align: right;\">        8.25102 </td><td style=\"text-align: right;\">         1.52587 </td><td style=\"text-align: right;\">        0.5     </td><td style=\"text-align: right;\">        0.561798</td></tr>\n",
       "<tr><td>train_hesitation_0cec00c4</td><td>TERMINATED</td><td>172.18.58.174:96397 </td><td>filter0            </td><td style=\"text-align: right;\">0.988511 </td><td style=\"text-align: right;\">    0.000373207</td><td>CnnMFCC             </td><td style=\"text-align: right;\">   0.000144723</td><td style=\"text-align: right;\">     9</td><td style=\"text-align: right;\">        2.9285  </td><td style=\"text-align: right;\">         1.6944  </td><td style=\"text-align: right;\">        0.487179</td><td style=\"text-align: right;\">        0.655172</td></tr>\n",
       "<tr><td>train_hesitation_6e5d1eae</td><td>TERMINATED</td><td>172.18.58.174:96596 </td><td>filter0            </td><td style=\"text-align: right;\">0.569823 </td><td style=\"text-align: right;\">    0.000241483</td><td>CnnMFCC             </td><td style=\"text-align: right;\">   0.00707962 </td><td style=\"text-align: right;\">     9</td><td style=\"text-align: right;\">        3.03094 </td><td style=\"text-align: right;\">         1.16865 </td><td style=\"text-align: right;\">        0.410256</td><td style=\"text-align: right;\">        0.323529</td></tr>\n",
       "<tr><td>train_hesitation_2347c079</td><td>TERMINATED</td><td>172.18.58.174:96796 </td><td>filter0            </td><td style=\"text-align: right;\">0.567585 </td><td style=\"text-align: right;\">    0.000168626</td><td>CnnMFCC             </td><td style=\"text-align: right;\">   0.00881532 </td><td style=\"text-align: right;\">     3</td><td style=\"text-align: right;\">        1.50234 </td><td style=\"text-align: right;\">         1.3198  </td><td style=\"text-align: right;\">        0.448718</td><td style=\"text-align: right;\">        0.441558</td></tr>\n",
       "<tr><td>train_hesitation_72ba9b5a</td><td>TERMINATED</td><td>172.18.58.174:96984 </td><td>filter0            </td><td style=\"text-align: right;\">0.801434 </td><td style=\"text-align: right;\">    1.17674e-05</td><td>CnnMFCC             </td><td style=\"text-align: right;\">   0.000394939</td><td style=\"text-align: right;\">    27</td><td style=\"text-align: right;\">        7.36609 </td><td style=\"text-align: right;\">         2.35101 </td><td style=\"text-align: right;\">        0.461538</td><td style=\"text-align: right;\">        0.416667</td></tr>\n",
       "<tr><td>train_hesitation_98901f00</td><td>TERMINATED</td><td>172.18.58.174:97238 </td><td>filter0            </td><td style=\"text-align: right;\">0.782497 </td><td style=\"text-align: right;\">    1.09092e-05</td><td>CnnMFCC             </td><td style=\"text-align: right;\">   0.000540755</td><td style=\"text-align: right;\">    30</td><td style=\"text-align: right;\">        8.50127 </td><td style=\"text-align: right;\">         2.28599 </td><td style=\"text-align: right;\">        0.435897</td><td style=\"text-align: right;\">        0.352941</td></tr>\n",
       "<tr><td>train_hesitation_901a37c9</td><td>TERMINATED</td><td>172.18.58.174:97482 </td><td>filter2            </td><td style=\"text-align: right;\">0.842409 </td><td style=\"text-align: right;\">    1.45555e-05</td><td>CnnMFCC             </td><td style=\"text-align: right;\">   0.00075004 </td><td style=\"text-align: right;\">    30</td><td style=\"text-align: right;\">       12.7186  </td><td style=\"text-align: right;\">         2.95418 </td><td style=\"text-align: right;\">        0.453704</td><td style=\"text-align: right;\">        0.365591</td></tr>\n",
       "<tr><td>train_hesitation_b0a02db8</td><td>TERMINATED</td><td>172.18.58.174:97751 </td><td>filter2            </td><td style=\"text-align: right;\">0.462427 </td><td style=\"text-align: right;\">    5.32283e-05</td><td>CnnMFCC             </td><td style=\"text-align: right;\">   0.000523353</td><td style=\"text-align: right;\">    30</td><td style=\"text-align: right;\">       12.9801  </td><td style=\"text-align: right;\">         0.871684</td><td style=\"text-align: right;\">        0.546296</td><td style=\"text-align: right;\">        0.505051</td></tr>\n",
       "<tr><td>train_hesitation_8346a161</td><td>TERMINATED</td><td>172.18.58.174:98028 </td><td>filter2            </td><td style=\"text-align: right;\">0.459634 </td><td style=\"text-align: right;\">    4.80088e-05</td><td>CnnMFCC             </td><td style=\"text-align: right;\">   0.00105608 </td><td style=\"text-align: right;\">     3</td><td style=\"text-align: right;\">        1.88588 </td><td style=\"text-align: right;\">         0.898808</td><td style=\"text-align: right;\">        0.509259</td><td style=\"text-align: right;\">        0.495238</td></tr>\n",
       "<tr><td>train_hesitation_603eb79d</td><td>TERMINATED</td><td>172.18.58.174:98220 </td><td>filter2            </td><td style=\"text-align: right;\">0.409242 </td><td style=\"text-align: right;\">    7.39665e-05</td><td>CnnMFCC             </td><td style=\"text-align: right;\">   0.000961258</td><td style=\"text-align: right;\">     3</td><td style=\"text-align: right;\">        1.82246 </td><td style=\"text-align: right;\">         1.05964 </td><td style=\"text-align: right;\">        0.435185</td><td style=\"text-align: right;\">        0.541353</td></tr>\n",
       "<tr><td>train_hesitation_7c600ce0</td><td>TERMINATED</td><td>172.18.58.174:98419 </td><td>filter2            </td><td style=\"text-align: right;\">0.624698 </td><td style=\"text-align: right;\">    7.01329e-05</td><td>CnnMFCC             </td><td style=\"text-align: right;\">   0.000530097</td><td style=\"text-align: right;\">    27</td><td style=\"text-align: right;\">       11.2804  </td><td style=\"text-align: right;\">         1.38819 </td><td style=\"text-align: right;\">        0.407407</td><td style=\"text-align: right;\">        0.384615</td></tr>\n",
       "<tr><td>train_hesitation_6d5c1c24</td><td>TERMINATED</td><td>172.18.58.174:98679 </td><td>filter2            </td><td style=\"text-align: right;\">0.585723 </td><td style=\"text-align: right;\">    0.000772038</td><td>CnnMFCC             </td><td style=\"text-align: right;\">   0.00207344 </td><td style=\"text-align: right;\">     9</td><td style=\"text-align: right;\">        3.89288 </td><td style=\"text-align: right;\">         1.02964 </td><td style=\"text-align: right;\">        0.592593</td><td style=\"text-align: right;\">        0.661538</td></tr>\n",
       "<tr><td>train_hesitation_4f4adffb</td><td>TERMINATED</td><td>172.18.58.174:98888 </td><td>filter2            </td><td style=\"text-align: right;\">0.543915 </td><td style=\"text-align: right;\">    1.01357e-05</td><td>CnnMFCC             </td><td style=\"text-align: right;\">   0.00198643 </td><td style=\"text-align: right;\">     1</td><td style=\"text-align: right;\">        1.13235 </td><td style=\"text-align: right;\">         1.03046 </td><td style=\"text-align: right;\">        0.555556</td><td style=\"text-align: right;\">        0.538462</td></tr>\n",
       "<tr><td>train_hesitation_df3d65fe</td><td>TERMINATED</td><td>172.18.58.174:99076 </td><td>filter2            </td><td style=\"text-align: right;\">0.334592 </td><td style=\"text-align: right;\">    1.05612e-05</td><td>CnnMFCC             </td><td style=\"text-align: right;\">   0.00205665 </td><td style=\"text-align: right;\">     1</td><td style=\"text-align: right;\">        1.12013 </td><td style=\"text-align: right;\">         0.77958 </td><td style=\"text-align: right;\">        0.611111</td><td style=\"text-align: right;\">        0.553191</td></tr>\n",
       "<tr><td>train_hesitation_07d5c7f8</td><td>TERMINATED</td><td>172.18.58.174:99257 </td><td>filter2            </td><td style=\"text-align: right;\">0.310843 </td><td style=\"text-align: right;\">    0.0229451  </td><td>CnnMFCC             </td><td style=\"text-align: right;\">   0.000300483</td><td style=\"text-align: right;\">     1</td><td style=\"text-align: right;\">        1.13213 </td><td style=\"text-align: right;\">         4.5459  </td><td style=\"text-align: right;\">        0.481481</td><td style=\"text-align: right;\">        0.525424</td></tr>\n",
       "<tr><td>train_hesitation_5d562464</td><td>TERMINATED</td><td>172.18.58.174:99445 </td><td>filter2            </td><td style=\"text-align: right;\">0.981727 </td><td style=\"text-align: right;\">    0.0319802  </td><td>CnnMFCC             </td><td style=\"text-align: right;\">   0.000285282</td><td style=\"text-align: right;\">     9</td><td style=\"text-align: right;\">        3.92516 </td><td style=\"text-align: right;\">         3.87459 </td><td style=\"text-align: right;\">        0.5     </td><td style=\"text-align: right;\">        0.649351</td></tr>\n",
       "<tr><td>train_hesitation_06eb5008</td><td>TERMINATED</td><td>172.18.58.174:99660 </td><td>filter2            </td><td style=\"text-align: right;\">0.777797 </td><td style=\"text-align: right;\">    2.80454e-05</td><td>CnnMFCC             </td><td style=\"text-align: right;\">   0.000118325</td><td style=\"text-align: right;\">     1</td><td style=\"text-align: right;\">        1.11046 </td><td style=\"text-align: right;\">         1.74359 </td><td style=\"text-align: right;\">        0.555556</td><td style=\"text-align: right;\">        0.489362</td></tr>\n",
       "<tr><td>train_hesitation_c7ea25f3</td><td>TERMINATED</td><td>172.18.58.174:99841 </td><td>filter2            </td><td style=\"text-align: right;\">0.481884 </td><td style=\"text-align: right;\">    2.8695e-05 </td><td>CnnMFCC             </td><td style=\"text-align: right;\">   0.00350526 </td><td style=\"text-align: right;\">     1</td><td style=\"text-align: right;\">        1.11318 </td><td style=\"text-align: right;\">         0.954768</td><td style=\"text-align: right;\">        0.509259</td><td style=\"text-align: right;\">        0.504673</td></tr>\n",
       "<tr><td>train_hesitation_5c0ce4b6</td><td>TERMINATED</td><td>172.18.58.174:100030</td><td>filter2            </td><td style=\"text-align: right;\">0.64264  </td><td style=\"text-align: right;\">    0.000624542</td><td>CnnMFCC             </td><td style=\"text-align: right;\">   0.00382244 </td><td style=\"text-align: right;\">    30</td><td style=\"text-align: right;\">       12.2238  </td><td style=\"text-align: right;\">         1.02333 </td><td style=\"text-align: right;\">        0.546296</td><td style=\"text-align: right;\">        0.625954</td></tr>\n",
       "<tr><td>train_hesitation_7817db26</td><td>TERMINATED</td><td>172.18.58.174:100301</td><td>filter2            </td><td style=\"text-align: right;\">0.637637 </td><td style=\"text-align: right;\">    8.05932e-05</td><td>CnnMFCC             </td><td style=\"text-align: right;\">   0.00057711 </td><td style=\"text-align: right;\">     1</td><td style=\"text-align: right;\">        1.1926  </td><td style=\"text-align: right;\">         1.1691  </td><td style=\"text-align: right;\">        0.564815</td><td style=\"text-align: right;\">        0.624   </td></tr>\n",
       "<tr><td>train_hesitation_37b2a2fc</td><td>TERMINATED</td><td>172.18.58.174:100489</td><td>filter2            </td><td style=\"text-align: right;\">0.678639 </td><td style=\"text-align: right;\">    0.000769069</td><td>CnnMFCC             </td><td style=\"text-align: right;\">   0.000579407</td><td style=\"text-align: right;\">    30</td><td style=\"text-align: right;\">       12.4424  </td><td style=\"text-align: right;\">         1.13789 </td><td style=\"text-align: right;\">        0.472222</td><td style=\"text-align: right;\">        0.446602</td></tr>\n",
       "<tr><td>train_hesitation_a31d5d98</td><td>TERMINATED</td><td>172.18.58.174:100755</td><td>filter2            </td><td style=\"text-align: right;\">0.871046 </td><td style=\"text-align: right;\">    0.000659865</td><td>CnnMFCC             </td><td style=\"text-align: right;\">   0.000958858</td><td style=\"text-align: right;\">     3</td><td style=\"text-align: right;\">        1.90143 </td><td style=\"text-align: right;\">         2.75075 </td><td style=\"text-align: right;\">        0.5     </td><td style=\"text-align: right;\">        0.46    </td></tr>\n",
       "<tr><td>train_hesitation_9eb11d47</td><td>TERMINATED</td><td>172.18.58.174:100953</td><td>filter2            </td><td style=\"text-align: right;\">0.053029 </td><td style=\"text-align: right;\">    0.00104714 </td><td>CnnMFCC             </td><td style=\"text-align: right;\">   0.000905106</td><td style=\"text-align: right;\">     3</td><td style=\"text-align: right;\">        1.7938  </td><td style=\"text-align: right;\">         0.729404</td><td style=\"text-align: right;\">        0.564815</td><td style=\"text-align: right;\">        0.338028</td></tr>\n",
       "<tr><td>train_hesitation_2e7ca3f1</td><td>TERMINATED</td><td>172.18.58.174:101145</td><td>filter2            </td><td style=\"text-align: right;\">0.508815 </td><td style=\"text-align: right;\">    0.00226382 </td><td>CnnMFCC             </td><td style=\"text-align: right;\">   0.00314749 </td><td style=\"text-align: right;\">     9</td><td style=\"text-align: right;\">        3.88889 </td><td style=\"text-align: right;\">         1.00152 </td><td style=\"text-align: right;\">        0.5     </td><td style=\"text-align: right;\">        0.413043</td></tr>\n",
       "<tr><td>train_hesitation_ba69bbf6</td><td>TERMINATED</td><td>172.18.58.174:101359</td><td>filter2            </td><td style=\"text-align: right;\">0.430641 </td><td style=\"text-align: right;\">    0.00273163 </td><td>CnnMFCC             </td><td style=\"text-align: right;\">   0.00342274 </td><td style=\"text-align: right;\">     1</td><td style=\"text-align: right;\">        1.13731 </td><td style=\"text-align: right;\">         1.0654  </td><td style=\"text-align: right;\">        0.462963</td><td style=\"text-align: right;\">        0.340909</td></tr>\n",
       "<tr><td>train_hesitation_06ae629c</td><td>TERMINATED</td><td>172.18.58.174:101547</td><td>filter1            </td><td style=\"text-align: right;\">0.392142 </td><td style=\"text-align: right;\">    0.00532318 </td><td>CnnMFCC             </td><td style=\"text-align: right;\">   0.00255634 </td><td style=\"text-align: right;\">     3</td><td style=\"text-align: right;\">        3.30905 </td><td style=\"text-align: right;\">         0.857085</td><td style=\"text-align: right;\">        0.507042</td><td style=\"text-align: right;\">        0.489051</td></tr>\n",
       "<tr><td>train_hesitation_6b5c09f6</td><td>TERMINATED</td><td>172.18.58.174:101751</td><td>filter1            </td><td style=\"text-align: right;\">0.633455 </td><td style=\"text-align: right;\">    0.00613692 </td><td>CnnMFCC             </td><td style=\"text-align: right;\">   0.00136322 </td><td style=\"text-align: right;\">     3</td><td style=\"text-align: right;\">        3.31759 </td><td style=\"text-align: right;\">         1.64942 </td><td style=\"text-align: right;\">        0.5     </td><td style=\"text-align: right;\">        0.532895</td></tr>\n",
       "<tr><td>train_hesitation_4bd6a37a</td><td>TERMINATED</td><td>172.18.58.174:101948</td><td>filter1            </td><td style=\"text-align: right;\">0.640772 </td><td style=\"text-align: right;\">    0.0003874  </td><td>CnnMFCC             </td><td style=\"text-align: right;\">   0.00134123 </td><td style=\"text-align: right;\">     1</td><td style=\"text-align: right;\">        1.59696 </td><td style=\"text-align: right;\">         1.23174 </td><td style=\"text-align: right;\">        0.507042</td><td style=\"text-align: right;\">        0.559748</td></tr>\n",
       "<tr><td>train_hesitation_c45bf743</td><td>TERMINATED</td><td>172.18.58.174:102147</td><td>filter2            </td><td style=\"text-align: right;\">0.278339 </td><td style=\"text-align: right;\">    0.000389566</td><td>CnnMFCC             </td><td style=\"text-align: right;\">   8.27735e-05</td><td style=\"text-align: right;\">     1</td><td style=\"text-align: right;\">        1.1072  </td><td style=\"text-align: right;\">         0.933715</td><td style=\"text-align: right;\">        0.5     </td><td style=\"text-align: right;\">        0.4375  </td></tr>\n",
       "<tr><td>train_hesitation_17a85757</td><td>TERMINATED</td><td>172.18.58.174:102348</td><td>filter2            </td><td style=\"text-align: right;\">0.750276 </td><td style=\"text-align: right;\">    1.93942e-05</td><td>CnnMFCC             </td><td style=\"text-align: right;\">   0.000652127</td><td style=\"text-align: right;\">     1</td><td style=\"text-align: right;\">        1.09421 </td><td style=\"text-align: right;\">         1.86945 </td><td style=\"text-align: right;\">        0.5     </td><td style=\"text-align: right;\">        0.386364</td></tr>\n",
       "<tr><td>train_hesitation_2f108dee</td><td>TERMINATED</td><td>172.18.58.174:102532</td><td>filter2            </td><td style=\"text-align: right;\">0.909936 </td><td style=\"text-align: right;\">    2.09008e-05</td><td>CnnMFCC             </td><td style=\"text-align: right;\">   0.000508533</td><td style=\"text-align: right;\">     1</td><td style=\"text-align: right;\">        1.11529 </td><td style=\"text-align: right;\">         4.02025 </td><td style=\"text-align: right;\">        0.490741</td><td style=\"text-align: right;\">        0.504505</td></tr>\n",
       "<tr><td>train_hesitation_493c81fa</td><td>TERMINATED</td><td>172.18.58.174:102720</td><td>filter2            </td><td style=\"text-align: right;\">0.919325 </td><td style=\"text-align: right;\">    0.000121662</td><td>CnnMFCC             </td><td style=\"text-align: right;\">   0.000530264</td><td style=\"text-align: right;\">     1</td><td style=\"text-align: right;\">        1.13098 </td><td style=\"text-align: right;\">         3.54724 </td><td style=\"text-align: right;\">        0.546296</td><td style=\"text-align: right;\">        0.550459</td></tr>\n",
       "<tr><td>train_hesitation_c167b4eb</td><td>TERMINATED</td><td>172.18.58.174:102908</td><td>filter0            </td><td style=\"text-align: right;\">0.848379 </td><td style=\"text-align: right;\">    0.000114184</td><td>CnnMFCC             </td><td style=\"text-align: right;\">   0.0001685  </td><td style=\"text-align: right;\">    27</td><td style=\"text-align: right;\">        7.36639 </td><td style=\"text-align: right;\">         1.84328 </td><td style=\"text-align: right;\">        0.487179</td><td style=\"text-align: right;\">        0.5     </td></tr>\n",
       "<tr><td>train_hesitation_010036f5</td><td>TERMINATED</td><td>172.18.58.174:103141</td><td>filter0            </td><td style=\"text-align: right;\">0.699158 </td><td style=\"text-align: right;\">    4.522e-05  </td><td>CnnMFCC             </td><td style=\"text-align: right;\">   0.00492937 </td><td style=\"text-align: right;\">     3</td><td style=\"text-align: right;\">        1.46067 </td><td style=\"text-align: right;\">         1.36615 </td><td style=\"text-align: right;\">        0.525641</td><td style=\"text-align: right;\">        0.519481</td></tr>\n",
       "<tr><td>train_hesitation_d9052fc9</td><td>TERMINATED</td><td>172.18.58.174:103330</td><td>filter0            </td><td style=\"text-align: right;\">0.672552 </td><td style=\"text-align: right;\">    4.85721e-05</td><td>CnnMFCC             </td><td style=\"text-align: right;\">   1.14997e-05</td><td style=\"text-align: right;\">     9</td><td style=\"text-align: right;\">        2.95442 </td><td style=\"text-align: right;\">         1.32724 </td><td style=\"text-align: right;\">        0.525641</td><td style=\"text-align: right;\">        0.493151</td></tr>\n",
       "<tr><td>train_hesitation_67ea8dd3</td><td>TERMINATED</td><td>172.18.58.174:103531</td><td>filter1            </td><td style=\"text-align: right;\">0.776318 </td><td style=\"text-align: right;\">    1.91119e-05</td><td>CnnMFCC             </td><td style=\"text-align: right;\">   1.83721e-05</td><td style=\"text-align: right;\">     3</td><td style=\"text-align: right;\">        3.31895 </td><td style=\"text-align: right;\">         1.77634 </td><td style=\"text-align: right;\">        0.492958</td><td style=\"text-align: right;\">        0.503448</td></tr>\n",
       "<tr><td>train_hesitation_a27ad40f</td><td>TERMINATED</td><td>172.18.58.174:103735</td><td>filter1            </td><td style=\"text-align: right;\">0.765558 </td><td style=\"text-align: right;\">    0.0112475  </td><td>CnnMFCC             </td><td style=\"text-align: right;\">   5.4928e-05 </td><td style=\"text-align: right;\">     1</td><td style=\"text-align: right;\">        1.58408 </td><td style=\"text-align: right;\">         2.34415 </td><td style=\"text-align: right;\">        0.496479</td><td style=\"text-align: right;\">        0.508591</td></tr>\n",
       "<tr><td>train_hesitation_6056b6ef</td><td>TERMINATED</td><td>172.18.58.174:103933</td><td>filter2            </td><td style=\"text-align: right;\">0.816164 </td><td style=\"text-align: right;\">    0.0173274  </td><td>CnnMFCC             </td><td style=\"text-align: right;\">   0.000354665</td><td style=\"text-align: right;\">     1</td><td style=\"text-align: right;\">        1.17667 </td><td style=\"text-align: right;\">         3.2953  </td><td style=\"text-align: right;\">        0.546296</td><td style=\"text-align: right;\">        0.473118</td></tr>\n",
       "<tr><td>train_hesitation_83f4a6f3</td><td>TERMINATED</td><td>172.18.58.174:104122</td><td>filter2            </td><td style=\"text-align: right;\">0.826076 </td><td style=\"text-align: right;\">    0.00186304 </td><td>CnnMFCC             </td><td style=\"text-align: right;\">   0.000315621</td><td style=\"text-align: right;\">     1</td><td style=\"text-align: right;\">        1.09341 </td><td style=\"text-align: right;\">         2.48848 </td><td style=\"text-align: right;\">        0.5     </td><td style=\"text-align: right;\">        0.46    </td></tr>\n",
       "<tr><td>train_hesitation_ccd6be75</td><td>TERMINATED</td><td>172.18.58.174:104297</td><td>filter2            </td><td style=\"text-align: right;\">0.612345 </td><td style=\"text-align: right;\">    8.86762e-05</td><td>CnnMFCC             </td><td style=\"text-align: right;\">   0.000239369</td><td style=\"text-align: right;\">     1</td><td style=\"text-align: right;\">        1.11945 </td><td style=\"text-align: right;\">         1.44603 </td><td style=\"text-align: right;\">        0.453704</td><td style=\"text-align: right;\">        0.337079</td></tr>\n",
       "<tr><td>train_hesitation_80b1f411</td><td>TERMINATED</td><td>172.18.58.174:104485</td><td>filter2            </td><td style=\"text-align: right;\">0.618005 </td><td style=\"text-align: right;\">    8.10841e-05</td><td>CnnMFCC             </td><td style=\"text-align: right;\">   0.000195424</td><td style=\"text-align: right;\">     1</td><td style=\"text-align: right;\">        1.10996 </td><td style=\"text-align: right;\">         1.41346 </td><td style=\"text-align: right;\">        0.407407</td><td style=\"text-align: right;\">        0.47541 </td></tr>\n",
       "<tr><td>train_hesitation_88e6c765</td><td>TERMINATED</td><td>172.18.58.174:104673</td><td>filter2            </td><td style=\"text-align: right;\">0.545513 </td><td style=\"text-align: right;\">    0.000252582</td><td>CnnMFCC             </td><td style=\"text-align: right;\">   0.00132226 </td><td style=\"text-align: right;\">     3</td><td style=\"text-align: right;\">        1.83698 </td><td style=\"text-align: right;\">         0.952849</td><td style=\"text-align: right;\">        0.509259</td><td style=\"text-align: right;\">        0.453608</td></tr>\n",
       "<tr><td>train_hesitation_a5bb7e98</td><td>TERMINATED</td><td>172.18.58.174:104871</td><td>filter2            </td><td style=\"text-align: right;\">0.546558 </td><td style=\"text-align: right;\">    1.49736e-05</td><td>CnnMFCC             </td><td style=\"text-align: right;\">   0.00137756 </td><td style=\"text-align: right;\">    27</td><td style=\"text-align: right;\">       11.1294  </td><td style=\"text-align: right;\">         0.914708</td><td style=\"text-align: right;\">        0.583333</td><td style=\"text-align: right;\">        0.680851</td></tr>\n",
       "<tr><td>train_hesitation_d6be7579</td><td>TERMINATED</td><td>172.18.58.174:105140</td><td>filter2            </td><td style=\"text-align: right;\">0.723433 </td><td style=\"text-align: right;\">    1.45167e-05</td><td>CnnMFCC             </td><td style=\"text-align: right;\">   0.00074434 </td><td style=\"text-align: right;\">     3</td><td style=\"text-align: right;\">        1.7853  </td><td style=\"text-align: right;\">         1.5666  </td><td style=\"text-align: right;\">        0.462963</td><td style=\"text-align: right;\">        0.369565</td></tr>\n",
       "<tr><td>train_hesitation_5b2061fa</td><td>TERMINATED</td><td>172.18.58.174:105332</td><td>filter0            </td><td style=\"text-align: right;\">0.730338 </td><td style=\"text-align: right;\">    1.58747e-05</td><td>CnnMFCC             </td><td style=\"text-align: right;\">   0.00543973 </td><td style=\"text-align: right;\">     3</td><td style=\"text-align: right;\">        1.48708 </td><td style=\"text-align: right;\">         1.82868 </td><td style=\"text-align: right;\">        0.525641</td><td style=\"text-align: right;\">        0.54321 </td></tr>\n",
       "<tr><td>train_hesitation_cc454d49</td><td>TERMINATED</td><td>172.18.58.174:105521</td><td>filter0            </td><td style=\"text-align: right;\">0.537104 </td><td style=\"text-align: right;\">    2.96863e-05</td><td>CnnMFCC             </td><td style=\"text-align: right;\">   0.00586368 </td><td style=\"text-align: right;\">     3</td><td style=\"text-align: right;\">        1.44337 </td><td style=\"text-align: right;\">         1.28942 </td><td style=\"text-align: right;\">        0.448718</td><td style=\"text-align: right;\">        0.455696</td></tr>\n",
       "<tr><td>train_hesitation_24d95dae</td><td>TERMINATED</td><td>172.18.58.174:105701</td><td>filter2            </td><td style=\"text-align: right;\">0.514022 </td><td style=\"text-align: right;\">    4.26149e-05</td><td>CnnMFCC             </td><td style=\"text-align: right;\">   0.00153495 </td><td style=\"text-align: right;\">     1</td><td style=\"text-align: right;\">        1.05842 </td><td style=\"text-align: right;\">         1.27693 </td><td style=\"text-align: right;\">        0.462963</td><td style=\"text-align: right;\">        0.171429</td></tr>\n",
       "<tr><td>train_hesitation_e82c3b17</td><td>TERMINATED</td><td>172.18.58.174:105890</td><td>filter2            </td><td style=\"text-align: right;\">0.664579 </td><td style=\"text-align: right;\">    0.000692027</td><td>CnnMFCC             </td><td style=\"text-align: right;\">   0.00141412 </td><td style=\"text-align: right;\">     1</td><td style=\"text-align: right;\">        1.08155 </td><td style=\"text-align: right;\">         1.1797  </td><td style=\"text-align: right;\">        0.5     </td><td style=\"text-align: right;\">        0.534483</td></tr>\n",
       "<tr><td>train_hesitation_8a984ece</td><td>TERMINATED</td><td>172.18.58.174:106078</td><td>filter2            </td><td style=\"text-align: right;\">0.465362 </td><td style=\"text-align: right;\">    0.00059329 </td><td>CnnMFCC             </td><td style=\"text-align: right;\">   0.00265916 </td><td style=\"text-align: right;\">     1</td><td style=\"text-align: right;\">        1.09431 </td><td style=\"text-align: right;\">         1.01597 </td><td style=\"text-align: right;\">        0.435185</td><td style=\"text-align: right;\">        0.371134</td></tr>\n",
       "<tr><td>train_hesitation_df702e3c</td><td>TERMINATED</td><td>172.18.58.174:106266</td><td>filter2            </td><td style=\"text-align: right;\">0.58983  </td><td style=\"text-align: right;\">    1.16068e-05</td><td>CnnMFCC             </td><td style=\"text-align: right;\">   0.000705992</td><td style=\"text-align: right;\">     3</td><td style=\"text-align: right;\">        1.8429  </td><td style=\"text-align: right;\">         1.12113 </td><td style=\"text-align: right;\">        0.546296</td><td style=\"text-align: right;\">        0.614173</td></tr>\n",
       "<tr><td>train_hesitation_924e3d58</td><td>TERMINATED</td><td>172.18.58.174:106459</td><td>filter2            </td><td style=\"text-align: right;\">0.589196 </td><td style=\"text-align: right;\">    1.42599e-05</td><td>CnnMFCC             </td><td style=\"text-align: right;\">   0.00066529 </td><td style=\"text-align: right;\">     1</td><td style=\"text-align: right;\">        1.09597 </td><td style=\"text-align: right;\">         1.49822 </td><td style=\"text-align: right;\">        0.472222</td><td style=\"text-align: right;\">        0.446602</td></tr>\n",
       "<tr><td>train_hesitation_068c9810</td><td>TERMINATED</td><td>172.18.58.174:106646</td><td>filter2            </td><td style=\"text-align: right;\">0.721549 </td><td style=\"text-align: right;\">    1.65392e-05</td><td>CnnMFCC             </td><td style=\"text-align: right;\">   2.47256e-06</td><td style=\"text-align: right;\">     3</td><td style=\"text-align: right;\">        1.82734 </td><td style=\"text-align: right;\">         1.18286 </td><td style=\"text-align: right;\">        0.574074</td><td style=\"text-align: right;\">        0.581818</td></tr>\n",
       "<tr><td>train_hesitation_c777a320</td><td>TERMINATED</td><td>172.18.58.174:106839</td><td>filter2            </td><td style=\"text-align: right;\">0.725762 </td><td style=\"text-align: right;\">    2.52279e-05</td><td>CnnMFCC             </td><td style=\"text-align: right;\">   0.000453199</td><td style=\"text-align: right;\">     1</td><td style=\"text-align: right;\">        1.10414 </td><td style=\"text-align: right;\">         1.56512 </td><td style=\"text-align: right;\">        0.564815</td><td style=\"text-align: right;\">        0.419753</td></tr>\n",
       "<tr><td>train_hesitation_ce369a92</td><td>TERMINATED</td><td>172.18.58.174:107020</td><td>filter2            </td><td style=\"text-align: right;\">0.70272  </td><td style=\"text-align: right;\">    3.10356e-05</td><td>CnnMFCC             </td><td style=\"text-align: right;\">   0.000436208</td><td style=\"text-align: right;\">     1</td><td style=\"text-align: right;\">        1.0815  </td><td style=\"text-align: right;\">         1.64079 </td><td style=\"text-align: right;\">        0.407407</td><td style=\"text-align: right;\">        0.372549</td></tr>\n",
       "<tr><td>train_hesitation_e6d38c53</td><td>TERMINATED</td><td>172.18.58.174:107209</td><td>filter2            </td><td style=\"text-align: right;\">0.700244 </td><td style=\"text-align: right;\">    0.00382034 </td><td>CnnMFCC             </td><td style=\"text-align: right;\">   0.000392223</td><td style=\"text-align: right;\">     1</td><td style=\"text-align: right;\">        1.08188 </td><td style=\"text-align: right;\">         1.66436 </td><td style=\"text-align: right;\">        0.462963</td><td style=\"text-align: right;\">        0.382979</td></tr>\n",
       "<tr><td>train_hesitation_41344bfa</td><td>TERMINATED</td><td>172.18.58.174:107397</td><td>filter0            </td><td style=\"text-align: right;\">0.952706 </td><td style=\"text-align: right;\">    0.0680005  </td><td>CnnMFCC             </td><td style=\"text-align: right;\">   0.000810044</td><td style=\"text-align: right;\">     1</td><td style=\"text-align: right;\">        1.17894 </td><td style=\"text-align: right;\">         9.29093 </td><td style=\"text-align: right;\">        0.512821</td><td style=\"text-align: right;\">        0.512821</td></tr>\n",
       "<tr><td>train_hesitation_0b01130a</td><td>TERMINATED</td><td>172.18.58.174:107594</td><td>filter0            </td><td style=\"text-align: right;\">0.374017 </td><td style=\"text-align: right;\">    5.529e-05  </td><td>CnnMFCC             </td><td style=\"text-align: right;\">   0.000835691</td><td style=\"text-align: right;\">     1</td><td style=\"text-align: right;\">        1.01942 </td><td style=\"text-align: right;\">         0.841712</td><td style=\"text-align: right;\">        0.525641</td><td style=\"text-align: right;\">        0.54321 </td></tr>\n",
       "<tr><td>train_hesitation_4fda0bcf</td><td>TERMINATED</td><td>172.18.58.174:107783</td><td>filter2            </td><td style=\"text-align: right;\">0.663046 </td><td style=\"text-align: right;\">    6.19334e-05</td><td>CnnMFCC             </td><td style=\"text-align: right;\">   0.00421742 </td><td style=\"text-align: right;\">     1</td><td style=\"text-align: right;\">        1.13203 </td><td style=\"text-align: right;\">         1.52817 </td><td style=\"text-align: right;\">        0.453704</td><td style=\"text-align: right;\">        0.569343</td></tr>\n",
       "<tr><td>train_hesitation_50176401</td><td>TERMINATED</td><td>172.18.58.174:107971</td><td>filter2            </td><td style=\"text-align: right;\">0.436559 </td><td style=\"text-align: right;\">    1.04861e-05</td><td>CnnMFCC             </td><td style=\"text-align: right;\">   0.00181501 </td><td style=\"text-align: right;\">    30</td><td style=\"text-align: right;\">       12.9893  </td><td style=\"text-align: right;\">         1.17877 </td><td style=\"text-align: right;\">        0.435185</td><td style=\"text-align: right;\">        0.357895</td></tr>\n",
       "<tr><td>train_hesitation_a90f46cb</td><td>TERMINATED</td><td>172.18.58.174:108241</td><td>filter2            </td><td style=\"text-align: right;\">0.788772 </td><td style=\"text-align: right;\">    1.48834e-05</td><td>CnnMFCC             </td><td style=\"text-align: right;\">   0.00105998 </td><td style=\"text-align: right;\">     1</td><td style=\"text-align: right;\">        1.13892 </td><td style=\"text-align: right;\">         1.86323 </td><td style=\"text-align: right;\">        0.490741</td><td style=\"text-align: right;\">        0.47619 </td></tr>\n",
       "<tr><td>train_hesitation_ba16c798</td><td>TERMINATED</td><td>172.18.58.174:108429</td><td>filter2            </td><td style=\"text-align: right;\">0.410521 </td><td style=\"text-align: right;\">    1.00032e-05</td><td>CnnMFCC             </td><td style=\"text-align: right;\">   0.00187816 </td><td style=\"text-align: right;\">     1</td><td style=\"text-align: right;\">        1.16384 </td><td style=\"text-align: right;\">         0.965274</td><td style=\"text-align: right;\">        0.518519</td><td style=\"text-align: right;\">        0.580645</td></tr>\n",
       "<tr><td>train_hesitation_ae584837</td><td>TERMINATED</td><td>172.18.58.174:108611</td><td>filter2            </td><td style=\"text-align: right;\">0.488215 </td><td style=\"text-align: right;\">    1.01386e-05</td><td>CnnMFCC             </td><td style=\"text-align: right;\">   0.00242545 </td><td style=\"text-align: right;\">     1</td><td style=\"text-align: right;\">        1.10218 </td><td style=\"text-align: right;\">         0.788194</td><td style=\"text-align: right;\">        0.546296</td><td style=\"text-align: right;\">        0.461538</td></tr>\n",
       "<tr><td>train_hesitation_1d034099</td><td>TERMINATED</td><td>172.18.58.174:108799</td><td>filter2            </td><td style=\"text-align: right;\">0.442173 </td><td style=\"text-align: right;\">    3.35973e-05</td><td>CnnMFCC             </td><td style=\"text-align: right;\">   0.00919897 </td><td style=\"text-align: right;\">     9</td><td style=\"text-align: right;\">        3.79415 </td><td style=\"text-align: right;\">         0.919036</td><td style=\"text-align: right;\">        0.490741</td><td style=\"text-align: right;\">        0.43299 </td></tr>\n",
       "<tr><td>train_hesitation_573a3ce6</td><td>TERMINATED</td><td>172.18.58.174:109013</td><td>filter2            </td><td style=\"text-align: right;\">0.14784  </td><td style=\"text-align: right;\">    3.64579e-05</td><td>CnnMFCC             </td><td style=\"text-align: right;\">   0.00750663 </td><td style=\"text-align: right;\">     1</td><td style=\"text-align: right;\">        1.12421 </td><td style=\"text-align: right;\">         0.747046</td><td style=\"text-align: right;\">        0.509259</td><td style=\"text-align: right;\">        0.607407</td></tr>\n",
       "<tr><td>train_hesitation_b768fbb3</td><td>TERMINATED</td><td>172.18.58.174:109198</td><td>filter2            </td><td style=\"text-align: right;\">0.84349  </td><td style=\"text-align: right;\">    0.00145261 </td><td>CnnMFCC             </td><td style=\"text-align: right;\">   0.00110656 </td><td style=\"text-align: right;\">     3</td><td style=\"text-align: right;\">        2.00999 </td><td style=\"text-align: right;\">         1.94124 </td><td style=\"text-align: right;\">        0.574074</td><td style=\"text-align: right;\">        0.581818</td></tr>\n",
       "<tr><td>train_hesitation_ac7b7163</td><td>TERMINATED</td><td>172.18.58.174:109409</td><td>filter2            </td><td style=\"text-align: right;\">0.891941 </td><td style=\"text-align: right;\">    0.00103999 </td><td>CnnMFCC             </td><td style=\"text-align: right;\">   0.00103472 </td><td style=\"text-align: right;\">     1</td><td style=\"text-align: right;\">        1.14476 </td><td style=\"text-align: right;\">         3.74818 </td><td style=\"text-align: right;\">        0.481481</td><td style=\"text-align: right;\">        0.461538</td></tr>\n",
       "<tr><td>train_hesitation_db31d85e</td><td>TERMINATED</td><td>172.18.58.174:109597</td><td>filter2            </td><td style=\"text-align: right;\">0.877027 </td><td style=\"text-align: right;\">    2.41727e-05</td><td>CnnMFCC             </td><td style=\"text-align: right;\">   0.000249129</td><td style=\"text-align: right;\">     1</td><td style=\"text-align: right;\">        1.12775 </td><td style=\"text-align: right;\">         2.17855 </td><td style=\"text-align: right;\">        0.537037</td><td style=\"text-align: right;\">        0.561404</td></tr>\n",
       "<tr><td>train_hesitation_4eb2d4ab</td><td>TERMINATED</td><td>172.18.58.174:109784</td><td>filter2            </td><td style=\"text-align: right;\">0.516605 </td><td style=\"text-align: right;\">    2.41117e-05</td><td>CnnMFCC             </td><td style=\"text-align: right;\">   0.00169195 </td><td style=\"text-align: right;\">     3</td><td style=\"text-align: right;\">        1.90205 </td><td style=\"text-align: right;\">         0.893164</td><td style=\"text-align: right;\">        0.527778</td><td style=\"text-align: right;\">        0.638298</td></tr>\n",
       "<tr><td>train_hesitation_b87053ea</td><td>TERMINATED</td><td>172.18.58.174:109977</td><td>filter1            </td><td style=\"text-align: right;\">0.356927 </td><td style=\"text-align: right;\">    1.40249e-05</td><td>CnnMFCC             </td><td style=\"text-align: right;\">   0.00378642 </td><td style=\"text-align: right;\">     3</td><td style=\"text-align: right;\">        3.45092 </td><td style=\"text-align: right;\">         0.903877</td><td style=\"text-align: right;\">        0.478873</td><td style=\"text-align: right;\">        0.350877</td></tr>\n",
       "<tr><td>train_hesitation_dc7b62e5</td><td>TERMINATED</td><td>172.18.58.174:110180</td><td>filter2            </td><td style=\"text-align: right;\">0.753993 </td><td style=\"text-align: right;\">    1.67651e-05</td><td>CnnMFCC             </td><td style=\"text-align: right;\">   7.97819e-06</td><td style=\"text-align: right;\">     1</td><td style=\"text-align: right;\">        1.26861 </td><td style=\"text-align: right;\">         1.61547 </td><td style=\"text-align: right;\">        0.527778</td><td style=\"text-align: right;\">        0.548673</td></tr>\n",
       "<tr><td>train_hesitation_55a4d4af</td><td>TERMINATED</td><td>172.18.58.174:110369</td><td>filter2            </td><td style=\"text-align: right;\">0.735003 </td><td style=\"text-align: right;\">    1.62842e-05</td><td>CnnMFCC             </td><td style=\"text-align: right;\">   3.53595e-06</td><td style=\"text-align: right;\">     3</td><td style=\"text-align: right;\">        2.0656  </td><td style=\"text-align: right;\">         1.61312 </td><td style=\"text-align: right;\">        0.425926</td><td style=\"text-align: right;\">        0.45614 </td></tr>\n",
       "<tr><td>train_hesitation_f0cc3f11</td><td>TERMINATED</td><td>172.18.58.174:110561</td><td>filter2            </td><td style=\"text-align: right;\">0.729444 </td><td style=\"text-align: right;\">    1.9964e-05 </td><td>CnnMFCC             </td><td style=\"text-align: right;\">   2.14925e-06</td><td style=\"text-align: right;\">     3</td><td style=\"text-align: right;\">        1.85336 </td><td style=\"text-align: right;\">         1.46497 </td><td style=\"text-align: right;\">        0.546296</td><td style=\"text-align: right;\">        0.309859</td></tr>\n",
       "<tr><td>train_hesitation_cbc24576</td><td>TERMINATED</td><td>172.18.58.174:110759</td><td>filter2            </td><td style=\"text-align: right;\">0.563345 </td><td style=\"text-align: right;\">    2.06526e-05</td><td>CnnMFCC             </td><td style=\"text-align: right;\">   0.000661923</td><td style=\"text-align: right;\">     9</td><td style=\"text-align: right;\">        3.91759 </td><td style=\"text-align: right;\">         1.07134 </td><td style=\"text-align: right;\">        0.583333</td><td style=\"text-align: right;\">        0.587156</td></tr>\n",
       "<tr><td>train_hesitation_229b6457</td><td>TERMINATED</td><td>172.18.58.174:110967</td><td>filter2            </td><td style=\"text-align: right;\">0.562098 </td><td style=\"text-align: right;\">    1.29478e-05</td><td>CnnMFCC             </td><td style=\"text-align: right;\">   0.000114135</td><td style=\"text-align: right;\">     1</td><td style=\"text-align: right;\">        1.18032 </td><td style=\"text-align: right;\">         0.939306</td><td style=\"text-align: right;\">        0.481481</td><td style=\"text-align: right;\">        0.508772</td></tr>\n",
       "<tr><td>train_hesitation_3675b2af</td><td>TERMINATED</td><td>172.18.58.174:111155</td><td>filter2            </td><td style=\"text-align: right;\">0.641427 </td><td style=\"text-align: right;\">    0.40098    </td><td>CnnMFCC             </td><td style=\"text-align: right;\">   1.37612e-06</td><td style=\"text-align: right;\">     1</td><td style=\"text-align: right;\">        1.16175 </td><td style=\"text-align: right;\">        32.9359  </td><td style=\"text-align: right;\">        0.583333</td><td style=\"text-align: right;\">        0.579439</td></tr>\n",
       "<tr><td>train_hesitation_dfe67e51</td><td>TERMINATED</td><td>172.18.58.174:111343</td><td>filter0            </td><td style=\"text-align: right;\">0.68125  </td><td style=\"text-align: right;\">    0.000179368</td><td>CnnMFCC             </td><td style=\"text-align: right;\">   1.12297e-06</td><td style=\"text-align: right;\">     1</td><td style=\"text-align: right;\">        1.04418 </td><td style=\"text-align: right;\">         1.03486 </td><td style=\"text-align: right;\">        0.564103</td><td style=\"text-align: right;\">        0.527778</td></tr>\n",
       "<tr><td>train_hesitation_858f945b</td><td>TERMINATED</td><td>172.18.58.174:111531</td><td>filter0            </td><td style=\"text-align: right;\">0.808598 </td><td style=\"text-align: right;\">    0.000196042</td><td>CnnMFCC             </td><td style=\"text-align: right;\">   0.00287442 </td><td style=\"text-align: right;\">     3</td><td style=\"text-align: right;\">        1.57796 </td><td style=\"text-align: right;\">         1.73533 </td><td style=\"text-align: right;\">        0.512821</td><td style=\"text-align: right;\">        0.5     </td></tr>\n",
       "<tr><td>train_hesitation_216c18ab</td><td>TERMINATED</td><td>172.18.58.174:111723</td><td>filter2            </td><td style=\"text-align: right;\">0.817557 </td><td style=\"text-align: right;\">    0.000286868</td><td>CnnMFCC             </td><td style=\"text-align: right;\">   0.00295431 </td><td style=\"text-align: right;\">     1</td><td style=\"text-align: right;\">        1.18252 </td><td style=\"text-align: right;\">         1.76257 </td><td style=\"text-align: right;\">        0.527778</td><td style=\"text-align: right;\">        0.53211 </td></tr>\n",
       "<tr><td>train_hesitation_0715c594</td><td>TERMINATED</td><td>172.18.58.174:111912</td><td>filter2            </td><td style=\"text-align: right;\">0.448121 </td><td style=\"text-align: right;\">    0.000124226</td><td>CnnMFCC             </td><td style=\"text-align: right;\">   3.55355e-05</td><td style=\"text-align: right;\">     1</td><td style=\"text-align: right;\">        1.30604 </td><td style=\"text-align: right;\">         1.19128 </td><td style=\"text-align: right;\">        0.435185</td><td style=\"text-align: right;\">        0.246914</td></tr>\n",
       "<tr><td>train_hesitation_68b77fc7</td><td>TERMINATED</td><td>172.18.58.174:112093</td><td>filter2            </td><td style=\"text-align: right;\">0.607427 </td><td style=\"text-align: right;\">    0.000139964</td><td>CnnMFCC             </td><td style=\"text-align: right;\">   0.000500831</td><td style=\"text-align: right;\">     1</td><td style=\"text-align: right;\">        1.19121 </td><td style=\"text-align: right;\">         1.55673 </td><td style=\"text-align: right;\">        0.324074</td><td style=\"text-align: right;\">        0.179775</td></tr>\n",
       "<tr><td>train_hesitation_80ba868f</td><td>TERMINATED</td><td>172.18.58.174:112281</td><td>filter2            </td><td style=\"text-align: right;\">0.615487 </td><td style=\"text-align: right;\">    5.75471e-05</td><td>CnnMFCC             </td><td style=\"text-align: right;\">   0.000553839</td><td style=\"text-align: right;\">     1</td><td style=\"text-align: right;\">        1.14372 </td><td style=\"text-align: right;\">         0.816749</td><td style=\"text-align: right;\">        0.611111</td><td style=\"text-align: right;\">        0.618182</td></tr>\n",
       "<tr><td>train_hesitation_224d831b</td><td>TERMINATED</td><td>172.18.58.174:112469</td><td>filter2            </td><td style=\"text-align: right;\">0.649053 </td><td style=\"text-align: right;\">    4.13704e-05</td><td>CnnMFCC             </td><td style=\"text-align: right;\">   0.00222372 </td><td style=\"text-align: right;\">     3</td><td style=\"text-align: right;\">        1.84419 </td><td style=\"text-align: right;\">         0.998001</td><td style=\"text-align: right;\">        0.611111</td><td style=\"text-align: right;\">        0.5     </td></tr>\n",
       "<tr><td>train_hesitation_331c5ccd</td><td>TERMINATED</td><td>172.18.58.174:112667</td><td>filter2            </td><td style=\"text-align: right;\">0.648566 </td><td style=\"text-align: right;\">    3.94083e-05</td><td>CnnMFCC             </td><td style=\"text-align: right;\">   0.00114292 </td><td style=\"text-align: right;\">     9</td><td style=\"text-align: right;\">        3.88961 </td><td style=\"text-align: right;\">         1.21004 </td><td style=\"text-align: right;\">        0.555556</td><td style=\"text-align: right;\">        0.563636</td></tr>\n",
       "<tr><td>train_hesitation_9ce8df7d</td><td>TERMINATED</td><td>172.18.58.174:112875</td><td>filter2            </td><td style=\"text-align: right;\">0.708056 </td><td style=\"text-align: right;\">    8.86997e-05</td><td>CnnMFCC             </td><td style=\"text-align: right;\">   0.000364795</td><td style=\"text-align: right;\">     1</td><td style=\"text-align: right;\">        1.17679 </td><td style=\"text-align: right;\">         1.70132 </td><td style=\"text-align: right;\">        0.518519</td><td style=\"text-align: right;\">        0.566667</td></tr>\n",
       "<tr><td>train_hesitation_d49241e7</td><td>TERMINATED</td><td>172.18.58.174:113063</td><td>filter1            </td><td style=\"text-align: right;\">0.710128 </td><td style=\"text-align: right;\">    1.31511e-05</td><td>CnnMFCC             </td><td style=\"text-align: right;\">   0.000323103</td><td style=\"text-align: right;\">     1</td><td style=\"text-align: right;\">        1.65764 </td><td style=\"text-align: right;\">         1.64423 </td><td style=\"text-align: right;\">        0.475352</td><td style=\"text-align: right;\">        0.473498</td></tr>\n",
       "<tr><td>train_hesitation_e79cc2f2</td><td>TERMINATED</td><td>172.18.58.174:113255</td><td>filter1            </td><td style=\"text-align: right;\">0.768314 </td><td style=\"text-align: right;\">    0.000533412</td><td>CnnMFCC             </td><td style=\"text-align: right;\">   0.000867286</td><td style=\"text-align: right;\">     3</td><td style=\"text-align: right;\">        3.43883 </td><td style=\"text-align: right;\">         1.5724  </td><td style=\"text-align: right;\">        0.507042</td><td style=\"text-align: right;\">        0.489051</td></tr>\n",
       "<tr><td>train_hesitation_82cb9147</td><td>TERMINATED</td><td>172.18.58.174:113459</td><td>filter2            </td><td style=\"text-align: right;\">0.778916 </td><td style=\"text-align: right;\">    2.40519e-05</td><td>CnnMFCC             </td><td style=\"text-align: right;\">   0.000700202</td><td style=\"text-align: right;\">     9</td><td style=\"text-align: right;\">        3.90634 </td><td style=\"text-align: right;\">         1.68967 </td><td style=\"text-align: right;\">        0.527778</td><td style=\"text-align: right;\">        0.571429</td></tr>\n",
       "</tbody>\n",
       "</table>\n",
       "  </div>\n",
       "</div>\n",
       "<style>\n",
       ".tuneStatus {\n",
       "  color: var(--jp-ui-font-color1);\n",
       "}\n",
       ".tuneStatus .systemInfo {\n",
       "  display: flex;\n",
       "  flex-direction: column;\n",
       "}\n",
       ".tuneStatus td {\n",
       "  white-space: nowrap;\n",
       "}\n",
       ".tuneStatus .trialStatus {\n",
       "  display: flex;\n",
       "  flex-direction: column;\n",
       "}\n",
       ".tuneStatus h3 {\n",
       "  font-weight: bold;\n",
       "}\n",
       ".tuneStatus .hDivider {\n",
       "  border-bottom-width: var(--jp-border-width);\n",
       "  border-bottom-color: var(--jp-border-color0);\n",
       "  border-bottom-style: solid;\n",
       "}\n",
       ".tuneStatus .vDivider {\n",
       "  border-left-width: var(--jp-border-width);\n",
       "  border-left-color: var(--jp-border-color0);\n",
       "  border-left-style: solid;\n",
       "  margin: 0.5em 1em 0.5em 1em;\n",
       "}\n",
       "</style>\n"
      ],
      "text/plain": [
       "<IPython.core.display.HTML object>"
      ]
     },
     "metadata": {},
     "output_type": "display_data"
    },
    {
     "name": "stderr",
     "output_type": "stream",
     "text": [
      "2024-09-03 01:03:03,120\tINFO tune.py:1009 -- Wrote the latest version of all result files and experiment state to '/home/glucas11/ray_results/train_hesitation_2024-09-03_00-51-40' in 0.0144s.\n",
      "2024-09-03 01:03:03,148\tINFO tune.py:1041 -- Total run time: 680.11 seconds (680.05 seconds for the tuning loop).\n"
     ]
    }
   ],
   "source": [
    "trainable_with_resources = tune.with_resources(train_hesitation, {\"cpu\": max_cpus, \"gpu\": max_gpus})\n",
    "\n",
    "tuner = tune.Tuner(\n",
    "\ttrainable_with_resources,\n",
    "\ttune_config=tune.TuneConfig(\n",
    "\t\tnum_samples=100,\n",
    "\t\tsearch_alg=optuna_search,\n",
    "\t\tscheduler=asas_scheduler\n",
    "\t),\n",
    "\tparam_space=config,\n",
    ")\n",
    "results = tuner.fit()"
   ]
  },
  {
   "cell_type": "code",
   "execution_count": 14,
   "metadata": {},
   "outputs": [],
   "source": [
    "results.get_dataframe().to_csv(\"raytune_results.csv\")"
   ]
  },
  {
   "cell_type": "code",
   "execution_count": 15,
   "metadata": {},
   "outputs": [
    {
     "data": {
      "image/png": "[encoded data removed]",
      "text/plain": [
       "<Figure size 640x480 with 1 Axes>"
      ]
     },
     "metadata": {},
     "output_type": "display_data"
    }
   ],
   "source": [
    "df_results = results.get_dataframe()\n",
    "scores = df_results['val_f1_score'].plot(kind='hist', title='f1_score hist')"
   ]
  },
  {
   "cell_type": "code",
   "execution_count": 19,
   "metadata": {},
   "outputs": [
    {
     "data": {
      "image/png": "[encoded data removed]",
      "text/plain": [
       "<Figure size 640x480 with 1 Axes>"
      ]
     },
     "metadata": {},
     "output_type": "display_data"
    }
   ],
   "source": [
    "scores = df_results[df_results['val_mean_loss'] < 1]['val_mean_loss'].plot(kind='hist', title='f1_score hist')"
   ]
  },
  {
   "cell_type": "code",
   "execution_count": 20,
   "metadata": {},
   "outputs": [
    {
     "data": {
      "image/png": "[encoded data removed]",
      "text/plain": [
       "<Figure size 640x480 with 1 Axes>"
      ]
     },
     "metadata": {},
     "output_type": "display_data"
    }
   ],
   "source": [
    "scores = df_results['val_accuracy'].plot(kind='hist', title='f1_score hist')"
   ]
  },
  {
   "cell_type": "code",
   "execution_count": 16,
   "metadata": {},
   "outputs": [
    {
     "data": {
      "text/plain": [
       "{'train_mean_loss': 2.3510146935780845,\n",
       " 'train_accuracy': 0.46153846153846156,\n",
       " 'train_f1_score': np.float64(0.4166666666666667),\n",
       " 'val_mean_loss': 0.6762486696243286,\n",
       " 'val_accuracy': 0.6153846153846154,\n",
       " 'val_f1_score': np.float64(0.75),\n",
       " 'timestamp': 1725339313,\n",
       " 'checkpoint_dir_name': None,\n",
       " 'done': True,\n",
       " 'training_iteration': 27,\n",
       " 'trial_id': '72ba9b5a',\n",
       " 'date': '2024-09-03_00-55-13',\n",
       " 'time_this_iter_s': 0.25162458419799805,\n",
       " 'time_total_s': 7.366089344024658,\n",
       " 'pid': 96984,\n",
       " 'hostname': 'DESKTOP-GF0BL1G',\n",
       " 'node_ip': '172.18.58.174',\n",
       " 'config': {'dropout': 0.8014337697835059,\n",
       "  'coraa_filter_func': 'filter0',\n",
       "  'learning_rate': 1.1767365846713973e-05,\n",
       "  'weight_decay': 0.0003949390564004223,\n",
       "  'model_architecture': 'CnnMFCC'},\n",
       " 'time_since_restore': 7.366089344024658,\n",
       " 'iterations_since_restore': 27,\n",
       " 'experiment_tag': '18_coraa_filter_func=filter0,dropout=0.8014,learning_rate=0.0000,model_architecture=CnnMFCC,weight_decay=0.0004'}"
      ]
     },
     "execution_count": 16,
     "metadata": {},
     "output_type": "execute_result"
    }
   ],
   "source": [
    "best_result = results.get_best_result(\"val_f1_score\", mode=\"max\")\n",
    "best_result.metrics"
   ]
  }
 ],
 "metadata": {
  "kernelspec": {
   "display_name": ".venv",
   "language": "python",
   "name": "python3"
  },
  "language_info": {
   "codemirror_mode": {
    "name": "ipython",
    "version": 3
   },
   "file_extension": ".py",
   "mimetype": "text/x-python",
   "name": "python",
   "nbconvert_exporter": "python",
   "pygments_lexer": "ipython3",
   "version": "3.10.12"
  }
 },
 "nbformat": 4,
 "nbformat_minor": 2
}
