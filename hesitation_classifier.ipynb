{
 "cells": [
  {
   "cell_type": "code",
   "execution_count": 1,
   "metadata": {},
   "outputs": [],
   "source": [
    "from IPython.display import Audio\n",
    "import random\n",
    "import matplotlib.pyplot as plt\n",
    "import tempfile\n",
    "import numpy as np\n",
    "import pandas as pd\n",
    "import os"
   ]
  },
  {
   "cell_type": "code",
   "execution_count": 2,
   "metadata": {},
   "outputs": [],
   "source": [
    "import torch\n",
    "from torch import optim\n",
    "from torch.nn.functional import cross_entropy\n",
    "import torchaudio\n",
    "import torchaudio.transforms as T\n",
    "from torch.optim.lr_scheduler import ReduceLROnPlateau"
   ]
  },
  {
   "cell_type": "code",
   "execution_count": 3,
   "metadata": {},
   "outputs": [],
   "source": [
    "from sklearn.metrics import confusion_matrix, ConfusionMatrixDisplay, accuracy_score, f1_score, classification_report"
   ]
  },
  {
   "cell_type": "code",
   "execution_count": 4,
   "metadata": {},
   "outputs": [],
   "source": [
    "import ray\n",
    "from ray import tune\n",
    "from ray import train\n",
    "from ray.train import Checkpoint\n",
    "from ray.tune.search.optuna import OptunaSearch\n",
    "from ray.tune.schedulers import ASHAScheduler\n",
    "from ray.train import RunConfig\n",
    "from ray.tune import CLIReporter"
   ]
  },
  {
   "cell_type": "code",
   "execution_count": 5,
   "metadata": {},
   "outputs": [],
   "source": [
    "from src.custom_audio_dataset import CustomAudioDataset\n",
    "from src.models import CnnMFCC\n",
    "from src.utils import pad_collate_fn, plot_spectrogram, dataloader_from_filter\n",
    "from src.datasets import get_data_path\n",
    "from src import custom_layers\n",
    "from src.hesitation import coraa_filters"
   ]
  },
  {
   "cell_type": "code",
   "execution_count": 6,
   "metadata": {},
   "outputs": [
    {
     "data": {
      "text/plain": [
       "'cuda'"
      ]
     },
     "execution_count": 6,
     "metadata": {},
     "output_type": "execute_result"
    }
   ],
   "source": [
    "DEVICE = \"cuda\" if torch.cuda.is_available() else \"cpu\"\n",
    "\n",
    "MAX_EPOCH = 15\n",
    "\n",
    "TRAIN_SIZE = 0.6\n",
    "TEST_FROM_VAL_SIZE = 0.5\n",
    "\n",
    "SAMPLE_RATE = 16_000\n",
    "MAX_SECONDS_DURATION = 10\n",
    "\n",
    "MAX_FEATURES_IN = SAMPLE_RATE * MAX_SECONDS_DURATION\n",
    "\n",
    "DEVICE"
   ]
  },
  {
   "cell_type": "code",
   "execution_count": 7,
   "metadata": {},
   "outputs": [
    {
     "data": {
      "text/plain": [
       "('/home/glucas11/projects/repos/speech_feedback/temp_datasets/hesitation_dev/annotations.csv',\n",
       " '/home/glucas11/projects/repos/speech_feedback/temp_datasets/hesitation_dev')"
      ]
     },
     "execution_count": 7,
     "metadata": {},
     "output_type": "execute_result"
    }
   ],
   "source": [
    "annotations_file_path, data_dir_path = get_data_path(\"hesitation_dev\")\n",
    "annotations_file_path, data_dir_path"
   ]
  },
  {
   "cell_type": "code",
   "execution_count": 8,
   "metadata": {},
   "outputs": [],
   "source": [
    "train_data_transform = torch.nn.Sequential(\n",
    "    # custom_layers.RandomPitchShiftLayer(p=0.001, sample_rate=SAMPLE_RATE, min_steps=-5, max_steps=5), # too heavy\n",
    "    # custom_layers.ReverberationLayer(1,400), # not working yet\n",
    "    custom_layers.PadOrTruncateLayer(MAX_FEATURES_IN),\n",
    "    custom_layers.NoiseLayer(p=0.5, noise_factor=0.05),\n",
    ")\n",
    "data_transform = torch.nn.Sequential(\n",
    "    custom_layers.PadOrTruncateLayer(MAX_FEATURES_IN),\n",
    ")"
   ]
  },
  {
   "cell_type": "code",
   "execution_count": 9,
   "metadata": {},
   "outputs": [],
   "source": [
    "filters_func = {\n",
    "    \"filter0\": coraa_filters.filter0,\n",
    "    \"filter1\": coraa_filters.filter1,\n",
    "    \"filter2\": coraa_filters.filter2,\n",
    "}\n",
    "\n",
    "models_arch = {\n",
    "    \"CnnMFCC\": CnnMFCC,\n",
    "}"
   ]
  },
  {
   "cell_type": "code",
   "execution_count": 10,
   "metadata": {},
   "outputs": [],
   "source": [
    "def train_func(model, optimizer, dataloader):\n",
    "\tmodel.train()\n",
    "\tlosses = []\n",
    "\tpred_np = []\n",
    "\ttarget_np = []\n",
    "\tfor batch_idx, (data, target) in enumerate(dataloader):\n",
    "\t\toptimizer.zero_grad()\n",
    "\t\tdata, target = data.to(DEVICE), target.to(DEVICE)\n",
    "\t\tlogits = model(data)\n",
    "\t\tloss = cross_entropy(logits, target)\n",
    "\t\tlosses.append(loss.item())\n",
    "\t\tloss.backward()\n",
    "\t\toptimizer.step()\n",
    "\t\t\n",
    "\t\tpreds = torch.max(logits, dim=1).indices\n",
    "\t\tpred_np.append(preds.detach().cpu().numpy())\n",
    "\t\ttarget_np.append(target.detach().cpu().numpy())\n",
    "\t\n",
    "\tpred_np = np.concatenate(pred_np)\n",
    "\ttarget_np = np.concatenate(target_np)\n",
    "\n",
    "\treturn {\n",
    "\t\t\"mean_loss\": sum(losses) / len(losses),\n",
    "\t\t\"accuracy\": accuracy_score(target_np, pred_np),\n",
    "\t\t\"f1_score\": f1_score(target_np, pred_np),\n",
    "\t\t# \"confusion_matrix\": confusion_matrix(target_np, pred_np),\n",
    "\t}\n",
    "\n",
    "def validate_func(model, dataloader):\n",
    "\tmodel.eval()\n",
    "\t\n",
    "\tlosses = []\n",
    "\tpred_np = []\n",
    "\ttarget_np = []\n",
    "\twith torch.no_grad():\n",
    "\t\tfor batch_idx, (data, target) in enumerate(dataloader):\n",
    "\t\t\tdata, target = data.to(DEVICE), target.to(DEVICE)\n",
    "\t\t\tlogits = model(data)\n",
    "\t\t\tloss = cross_entropy(logits, target)\n",
    "\t\t\tlosses.append(loss.item())\n",
    "\t\t\t\n",
    "\t\t\tpreds = torch.max(logits, dim=1).indices\n",
    "\t\t\tpred_np.append(preds.detach().cpu().numpy())\n",
    "\t\t\ttarget_np.append(target.detach().cpu().numpy())\n",
    "\n",
    "\tpred_np = np.concatenate(pred_np)\n",
    "\ttarget_np = np.concatenate(target_np)\n",
    "\n",
    "\treturn {\n",
    "\t\t\"mean_loss\": sum(losses) / len(losses),\n",
    "\t\t\"accuracy\": accuracy_score(target_np, pred_np),\n",
    "\t\t\"f1_score\": f1_score(target_np, pred_np),\n",
    "\t}"
   ]
  },
  {
   "cell_type": "code",
   "execution_count": 11,
   "metadata": {},
   "outputs": [],
   "source": [
    "def train_hesitation(config:dict, max_epochs=30, tunning=True):\n",
    "\tfilter_func = filters_func[config[\"coraa_filter_func\"]]\n",
    "\ttrain_dataloader, val_dataloader, test_dataloader = dataloader_from_filter(\n",
    "\t\tannotations_file_path=annotations_file_path,\n",
    "\t\tdata_dir_path=data_dir_path,\n",
    "\t\tfilter=filter_func,\n",
    "\t\ttarget_column_name=\"has_hesitation\",\n",
    "\t\ttrain_data_transform=train_data_transform,\n",
    "\t\tdata_transform=data_transform,\n",
    "\t\ttrain_size=0.6,\n",
    "\t\ttest_from_val_size=0.5\n",
    "\t)\n",
    "\tmodel_architecture = models_arch[config['model_architecture']]\n",
    "\tmodel = model_architecture(n_classes=2, sample_rate=SAMPLE_RATE, max_audio_length_seconds=MAX_SECONDS_DURATION, dropout=config['dropout'])\n",
    "\tmodel = model.to(DEVICE)\n",
    "\n",
    "\toptimizer = optim.Adam(model.parameters(), lr=config['learning_rate'], weight_decay=config['weight_decay'])\n",
    "\n",
    "\t# early_stopping_patience = 5  # Number of epochs to wait before stopping\n",
    "\tscheduler = ReduceLROnPlateau(optimizer, mode='min', factor=0.7, patience=3)\n",
    "\tfor i in range(max_epochs):\n",
    "\t\ttrain_log = train_func(model, optimizer, train_dataloader)\n",
    "\t\tval_log = validate_func(model, val_dataloader)\n",
    "\t\t\n",
    "\t\tscheduler.step(val_log['mean_loss'])\n",
    "\n",
    "\t\tif tunning:\n",
    "\t\t\twith tempfile.TemporaryDirectory() as temp_checkpoint_dir:\n",
    "\t\t\t\tcheckpoint = None\n",
    "\t\t\t\tif (i + 1) % max_epochs == 0 and (val_log[\"mean_loss\"] < 0.4):\n",
    "\t\t\t\t\t# This saves the model to the trial directory\n",
    "\t\t\t\t\ttorch.save(\n",
    "\t\t\t\t\t\tmodel.state_dict(),\n",
    "\t\t\t\t\t\tos.path.join(temp_checkpoint_dir, \"model.pth\")\n",
    "\t\t\t\t\t)\n",
    "\t\t\t\t\tcheckpoint = Checkpoint.from_directory(temp_checkpoint_dir)\n",
    "\n",
    "\t\t\t\t# Send the current training result back to Tune\n",
    "\t\t\t\ttrain.report(\n",
    "\t\t\t\t\t{\n",
    "\t\t\t\t\t\t\"train_mean_loss\": train_log[\"mean_loss\"],\n",
    "\t\t\t\t\t\t\"train_accuracy\": train_log[\"accuracy\"],\n",
    "\t\t\t\t\t\t\"train_f1_score\": train_log[\"f1_score\"],\n",
    "\t\t\t\t\t\t\"val_mean_loss\": val_log[\"mean_loss\"],\n",
    "\t\t\t\t\t\t\"val_accuracy\": val_log[\"accuracy\"],\n",
    "\t\t\t\t\t\t\"val_f1_score\": val_log[\"f1_score\"],\n",
    "\t\t\t\t\t},\n",
    "\t\t\t\t\tcheckpoint=checkpoint\n",
    "\t\t\t\t)\n",
    "\t\telse:\n",
    "\t\t\tprint(\"-\"*10, f\"epoch: {i+1}/{max_epochs}\",\"-\"*10)\n",
    "\t\t\tprint(f\"train: {train_log}\\nval: {val_log}\")\n",
    "\tif not tunning:\n",
    "\t\treturn {\n",
    "\t\t\t\"model\": model,\n",
    "\t\t\t\"test_dataloader\": test_dataloader,\n",
    "\t\t}\n",
    "\ttest_log = validate_func(model, test_dataloader)\n",
    "\tprint(test_log)\n",
    "\ttrain.report(\n",
    "\t\t{\n",
    "\t\t\t\"test_mean_loss\": test_log[\"mean_loss\"],\n",
    "\t\t\t\"test_accuracy\": test_log[\"accuracy\"],\n",
    "\t\t\t\"test_f1_score\": test_log[\"f1_score\"],\n",
    "\t\t},\n",
    "\t\tcheckpoint=checkpoint\n",
    "\t)"
   ]
  },
  {
   "cell_type": "code",
   "execution_count": 12,
   "metadata": {},
   "outputs": [],
   "source": [
    "max_cpus = os.cpu_count()\n",
    "max_gpus = torch.cuda.device_count()\n",
    "max_cpus, max_gpus\n",
    "\n",
    "config = {\n",
    "    \"dropout\": tune.uniform(0.0, 1.0),\n",
    "    \"coraa_filter_func\": tune.choice(filters_func.keys()),\n",
    "    \"learning_rate\":  tune.loguniform(1e-5, 1e-0),\n",
    "\t\"weight_decay\": tune.loguniform(1e-6, 1e-2),\n",
    "    \"model_architecture\": tune.choice(models_arch.keys()),\n",
    "}\n",
    "\n",
    "metric = \"val_f1_score\"\n",
    "mode = \"max\"\n",
    "\n",
    "optuna_search = OptunaSearch(\n",
    "\tmetric=metric,\n",
    "\tmode=mode,\n",
    "\t# points_to_evaluate = curr_best_params,\n",
    ")\n",
    "\n",
    "asas_scheduler = ASHAScheduler(\n",
    "\ttime_attr='training_iteration',\n",
    "\tmetric=metric,\n",
    "\tmode=mode,\n",
    "\tmax_t=30,\n",
    "\tgrace_period=1,\n",
    "\treduction_factor=3,\n",
    "\tbrackets=2\n",
    ")\n"
   ]
  },
  {
   "cell_type": "code",
   "execution_count": 13,
   "metadata": {},
   "outputs": [],
   "source": [
    "pd.set_option('display.max_columns', None)  # Show all columns\n",
    "pd.set_option('display.max_rows', None)     # Show all rows\n",
    "pd.set_option('display.max_colwidth', None)   # No limit on column width\n",
    "pd.set_option('display.width', 1000)        # Set the display width to a large number"
   ]
  },
  {
   "cell_type": "code",
   "execution_count": 14,
   "metadata": {},
   "outputs": [
    {
     "data": {
      "text/html": [
       "<div class=\"tuneStatus\">\n",
       "  <div style=\"display: flex;flex-direction: row\">\n",
       "    <div style=\"display: flex;flex-direction: column;\">\n",
       "      <h3>Tune Status</h3>\n",
       "      <table>\n",
       "<tbody>\n",
       "<tr><td>Current time:</td><td>2024-09-03 10:55:27</td></tr>\n",
       "<tr><td>Running for: </td><td>00:00:00.15        </td></tr>\n",
       "<tr><td>Memory:      </td><td>4.8/15.6 GiB       </td></tr>\n",
       "</tbody>\n",
       "</table>\n",
       "    </div>\n",
       "    <div class=\"vDivider\"></div>\n",
       "    <div class=\"systemInfo\">\n",
       "      <h3>System Info</h3>\n",
       "      Using AsyncHyperBand: num_stopped=0<br>Bracket: Iter 27.000: None | Iter 9.000: None | Iter 3.000: None | Iter 1.000: None<br>Bracket: Iter 27.000: None | Iter 9.000: None | Iter 3.000: None<br>Logical resource usage: 16.0/16 CPUs, 1.0/1 GPUs (0.0/1.0 accelerator_type:G)\n",
       "    </div>\n",
       "    \n",
       "  </div>\n",
       "  <div class=\"hDivider\"></div>\n",
       "  <div class=\"trialStatus\">\n",
       "    <h3>Trial Status</h3>\n",
       "    <table>\n",
       "<thead>\n",
       "<tr><th>Trial name               </th><th>status  </th><th>loc  </th><th>coraa_filter_func  </th><th style=\"text-align: right;\">  dropout</th><th style=\"text-align: right;\">  learning_rate</th><th>model_architecture  </th><th style=\"text-align: right;\">  weight_decay</th></tr>\n",
       "</thead>\n",
       "<tbody>\n",
       "<tr><td>train_hesitation_66deb401</td><td>PENDING </td><td>     </td><td>filter1            </td><td style=\"text-align: right;\"> 0.939744</td><td style=\"text-align: right;\">     0.00291858</td><td>CnnMFCC             </td><td style=\"text-align: right;\">   1.15933e-05</td></tr>\n",
       "</tbody>\n",
       "</table>\n",
       "  </div>\n",
       "</div>\n",
       "<style>\n",
       ".tuneStatus {\n",
       "  color: var(--jp-ui-font-color1);\n",
       "}\n",
       ".tuneStatus .systemInfo {\n",
       "  display: flex;\n",
       "  flex-direction: column;\n",
       "}\n",
       ".tuneStatus td {\n",
       "  white-space: nowrap;\n",
       "}\n",
       ".tuneStatus .trialStatus {\n",
       "  display: flex;\n",
       "  flex-direction: column;\n",
       "}\n",
       ".tuneStatus h3 {\n",
       "  font-weight: bold;\n",
       "}\n",
       ".tuneStatus .hDivider {\n",
       "  border-bottom-width: var(--jp-border-width);\n",
       "  border-bottom-color: var(--jp-border-color0);\n",
       "  border-bottom-style: solid;\n",
       "}\n",
       ".tuneStatus .vDivider {\n",
       "  border-left-width: var(--jp-border-width);\n",
       "  border-left-color: var(--jp-border-color0);\n",
       "  border-left-style: solid;\n",
       "  margin: 0.5em 1em 0.5em 1em;\n",
       "}\n",
       "</style>\n"
      ],
      "text/plain": [
       "<IPython.core.display.HTML object>"
      ]
     },
     "metadata": {},
     "output_type": "display_data"
    }
   ],
   "source": [
    "trainable_with_resources = tune.with_resources(train_hesitation, {\"cpu\": max_cpus, \"gpu\": max_gpus})\n",
    "\n",
    "tuner = tune.Tuner(\n",
    "\ttrainable_with_resources,\n",
    "\ttune_config=tune.TuneConfig(\n",
    "\t\tnum_samples=100,\n",
    "\t\tsearch_alg=optuna_search,\n",
    "\t\tscheduler=asas_scheduler\n",
    "\t),\n",
    "\tparam_space=config,\n",
    ")\n",
    "results = tuner.fit()"
   ]
  },
  {
   "cell_type": "code",
   "execution_count": null,
   "metadata": {},
   "outputs": [],
   "source": [
    "results.get_dataframe().to_csv(\"raytune_results.csv\")"
   ]
  },
  {
   "cell_type": "code",
   "execution_count": null,
   "metadata": {},
   "outputs": [
    {
     "data": {
      "text/plain": [
       "<Axes: title={'center': 'f1_score hist'}, ylabel='Frequency'>"
      ]
     },
     "execution_count": 16,
     "metadata": {},
     "output_type": "execute_result"
    },
    {
     "data": {
      "image/png": "[encoded data removed]",
      "text/plain": [
       "<Figure size 640x480 with 1 Axes>"
      ]
     },
     "metadata": {},
     "output_type": "display_data"
    }
   ],
   "source": [
    "df_results = results.get_dataframe()\n",
    "df_results['val_f1_score'].plot(kind='hist', title='f1_score hist')"
   ]
  },
  {
   "cell_type": "code",
   "execution_count": null,
   "metadata": {},
   "outputs": [
    {
     "data": {
      "text/plain": [
       "<Axes: title={'center': 'loss hist'}, ylabel='Frequency'>"
      ]
     },
     "execution_count": 17,
     "metadata": {},
     "output_type": "execute_result"
    },
    {
     "data": {
      "image/png": "[encoded data removed]",
      "text/plain": [
       "<Figure size 640x480 with 1 Axes>"
      ]
     },
     "metadata": {},
     "output_type": "display_data"
    }
   ],
   "source": [
    "df_results[df_results['val_mean_loss'] < 1]['val_mean_loss'].plot(kind='hist', title='loss hist')"
   ]
  },
  {
   "cell_type": "code",
   "execution_count": null,
   "metadata": {},
   "outputs": [
    {
     "data": {
      "text/plain": [
       "<Axes: title={'center': 'accuracy hist'}, ylabel='Frequency'>"
      ]
     },
     "execution_count": 18,
     "metadata": {},
     "output_type": "execute_result"
    },
    {
     "data": {
      "image/png": "[encoded data removed]",
      "text/plain": [
       "<Figure size 640x480 with 1 Axes>"
      ]
     },
     "metadata": {},
     "output_type": "display_data"
    }
   ],
   "source": [
    "df_results['val_accuracy'].plot(kind='hist', title='accuracy hist')"
   ]
  },
  {
   "cell_type": "code",
   "execution_count": null,
   "metadata": {},
   "outputs": [
    {
     "name": "stdout",
     "output_type": "stream",
     "text": [
      "{'dropout': 0.2565383573442871, 'coraa_filter_func': 'filter1', 'learning_rate': 0.005835278625127157, 'weight_decay': 3.035735853729221e-05, 'model_architecture': 'CnnMFCC'}\n",
      "---------- epoch: 1/30 ----------\n",
      "train: {'mean_loss': 1.2430144879553053, 'accuracy': 0.4753521126760563, 'f1_score': np.float64(0.5525525525525525)}\n",
      "val: {'mean_loss': 1.2068354884783428, 'accuracy': 0.5157894736842106, 'f1_score': np.float64(0.3783783783783784)}\n",
      "---------- epoch: 2/30 ----------\n",
      "train: {'mean_loss': 0.8439793785413107, 'accuracy': 0.49295774647887325, 'f1_score': np.float64(0.4965034965034965)}\n",
      "val: {'mean_loss': 1.920454462369283, 'accuracy': 0.5368421052631579, 'f1_score': np.float64(0.0)}\n",
      "---------- epoch: 3/30 ----------\n",
      "train: {'mean_loss': 0.8417484429147508, 'accuracy': 0.5528169014084507, 'f1_score': np.float64(0.6186186186186187)}\n",
      "val: {'mean_loss': 0.6961756149927775, 'accuracy': 0.6, 'f1_score': np.float64(0.45714285714285713)}\n",
      "---------- epoch: 4/30 ----------\n",
      "train: {'mean_loss': 0.7759768631723192, 'accuracy': 0.5246478873239436, 'f1_score': np.float64(0.49814126394052044)}\n",
      "val: {'mean_loss': 0.8003669381141663, 'accuracy': 0.5157894736842106, 'f1_score': np.float64(0.6461538461538462)}\n",
      "---------- epoch: 5/30 ----------\n",
      "train: {'mean_loss': 0.7336583667331271, 'accuracy': 0.5387323943661971, 'f1_score': np.float64(0.5732899022801303)}\n",
      "val: {'mean_loss': 0.6980119546254476, 'accuracy': 0.5263157894736842, 'f1_score': np.float64(0.5714285714285714)}\n",
      "---------- epoch: 6/30 ----------\n",
      "train: {'mean_loss': 0.757532450887892, 'accuracy': 0.5598591549295775, 'f1_score': np.float64(0.6105919003115264)}\n",
      "val: {'mean_loss': 0.8796593149503072, 'accuracy': 0.4631578947368421, 'f1_score': np.float64(0.592)}\n",
      "---------- epoch: 7/30 ----------\n",
      "train: {'mean_loss': 0.7123671770095825, 'accuracy': 0.5563380281690141, 'f1_score': np.float64(0.5771812080536913)}\n",
      "val: {'mean_loss': 0.8332331577936808, 'accuracy': 0.4842105263157895, 'f1_score': np.float64(0.6141732283464567)}\n",
      "---------- epoch: 8/30 ----------\n",
      "train: {'mean_loss': 0.6799951593081156, 'accuracy': 0.573943661971831, 'f1_score': np.float64(0.6182965299684543)}\n",
      "val: {'mean_loss': 0.7106825113296509, 'accuracy': 0.5473684210526316, 'f1_score': np.float64(0.5473684210526316)}\n",
      "---------- epoch: 9/30 ----------\n",
      "train: {'mean_loss': 0.6883994075987074, 'accuracy': 0.5950704225352113, 'f1_score': np.float64(0.637223974763407)}\n",
      "val: {'mean_loss': 0.7084137996037801, 'accuracy': 0.5157894736842106, 'f1_score': np.float64(0.5208333333333334)}\n",
      "---------- epoch: 10/30 ----------\n",
      "train: {'mean_loss': 0.6824424862861633, 'accuracy': 0.5809859154929577, 'f1_score': np.float64(0.5853658536585366)}\n",
      "val: {'mean_loss': 0.7493002613385519, 'accuracy': 0.4842105263157895, 'f1_score': np.float64(0.5585585585585585)}\n",
      "---------- epoch: 11/30 ----------\n",
      "train: {'mean_loss': 0.6482353276676602, 'accuracy': 0.6126760563380281, 'f1_score': np.float64(0.6518987341772152)}\n",
      "val: {'mean_loss': 0.7285340627034506, 'accuracy': 0.5052631578947369, 'f1_score': np.float64(0.5346534653465347)}\n",
      "---------- epoch: 12/30 ----------\n",
      "train: {'mean_loss': 0.6608411735958524, 'accuracy': 0.6091549295774648, 'f1_score': np.float64(0.6542056074766355)}\n",
      "val: {'mean_loss': 0.7230684161186218, 'accuracy': 0.5052631578947369, 'f1_score': np.float64(0.5607476635514018)}\n",
      "---------- epoch: 13/30 ----------\n",
      "train: {'mean_loss': 0.6853747632768419, 'accuracy': 0.6161971830985915, 'f1_score': np.float64(0.6495176848874598)}\n",
      "val: {'mean_loss': 0.757247805595398, 'accuracy': 0.5157894736842106, 'f1_score': np.float64(0.5490196078431373)}\n",
      "---------- epoch: 14/30 ----------\n",
      "train: {'mean_loss': 0.6813235282897949, 'accuracy': 0.573943661971831, 'f1_score': np.float64(0.5724381625441696)}\n",
      "val: {'mean_loss': 0.776638388633728, 'accuracy': 0.5052631578947369, 'f1_score': np.float64(0.5982905982905983)}\n",
      "---------- epoch: 15/30 ----------\n",
      "train: {'mean_loss': 0.6958234243922763, 'accuracy': 0.5598591549295775, 'f1_score': np.float64(0.5421245421245421)}\n",
      "val: {'mean_loss': 0.6979511578877767, 'accuracy': 0.5473684210526316, 'f1_score': np.float64(0.4819277108433735)}\n",
      "---------- epoch: 16/30 ----------\n",
      "train: {'mean_loss': 0.6679316030608283, 'accuracy': 0.6197183098591549, 'f1_score': np.float64(0.6727272727272727)}\n",
      "val: {'mean_loss': 0.7102540135383606, 'accuracy': 0.5052631578947369, 'f1_score': np.float64(0.5523809523809524)}\n",
      "---------- epoch: 17/30 ----------\n",
      "train: {'mean_loss': 0.6362287269698249, 'accuracy': 0.6126760563380281, 'f1_score': np.float64(0.6625766871165644)}\n",
      "val: {'mean_loss': 0.7166307965914408, 'accuracy': 0.5263157894736842, 'f1_score': np.float64(0.5454545454545454)}\n",
      "---------- epoch: 18/30 ----------\n",
      "train: {'mean_loss': 0.6198911600642734, 'accuracy': 0.6373239436619719, 'f1_score': np.float64(0.6531986531986532)}\n",
      "val: {'mean_loss': 0.7322787245114645, 'accuracy': 0.5368421052631579, 'f1_score': np.float64(0.5769230769230769)}\n",
      "---------- epoch: 19/30 ----------\n",
      "train: {'mean_loss': 0.6516710188653734, 'accuracy': 0.6056338028169014, 'f1_score': np.float64(0.631578947368421)}\n",
      "val: {'mean_loss': 0.7735527753829956, 'accuracy': 0.47368421052631576, 'f1_score': np.float64(0.5614035087719298)}\n",
      "---------- epoch: 20/30 ----------\n",
      "train: {'mean_loss': 0.6118695404794481, 'accuracy': 0.6514084507042254, 'f1_score': np.float64(0.6837060702875399)}\n",
      "val: {'mean_loss': 0.7050328254699707, 'accuracy': 0.47368421052631576, 'f1_score': np.float64(0.4897959183673469)}\n",
      "---------- epoch: 21/30 ----------\n",
      "train: {'mean_loss': 0.633791532781389, 'accuracy': 0.647887323943662, 'f1_score': np.float64(0.6753246753246753)}\n",
      "val: {'mean_loss': 0.703284502029419, 'accuracy': 0.4842105263157895, 'f1_score': np.float64(0.4948453608247423)}\n",
      "---------- epoch: 22/30 ----------\n",
      "train: {'mean_loss': 0.6515730685657926, 'accuracy': 0.6126760563380281, 'f1_score': np.float64(0.6451612903225806)}\n",
      "val: {'mean_loss': 0.7105477054913839, 'accuracy': 0.47368421052631576, 'f1_score': np.float64(0.4897959183673469)}\n",
      "---------- epoch: 23/30 ----------\n",
      "train: {'mean_loss': 0.6314832899305556, 'accuracy': 0.6408450704225352, 'f1_score': np.float64(0.6730769230769231)}\n",
      "val: {'mean_loss': 0.6976616581281027, 'accuracy': 0.5473684210526316, 'f1_score': np.float64(0.5168539325842697)}\n",
      "---------- epoch: 24/30 ----------\n",
      "train: {'mean_loss': 0.6153438289960226, 'accuracy': 0.647887323943662, 'f1_score': np.float64(0.6551724137931034)}\n",
      "val: {'mean_loss': 0.7233929832776388, 'accuracy': 0.49473684210526314, 'f1_score': np.float64(0.5294117647058824)}\n",
      "---------- epoch: 25/30 ----------\n",
      "train: {'mean_loss': 0.6505578557650248, 'accuracy': 0.6197183098591549, 'f1_score': np.float64(0.6896551724137931)}\n",
      "val: {'mean_loss': 0.759415328502655, 'accuracy': 0.4842105263157895, 'f1_score': np.float64(0.5333333333333333)}\n",
      "---------- epoch: 26/30 ----------\n",
      "train: {'mean_loss': 0.6531324982643127, 'accuracy': 0.6302816901408451, 'f1_score': np.float64(0.6263345195729537)}\n",
      "val: {'mean_loss': 0.7211475173632304, 'accuracy': 0.5473684210526316, 'f1_score': np.float64(0.5274725274725275)}\n",
      "---------- epoch: 27/30 ----------\n",
      "train: {'mean_loss': 0.6270181139310201, 'accuracy': 0.6232394366197183, 'f1_score': np.float64(0.629757785467128)}\n",
      "val: {'mean_loss': 0.7988306283950806, 'accuracy': 0.45263157894736844, 'f1_score': np.float64(0.543859649122807)}\n",
      "---------- epoch: 28/30 ----------\n",
      "train: {'mean_loss': 0.6072704129748874, 'accuracy': 0.6654929577464789, 'f1_score': np.float64(0.6801346801346801)}\n",
      "val: {'mean_loss': 0.7063119808832804, 'accuracy': 0.5368421052631579, 'f1_score': np.float64(0.5416666666666666)}\n",
      "---------- epoch: 29/30 ----------\n",
      "train: {'mean_loss': 0.6111413372887505, 'accuracy': 0.6443661971830986, 'f1_score': np.float64(0.6480836236933798)}\n",
      "val: {'mean_loss': 0.7021026213963827, 'accuracy': 0.5473684210526316, 'f1_score': np.float64(0.5376344086021505)}\n",
      "---------- epoch: 30/30 ----------\n",
      "train: {'mean_loss': 0.6109309196472168, 'accuracy': 0.6866197183098591, 'f1_score': np.float64(0.7210031347962382)}\n",
      "val: {'mean_loss': 0.7368900179862976, 'accuracy': 0.49473684210526314, 'f1_score': np.float64(0.5555555555555556)}\n"
     ]
    }
   ],
   "source": [
    "best_result = results.get_best_result(\"val_f1_score\", mode=\"max\")\n",
    "best_config = best_result.metrics['config']\n",
    "print(best_config)\n",
    "best_train = train_hesitation(best_config, max_epochs=30, tunning=False)\n",
    "model = best_train[\"model\"]"
   ]
  },
  {
   "cell_type": "code",
   "execution_count": null,
   "metadata": {},
   "outputs": [
    {
     "data": {
      "image/png": "[encoded data removed]",
      "text/plain": [
       "<Figure size 640x480 with 2 Axes>"
      ]
     },
     "metadata": {},
     "output_type": "display_data"
    },
    {
     "name": "stdout",
     "output_type": "stream",
     "text": [
      "\n",
      "\n",
      "              precision    recall  f1-score   support\n",
      "\n",
      "      ausent       0.70      0.44      0.54        48\n",
      "  hesitation       0.58      0.81      0.68        47\n",
      "\n",
      "    accuracy                           0.62        95\n",
      "   macro avg       0.64      0.62      0.61        95\n",
      "weighted avg       0.64      0.62      0.61        95\n",
      "\n",
      "\n",
      "accuracy: 0.6210526315789474\n"
     ]
    }
   ],
   "source": [
    "model.eval()\n",
    "losses = []\n",
    "pred_np = []\n",
    "target_np = []\n",
    "with torch.no_grad():\n",
    "\tfor batch_idx, (data, target) in enumerate(best_train['test_dataloader']):\n",
    "\t\tdata, target = data.to(DEVICE), target.to(DEVICE)\n",
    "\t\tlogits = model(data)\n",
    "\t\tloss = cross_entropy(logits, target)\n",
    "\t\tlosses.append(loss.item())\n",
    "\t\t\n",
    "\t\tpreds = torch.max(logits, dim=1).indices\n",
    "\t\tpred_np.append(preds.detach().cpu().numpy())\n",
    "\t\ttarget_np.append(target.detach().cpu().numpy())\n",
    "\n",
    "pred_np = np.concatenate(pred_np)\n",
    "target_np = np.concatenate(target_np)\n",
    "\n",
    "classes_names = ['ausent', 'hesitation']\n",
    "\n",
    "cm = confusion_matrix(target_np, pred_np)\n",
    "disp = ConfusionMatrixDisplay(confusion_matrix=cm, display_labels=classes_names)\n",
    "disp.plot()\n",
    "plt.show()\n",
    "print(\"\\n\")\n",
    "print(classification_report(target_np, pred_np, target_names=classes_names))\n",
    "print(\"\\naccuracy:\", accuracy_score(target_np, pred_np))"
   ]
  }
 ],
 "metadata": {
  "kernelspec": {
   "display_name": ".venv",
   "language": "python",
   "name": "python3"
  },
  "language_info": {
   "codemirror_mode": {
    "name": "ipython",
    "version": 3
   },
   "file_extension": ".py",
   "mimetype": "text/x-python",
   "name": "python",
   "nbconvert_exporter": "python",
   "pygments_lexer": "ipython3",
   "version": "3.10.12"
  }
 },
 "nbformat": 4,
 "nbformat_minor": 2
}
