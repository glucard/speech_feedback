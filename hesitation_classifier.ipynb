{
 "cells": [
  {
   "cell_type": "code",
   "execution_count": 1,
   "metadata": {},
   "outputs": [],
   "source": [
    "from IPython.display import Audio\n",
    "import random\n",
    "import matplotlib.pyplot as plt\n",
    "import tempfile\n",
    "import numpy as np\n",
    "import os"
   ]
  },
  {
   "cell_type": "code",
   "execution_count": 2,
   "metadata": {},
   "outputs": [],
   "source": [
    "import torch\n",
    "from torch import optim\n",
    "from torch.nn.functional import cross_entropy\n",
    "import torchaudio\n",
    "import torchaudio.transforms as T\n",
    "from torch.optim.lr_scheduler import ReduceLROnPlateau"
   ]
  },
  {
   "cell_type": "code",
   "execution_count": 3,
   "metadata": {},
   "outputs": [],
   "source": [
    "from sklearn.metrics import confusion_matrix, ConfusionMatrixDisplay, accuracy_score, f1_score"
   ]
  },
  {
   "cell_type": "code",
   "execution_count": 4,
   "metadata": {},
   "outputs": [],
   "source": [
    "import ray\n",
    "from ray import tune\n",
    "from ray import train\n",
    "from ray.train import Checkpoint\n",
    "from ray.tune.search.optuna import OptunaSearch\n",
    "from ray.tune.schedulers import ASHAScheduler"
   ]
  },
  {
   "cell_type": "code",
   "execution_count": 5,
   "metadata": {},
   "outputs": [],
   "source": [
    "from src.custom_audio_dataset import CustomAudioDataset\n",
    "from src.models import CnnMFCC\n",
    "from src.utils import pad_collate_fn, plot_spectrogram, dataloader_from_filter\n",
    "from src.datasets import get_data_path\n",
    "from src import custom_layers\n",
    "from src.hesitation import coraa_filters"
   ]
  },
  {
   "cell_type": "code",
   "execution_count": 6,
   "metadata": {},
   "outputs": [
    {
     "data": {
      "text/plain": [
       "'cuda'"
      ]
     },
     "execution_count": 6,
     "metadata": {},
     "output_type": "execute_result"
    }
   ],
   "source": [
    "DEVICE = \"cuda\" if torch.cuda.is_available() else \"cpu\"\n",
    "\n",
    "MAX_EPOCH = 15\n",
    "\n",
    "TRAIN_SIZE = 0.6\n",
    "TEST_FROM_VAL_SIZE = 0.5\n",
    "\n",
    "SAMPLE_RATE = 16_000\n",
    "MAX_SECONDS_DURATION = 10\n",
    "\n",
    "MAX_FEATURES_IN = SAMPLE_RATE * MAX_SECONDS_DURATION\n",
    "\n",
    "DEVICE"
   ]
  },
  {
   "cell_type": "code",
   "execution_count": 7,
   "metadata": {},
   "outputs": [
    {
     "data": {
      "text/plain": [
       "('/home/glucas11/projects/repos/speech_feedback/temp_datasets/hesitation_dev/annotations.csv',\n",
       " '/home/glucas11/projects/repos/speech_feedback/temp_datasets/hesitation_dev')"
      ]
     },
     "execution_count": 7,
     "metadata": {},
     "output_type": "execute_result"
    }
   ],
   "source": [
    "annotations_file_path, data_dir_path = get_data_path(\"hesitation_dev\")\n",
    "annotations_file_path, data_dir_path"
   ]
  },
  {
   "cell_type": "code",
   "execution_count": 8,
   "metadata": {},
   "outputs": [],
   "source": [
    "train_data_transform = torch.nn.Sequential(\n",
    "    # custom_layers.RandomPitchShiftLayer(p=0.001, sample_rate=SAMPLE_RATE, min_steps=-5, max_steps=5), # too heavy\n",
    "    # custom_layers.ReverberationLayer(1,400), # not working yet\n",
    "    custom_layers.PadOrTruncateLayer(MAX_FEATURES_IN),\n",
    "    custom_layers.NoiseLayer(p=0.5, noise_factor=0.05),\n",
    ")\n",
    "data_transform = torch.nn.Sequential(\n",
    "    custom_layers.PadOrTruncateLayer(MAX_FEATURES_IN),\n",
    ")"
   ]
  },
  {
   "cell_type": "code",
   "execution_count": 9,
   "metadata": {},
   "outputs": [],
   "source": [
    "filters_func = {\n",
    "    \"filter0\": coraa_filters.filter0,\n",
    "    \"filter1\": coraa_filters.filter1,\n",
    "    \"filter2\": coraa_filters.filter2,\n",
    "}\n",
    "\n",
    "models_arch = {\n",
    "    \"CnnMFCC\": CnnMFCC,\n",
    "}"
   ]
  },
  {
   "cell_type": "code",
   "execution_count": 10,
   "metadata": {},
   "outputs": [],
   "source": [
    "def train_func(model, optimizer, dataloader):\n",
    "\tmodel.train()\n",
    "\tlosses = []\n",
    "\tpred_np = []\n",
    "\ttarget_np = []\n",
    "\tfor batch_idx, (data, target) in enumerate(dataloader):\n",
    "\t\toptimizer.zero_grad()\n",
    "\t\tdata, target = data.to(DEVICE), target.to(DEVICE)\n",
    "\t\tlogits = model(data)\n",
    "\t\tloss = cross_entropy(logits, target)\n",
    "\t\tlosses.append(loss.item())\n",
    "\t\tloss.backward()\n",
    "\t\toptimizer.step()\n",
    "\t\t\n",
    "\t\tpreds = torch.max(logits, dim=1).indices\n",
    "\t\tpred_np.append(preds.detach().cpu().numpy())\n",
    "\t\ttarget_np.append(target.detach().cpu().numpy())\n",
    "\t\n",
    "\tpred_np = np.concatenate(pred_np)\n",
    "\ttarget_np = np.concatenate(target_np)\n",
    "\n",
    "\treturn {\n",
    "\t\t\"mean_loss\": sum(losses) / len(losses),\n",
    "\t\t\"accuracy\": accuracy_score(target_np, pred_np),\n",
    "\t\t\"f1_score\": f1_score(target_np, pred_np),\n",
    "\t\t# \"confusion_matrix\": confusion_matrix(target_np, pred_np),\n",
    "\t}\n",
    "\n",
    "def validate_func(model, dataloader):\n",
    "\tmodel.eval()\n",
    "\t\n",
    "\tlosses = []\n",
    "\tpred_np = []\n",
    "\ttarget_np = []\n",
    "\twith torch.no_grad():\n",
    "\t\tfor batch_idx, (data, target) in enumerate(dataloader):\n",
    "\t\t\tdata, target = data.to(DEVICE), target.to(DEVICE)\n",
    "\t\t\tlogits = model(data)\n",
    "\t\t\tloss = cross_entropy(logits, target)\n",
    "\t\t\tlosses.append(loss.item())\n",
    "\t\t\t\n",
    "\t\t\tpreds = torch.max(logits, dim=1).indices\n",
    "\t\t\tpred_np.append(preds.detach().cpu().numpy())\n",
    "\t\t\ttarget_np.append(target.detach().cpu().numpy())\n",
    "\n",
    "\tpred_np = np.concatenate(pred_np)\n",
    "\ttarget_np = np.concatenate(target_np)\n",
    "\n",
    "\treturn {\n",
    "\t\t\"mean_loss\": sum(losses) / len(losses),\n",
    "\t\t\"accuracy\": accuracy_score(target_np, pred_np),\n",
    "\t\t\"f1_score\": f1_score(target_np, pred_np),\n",
    "\t}"
   ]
  },
  {
   "cell_type": "code",
   "execution_count": 11,
   "metadata": {},
   "outputs": [],
   "source": [
    "def train_hesitation(config:dict, max_epochs=30, tunning=True):\n",
    "\tfilter_func = filters_func[config[\"coraa_filter_func\"]]\n",
    "\ttrain_dataloader, val_dataloader, test_dataloader = dataloader_from_filter(\n",
    "\t\tannotations_file_path=annotations_file_path,\n",
    "\t\tdata_dir_path=data_dir_path,\n",
    "\t\tfilter=filter_func,\n",
    "\t\ttarget_column_name=\"has_hesitation\",\n",
    "\t\ttrain_data_transform=train_data_transform,\n",
    "\t\tdata_transform=data_transform,\n",
    "\t\ttrain_size=0.6,\n",
    "\t\ttest_from_val_size=0.5\n",
    "\t)\n",
    "\tmodel_architecture = models_arch[config['model_architecture']]\n",
    "\tmodel = model_architecture(n_classes=2, sample_rate=SAMPLE_RATE, max_audio_length_seconds=MAX_SECONDS_DURATION, dropout=config['dropout'])\n",
    "\tmodel = model.to(DEVICE)\n",
    "\n",
    "\toptimizer = optim.Adam(model.parameters(), lr=config['learning_rate'], weight_decay=config['weight_decay'])\n",
    "\n",
    "\t# early_stopping_patience = 5  # Number of epochs to wait before stopping\n",
    "\tscheduler = ReduceLROnPlateau(optimizer, mode='min', factor=0.7, patience=3)\n",
    "\tfor i in range(max_epochs):\n",
    "\t\ttrain_log = train_func(model, optimizer, train_dataloader)\n",
    "\t\tval_log = validate_func(model, val_dataloader)\n",
    "\t\t\n",
    "\t\tscheduler.step(val_log['mean_loss'])\n",
    "\n",
    "\t\tif tunning:\n",
    "\t\t\twith tempfile.TemporaryDirectory() as temp_checkpoint_dir:\n",
    "\t\t\t\tcheckpoint = None\n",
    "\t\t\t\tif (i + 1) % max_epochs == 0 and (val_log[\"mean_loss\"] < 0.4):\n",
    "\t\t\t\t\t# This saves the model to the trial directory\n",
    "\t\t\t\t\ttorch.save(\n",
    "\t\t\t\t\t\tmodel.state_dict(),\n",
    "\t\t\t\t\t\tos.path.join(temp_checkpoint_dir, \"model.pth\")\n",
    "\t\t\t\t\t)\n",
    "\t\t\t\t\tcheckpoint = Checkpoint.from_directory(temp_checkpoint_dir)\n",
    "\n",
    "\t\t\t\t# Send the current training result back to Tune\n",
    "\t\t\t\ttrain.report(\n",
    "\t\t\t\t\t{\n",
    "\t\t\t\t\t\t\"train_mean_loss\": train_log[\"mean_loss\"],\n",
    "\t\t\t\t\t\t\"train_accuracy\": train_log[\"accuracy\"],\n",
    "\t\t\t\t\t\t\"train_f1_score\": train_log[\"f1_score\"],\n",
    "\t\t\t\t\t\t\"val_mean_loss\": val_log[\"mean_loss\"],\n",
    "\t\t\t\t\t\t\"val_accuracy\": val_log[\"accuracy\"],\n",
    "\t\t\t\t\t\t\"val_f1_score\": val_log[\"f1_score\"],\n",
    "\t\t\t\t\t},\n",
    "\t\t\t\t\tcheckpoint=checkpoint\n",
    "\t\t\t\t)\n",
    "\t\telse:\n",
    "\t\t\tprint(\"-\"*10, f\"epoch: {i+1}/{max_epochs}\",\"-\"*10)\n",
    "\t\t\tprint(f\"train: {train_log}\\nval: {val_log}\")\n",
    "\tif not tunning:\n",
    "\t\treturn {\n",
    "\t\t\t\"model\": model,\n",
    "\t\t\t\"log\": {\n",
    "\t\t\t\t\"train\": train_log,\n",
    "\t\t\t\t\"val\": val_log,\n",
    "\t\t\t},\n",
    "\t\t}\n"
   ]
  },
  {
   "cell_type": "code",
   "execution_count": 12,
   "metadata": {},
   "outputs": [],
   "source": [
    "max_cpus = os.cpu_count()\n",
    "max_gpus = torch.cuda.device_count()\n",
    "max_cpus, max_gpus\n",
    "\n",
    "config = {\n",
    "    \"dropout\": tune.uniform(0.0, 1.0),\n",
    "    \"coraa_filter_func\": tune.choice(filters_func.keys()),\n",
    "    \"learning_rate\":  tune.loguniform(1e-5, 1e-0),\n",
    "\t\"weight_decay\": tune.loguniform(1e-6, 1e-2),\n",
    "    \"model_architecture\": tune.choice(models_arch.keys()),\n",
    "}\n",
    "\n",
    "metric = \"val_mean_loss\"\n",
    "mode = \"min\"\n",
    "\n",
    "optuna_search = OptunaSearch(\n",
    "\tmetric=metric,\n",
    "\tmode=mode,\n",
    "\t# points_to_evaluate = curr_best_params,\n",
    ")\n",
    "\n",
    "asas_scheduler = ASHAScheduler(\n",
    "\ttime_attr='training_iteration',\n",
    "\tmetric=metric,\n",
    "\tmode=mode,\n",
    "\tmax_t=10,\n",
    "\tgrace_period=1,\n",
    "\treduction_factor=3,\n",
    "\tbrackets=2\n",
    ")"
   ]
  },
  {
   "cell_type": "code",
   "execution_count": 13,
   "metadata": {},
   "outputs": [
    {
     "data": {
      "text/html": [
       "<div class=\"tuneStatus\">\n",
       "  <div style=\"display: flex;flex-direction: row\">\n",
       "    <div style=\"display: flex;flex-direction: column;\">\n",
       "      <h3>Tune Status</h3>\n",
       "      <table>\n",
       "<tbody>\n",
       "<tr><td>Current time:</td><td>2024-09-03 00:37:55</td></tr>\n",
       "<tr><td>Running for: </td><td>00:01:49.07        </td></tr>\n",
       "<tr><td>Memory:      </td><td>5.2/15.6 GiB       </td></tr>\n",
       "</tbody>\n",
       "</table>\n",
       "    </div>\n",
       "    <div class=\"vDivider\"></div>\n",
       "    <div class=\"systemInfo\">\n",
       "      <h3>System Info</h3>\n",
       "      Using AsyncHyperBand: num_stopped=20<br>Bracket: Iter 9.000: -1.6453648805618284 | Iter 3.000: -0.6962368985017141 | Iter 1.000: -0.7190123200416565<br>Bracket: Iter 9.000: -0.6933175921440125 | Iter 3.000: -0.7005418340365092<br>Logical resource usage: 16.0/16 CPUs, 1.0/1 GPUs (0.0/1.0 accelerator_type:G)\n",
       "    </div>\n",
       "    \n",
       "  </div>\n",
       "  <div class=\"hDivider\"></div>\n",
       "  <div class=\"trialStatus\">\n",
       "    <h3>Trial Status</h3>\n",
       "    <table>\n",
       "<thead>\n",
       "<tr><th>Trial name               </th><th>status    </th><th>loc                </th><th>coraa_filter_func  </th><th style=\"text-align: right;\">  learning_rate</th><th>model_architecture  </th><th style=\"text-align: right;\">  weight_decay</th><th style=\"text-align: right;\">  iter</th><th style=\"text-align: right;\">  total time (s)</th><th style=\"text-align: right;\">  train_mean_loss</th><th style=\"text-align: right;\">  train_accuracy</th><th style=\"text-align: right;\">  train_f1_score</th></tr>\n",
       "</thead>\n",
       "<tbody>\n",
       "<tr><td>train_hesitation_4b4f89f4</td><td>TERMINATED</td><td>172.18.58.174:69703</td><td>filter0            </td><td style=\"text-align: right;\">    0.552778   </td><td>CnnMFCC             </td><td style=\"text-align: right;\">   4.27255e-05</td><td style=\"text-align: right;\">    10</td><td style=\"text-align: right;\">        3.19821 </td><td style=\"text-align: right;\">        261.999  </td><td style=\"text-align: right;\">        0.487179</td><td style=\"text-align: right;\">        0.444444</td></tr>\n",
       "<tr><td>train_hesitation_7be955da</td><td>TERMINATED</td><td>172.18.58.174:69990</td><td>filter2            </td><td style=\"text-align: right;\">    0.00220852 </td><td>CnnMFCC             </td><td style=\"text-align: right;\">   6.89649e-06</td><td style=\"text-align: right;\">    10</td><td style=\"text-align: right;\">        4.26372 </td><td style=\"text-align: right;\">          1.66954</td><td style=\"text-align: right;\">        0.444444</td><td style=\"text-align: right;\">        0.444444</td></tr>\n",
       "<tr><td>train_hesitation_5d2fd8f3</td><td>TERMINATED</td><td>172.18.58.174:70210</td><td>filter0            </td><td style=\"text-align: right;\">    0.726445   </td><td>CnnMFCC             </td><td style=\"text-align: right;\">   1.20102e-06</td><td style=\"text-align: right;\">     1</td><td style=\"text-align: right;\">        1.02085 </td><td style=\"text-align: right;\">         75.718  </td><td style=\"text-align: right;\">        0.423077</td><td style=\"text-align: right;\">        0.415584</td></tr>\n",
       "<tr><td>train_hesitation_b2c78e01</td><td>TERMINATED</td><td>172.18.58.174:70397</td><td>filter0            </td><td style=\"text-align: right;\">    0.00986218 </td><td>CnnMFCC             </td><td style=\"text-align: right;\">   2.69318e-05</td><td style=\"text-align: right;\">    10</td><td style=\"text-align: right;\">        3.31299 </td><td style=\"text-align: right;\">          2.732  </td><td style=\"text-align: right;\">        0.538462</td><td style=\"text-align: right;\">        0.632653</td></tr>\n",
       "<tr><td>train_hesitation_1d0d5235</td><td>TERMINATED</td><td>172.18.58.174:70602</td><td>filter0            </td><td style=\"text-align: right;\">    0.000389644</td><td>CnnMFCC             </td><td style=\"text-align: right;\">   0.00391524 </td><td style=\"text-align: right;\">    10</td><td style=\"text-align: right;\">        3.30332 </td><td style=\"text-align: right;\">          1.51454</td><td style=\"text-align: right;\">        0.435897</td><td style=\"text-align: right;\">        0.45    </td></tr>\n",
       "<tr><td>train_hesitation_0c768d0e</td><td>TERMINATED</td><td>172.18.58.174:70817</td><td>filter2            </td><td style=\"text-align: right;\">    0.00030816 </td><td>CnnMFCC             </td><td style=\"text-align: right;\">   9.67151e-06</td><td style=\"text-align: right;\">     9</td><td style=\"text-align: right;\">        3.95784 </td><td style=\"text-align: right;\">          1.59674</td><td style=\"text-align: right;\">        0.527778</td><td style=\"text-align: right;\">        0.53211 </td></tr>\n",
       "<tr><td>train_hesitation_607f94c7</td><td>TERMINATED</td><td>172.18.58.174:71024</td><td>filter2            </td><td style=\"text-align: right;\">    0.176888   </td><td>CnnMFCC             </td><td style=\"text-align: right;\">   1.24301e-05</td><td style=\"text-align: right;\">     1</td><td style=\"text-align: right;\">        1.18681 </td><td style=\"text-align: right;\">         13.1914 </td><td style=\"text-align: right;\">        0.481481</td><td style=\"text-align: right;\">        0.525424</td></tr>\n",
       "<tr><td>train_hesitation_239bdd5c</td><td>TERMINATED</td><td>172.18.58.174:71219</td><td>filter2            </td><td style=\"text-align: right;\">    0.000414713</td><td>CnnMFCC             </td><td style=\"text-align: right;\">   0.00072887 </td><td style=\"text-align: right;\">     3</td><td style=\"text-align: right;\">        1.87497 </td><td style=\"text-align: right;\">          1.11358</td><td style=\"text-align: right;\">        0.527778</td><td style=\"text-align: right;\">        0.514286</td></tr>\n",
       "<tr><td>train_hesitation_8628d0d5</td><td>TERMINATED</td><td>172.18.58.174:71424</td><td>filter0            </td><td style=\"text-align: right;\">    0.201698   </td><td>CnnMFCC             </td><td style=\"text-align: right;\">   2.58749e-06</td><td style=\"text-align: right;\">     1</td><td style=\"text-align: right;\">        1.03168 </td><td style=\"text-align: right;\">         20.0179 </td><td style=\"text-align: right;\">        0.397436</td><td style=\"text-align: right;\">        0.276923</td></tr>\n",
       "<tr><td>train_hesitation_8e5ea963</td><td>TERMINATED</td><td>172.18.58.174:71629</td><td>filter0            </td><td style=\"text-align: right;\">    0.000266363</td><td>CnnMFCC             </td><td style=\"text-align: right;\">   4.25206e-05</td><td style=\"text-align: right;\">     3</td><td style=\"text-align: right;\">        1.57799 </td><td style=\"text-align: right;\">          1.46038</td><td style=\"text-align: right;\">        0.512821</td><td style=\"text-align: right;\">        0.55814 </td></tr>\n",
       "<tr><td>train_hesitation_72c6a378</td><td>TERMINATED</td><td>172.18.58.174:71830</td><td>filter0            </td><td style=\"text-align: right;\">    0.0358014  </td><td>CnnMFCC             </td><td style=\"text-align: right;\">   0.00820204 </td><td style=\"text-align: right;\">     1</td><td style=\"text-align: right;\">        0.987847</td><td style=\"text-align: right;\">          3.27072</td><td style=\"text-align: right;\">        0.487179</td><td style=\"text-align: right;\">        0.411765</td></tr>\n",
       "<tr><td>train_hesitation_5332bcb7</td><td>TERMINATED</td><td>172.18.58.174:72018</td><td>filter1            </td><td style=\"text-align: right;\">    1.06663e-05</td><td>CnnMFCC             </td><td style=\"text-align: right;\">   0.000273186</td><td style=\"text-align: right;\">     3</td><td style=\"text-align: right;\">        3.36091 </td><td style=\"text-align: right;\">          1.52091</td><td style=\"text-align: right;\">        0.426056</td><td style=\"text-align: right;\">        0.40293 </td></tr>\n",
       "<tr><td>train_hesitation_048c7eea</td><td>TERMINATED</td><td>172.18.58.174:72216</td><td>filter1            </td><td style=\"text-align: right;\">    1.86038e-05</td><td>CnnMFCC             </td><td style=\"text-align: right;\">   0.00048518 </td><td style=\"text-align: right;\">     3</td><td style=\"text-align: right;\">        3.42668 </td><td style=\"text-align: right;\">          1.43911</td><td style=\"text-align: right;\">        0.514085</td><td style=\"text-align: right;\">        0.527397</td></tr>\n",
       "<tr><td>train_hesitation_e3b766e4</td><td>TERMINATED</td><td>172.18.58.174:72425</td><td>filter1            </td><td style=\"text-align: right;\">    0.00191389 </td><td>CnnMFCC             </td><td style=\"text-align: right;\">   0.00970153 </td><td style=\"text-align: right;\">     1</td><td style=\"text-align: right;\">        1.57977 </td><td style=\"text-align: right;\">          1.44192</td><td style=\"text-align: right;\">        0.510563</td><td style=\"text-align: right;\">        0.541254</td></tr>\n",
       "<tr><td>train_hesitation_85eb04ef</td><td>TERMINATED</td><td>172.18.58.174:72623</td><td>filter2            </td><td style=\"text-align: right;\">    0.00239763 </td><td>CnnMFCC             </td><td style=\"text-align: right;\">   0.00194336 </td><td style=\"text-align: right;\">     3</td><td style=\"text-align: right;\">        1.75261 </td><td style=\"text-align: right;\">          1.53127</td><td style=\"text-align: right;\">        0.481481</td><td style=\"text-align: right;\">        0.490909</td></tr>\n",
       "<tr><td>train_hesitation_ae69ea09</td><td>TERMINATED</td><td>172.18.58.174:72816</td><td>filter2            </td><td style=\"text-align: right;\">    0.00214228 </td><td>CnnMFCC             </td><td style=\"text-align: right;\">   0.00167996 </td><td style=\"text-align: right;\">     9</td><td style=\"text-align: right;\">        3.71167 </td><td style=\"text-align: right;\">          1.29104</td><td style=\"text-align: right;\">        0.481481</td><td style=\"text-align: right;\">        0.490909</td></tr>\n",
       "<tr><td>train_hesitation_c9fc37a3</td><td>TERMINATED</td><td>172.18.58.174:73029</td><td>filter2            </td><td style=\"text-align: right;\">    0.000123912</td><td>CnnMFCC             </td><td style=\"text-align: right;\">   0.000158708</td><td style=\"text-align: right;\">     3</td><td style=\"text-align: right;\">        1.80932 </td><td style=\"text-align: right;\">          1.27855</td><td style=\"text-align: right;\">        0.546296</td><td style=\"text-align: right;\">        0.550459</td></tr>\n",
       "<tr><td>train_hesitation_8bb06368</td><td>TERMINATED</td><td>172.18.58.174:73221</td><td>filter2            </td><td style=\"text-align: right;\">    6.59928e-05</td><td>CnnMFCC             </td><td style=\"text-align: right;\">   0.000142077</td><td style=\"text-align: right;\">    10</td><td style=\"text-align: right;\">        4.3319  </td><td style=\"text-align: right;\">          1.62167</td><td style=\"text-align: right;\">        0.444444</td><td style=\"text-align: right;\">        0.423077</td></tr>\n",
       "<tr><td>train_hesitation_070f1d21</td><td>TERMINATED</td><td>172.18.58.174:73429</td><td>filter0            </td><td style=\"text-align: right;\">    7.9999e-05 </td><td>CnnMFCC             </td><td style=\"text-align: right;\">   5.09254e-06</td><td style=\"text-align: right;\">     9</td><td style=\"text-align: right;\">        2.92667 </td><td style=\"text-align: right;\">          1.32834</td><td style=\"text-align: right;\">        0.551282</td><td style=\"text-align: right;\">        0.578313</td></tr>\n",
       "<tr><td>train_hesitation_a5c9f084</td><td>TERMINATED</td><td>172.18.58.174:73632</td><td>filter2            </td><td style=\"text-align: right;\">    4.68712e-05</td><td>CnnMFCC             </td><td style=\"text-align: right;\">   4.61654e-06</td><td style=\"text-align: right;\">     1</td><td style=\"text-align: right;\">        1.08448 </td><td style=\"text-align: right;\">          1.49856</td><td style=\"text-align: right;\">        0.509259</td><td style=\"text-align: right;\">        0.561983</td></tr>\n",
       "</tbody>\n",
       "</table>\n",
       "  </div>\n",
       "</div>\n",
       "<style>\n",
       ".tuneStatus {\n",
       "  color: var(--jp-ui-font-color1);\n",
       "}\n",
       ".tuneStatus .systemInfo {\n",
       "  display: flex;\n",
       "  flex-direction: column;\n",
       "}\n",
       ".tuneStatus td {\n",
       "  white-space: nowrap;\n",
       "}\n",
       ".tuneStatus .trialStatus {\n",
       "  display: flex;\n",
       "  flex-direction: column;\n",
       "}\n",
       ".tuneStatus h3 {\n",
       "  font-weight: bold;\n",
       "}\n",
       ".tuneStatus .hDivider {\n",
       "  border-bottom-width: var(--jp-border-width);\n",
       "  border-bottom-color: var(--jp-border-color0);\n",
       "  border-bottom-style: solid;\n",
       "}\n",
       ".tuneStatus .vDivider {\n",
       "  border-left-width: var(--jp-border-width);\n",
       "  border-left-color: var(--jp-border-color0);\n",
       "  border-left-style: solid;\n",
       "  margin: 0.5em 1em 0.5em 1em;\n",
       "}\n",
       "</style>\n"
      ],
      "text/plain": [
       "<IPython.core.display.HTML object>"
      ]
     },
     "metadata": {},
     "output_type": "display_data"
    },
    {
     "name": "stderr",
     "output_type": "stream",
     "text": [
      "\u001b[36m(train_hesitation pid=69703)\u001b[0m /home/glucas11/projects/repos/speech_feedback/.venv/lib/python3.10/site-packages/torchaudio/functional/functional.py:584: UserWarning: At least one mel filterbank has all zero values. The value for `n_mels` (128) may be set too high. Or, the value for `n_freqs` (201) may be set too low.\n",
      "\u001b[36m(train_hesitation pid=69703)\u001b[0m   warnings.warn(\n",
      "\u001b[36m(train_hesitation pid=69990)\u001b[0m /home/glucas11/projects/repos/speech_feedback/.venv/lib/python3.10/site-packages/torchaudio/functional/functional.py:584: UserWarning: At least one mel filterbank has all zero values. The value for `n_mels` (128) may be set too high. Or, the value for `n_freqs` (201) may be set too low.\n",
      "\u001b[36m(train_hesitation pid=69990)\u001b[0m   warnings.warn(\n",
      "\u001b[36m(train_hesitation pid=70210)\u001b[0m /home/glucas11/projects/repos/speech_feedback/.venv/lib/python3.10/site-packages/torchaudio/functional/functional.py:584: UserWarning: At least one mel filterbank has all zero values. The value for `n_mels` (128) may be set too high. Or, the value for `n_freqs` (201) may be set too low.\n",
      "\u001b[36m(train_hesitation pid=70210)\u001b[0m   warnings.warn(\n",
      "\u001b[36m(train_hesitation pid=70602)\u001b[0m /home/glucas11/projects/repos/speech_feedback/.venv/lib/python3.10/site-packages/torchaudio/functional/functional.py:584: UserWarning: At least one mel filterbank has all zero values. The value for `n_mels` (128) may be set too high. Or, the value for `n_freqs` (201) may be set too low.\u001b[32m [repeated 2x across cluster] (Ray deduplicates logs by default. Set RAY_DEDUP_LOGS=0 to disable log deduplication, or see https://docs.ray.io/en/master/ray-observability/user-guides/configure-logging.html#log-deduplication for more options.)\u001b[0m\n",
      "\u001b[36m(train_hesitation pid=70602)\u001b[0m   warnings.warn(\u001b[32m [repeated 2x across cluster]\u001b[0m\n",
      "\u001b[36m(train_hesitation pid=70817)\u001b[0m /home/glucas11/projects/repos/speech_feedback/.venv/lib/python3.10/site-packages/torchaudio/functional/functional.py:584: UserWarning: At least one mel filterbank has all zero values. The value for `n_mels` (128) may be set too high. Or, the value for `n_freqs` (201) may be set too low.\n",
      "\u001b[36m(train_hesitation pid=70817)\u001b[0m   warnings.warn(\n",
      "\u001b[36m(train_hesitation pid=71024)\u001b[0m /home/glucas11/projects/repos/speech_feedback/.venv/lib/python3.10/site-packages/torchaudio/functional/functional.py:584: UserWarning: At least one mel filterbank has all zero values. The value for `n_mels` (128) may be set too high. Or, the value for `n_freqs` (201) may be set too low.\n",
      "\u001b[36m(train_hesitation pid=71024)\u001b[0m   warnings.warn(\n",
      "\u001b[36m(train_hesitation pid=71424)\u001b[0m /home/glucas11/projects/repos/speech_feedback/.venv/lib/python3.10/site-packages/torchaudio/functional/functional.py:584: UserWarning: At least one mel filterbank has all zero values. The value for `n_mels` (128) may be set too high. Or, the value for `n_freqs` (201) may be set too low.\u001b[32m [repeated 2x across cluster]\u001b[0m\n",
      "\u001b[36m(train_hesitation pid=71424)\u001b[0m   warnings.warn(\u001b[32m [repeated 2x across cluster]\u001b[0m\n",
      "\u001b[36m(train_hesitation pid=71830)\u001b[0m /home/glucas11/projects/repos/speech_feedback/.venv/lib/python3.10/site-packages/torchaudio/functional/functional.py:584: UserWarning: At least one mel filterbank has all zero values. The value for `n_mels` (128) may be set too high. Or, the value for `n_freqs` (201) may be set too low.\u001b[32m [repeated 2x across cluster]\u001b[0m\n",
      "\u001b[36m(train_hesitation pid=71830)\u001b[0m   warnings.warn(\u001b[32m [repeated 2x across cluster]\u001b[0m\n",
      "\u001b[36m(train_hesitation pid=72216)\u001b[0m /home/glucas11/projects/repos/speech_feedback/.venv/lib/python3.10/site-packages/torchaudio/functional/functional.py:584: UserWarning: At least one mel filterbank has all zero values. The value for `n_mels` (128) may be set too high. Or, the value for `n_freqs` (201) may be set too low.\u001b[32m [repeated 2x across cluster]\u001b[0m\n",
      "\u001b[36m(train_hesitation pid=72216)\u001b[0m   warnings.warn(\u001b[32m [repeated 2x across cluster]\u001b[0m\n",
      "\u001b[36m(train_hesitation pid=72425)\u001b[0m /home/glucas11/projects/repos/speech_feedback/.venv/lib/python3.10/site-packages/torchaudio/functional/functional.py:584: UserWarning: At least one mel filterbank has all zero values. The value for `n_mels` (128) may be set too high. Or, the value for `n_freqs` (201) may be set too low.\n",
      "\u001b[36m(train_hesitation pid=72425)\u001b[0m   warnings.warn(\n",
      "\u001b[36m(train_hesitation pid=72623)\u001b[0m /home/glucas11/projects/repos/speech_feedback/.venv/lib/python3.10/site-packages/torchaudio/functional/functional.py:584: UserWarning: At least one mel filterbank has all zero values. The value for `n_mels` (128) may be set too high. Or, the value for `n_freqs` (201) may be set too low.\n",
      "\u001b[36m(train_hesitation pid=72623)\u001b[0m   warnings.warn(\n",
      "\u001b[36m(train_hesitation pid=73029)\u001b[0m /home/glucas11/projects/repos/speech_feedback/.venv/lib/python3.10/site-packages/torchaudio/functional/functional.py:584: UserWarning: At least one mel filterbank has all zero values. The value for `n_mels` (128) may be set too high. Or, the value for `n_freqs` (201) may be set too low.\u001b[32m [repeated 2x across cluster]\u001b[0m\n",
      "\u001b[36m(train_hesitation pid=73029)\u001b[0m   warnings.warn(\u001b[32m [repeated 2x across cluster]\u001b[0m\n",
      "\u001b[36m(train_hesitation pid=73429)\u001b[0m /home/glucas11/projects/repos/speech_feedback/.venv/lib/python3.10/site-packages/torchaudio/functional/functional.py:584: UserWarning: At least one mel filterbank has all zero values. The value for `n_mels` (128) may be set too high. Or, the value for `n_freqs` (201) may be set too low.\u001b[32m [repeated 2x across cluster]\u001b[0m\n",
      "\u001b[36m(train_hesitation pid=73429)\u001b[0m   warnings.warn(\u001b[32m [repeated 2x across cluster]\u001b[0m\n",
      "\u001b[36m(train_hesitation pid=73632)\u001b[0m /home/glucas11/projects/repos/speech_feedback/.venv/lib/python3.10/site-packages/torchaudio/functional/functional.py:584: UserWarning: At least one mel filterbank has all zero values. The value for `n_mels` (128) may be set too high. Or, the value for `n_freqs` (201) may be set too low.\n",
      "\u001b[36m(train_hesitation pid=73632)\u001b[0m   warnings.warn(\n",
      "2024-09-03 00:37:55,069\tINFO tune.py:1009 -- Wrote the latest version of all result files and experiment state to '/home/glucas11/ray_results/train_hesitation_2024-09-03_00-36-03' in 0.0058s.\n",
      "2024-09-03 00:37:55,076\tINFO tune.py:1041 -- Total run time: 109.10 seconds (109.07 seconds for the tuning loop).\n"
     ]
    }
   ],
   "source": [
    "trainable_with_resources = tune.with_resources(train_hesitation, {\"cpu\": max_cpus, \"gpu\": max_gpus})\n",
    "\n",
    "tuner = tune.Tuner(\n",
    "\ttrainable_with_resources,\n",
    "\ttune_config=tune.TuneConfig(\n",
    "\t\tnum_samples=20,\n",
    "\t\tsearch_alg=optuna_search,\n",
    "\t\tscheduler=asas_scheduler\n",
    "\t),\n",
    "\tparam_space=config,\n",
    ")\n",
    "results = tuner.fit()"
   ]
  },
  {
   "cell_type": "code",
   "execution_count": 14,
   "metadata": {},
   "outputs": [],
   "source": [
    "results.get_dataframe().to_csv(\"raytune_results.csv\")"
   ]
  },
  {
   "cell_type": "code",
   "execution_count": 16,
   "metadata": {},
   "outputs": [
    {
     "data": {
      "image/png": "[encoded data removed]",
      "text/plain": [
       "<Figure size 640x480 with 1 Axes>"
      ]
     },
     "metadata": {},
     "output_type": "display_data"
    }
   ],
   "source": [
    "df_results = results.get_dataframe()\n",
    "scores = df_results['val_f1_score'].plot(kind='hist', title='f1_score hist')"
   ]
  }
 ],
 "metadata": {
  "kernelspec": {
   "display_name": ".venv",
   "language": "python",
   "name": "python3"
  },
  "language_info": {
   "codemirror_mode": {
    "name": "ipython",
    "version": 3
   },
   "file_extension": ".py",
   "mimetype": "text/x-python",
   "name": "python",
   "nbconvert_exporter": "python",
   "pygments_lexer": "ipython3",
   "version": "3.10.12"
  }
 },
 "nbformat": 4,
 "nbformat_minor": 2
}
