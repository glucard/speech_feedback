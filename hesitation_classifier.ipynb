{
 "cells": [
  {
   "cell_type": "code",
   "execution_count": 1,
   "metadata": {},
   "outputs": [],
   "source": [
    "from IPython.display import Audio\n",
    "import random\n",
    "import matplotlib.pyplot as plt\n",
    "import tempfile\n",
    "import numpy as np\n",
    "import pandas as pd\n",
    "import os"
   ]
  },
  {
   "cell_type": "code",
   "execution_count": 2,
   "metadata": {},
   "outputs": [],
   "source": [
    "import torch\n",
    "from torch import optim\n",
    "from torch.nn.functional import cross_entropy\n",
    "import torchaudio\n",
    "import torchaudio.transforms as T\n",
    "from torch.optim.lr_scheduler import ReduceLROnPlateau"
   ]
  },
  {
   "cell_type": "code",
   "execution_count": 3,
   "metadata": {},
   "outputs": [],
   "source": [
    "from sklearn.metrics import confusion_matrix, ConfusionMatrixDisplay, accuracy_score, f1_score, classification_report"
   ]
  },
  {
   "cell_type": "code",
   "execution_count": 4,
   "metadata": {},
   "outputs": [],
   "source": [
    "import ray\n",
    "from ray import tune\n",
    "from ray import train\n",
    "from ray.train import Checkpoint\n",
    "from ray.tune.search.optuna import OptunaSearch\n",
    "from ray.tune.schedulers import ASHAScheduler\n",
    "from ray.train import RunConfig\n",
    "from ray.tune import CLIReporter"
   ]
  },
  {
   "cell_type": "code",
   "execution_count": 5,
   "metadata": {},
   "outputs": [],
   "source": [
    "from src.custom_audio_dataset import CustomAudioDataset\n",
    "from src.models import CnnMFCC\n",
    "from src.utils import pad_collate_fn, plot_spectrogram, dataloader_from_filter\n",
    "from src.datasets import get_data_path\n",
    "from src import custom_layers\n",
    "from src.hesitation import coraa_filters"
   ]
  },
  {
   "cell_type": "code",
   "execution_count": 6,
   "metadata": {},
   "outputs": [
    {
     "data": {
      "text/plain": [
       "'cuda'"
      ]
     },
     "execution_count": 6,
     "metadata": {},
     "output_type": "execute_result"
    }
   ],
   "source": [
    "DEVICE = \"cuda\" if torch.cuda.is_available() else \"cpu\"\n",
    "\n",
    "MAX_EPOCH = 15\n",
    "\n",
    "TRAIN_SIZE = 0.6\n",
    "TEST_FROM_VAL_SIZE = 0.5\n",
    "\n",
    "SAMPLE_RATE = 16_000\n",
    "MAX_SECONDS_DURATION = 10\n",
    "\n",
    "MAX_FEATURES_IN = SAMPLE_RATE * MAX_SECONDS_DURATION\n",
    "\n",
    "DEVICE"
   ]
  },
  {
   "cell_type": "code",
   "execution_count": 7,
   "metadata": {},
   "outputs": [
    {
     "data": {
      "text/plain": [
       "('/home/glucas11/projects/repos/speech_feedback/temp_datasets/hesitation_dev/annotations.csv',\n",
       " '/home/glucas11/projects/repos/speech_feedback/temp_datasets/hesitation_dev')"
      ]
     },
     "execution_count": 7,
     "metadata": {},
     "output_type": "execute_result"
    }
   ],
   "source": [
    "annotations_file_path, data_dir_path = get_data_path(\"hesitation_dev\")\n",
    "annotations_file_path, data_dir_path"
   ]
  },
  {
   "cell_type": "code",
   "execution_count": 8,
   "metadata": {},
   "outputs": [],
   "source": [
    "train_data_transform = torch.nn.Sequential(\n",
    "    # custom_layers.RandomPitchShiftLayer(p=0.001, sample_rate=SAMPLE_RATE, min_steps=-5, max_steps=5), # too heavy\n",
    "    # custom_layers.ReverberationLayer(1,400), # not working yet\n",
    "    custom_layers.PadOrTruncateLayer(MAX_FEATURES_IN),\n",
    "    custom_layers.NoiseLayer(p=0.5, noise_factor=0.05),\n",
    ")\n",
    "data_transform = torch.nn.Sequential(\n",
    "    custom_layers.PadOrTruncateLayer(MAX_FEATURES_IN),\n",
    ")"
   ]
  },
  {
   "cell_type": "code",
   "execution_count": 9,
   "metadata": {},
   "outputs": [],
   "source": [
    "filters_func = {\n",
    "    \"filter0\": coraa_filters.filter0,\n",
    "    \"filter1\": coraa_filters.filter1,\n",
    "    \"filter2\": coraa_filters.filter2,\n",
    "}\n",
    "\n",
    "models_arch = {\n",
    "    \"CnnMFCC\": CnnMFCC,\n",
    "}"
   ]
  },
  {
   "cell_type": "code",
   "execution_count": 10,
   "metadata": {},
   "outputs": [],
   "source": [
    "def train_func(model, optimizer, dataloader):\n",
    "\tmodel.train()\n",
    "\tlosses = []\n",
    "\tpred_np = []\n",
    "\ttarget_np = []\n",
    "\tfor batch_idx, (data, target) in enumerate(dataloader):\n",
    "\t\toptimizer.zero_grad()\n",
    "\t\tdata, target = data.to(DEVICE), target.to(DEVICE)\n",
    "\t\tlogits = model(data)\n",
    "\t\tloss = cross_entropy(logits, target)\n",
    "\t\tlosses.append(loss.item())\n",
    "\t\tloss.backward()\n",
    "\t\toptimizer.step()\n",
    "\t\t\n",
    "\t\tpreds = torch.max(logits, dim=1).indices\n",
    "\t\tpred_np.append(preds.detach().cpu().numpy())\n",
    "\t\ttarget_np.append(target.detach().cpu().numpy())\n",
    "\t\n",
    "\tpred_np = np.concatenate(pred_np)\n",
    "\ttarget_np = np.concatenate(target_np)\n",
    "\n",
    "\treturn {\n",
    "\t\t\"mean_loss\": sum(losses) / len(losses),\n",
    "\t\t\"accuracy\": accuracy_score(target_np, pred_np),\n",
    "\t\t\"f1_score\": f1_score(target_np, pred_np),\n",
    "\t\t# \"confusion_matrix\": confusion_matrix(target_np, pred_np),\n",
    "\t}\n",
    "\n",
    "def validate_func(model, dataloader):\n",
    "\tmodel.eval()\n",
    "\t\n",
    "\tlosses = []\n",
    "\tpred_np = []\n",
    "\ttarget_np = []\n",
    "\twith torch.no_grad():\n",
    "\t\tfor batch_idx, (data, target) in enumerate(dataloader):\n",
    "\t\t\tdata, target = data.to(DEVICE), target.to(DEVICE)\n",
    "\t\t\tlogits = model(data)\n",
    "\t\t\tloss = cross_entropy(logits, target)\n",
    "\t\t\tlosses.append(loss.item())\n",
    "\t\t\t\n",
    "\t\t\tpreds = torch.max(logits, dim=1).indices\n",
    "\t\t\tpred_np.append(preds.detach().cpu().numpy())\n",
    "\t\t\ttarget_np.append(target.detach().cpu().numpy())\n",
    "\n",
    "\tpred_np = np.concatenate(pred_np)\n",
    "\ttarget_np = np.concatenate(target_np)\n",
    "\n",
    "\treturn {\n",
    "\t\t\"mean_loss\": sum(losses) / len(losses),\n",
    "\t\t\"accuracy\": accuracy_score(target_np, pred_np),\n",
    "\t\t\"f1_score\": f1_score(target_np, pred_np),\n",
    "\t}"
   ]
  },
  {
   "cell_type": "code",
   "execution_count": 11,
   "metadata": {},
   "outputs": [],
   "source": [
    "def train_hesitation(config:dict, max_epochs=30, tunning=True):\n",
    "\tfilter_func = filters_func[config[\"coraa_filter_func\"]]\n",
    "\ttrain_dataloader, val_dataloader, test_dataloader = dataloader_from_filter(\n",
    "\t\tannotations_file_path=annotations_file_path,\n",
    "\t\tdata_dir_path=data_dir_path,\n",
    "\t\tfilter=filter_func,\n",
    "\t\ttarget_column_name=\"has_hesitation\",\n",
    "\t\ttrain_data_transform=train_data_transform,\n",
    "\t\tdata_transform=data_transform,\n",
    "\t\ttrain_size=0.6,\n",
    "\t\ttest_from_val_size=0.5\n",
    "\t)\n",
    "\tmodel_architecture = models_arch[config['model_architecture']]\n",
    "\tmodel = model_architecture(n_classes=2, sample_rate=SAMPLE_RATE, max_audio_length_seconds=MAX_SECONDS_DURATION, dropout=config['dropout'])\n",
    "\tmodel = model.to(DEVICE)\n",
    "\n",
    "\toptimizer = optim.Adam(model.parameters(), lr=config['learning_rate'], weight_decay=config['weight_decay'])\n",
    "\n",
    "\t# early_stopping_patience = 5  # Number of epochs to wait before stopping\n",
    "\tscheduler = ReduceLROnPlateau(optimizer, mode='min', factor=0.7, patience=3)\n",
    "\tfor i in range(max_epochs):\n",
    "\t\ttrain_log = train_func(model, optimizer, train_dataloader)\n",
    "\t\tval_log = validate_func(model, val_dataloader)\n",
    "\t\t\n",
    "\t\tscheduler.step(val_log['mean_loss'])\n",
    "\n",
    "\t\tif tunning:\n",
    "\t\t\twith tempfile.TemporaryDirectory() as temp_checkpoint_dir:\n",
    "\t\t\t\tcheckpoint = None\n",
    "\t\t\t\tif (i + 1) % max_epochs == 0 and (val_log[\"mean_loss\"] < 0.4):\n",
    "\t\t\t\t\t# This saves the model to the trial directory\n",
    "\t\t\t\t\ttorch.save(\n",
    "\t\t\t\t\t\tmodel.state_dict(),\n",
    "\t\t\t\t\t\tos.path.join(temp_checkpoint_dir, \"model.pth\")\n",
    "\t\t\t\t\t)\n",
    "\t\t\t\t\tcheckpoint = Checkpoint.from_directory(temp_checkpoint_dir)\n",
    "\n",
    "\t\t\t\t# Send the current training result back to Tune\n",
    "\t\t\t\ttrain.report(\n",
    "\t\t\t\t\t{\n",
    "\t\t\t\t\t\t\"train_mean_loss\": train_log[\"mean_loss\"],\n",
    "\t\t\t\t\t\t\"train_accuracy\": train_log[\"accuracy\"],\n",
    "\t\t\t\t\t\t\"train_f1_score\": train_log[\"f1_score\"],\n",
    "\t\t\t\t\t\t\"val_mean_loss\": val_log[\"mean_loss\"],\n",
    "\t\t\t\t\t\t\"val_accuracy\": val_log[\"accuracy\"],\n",
    "\t\t\t\t\t\t\"val_f1_score\": val_log[\"f1_score\"],\n",
    "\t\t\t\t\t},\n",
    "\t\t\t\t\tcheckpoint=checkpoint\n",
    "\t\t\t\t)\n",
    "\t\telse:\n",
    "\t\t\tprint(\"-\"*10, f\"epoch: {i+1}/{max_epochs}\",\"-\"*10)\n",
    "\t\t\tprint(f\"train: {train_log}\\nval: {val_log}\")\n",
    "\tif not tunning:\n",
    "\t\treturn {\n",
    "\t\t\t\"model\": model,\n",
    "\t\t\t\"test_dataloader\": test_dataloader,\n",
    "\t\t}\n",
    "\ttest_log = validate_func(model, test_dataloader)\n",
    "\tprint(test_log)\n",
    "\ttrain.report(\n",
    "\t\t{\n",
    "\t\t\t\"test_mean_loss\": test_log[\"mean_loss\"],\n",
    "\t\t\t\"test_accuracy\": test_log[\"accuracy\"],\n",
    "\t\t\t\"test_f1_score\": test_log[\"f1_score\"],\n",
    "\t\t},\n",
    "\t\tcheckpoint=checkpoint\n",
    "\t)"
   ]
  },
  {
   "cell_type": "code",
   "execution_count": 12,
   "metadata": {},
   "outputs": [],
   "source": [
    "max_cpus = os.cpu_count()\n",
    "max_gpus = torch.cuda.device_count()\n",
    "max_cpus, max_gpus\n",
    "\n",
    "config = {\n",
    "    \"dropout\": tune.uniform(0.0, 1.0),\n",
    "    \"coraa_filter_func\": tune.choice(filters_func.keys()),\n",
    "    \"learning_rate\":  tune.loguniform(1e-5, 1e-0),\n",
    "\t\"weight_decay\": tune.loguniform(1e-6, 1e-2),\n",
    "    \"model_architecture\": tune.choice(models_arch.keys()),\n",
    "}\n",
    "\n",
    "metric = \"val_f1_score\"\n",
    "mode = \"max\"\n",
    "\n",
    "optuna_search = OptunaSearch(\n",
    "\tmetric=metric,\n",
    "\tmode=mode,\n",
    "\t# points_to_evaluate = curr_best_params,\n",
    ")\n",
    "\n",
    "asas_scheduler = ASHAScheduler(\n",
    "\ttime_attr='training_iteration',\n",
    "\tmetric=metric,\n",
    "\tmode=mode,\n",
    "\tmax_t=30,\n",
    "\tgrace_period=1,\n",
    "\treduction_factor=3,\n",
    "\tbrackets=2\n",
    ")\n"
   ]
  },
  {
   "cell_type": "code",
   "execution_count": 13,
   "metadata": {},
   "outputs": [],
   "source": [
    "pd.set_option('display.max_columns', None)  # Show all columns\n",
    "pd.set_option('display.max_rows', None)     # Show all rows\n",
    "pd.set_option('display.max_colwidth', None)   # No limit on column width\n",
    "pd.set_option('display.width', 1000)        # Set the display width to a large number"
   ]
  },
  {
   "cell_type": "code",
   "execution_count": 14,
   "metadata": {},
   "outputs": [
    {
     "data": {
      "text/html": [
       "<div class=\"tuneStatus\">\n",
       "  <div style=\"display: flex;flex-direction: row\">\n",
       "    <div style=\"display: flex;flex-direction: column;\">\n",
       "      <h3>Tune Status</h3>\n",
       "      <table>\n",
       "<tbody>\n",
       "<tr><td>Current time:</td><td>2024-09-03 11:06:06</td></tr>\n",
       "<tr><td>Running for: </td><td>00:10:39.01        </td></tr>\n",
       "<tr><td>Memory:      </td><td>5.0/15.6 GiB       </td></tr>\n",
       "</tbody>\n",
       "</table>\n",
       "    </div>\n",
       "    <div class=\"vDivider\"></div>\n",
       "    <div class=\"systemInfo\">\n",
       "      <h3>System Info</h3>\n",
       "      Using AsyncHyperBand: num_stopped=100<br>Bracket: Iter 27.000: 0.6415094339622641 | Iter 9.000: 0.6415094339622641 | Iter 3.000: 0.6415094339622641 | Iter 1.000: 0.5945945945945947<br>Bracket: Iter 27.000: 0.6720867208672087 | Iter 9.000: 0.6587301587301587 | Iter 3.000: 0.6271929824561403<br>Logical resource usage: 16.0/16 CPUs, 1.0/1 GPUs (0.0/1.0 accelerator_type:G)\n",
       "    </div>\n",
       "    \n",
       "  </div>\n",
       "  <div class=\"hDivider\"></div>\n",
       "  <div class=\"trialStatus\">\n",
       "    <h3>Trial Status</h3>\n",
       "    <table>\n",
       "<thead>\n",
       "<tr><th>Trial name               </th><th>status    </th><th>loc                 </th><th>coraa_filter_func  </th><th style=\"text-align: right;\">   dropout</th><th style=\"text-align: right;\">  learning_rate</th><th>model_architecture  </th><th style=\"text-align: right;\">  weight_decay</th><th style=\"text-align: right;\">  iter</th><th style=\"text-align: right;\">  total time (s)</th><th style=\"text-align: right;\">  train_mean_loss</th><th style=\"text-align: right;\">  train_accuracy</th><th style=\"text-align: right;\">  train_f1_score</th></tr>\n",
       "</thead>\n",
       "<tbody>\n",
       "<tr><td>train_hesitation_66deb401</td><td>TERMINATED</td><td>172.18.58.174:89165 </td><td>filter1            </td><td style=\"text-align: right;\">0.939744  </td><td style=\"text-align: right;\">    0.00291858 </td><td>CnnMFCC             </td><td style=\"text-align: right;\">   1.15933e-05</td><td style=\"text-align: right;\">    30</td><td style=\"text-align: right;\">       31.0244  </td><td style=\"text-align: right;\">         2.35584 </td><td style=\"text-align: right;\">        0.524648</td><td style=\"text-align: right;\">        0.498141</td></tr>\n",
       "<tr><td>train_hesitation_835cd54c</td><td>TERMINATED</td><td>172.18.58.174:89662 </td><td>filter0            </td><td style=\"text-align: right;\">0.538528  </td><td style=\"text-align: right;\">    2.46723e-05</td><td>CnnMFCC             </td><td style=\"text-align: right;\">   0.000191022</td><td style=\"text-align: right;\">    30</td><td style=\"text-align: right;\">        8.01943 </td><td style=\"text-align: right;\">         1.32486 </td><td style=\"text-align: right;\">        0.525641</td><td style=\"text-align: right;\">        0.574713</td></tr>\n",
       "<tr><td>train_hesitation_af3991fe</td><td>TERMINATED</td><td>172.18.58.174:89893 </td><td>filter0            </td><td style=\"text-align: right;\">0.697694  </td><td style=\"text-align: right;\">    0.539751   </td><td>CnnMFCC             </td><td style=\"text-align: right;\">   0.00239708 </td><td style=\"text-align: right;\">     1</td><td style=\"text-align: right;\">        1.04358 </td><td style=\"text-align: right;\">        50.8264  </td><td style=\"text-align: right;\">        0.512821</td><td style=\"text-align: right;\">        0.547619</td></tr>\n",
       "<tr><td>train_hesitation_dc06696c</td><td>TERMINATED</td><td>172.18.58.174:90074 </td><td>filter0            </td><td style=\"text-align: right;\">0.689964  </td><td style=\"text-align: right;\">    0.38926    </td><td>CnnMFCC             </td><td style=\"text-align: right;\">   0.000437209</td><td style=\"text-align: right;\">     3</td><td style=\"text-align: right;\">        1.48174 </td><td style=\"text-align: right;\">        67.8716  </td><td style=\"text-align: right;\">        0.576923</td><td style=\"text-align: right;\">        0.571429</td></tr>\n",
       "<tr><td>train_hesitation_4f3086e5</td><td>TERMINATED</td><td>172.18.58.174:90257 </td><td>filter1            </td><td style=\"text-align: right;\">0.164151  </td><td style=\"text-align: right;\">    3.72174e-05</td><td>CnnMFCC             </td><td style=\"text-align: right;\">   1.22002e-06</td><td style=\"text-align: right;\">     3</td><td style=\"text-align: right;\">        3.36675 </td><td style=\"text-align: right;\">         0.742675</td><td style=\"text-align: right;\">        0.521127</td><td style=\"text-align: right;\">        0.428571</td></tr>\n",
       "<tr><td>train_hesitation_912f15e8</td><td>TERMINATED</td><td>172.18.58.174:90454 </td><td>filter2            </td><td style=\"text-align: right;\">0.266479  </td><td style=\"text-align: right;\">    0.000989524</td><td>CnnMFCC             </td><td style=\"text-align: right;\">   0.00100315 </td><td style=\"text-align: right;\">    30</td><td style=\"text-align: right;\">       11.76    </td><td style=\"text-align: right;\">         0.677199</td><td style=\"text-align: right;\">        0.574074</td><td style=\"text-align: right;\">        0.629032</td></tr>\n",
       "<tr><td>train_hesitation_e0c8940d</td><td>TERMINATED</td><td>172.18.58.174:90714 </td><td>filter1            </td><td style=\"text-align: right;\">0.939536  </td><td style=\"text-align: right;\">    0.962433   </td><td>CnnMFCC             </td><td style=\"text-align: right;\">   7.52232e-06</td><td style=\"text-align: right;\">     1</td><td style=\"text-align: right;\">        1.76179 </td><td style=\"text-align: right;\">       497.311   </td><td style=\"text-align: right;\">        0.507042</td><td style=\"text-align: right;\">        0.52381 </td></tr>\n",
       "<tr><td>train_hesitation_2e3451b0</td><td>TERMINATED</td><td>172.18.58.174:90903 </td><td>filter2            </td><td style=\"text-align: right;\">0.171214  </td><td style=\"text-align: right;\">    0.332832   </td><td>CnnMFCC             </td><td style=\"text-align: right;\">   5.19672e-06</td><td style=\"text-align: right;\">     3</td><td style=\"text-align: right;\">        1.92878 </td><td style=\"text-align: right;\">        17.0268  </td><td style=\"text-align: right;\">        0.453704</td><td style=\"text-align: right;\">        0.528   </td></tr>\n",
       "<tr><td>train_hesitation_2aab0955</td><td>TERMINATED</td><td>172.18.58.174:91094 </td><td>filter2            </td><td style=\"text-align: right;\">0.476829  </td><td style=\"text-align: right;\">    0.00134456 </td><td>CnnMFCC             </td><td style=\"text-align: right;\">   3.04725e-05</td><td style=\"text-align: right;\">    27</td><td style=\"text-align: right;\">       10.7414  </td><td style=\"text-align: right;\">         0.712517</td><td style=\"text-align: right;\">        0.611111</td><td style=\"text-align: right;\">        0.655738</td></tr>\n",
       "<tr><td>train_hesitation_19102ec9</td><td>TERMINATED</td><td>172.18.58.174:91361 </td><td>filter0            </td><td style=\"text-align: right;\">0.778186  </td><td style=\"text-align: right;\">    0.00289035 </td><td>CnnMFCC             </td><td style=\"text-align: right;\">   0.000904461</td><td style=\"text-align: right;\">     1</td><td style=\"text-align: right;\">        1.02327 </td><td style=\"text-align: right;\">         2.07604 </td><td style=\"text-align: right;\">        0.397436</td><td style=\"text-align: right;\">        0.405063</td></tr>\n",
       "<tr><td>train_hesitation_847f03d3</td><td>TERMINATED</td><td>172.18.58.174:91543 </td><td>filter1            </td><td style=\"text-align: right;\">0.390934  </td><td style=\"text-align: right;\">    0.000286329</td><td>CnnMFCC             </td><td style=\"text-align: right;\">   0.000237856</td><td style=\"text-align: right;\">     1</td><td style=\"text-align: right;\">        1.70757 </td><td style=\"text-align: right;\">         0.878637</td><td style=\"text-align: right;\">        0.510563</td><td style=\"text-align: right;\">        0.467433</td></tr>\n",
       "<tr><td>train_hesitation_4a9418d3</td><td>TERMINATED</td><td>172.18.58.174:91735 </td><td>filter0            </td><td style=\"text-align: right;\">0.452454  </td><td style=\"text-align: right;\">    1.52893e-05</td><td>CnnMFCC             </td><td style=\"text-align: right;\">   0.0082207  </td><td style=\"text-align: right;\">     1</td><td style=\"text-align: right;\">        1.08841 </td><td style=\"text-align: right;\">         0.848299</td><td style=\"text-align: right;\">        0.525641</td><td style=\"text-align: right;\">        0.554217</td></tr>\n",
       "<tr><td>train_hesitation_c5914f90</td><td>TERMINATED</td><td>172.18.58.174:91924 </td><td>filter2            </td><td style=\"text-align: right;\">0.500391  </td><td style=\"text-align: right;\">    1.87742e-05</td><td>CnnMFCC             </td><td style=\"text-align: right;\">   7.6671e-05 </td><td style=\"text-align: right;\">    30</td><td style=\"text-align: right;\">       11.8637  </td><td style=\"text-align: right;\">         0.996078</td><td style=\"text-align: right;\">        0.453704</td><td style=\"text-align: right;\">        0.504202</td></tr>\n",
       "<tr><td>train_hesitation_20751e72</td><td>TERMINATED</td><td>172.18.58.174:92195 </td><td>filter2            </td><td style=\"text-align: right;\">0.558761  </td><td style=\"text-align: right;\">    0.0376959  </td><td>CnnMFCC             </td><td style=\"text-align: right;\">   6.15086e-05</td><td style=\"text-align: right;\">     9</td><td style=\"text-align: right;\">        4.27351 </td><td style=\"text-align: right;\">         2.3428  </td><td style=\"text-align: right;\">        0.509259</td><td style=\"text-align: right;\">        0.504673</td></tr>\n",
       "<tr><td>train_hesitation_a2516bfb</td><td>TERMINATED</td><td>172.18.58.174:92397 </td><td>filter2            </td><td style=\"text-align: right;\">0.598411  </td><td style=\"text-align: right;\">    0.000121514</td><td>CnnMFCC             </td><td style=\"text-align: right;\">   6.99051e-05</td><td style=\"text-align: right;\">    30</td><td style=\"text-align: right;\">       11.9225  </td><td style=\"text-align: right;\">         1.06801 </td><td style=\"text-align: right;\">        0.518519</td><td style=\"text-align: right;\">        0.509434</td></tr>\n",
       "<tr><td>train_hesitation_48d7863d</td><td>TERMINATED</td><td>172.18.58.174:92657 </td><td>filter2            </td><td style=\"text-align: right;\">0.00564741</td><td style=\"text-align: right;\">    9.2329e-05 </td><td>CnnMFCC             </td><td style=\"text-align: right;\">   0.000200821</td><td style=\"text-align: right;\">     1</td><td style=\"text-align: right;\">        1.20595 </td><td style=\"text-align: right;\">         0.871478</td><td style=\"text-align: right;\">        0.527778</td><td style=\"text-align: right;\">        0.690909</td></tr>\n",
       "<tr><td>train_hesitation_76c5ea91</td><td>TERMINATED</td><td>172.18.58.174:92839 </td><td>filter0            </td><td style=\"text-align: right;\">0.282349  </td><td style=\"text-align: right;\">    1.11953e-05</td><td>CnnMFCC             </td><td style=\"text-align: right;\">   0.000157733</td><td style=\"text-align: right;\">     1</td><td style=\"text-align: right;\">        1.04578 </td><td style=\"text-align: right;\">         0.975037</td><td style=\"text-align: right;\">        0.5     </td><td style=\"text-align: right;\">        0.170213</td></tr>\n",
       "<tr><td>train_hesitation_e142a9fc</td><td>TERMINATED</td><td>172.18.58.174:93014 </td><td>filter0            </td><td style=\"text-align: right;\">0.327772  </td><td style=\"text-align: right;\">    1.55974e-05</td><td>CnnMFCC             </td><td style=\"text-align: right;\">   2.62817e-05</td><td style=\"text-align: right;\">    30</td><td style=\"text-align: right;\">        8.23017 </td><td style=\"text-align: right;\">         0.761195</td><td style=\"text-align: right;\">        0.525641</td><td style=\"text-align: right;\">        0.574713</td></tr>\n",
       "<tr><td>train_hesitation_e01be281</td><td>TERMINATED</td><td>172.18.58.174:93251 </td><td>filter0            </td><td style=\"text-align: right;\">0.822391  </td><td style=\"text-align: right;\">    0.0173351  </td><td>CnnMFCC             </td><td style=\"text-align: right;\">   2.77157e-05</td><td style=\"text-align: right;\">     3</td><td style=\"text-align: right;\">        1.57959 </td><td style=\"text-align: right;\">         7.01122 </td><td style=\"text-align: right;\">        0.474359</td><td style=\"text-align: right;\">        0.467532</td></tr>\n",
       "<tr><td>train_hesitation_36ba84cf</td><td>TERMINATED</td><td>172.18.58.174:93450 </td><td>filter2            </td><td style=\"text-align: right;\">0.367321  </td><td style=\"text-align: right;\">    0.0412094  </td><td>CnnMFCC             </td><td style=\"text-align: right;\">   2.68368e-05</td><td style=\"text-align: right;\">    27</td><td style=\"text-align: right;\">       10.7609  </td><td style=\"text-align: right;\">         0.58177 </td><td style=\"text-align: right;\">        0.62963 </td><td style=\"text-align: right;\">        0.636364</td></tr>\n",
       "<tr><td>train_hesitation_c38e22e4</td><td>TERMINATED</td><td>172.18.58.174:93731 </td><td>filter2            </td><td style=\"text-align: right;\">0.324921  </td><td style=\"text-align: right;\">    0.000341139</td><td>CnnMFCC             </td><td style=\"text-align: right;\">   2.38835e-06</td><td style=\"text-align: right;\">     1</td><td style=\"text-align: right;\">        1.15106 </td><td style=\"text-align: right;\">         0.935129</td><td style=\"text-align: right;\">        0.462963</td><td style=\"text-align: right;\">        0.532258</td></tr>\n",
       "<tr><td>train_hesitation_6b2dc26a</td><td>TERMINATED</td><td>172.18.58.174:93910 </td><td>filter2            </td><td style=\"text-align: right;\">0.0946349 </td><td style=\"text-align: right;\">    0.000414608</td><td>CnnMFCC             </td><td style=\"text-align: right;\">   1.91693e-06</td><td style=\"text-align: right;\">     3</td><td style=\"text-align: right;\">        1.82491 </td><td style=\"text-align: right;\">         0.710166</td><td style=\"text-align: right;\">        0.537037</td><td style=\"text-align: right;\">        0.568966</td></tr>\n",
       "<tr><td>train_hesitation_2a054fb9</td><td>TERMINATED</td><td>172.18.58.174:94100 </td><td>filter2            </td><td style=\"text-align: right;\">0.398198  </td><td style=\"text-align: right;\">    0.0207947  </td><td>CnnMFCC             </td><td style=\"text-align: right;\">   2.17625e-05</td><td style=\"text-align: right;\">     3</td><td style=\"text-align: right;\">        2.10349 </td><td style=\"text-align: right;\">         1.45754 </td><td style=\"text-align: right;\">        0.481481</td><td style=\"text-align: right;\">        0.5     </td></tr>\n",
       "<tr><td>train_hesitation_2986b04e</td><td>TERMINATED</td><td>172.18.58.174:94285 </td><td>filter2            </td><td style=\"text-align: right;\">0.328165  </td><td style=\"text-align: right;\">    0.0375414  </td><td>CnnMFCC             </td><td style=\"text-align: right;\">   1.62589e-05</td><td style=\"text-align: right;\">     1</td><td style=\"text-align: right;\">        1.16174 </td><td style=\"text-align: right;\">         5.72671 </td><td style=\"text-align: right;\">        0.444444</td><td style=\"text-align: right;\">        0.411765</td></tr>\n",
       "<tr><td>train_hesitation_6b53e736</td><td>TERMINATED</td><td>172.18.58.174:94468 </td><td>filter2            </td><td style=\"text-align: right;\">0.366742  </td><td style=\"text-align: right;\">    0.111329   </td><td>CnnMFCC             </td><td style=\"text-align: right;\">   5.20411e-05</td><td style=\"text-align: right;\">     9</td><td style=\"text-align: right;\">        3.80926 </td><td style=\"text-align: right;\">         2.33929 </td><td style=\"text-align: right;\">        0.462963</td><td style=\"text-align: right;\">        0.45283 </td></tr>\n",
       "<tr><td>train_hesitation_81638178</td><td>TERMINATED</td><td>172.18.58.174:94676 </td><td>filter2            </td><td style=\"text-align: right;\">0.211558  </td><td style=\"text-align: right;\">    0.144734   </td><td>CnnMFCC             </td><td style=\"text-align: right;\">   5.57407e-05</td><td style=\"text-align: right;\">     9</td><td style=\"text-align: right;\">        3.98472 </td><td style=\"text-align: right;\">         2.07928 </td><td style=\"text-align: right;\">        0.472222</td><td style=\"text-align: right;\">        0.435644</td></tr>\n",
       "<tr><td>train_hesitation_ccc8e1a8</td><td>TERMINATED</td><td>172.18.58.174:94878 </td><td>filter0            </td><td style=\"text-align: right;\">0.22543   </td><td style=\"text-align: right;\">    0.00962036 </td><td>CnnMFCC             </td><td style=\"text-align: right;\">   5.038e-06  </td><td style=\"text-align: right;\">     1</td><td style=\"text-align: right;\">        1.03456 </td><td style=\"text-align: right;\">         1.85338 </td><td style=\"text-align: right;\">        0.474359</td><td style=\"text-align: right;\">        0.549451</td></tr>\n",
       "<tr><td>train_hesitation_7e5a721a</td><td>TERMINATED</td><td>172.18.58.174:95059 </td><td>filter0            </td><td style=\"text-align: right;\">0.451489  </td><td style=\"text-align: right;\">    5.44376e-05</td><td>CnnMFCC             </td><td style=\"text-align: right;\">   3.38696e-06</td><td style=\"text-align: right;\">     1</td><td style=\"text-align: right;\">        1.03436 </td><td style=\"text-align: right;\">         1.29444 </td><td style=\"text-align: right;\">        0.397436</td><td style=\"text-align: right;\">        0.356164</td></tr>\n",
       "<tr><td>train_hesitation_f3a21541</td><td>TERMINATED</td><td>172.18.58.174:95241 </td><td>filter2            </td><td style=\"text-align: right;\">0.645661  </td><td style=\"text-align: right;\">    4.59917e-05</td><td>CnnMFCC             </td><td style=\"text-align: right;\">   0.000108263</td><td style=\"text-align: right;\">     1</td><td style=\"text-align: right;\">        1.10598 </td><td style=\"text-align: right;\">         1.39242 </td><td style=\"text-align: right;\">        0.444444</td><td style=\"text-align: right;\">        0.444444</td></tr>\n",
       "<tr><td>train_hesitation_d98f4fe6</td><td>TERMINATED</td><td>172.18.58.174:95423 </td><td>filter1            </td><td style=\"text-align: right;\">0.630362  </td><td style=\"text-align: right;\">    0.000133184</td><td>CnnMFCC             </td><td style=\"text-align: right;\">   1.00976e-05</td><td style=\"text-align: right;\">     1</td><td style=\"text-align: right;\">        1.55729 </td><td style=\"text-align: right;\">         1.22953 </td><td style=\"text-align: right;\">        0.517606</td><td style=\"text-align: right;\">        0.38009 </td></tr>\n",
       "<tr><td>train_hesitation_b3a5c187</td><td>TERMINATED</td><td>172.18.58.174:95606 </td><td>filter1            </td><td style=\"text-align: right;\">0.510306  </td><td style=\"text-align: right;\">    0.00702125 </td><td>CnnMFCC             </td><td style=\"text-align: right;\">   1.23767e-05</td><td style=\"text-align: right;\">     1</td><td style=\"text-align: right;\">        1.57304 </td><td style=\"text-align: right;\">         1.37272 </td><td style=\"text-align: right;\">        0.482394</td><td style=\"text-align: right;\">        0.480565</td></tr>\n",
       "<tr><td>train_hesitation_b15f7ce3</td><td>TERMINATED</td><td>172.18.58.174:95787 </td><td>filter1            </td><td style=\"text-align: right;\">0.532937  </td><td style=\"text-align: right;\">    0.00327526 </td><td>CnnMFCC             </td><td style=\"text-align: right;\">   1.43371e-05</td><td style=\"text-align: right;\">     3</td><td style=\"text-align: right;\">        3.32399 </td><td style=\"text-align: right;\">         1.14359 </td><td style=\"text-align: right;\">        0.457746</td><td style=\"text-align: right;\">        0.465278</td></tr>\n",
       "<tr><td>train_hesitation_563a2e50</td><td>TERMINATED</td><td>172.18.58.174:95985 </td><td>filter2            </td><td style=\"text-align: right;\">0.190835  </td><td style=\"text-align: right;\">    0.110208   </td><td>CnnMFCC             </td><td style=\"text-align: right;\">   3.86498e-05</td><td style=\"text-align: right;\">     1</td><td style=\"text-align: right;\">        1.08213 </td><td style=\"text-align: right;\">         9.50859 </td><td style=\"text-align: right;\">        0.462963</td><td style=\"text-align: right;\">        0.431373</td></tr>\n",
       "<tr><td>train_hesitation_f7bf6e31</td><td>TERMINATED</td><td>172.18.58.174:96167 </td><td>filter2            </td><td style=\"text-align: right;\">0.233059  </td><td style=\"text-align: right;\">    0.139563   </td><td>CnnMFCC             </td><td style=\"text-align: right;\">   4.22288e-05</td><td style=\"text-align: right;\">     9</td><td style=\"text-align: right;\">        3.81201 </td><td style=\"text-align: right;\">         1.54285 </td><td style=\"text-align: right;\">        0.537037</td><td style=\"text-align: right;\">        0.519231</td></tr>\n",
       "<tr><td>train_hesitation_ffcb1f8b</td><td>TERMINATED</td><td>172.18.58.174:96369 </td><td>filter2            </td><td style=\"text-align: right;\">0.0647677 </td><td style=\"text-align: right;\">    0.15815    </td><td>CnnMFCC             </td><td style=\"text-align: right;\">   8.83368e-05</td><td style=\"text-align: right;\">     3</td><td style=\"text-align: right;\">        1.74285 </td><td style=\"text-align: right;\">         4.61748 </td><td style=\"text-align: right;\">        0.509259</td><td style=\"text-align: right;\">        0.430108</td></tr>\n",
       "<tr><td>train_hesitation_98f08200</td><td>TERMINATED</td><td>172.18.58.174:96554 </td><td>filter2            </td><td style=\"text-align: right;\">0.100147  </td><td style=\"text-align: right;\">    0.193034   </td><td>CnnMFCC             </td><td style=\"text-align: right;\">   9.62387e-05</td><td style=\"text-align: right;\">     3</td><td style=\"text-align: right;\">        1.80376 </td><td style=\"text-align: right;\">         9.03742 </td><td style=\"text-align: right;\">        0.37963 </td><td style=\"text-align: right;\">        0.42735 </td></tr>\n",
       "<tr><td>train_hesitation_00587211</td><td>TERMINATED</td><td>172.18.58.174:96747 </td><td>filter0            </td><td style=\"text-align: right;\">0.322713  </td><td style=\"text-align: right;\">    3.00579e-05</td><td>CnnMFCC             </td><td style=\"text-align: right;\">   0.000354925</td><td style=\"text-align: right;\">     3</td><td style=\"text-align: right;\">        1.44477 </td><td style=\"text-align: right;\">         0.974791</td><td style=\"text-align: right;\">        0.487179</td><td style=\"text-align: right;\">        0.411765</td></tr>\n",
       "<tr><td>train_hesitation_e5d4f142</td><td>TERMINATED</td><td>172.18.58.174:96929 </td><td>filter0            </td><td style=\"text-align: right;\">0.313314  </td><td style=\"text-align: right;\">    2.39273e-05</td><td>CnnMFCC             </td><td style=\"text-align: right;\">   0.000295854</td><td style=\"text-align: right;\">     9</td><td style=\"text-align: right;\">        2.9176  </td><td style=\"text-align: right;\">         0.761508</td><td style=\"text-align: right;\">        0.602564</td><td style=\"text-align: right;\">        0.643678</td></tr>\n",
       "<tr><td>train_hesitation_4696fabc</td><td>TERMINATED</td><td>172.18.58.174:97126 </td><td>filter2            </td><td style=\"text-align: right;\">0.429982  </td><td style=\"text-align: right;\">    0.0555062  </td><td>CnnMFCC             </td><td style=\"text-align: right;\">   2.23882e-05</td><td style=\"text-align: right;\">     3</td><td style=\"text-align: right;\">        1.80371 </td><td style=\"text-align: right;\">         4.27179 </td><td style=\"text-align: right;\">        0.462963</td><td style=\"text-align: right;\">        0.42    </td></tr>\n",
       "<tr><td>train_hesitation_cdd7214d</td><td>TERMINATED</td><td>172.18.58.174:97312 </td><td>filter2            </td><td style=\"text-align: right;\">0.402566  </td><td style=\"text-align: right;\">    0.0446209  </td><td>CnnMFCC             </td><td style=\"text-align: right;\">   0.000609702</td><td style=\"text-align: right;\">     9</td><td style=\"text-align: right;\">        3.71968 </td><td style=\"text-align: right;\">         1.56161 </td><td style=\"text-align: right;\">        0.490741</td><td style=\"text-align: right;\">        0.529915</td></tr>\n",
       "<tr><td>train_hesitation_b3fc1e8d</td><td>TERMINATED</td><td>172.18.58.174:97513 </td><td>filter2            </td><td style=\"text-align: right;\">0.271661  </td><td style=\"text-align: right;\">    0.907779   </td><td>CnnMFCC             </td><td style=\"text-align: right;\">   0.000528711</td><td style=\"text-align: right;\">     9</td><td style=\"text-align: right;\">        3.74405 </td><td style=\"text-align: right;\">        44.648   </td><td style=\"text-align: right;\">        0.546296</td><td style=\"text-align: right;\">        0.601626</td></tr>\n",
       "<tr><td>train_hesitation_e2ec3b1c</td><td>TERMINATED</td><td>172.18.58.174:97722 </td><td>filter0            </td><td style=\"text-align: right;\">0.25247   </td><td style=\"text-align: right;\">    0.348599   </td><td>CnnMFCC             </td><td style=\"text-align: right;\">   0.000130644</td><td style=\"text-align: right;\">     1</td><td style=\"text-align: right;\">        1.05677 </td><td style=\"text-align: right;\">        49.4852  </td><td style=\"text-align: right;\">        0.512821</td><td style=\"text-align: right;\">        0.5     </td></tr>\n",
       "<tr><td>train_hesitation_e45d465e</td><td>TERMINATED</td><td>172.18.58.174:97904 </td><td>filter0            </td><td style=\"text-align: right;\">0.356846  </td><td style=\"text-align: right;\">    2.35823e-05</td><td>CnnMFCC             </td><td style=\"text-align: right;\">   0.00161638 </td><td style=\"text-align: right;\">     3</td><td style=\"text-align: right;\">        1.55543 </td><td style=\"text-align: right;\">         0.865756</td><td style=\"text-align: right;\">        0.525641</td><td style=\"text-align: right;\">        0.493151</td></tr>\n",
       "<tr><td>train_hesitation_a5e0505c</td><td>TERMINATED</td><td>172.18.58.174:98086 </td><td>filter0            </td><td style=\"text-align: right;\">0.339029  </td><td style=\"text-align: right;\">    1.0184e-05 </td><td>CnnMFCC             </td><td style=\"text-align: right;\">   0.000355144</td><td style=\"text-align: right;\">    30</td><td style=\"text-align: right;\">        7.80038 </td><td style=\"text-align: right;\">         0.845133</td><td style=\"text-align: right;\">        0.512821</td><td style=\"text-align: right;\">        0.512821</td></tr>\n",
       "<tr><td>train_hesitation_22d6e8f6</td><td>TERMINATED</td><td>172.18.58.174:98317 </td><td>filter0            </td><td style=\"text-align: right;\">0.195775  </td><td style=\"text-align: right;\">    1.39369e-05</td><td>CnnMFCC             </td><td style=\"text-align: right;\">   0.000294037</td><td style=\"text-align: right;\">     1</td><td style=\"text-align: right;\">        0.996992</td><td style=\"text-align: right;\">         0.843306</td><td style=\"text-align: right;\">        0.538462</td><td style=\"text-align: right;\">        0.181818</td></tr>\n",
       "<tr><td>train_hesitation_d4f45d9a</td><td>TERMINATED</td><td>172.18.58.174:98498 </td><td>filter0            </td><td style=\"text-align: right;\">0.189825  </td><td style=\"text-align: right;\">    1.08253e-05</td><td>CnnMFCC             </td><td style=\"text-align: right;\">   8.67529e-06</td><td style=\"text-align: right;\">     1</td><td style=\"text-align: right;\">        1.03421 </td><td style=\"text-align: right;\">         0.802232</td><td style=\"text-align: right;\">        0.474359</td><td style=\"text-align: right;\">        0.438356</td></tr>\n",
       "<tr><td>train_hesitation_50e20211</td><td>TERMINATED</td><td>172.18.58.174:98681 </td><td>filter0            </td><td style=\"text-align: right;\">0.149291  </td><td style=\"text-align: right;\">    1.10926e-05</td><td>CnnMFCC             </td><td style=\"text-align: right;\">   5.95556e-05</td><td style=\"text-align: right;\">     9</td><td style=\"text-align: right;\">        2.92254 </td><td style=\"text-align: right;\">         0.768496</td><td style=\"text-align: right;\">        0.525641</td><td style=\"text-align: right;\">        0.372881</td></tr>\n",
       "<tr><td>train_hesitation_28e8b0c4</td><td>TERMINATED</td><td>172.18.58.174:98876 </td><td>filter0            </td><td style=\"text-align: right;\">0.486062  </td><td style=\"text-align: right;\">    7.1504e-05 </td><td>CnnMFCC             </td><td style=\"text-align: right;\">   3.51716e-05</td><td style=\"text-align: right;\">     1</td><td style=\"text-align: right;\">        1.00455 </td><td style=\"text-align: right;\">         1.1454  </td><td style=\"text-align: right;\">        0.538462</td><td style=\"text-align: right;\">        0.684211</td></tr>\n",
       "<tr><td>train_hesitation_a8f17e21</td><td>TERMINATED</td><td>172.18.58.174:99058 </td><td>filter1            </td><td style=\"text-align: right;\">0.452607  </td><td style=\"text-align: right;\">    0.0014803  </td><td>CnnMFCC             </td><td style=\"text-align: right;\">   3.35692e-05</td><td style=\"text-align: right;\">     3</td><td style=\"text-align: right;\">        3.24278 </td><td style=\"text-align: right;\">         0.944942</td><td style=\"text-align: right;\">        0.478873</td><td style=\"text-align: right;\">        0.54321 </td></tr>\n",
       "<tr><td>train_hesitation_a653fd72</td><td>TERMINATED</td><td>172.18.58.174:99256 </td><td>filter1            </td><td style=\"text-align: right;\">0.563441  </td><td style=\"text-align: right;\">    0.000202097</td><td>CnnMFCC             </td><td style=\"text-align: right;\">   0.000164332</td><td style=\"text-align: right;\">     1</td><td style=\"text-align: right;\">        1.64756 </td><td style=\"text-align: right;\">         0.902326</td><td style=\"text-align: right;\">        0.552817</td><td style=\"text-align: right;\">        0.509653</td></tr>\n",
       "<tr><td>train_hesitation_a6edf8a3</td><td>TERMINATED</td><td>172.18.58.174:99443 </td><td>filter2            </td><td style=\"text-align: right;\">0.579304  </td><td style=\"text-align: right;\">    1.97838e-05</td><td>CnnMFCC             </td><td style=\"text-align: right;\">   0.00429856 </td><td style=\"text-align: right;\">     1</td><td style=\"text-align: right;\">        1.11194 </td><td style=\"text-align: right;\">         1.15296 </td><td style=\"text-align: right;\">        0.537037</td><td style=\"text-align: right;\">        0.519231</td></tr>\n",
       "<tr><td>train_hesitation_56aa3d23</td><td>TERMINATED</td><td>172.18.58.174:99625 </td><td>filter2            </td><td style=\"text-align: right;\">0.763593  </td><td style=\"text-align: right;\">    2.20301e-05</td><td>CnnMFCC             </td><td style=\"text-align: right;\">   0.000754345</td><td style=\"text-align: right;\">    30</td><td style=\"text-align: right;\">       11.4279  </td><td style=\"text-align: right;\">         1.66905 </td><td style=\"text-align: right;\">        0.462963</td><td style=\"text-align: right;\">        0.491228</td></tr>\n",
       "<tr><td>train_hesitation_5fd1a9ed</td><td>TERMINATED</td><td>172.18.58.174:99880 </td><td>filter0            </td><td style=\"text-align: right;\">0.31574   </td><td style=\"text-align: right;\">    3.21924e-05</td><td>CnnMFCC             </td><td style=\"text-align: right;\">   0.00109294 </td><td style=\"text-align: right;\">     1</td><td style=\"text-align: right;\">        1.01459 </td><td style=\"text-align: right;\">         1.00232 </td><td style=\"text-align: right;\">        0.487179</td><td style=\"text-align: right;\">        0.512195</td></tr>\n",
       "<tr><td>train_hesitation_cf05c5e8</td><td>TERMINATED</td><td>172.18.58.174:100063</td><td>filter2            </td><td style=\"text-align: right;\">0.76377   </td><td style=\"text-align: right;\">    3.57687e-05</td><td>CnnMFCC             </td><td style=\"text-align: right;\">   0.000928064</td><td style=\"text-align: right;\">     1</td><td style=\"text-align: right;\">        1.09798 </td><td style=\"text-align: right;\">         1.84576 </td><td style=\"text-align: right;\">        0.435185</td><td style=\"text-align: right;\">        0.39604 </td></tr>\n",
       "<tr><td>train_hesitation_90b70421</td><td>TERMINATED</td><td>172.18.58.174:100244</td><td>filter2            </td><td style=\"text-align: right;\">0.890297  </td><td style=\"text-align: right;\">    4.476e-05  </td><td>CnnMFCC             </td><td style=\"text-align: right;\">   0.000751816</td><td style=\"text-align: right;\">     1</td><td style=\"text-align: right;\">        1.0914  </td><td style=\"text-align: right;\">         3.06138 </td><td style=\"text-align: right;\">        0.481481</td><td style=\"text-align: right;\">        0.44    </td></tr>\n",
       "<tr><td>train_hesitation_3e0c75ab</td><td>TERMINATED</td><td>172.18.58.174:100426</td><td>filter2            </td><td style=\"text-align: right;\">0.730501  </td><td style=\"text-align: right;\">    1.79108e-05</td><td>CnnMFCC             </td><td style=\"text-align: right;\">   0.00244529 </td><td style=\"text-align: right;\">     3</td><td style=\"text-align: right;\">        1.81354 </td><td style=\"text-align: right;\">         1.53292 </td><td style=\"text-align: right;\">        0.453704</td><td style=\"text-align: right;\">        0.468468</td></tr>\n",
       "<tr><td>train_hesitation_704d8e07</td><td>TERMINATED</td><td>172.18.58.174:100612</td><td>filter2            </td><td style=\"text-align: right;\">0.988748  </td><td style=\"text-align: right;\">    1.73191e-05</td><td>CnnMFCC             </td><td style=\"text-align: right;\">   7.9075e-05 </td><td style=\"text-align: right;\">     1</td><td style=\"text-align: right;\">        1.12672 </td><td style=\"text-align: right;\">         9.02662 </td><td style=\"text-align: right;\">        0.481481</td><td style=\"text-align: right;\">        0.125   </td></tr>\n",
       "<tr><td>train_hesitation_6042caba</td><td>TERMINATED</td><td>172.18.58.174:100794</td><td>filter2            </td><td style=\"text-align: right;\">0.365775  </td><td style=\"text-align: right;\">    0.000673439</td><td>CnnMFCC             </td><td style=\"text-align: right;\">   1.9397e-05 </td><td style=\"text-align: right;\">     1</td><td style=\"text-align: right;\">        1.19455 </td><td style=\"text-align: right;\">         0.953325</td><td style=\"text-align: right;\">        0.453704</td><td style=\"text-align: right;\">        0.468468</td></tr>\n",
       "<tr><td>train_hesitation_f5d6b40b</td><td>TERMINATED</td><td>172.18.58.174:100977</td><td>filter2            </td><td style=\"text-align: right;\">0.137858  </td><td style=\"text-align: right;\">    0.000685387</td><td>CnnMFCC             </td><td style=\"text-align: right;\">   1.98642e-05</td><td style=\"text-align: right;\">     3</td><td style=\"text-align: right;\">        1.80661 </td><td style=\"text-align: right;\">         0.7139  </td><td style=\"text-align: right;\">        0.555556</td><td style=\"text-align: right;\">        0.563636</td></tr>\n",
       "<tr><td>train_hesitation_e75d0999</td><td>TERMINATED</td><td>172.18.58.174:101163</td><td>filter2            </td><td style=\"text-align: right;\">0.867128  </td><td style=\"text-align: right;\">    8.65125e-05</td><td>CnnMFCC             </td><td style=\"text-align: right;\">   0.000225737</td><td style=\"text-align: right;\">    30</td><td style=\"text-align: right;\">       11.8525  </td><td style=\"text-align: right;\">         2.94156 </td><td style=\"text-align: right;\">        0.472222</td><td style=\"text-align: right;\">        0.495575</td></tr>\n",
       "<tr><td>train_hesitation_38b7ce1e</td><td>TERMINATED</td><td>172.18.58.174:101430</td><td>filter2            </td><td style=\"text-align: right;\">0.670123  </td><td style=\"text-align: right;\">    0.0691777  </td><td>CnnMFCC             </td><td style=\"text-align: right;\">   0.000199733</td><td style=\"text-align: right;\">     3</td><td style=\"text-align: right;\">        1.86165 </td><td style=\"text-align: right;\">         9.88954 </td><td style=\"text-align: right;\">        0.527778</td><td style=\"text-align: right;\">        0.484848</td></tr>\n",
       "<tr><td>train_hesitation_09b0d9a1</td><td>TERMINATED</td><td>172.18.58.174:101615</td><td>filter0            </td><td style=\"text-align: right;\">0.66498   </td><td style=\"text-align: right;\">    0.0700409  </td><td>CnnMFCC             </td><td style=\"text-align: right;\">   5.39541e-05</td><td style=\"text-align: right;\">     9</td><td style=\"text-align: right;\">        2.89844 </td><td style=\"text-align: right;\">         5.59514 </td><td style=\"text-align: right;\">        0.474359</td><td style=\"text-align: right;\">        0.517647</td></tr>\n",
       "<tr><td>train_hesitation_150e2481</td><td>TERMINATED</td><td>172.18.58.174:101812</td><td>filter0            </td><td style=\"text-align: right;\">0.291884  </td><td style=\"text-align: right;\">    3.03262e-05</td><td>CnnMFCC             </td><td style=\"text-align: right;\">   0.00144247 </td><td style=\"text-align: right;\">    30</td><td style=\"text-align: right;\">        8.12514 </td><td style=\"text-align: right;\">         0.806226</td><td style=\"text-align: right;\">        0.525641</td><td style=\"text-align: right;\">        0.519481</td></tr>\n",
       "<tr><td>train_hesitation_e5fe987f</td><td>TERMINATED</td><td>172.18.58.174:102043</td><td>filter0            </td><td style=\"text-align: right;\">0.28931   </td><td style=\"text-align: right;\">    3.05551e-05</td><td>CnnMFCC             </td><td style=\"text-align: right;\">   0.000385799</td><td style=\"text-align: right;\">     1</td><td style=\"text-align: right;\">        1.04487 </td><td style=\"text-align: right;\">         0.915823</td><td style=\"text-align: right;\">        0.474359</td><td style=\"text-align: right;\">        0.422535</td></tr>\n",
       "<tr><td>train_hesitation_74cf0aa9</td><td>TERMINATED</td><td>172.18.58.174:102225</td><td>filter0            </td><td style=\"text-align: right;\">0.35615   </td><td style=\"text-align: right;\">    6.00608e-05</td><td>CnnMFCC             </td><td style=\"text-align: right;\">   0.000337401</td><td style=\"text-align: right;\">     1</td><td style=\"text-align: right;\">        1.00081 </td><td style=\"text-align: right;\">         0.969083</td><td style=\"text-align: right;\">        0.525641</td><td style=\"text-align: right;\">        0.327273</td></tr>\n",
       "<tr><td>train_hesitation_2837e2a3</td><td>TERMINATED</td><td>172.18.58.174:102407</td><td>filter0            </td><td style=\"text-align: right;\">0.41777   </td><td style=\"text-align: right;\">    0.000165818</td><td>CnnMFCC             </td><td style=\"text-align: right;\">   0.000335542</td><td style=\"text-align: right;\">     1</td><td style=\"text-align: right;\">        1.0369  </td><td style=\"text-align: right;\">         0.88221 </td><td style=\"text-align: right;\">        0.538462</td><td style=\"text-align: right;\">        0.470588</td></tr>\n",
       "<tr><td>train_hesitation_0820cc93</td><td>TERMINATED</td><td>172.18.58.174:102589</td><td>filter0            </td><td style=\"text-align: right;\">0.22729   </td><td style=\"text-align: right;\">    0.000140081</td><td>CnnMFCC             </td><td style=\"text-align: right;\">   0.000119224</td><td style=\"text-align: right;\">     3</td><td style=\"text-align: right;\">        1.50473 </td><td style=\"text-align: right;\">         0.770376</td><td style=\"text-align: right;\">        0.487179</td><td style=\"text-align: right;\">        0.565217</td></tr>\n",
       "<tr><td>train_hesitation_a93f91c2</td><td>TERMINATED</td><td>172.18.58.174:102772</td><td>filter0            </td><td style=\"text-align: right;\">0.337748  </td><td style=\"text-align: right;\">    0.0194664  </td><td>CnnMFCC             </td><td style=\"text-align: right;\">   0.000128196</td><td style=\"text-align: right;\">     1</td><td style=\"text-align: right;\">        1.00253 </td><td style=\"text-align: right;\">         2.86678 </td><td style=\"text-align: right;\">        0.397436</td><td style=\"text-align: right;\">        0.419753</td></tr>\n",
       "<tr><td>train_hesitation_75dd1e29</td><td>TERMINATED</td><td>172.18.58.174:102953</td><td>filter2            </td><td style=\"text-align: right;\">0.522712  </td><td style=\"text-align: right;\">    0.215035   </td><td>CnnMFCC             </td><td style=\"text-align: right;\">   0.000502887</td><td style=\"text-align: right;\">    30</td><td style=\"text-align: right;\">       11.4388  </td><td style=\"text-align: right;\">         3.50822 </td><td style=\"text-align: right;\">        0.546296</td><td style=\"text-align: right;\">        0.614173</td></tr>\n",
       "<tr><td>train_hesitation_5a985a24</td><td>TERMINATED</td><td>172.18.58.174:103208</td><td>filter2            </td><td style=\"text-align: right;\">0.487968  </td><td style=\"text-align: right;\">    0.217878   </td><td>CnnMFCC             </td><td style=\"text-align: right;\">   4.69467e-05</td><td style=\"text-align: right;\">     3</td><td style=\"text-align: right;\">        1.81569 </td><td style=\"text-align: right;\">        18.5768  </td><td style=\"text-align: right;\">        0.407407</td><td style=\"text-align: right;\">        0.319149</td></tr>\n",
       "<tr><td>train_hesitation_00f74dea</td><td>TERMINATED</td><td>172.18.58.174:103395</td><td>filter2            </td><td style=\"text-align: right;\">0.530005  </td><td style=\"text-align: right;\">    0.265879   </td><td>CnnMFCC             </td><td style=\"text-align: right;\">   0.000508543</td><td style=\"text-align: right;\">     3</td><td style=\"text-align: right;\">        1.83234 </td><td style=\"text-align: right;\">        21.4472  </td><td style=\"text-align: right;\">        0.5     </td><td style=\"text-align: right;\">        0.578125</td></tr>\n",
       "<tr><td>train_hesitation_32cea457</td><td>TERMINATED</td><td>172.18.58.174:103587</td><td>filter2            </td><td style=\"text-align: right;\">0.519958  </td><td style=\"text-align: right;\">    0.678798   </td><td>CnnMFCC             </td><td style=\"text-align: right;\">   0.000537205</td><td style=\"text-align: right;\">     1</td><td style=\"text-align: right;\">        1.09936 </td><td style=\"text-align: right;\">       145.268   </td><td style=\"text-align: right;\">        0.518519</td><td style=\"text-align: right;\">        0.59375 </td></tr>\n",
       "<tr><td>train_hesitation_c9f80f42</td><td>TERMINATED</td><td>172.18.58.174:103767</td><td>filter2            </td><td style=\"text-align: right;\">0.620562  </td><td style=\"text-align: right;\">    0.528726   </td><td>CnnMFCC             </td><td style=\"text-align: right;\">   2.49889e-05</td><td style=\"text-align: right;\">     1</td><td style=\"text-align: right;\">        1.29192 </td><td style=\"text-align: right;\">        60.4658  </td><td style=\"text-align: right;\">        0.490741</td><td style=\"text-align: right;\">        0.444444</td></tr>\n",
       "<tr><td>train_hesitation_e89e88b4</td><td>TERMINATED</td><td>172.18.58.174:103945</td><td>filter2            </td><td style=\"text-align: right;\">0.622089  </td><td style=\"text-align: right;\">    0.432701   </td><td>CnnMFCC             </td><td style=\"text-align: right;\">   0.000741226</td><td style=\"text-align: right;\">     3</td><td style=\"text-align: right;\">        1.89495 </td><td style=\"text-align: right;\">        89.0773  </td><td style=\"text-align: right;\">        0.416667</td><td style=\"text-align: right;\">        0.461538</td></tr>\n",
       "<tr><td>train_hesitation_f387f5cd</td><td>TERMINATED</td><td>172.18.58.174:104138</td><td>filter2            </td><td style=\"text-align: right;\">0.381498  </td><td style=\"text-align: right;\">    1.12626e-05</td><td>CnnMFCC             </td><td style=\"text-align: right;\">   7.31905e-05</td><td style=\"text-align: right;\">     1</td><td style=\"text-align: right;\">        1.13009 </td><td style=\"text-align: right;\">         1.13752 </td><td style=\"text-align: right;\">        0.481481</td><td style=\"text-align: right;\">        0.2     </td></tr>\n",
       "<tr><td>train_hesitation_cebbed59</td><td>TERMINATED</td><td>172.18.58.174:104320</td><td>filter2            </td><td style=\"text-align: right;\">0.453614  </td><td style=\"text-align: right;\">    1.57943e-05</td><td>CnnMFCC             </td><td style=\"text-align: right;\">   0.00125912 </td><td style=\"text-align: right;\">     1</td><td style=\"text-align: right;\">        1.09438 </td><td style=\"text-align: right;\">         0.963862</td><td style=\"text-align: right;\">        0.537037</td><td style=\"text-align: right;\">        0.621212</td></tr>\n",
       "<tr><td>train_hesitation_f518f32d</td><td>TERMINATED</td><td>172.18.58.174:104501</td><td>filter2            </td><td style=\"text-align: right;\">0.252391  </td><td style=\"text-align: right;\">    0.010335   </td><td>CnnMFCC             </td><td style=\"text-align: right;\">   0.00126311 </td><td style=\"text-align: right;\">     9</td><td style=\"text-align: right;\">        3.89989 </td><td style=\"text-align: right;\">         1.02649 </td><td style=\"text-align: right;\">        0.583333</td><td style=\"text-align: right;\">        0.415584</td></tr>\n",
       "<tr><td>train_hesitation_65cee283</td><td>TERMINATED</td><td>172.18.58.174:104703</td><td>filter1            </td><td style=\"text-align: right;\">0.247811  </td><td style=\"text-align: right;\">    0.0263494  </td><td>CnnMFCC             </td><td style=\"text-align: right;\">   1.42538e-05</td><td style=\"text-align: right;\">     1</td><td style=\"text-align: right;\">        1.66977 </td><td style=\"text-align: right;\">         3.67708 </td><td style=\"text-align: right;\">        0.5     </td><td style=\"text-align: right;\">        0.513699</td></tr>\n",
       "<tr><td>train_hesitation_f6a14b09</td><td>TERMINATED</td><td>172.18.58.174:104896</td><td>filter1            </td><td style=\"text-align: right;\">0.299009  </td><td style=\"text-align: right;\">    0.10062    </td><td>CnnMFCC             </td><td style=\"text-align: right;\">   0.00187668 </td><td style=\"text-align: right;\">     1</td><td style=\"text-align: right;\">        1.68665 </td><td style=\"text-align: right;\">        11.4729  </td><td style=\"text-align: right;\">        0.517606</td><td style=\"text-align: right;\">        0.547855</td></tr>\n",
       "<tr><td>train_hesitation_bd5a9a99</td><td>TERMINATED</td><td>172.18.58.174:105082</td><td>filter0            </td><td style=\"text-align: right;\">0.421075  </td><td style=\"text-align: right;\">    0.103054   </td><td>CnnMFCC             </td><td style=\"text-align: right;\">   0.00186114 </td><td style=\"text-align: right;\">     3</td><td style=\"text-align: right;\">        1.55321 </td><td style=\"text-align: right;\">         4.88898 </td><td style=\"text-align: right;\">        0.5     </td><td style=\"text-align: right;\">        0.589474</td></tr>\n",
       "<tr><td>train_hesitation_a681a3e6</td><td>TERMINATED</td><td>172.18.58.174:105269</td><td>filter0            </td><td style=\"text-align: right;\">0.421216  </td><td style=\"text-align: right;\">    2.50973e-05</td><td>CnnMFCC             </td><td style=\"text-align: right;\">   0.000246619</td><td style=\"text-align: right;\">     3</td><td style=\"text-align: right;\">        1.55816 </td><td style=\"text-align: right;\">         0.83952 </td><td style=\"text-align: right;\">        0.615385</td><td style=\"text-align: right;\">        0.594595</td></tr>\n",
       "<tr><td>train_hesitation_b44840ab</td><td>TERMINATED</td><td>172.18.58.174:105498</td><td>filter0            </td><td style=\"text-align: right;\">0.340425  </td><td style=\"text-align: right;\">    4.38242e-05</td><td>CnnMFCC             </td><td style=\"text-align: right;\">   6.00473e-06</td><td style=\"text-align: right;\">     3</td><td style=\"text-align: right;\">        1.4837  </td><td style=\"text-align: right;\">         0.883745</td><td style=\"text-align: right;\">        0.397436</td><td style=\"text-align: right;\">        0.433735</td></tr>\n",
       "<tr><td>train_hesitation_f356dd31</td><td>TERMINATED</td><td>172.18.58.174:105687</td><td>filter0            </td><td style=\"text-align: right;\">0.209483  </td><td style=\"text-align: right;\">    4.37827e-05</td><td>CnnMFCC             </td><td style=\"text-align: right;\">   0.000428294</td><td style=\"text-align: right;\">     1</td><td style=\"text-align: right;\">        1.0113  </td><td style=\"text-align: right;\">         0.821252</td><td style=\"text-align: right;\">        0.5     </td><td style=\"text-align: right;\">        0.561798</td></tr>\n",
       "<tr><td>train_hesitation_52c311d5</td><td>TERMINATED</td><td>172.18.58.174:105874</td><td>filter0            </td><td style=\"text-align: right;\">0.345009  </td><td style=\"text-align: right;\">    4.86327e-05</td><td>CnnMFCC             </td><td style=\"text-align: right;\">   6.26206e-06</td><td style=\"text-align: right;\">    27</td><td style=\"text-align: right;\">        7.28702 </td><td style=\"text-align: right;\">         0.791835</td><td style=\"text-align: right;\">        0.512821</td><td style=\"text-align: right;\">        0.547619</td></tr>\n",
       "<tr><td>train_hesitation_43f55b82</td><td>TERMINATED</td><td>172.18.58.174:106107</td><td>filter0            </td><td style=\"text-align: right;\">0.328378  </td><td style=\"text-align: right;\">    1.26813e-05</td><td>CnnMFCC             </td><td style=\"text-align: right;\">   1.22209e-06</td><td style=\"text-align: right;\">     1</td><td style=\"text-align: right;\">        0.965691</td><td style=\"text-align: right;\">         1.19909 </td><td style=\"text-align: right;\">        0.474359</td><td style=\"text-align: right;\">        0.422535</td></tr>\n",
       "<tr><td>train_hesitation_8b094d8c</td><td>TERMINATED</td><td>172.18.58.174:106288</td><td>filter0            </td><td style=\"text-align: right;\">0.389593  </td><td style=\"text-align: right;\">    2.16689e-05</td><td>CnnMFCC             </td><td style=\"text-align: right;\">   3.23271e-06</td><td style=\"text-align: right;\">     1</td><td style=\"text-align: right;\">        1.0023  </td><td style=\"text-align: right;\">         0.924602</td><td style=\"text-align: right;\">        0.487179</td><td style=\"text-align: right;\">        0.411765</td></tr>\n",
       "<tr><td>train_hesitation_6bf3f76c</td><td>TERMINATED</td><td>172.18.58.174:106471</td><td>filter0            </td><td style=\"text-align: right;\">0.390126  </td><td style=\"text-align: right;\">    2.34025e-05</td><td>CnnMFCC             </td><td style=\"text-align: right;\">   0.00015616 </td><td style=\"text-align: right;\">    30</td><td style=\"text-align: right;\">        7.96985 </td><td style=\"text-align: right;\">         0.830963</td><td style=\"text-align: right;\">        0.512821</td><td style=\"text-align: right;\">        0.472222</td></tr>\n",
       "<tr><td>train_hesitation_b0704840</td><td>TERMINATED</td><td>172.18.58.174:106720</td><td>filter2            </td><td style=\"text-align: right;\">0.549809  </td><td style=\"text-align: right;\">    0.00492569 </td><td>CnnMFCC             </td><td style=\"text-align: right;\">   3.10955e-05</td><td style=\"text-align: right;\">     3</td><td style=\"text-align: right;\">        1.78133 </td><td style=\"text-align: right;\">         1.31572 </td><td style=\"text-align: right;\">        0.5     </td><td style=\"text-align: right;\">        0.372093</td></tr>\n",
       "<tr><td>train_hesitation_61b6ca8e</td><td>TERMINATED</td><td>172.18.58.174:106911</td><td>filter2            </td><td style=\"text-align: right;\">0.384305  </td><td style=\"text-align: right;\">    7.39842e-05</td><td>CnnMFCC             </td><td style=\"text-align: right;\">   1.09507e-05</td><td style=\"text-align: right;\">     1</td><td style=\"text-align: right;\">        1.09486 </td><td style=\"text-align: right;\">         0.807893</td><td style=\"text-align: right;\">        0.509259</td><td style=\"text-align: right;\">        0.530973</td></tr>\n",
       "<tr><td>train_hesitation_e63ff5d0</td><td>TERMINATED</td><td>172.18.58.174:107100</td><td>filter2            </td><td style=\"text-align: right;\">0.469321  </td><td style=\"text-align: right;\">    8.70798e-05</td><td>CnnMFCC             </td><td style=\"text-align: right;\">   0.000170586</td><td style=\"text-align: right;\">     1</td><td style=\"text-align: right;\">        1.10016 </td><td style=\"text-align: right;\">         1.27295 </td><td style=\"text-align: right;\">        0.462963</td><td style=\"text-align: right;\">        0.395833</td></tr>\n",
       "<tr><td>train_hesitation_01581735</td><td>TERMINATED</td><td>172.18.58.174:107282</td><td>filter0            </td><td style=\"text-align: right;\">0.440445  </td><td style=\"text-align: right;\">    1.63963e-05</td><td>CnnMFCC             </td><td style=\"text-align: right;\">   9.39754e-05</td><td style=\"text-align: right;\">    30</td><td style=\"text-align: right;\">        7.8659  </td><td style=\"text-align: right;\">         0.958878</td><td style=\"text-align: right;\">        0.487179</td><td style=\"text-align: right;\">        0.473684</td></tr>\n",
       "<tr><td>train_hesitation_1d2e3112</td><td>TERMINATED</td><td>172.18.58.174:107525</td><td>filter0            </td><td style=\"text-align: right;\">0.00946806</td><td style=\"text-align: right;\">    1.53744e-05</td><td>CnnMFCC             </td><td style=\"text-align: right;\">   9.83059e-05</td><td style=\"text-align: right;\">     1</td><td style=\"text-align: right;\">        1.02397 </td><td style=\"text-align: right;\">         0.711129</td><td style=\"text-align: right;\">        0.512821</td><td style=\"text-align: right;\">        0.568182</td></tr>\n",
       "<tr><td>train_hesitation_7bb46634</td><td>TERMINATED</td><td>172.18.58.174:107713</td><td>filter0            </td><td style=\"text-align: right;\">0.466346  </td><td style=\"text-align: right;\">    1.48936e-05</td><td>CnnMFCC             </td><td style=\"text-align: right;\">   9.42557e-05</td><td style=\"text-align: right;\">    30</td><td style=\"text-align: right;\">        7.90573 </td><td style=\"text-align: right;\">         0.948598</td><td style=\"text-align: right;\">        0.487179</td><td style=\"text-align: right;\">        0.473684</td></tr>\n",
       "<tr><td>train_hesitation_a5071019</td><td>TERMINATED</td><td>172.18.58.174:107956</td><td>filter0            </td><td style=\"text-align: right;\">0.450765  </td><td style=\"text-align: right;\">    2.00672e-05</td><td>CnnMFCC             </td><td style=\"text-align: right;\">   6.58457e-05</td><td style=\"text-align: right;\">    30</td><td style=\"text-align: right;\">        7.8483  </td><td style=\"text-align: right;\">         0.647978</td><td style=\"text-align: right;\">        0.628205</td><td style=\"text-align: right;\">        0.681319</td></tr>\n",
       "<tr><td>train_hesitation_f0c97dbb</td><td>TERMINATED</td><td>172.18.58.174:108192</td><td>filter0            </td><td style=\"text-align: right;\">0.495617  </td><td style=\"text-align: right;\">    2.08626e-05</td><td>CnnMFCC             </td><td style=\"text-align: right;\">   0.000145651</td><td style=\"text-align: right;\">     1</td><td style=\"text-align: right;\">        0.9919  </td><td style=\"text-align: right;\">         0.899293</td><td style=\"text-align: right;\">        0.551282</td><td style=\"text-align: right;\">        0.313725</td></tr>\n",
       "<tr><td>train_hesitation_66f92883</td><td>TERMINATED</td><td>172.18.58.174:108380</td><td>filter0            </td><td style=\"text-align: right;\">0.505546  </td><td style=\"text-align: right;\">    1.0502e-05 </td><td>CnnMFCC             </td><td style=\"text-align: right;\">   0.000138472</td><td style=\"text-align: right;\">     9</td><td style=\"text-align: right;\">        2.97628 </td><td style=\"text-align: right;\">         1.16157 </td><td style=\"text-align: right;\">        0.435897</td><td style=\"text-align: right;\">        0.541667</td></tr>\n",
       "<tr><td>train_hesitation_33d10651</td><td>TERMINATED</td><td>172.18.58.174:108583</td><td>filter0            </td><td style=\"text-align: right;\">0.442841  </td><td style=\"text-align: right;\">    1.00077e-05</td><td>CnnMFCC             </td><td style=\"text-align: right;\">   6.80738e-05</td><td style=\"text-align: right;\">    30</td><td style=\"text-align: right;\">        7.87539 </td><td style=\"text-align: right;\">         1.0632  </td><td style=\"text-align: right;\">        0.5     </td><td style=\"text-align: right;\">        0.541176</td></tr>\n",
       "<tr><td>train_hesitation_a6883d5f</td><td>TERMINATED</td><td>172.18.58.174:108820</td><td>filter0            </td><td style=\"text-align: right;\">0.438806  </td><td style=\"text-align: right;\">    2.58191e-05</td><td>CnnMFCC             </td><td style=\"text-align: right;\">   7.10539e-05</td><td style=\"text-align: right;\">     1</td><td style=\"text-align: right;\">        1.08542 </td><td style=\"text-align: right;\">         0.747744</td><td style=\"text-align: right;\">        0.538462</td><td style=\"text-align: right;\">        0.526316</td></tr>\n",
       "<tr><td>train_hesitation_dce15cae</td><td>TERMINATED</td><td>172.18.58.174:109007</td><td>filter0            </td><td style=\"text-align: right;\">0.447049  </td><td style=\"text-align: right;\">    1.45254e-05</td><td>CnnMFCC             </td><td style=\"text-align: right;\">   8.22077e-05</td><td style=\"text-align: right;\">     1</td><td style=\"text-align: right;\">        1.01433 </td><td style=\"text-align: right;\">         0.848609</td><td style=\"text-align: right;\">        0.564103</td><td style=\"text-align: right;\">        0.595238</td></tr>\n",
       "<tr><td>train_hesitation_75e48dbd</td><td>TERMINATED</td><td>172.18.58.174:109190</td><td>filter0            </td><td style=\"text-align: right;\">0.472384  </td><td style=\"text-align: right;\">    1.40209e-05</td><td>CnnMFCC             </td><td style=\"text-align: right;\">   6.28567e-05</td><td style=\"text-align: right;\">     1</td><td style=\"text-align: right;\">        0.979938</td><td style=\"text-align: right;\">         1.03579 </td><td style=\"text-align: right;\">        0.461538</td><td style=\"text-align: right;\">        0.432432</td></tr>\n",
       "</tbody>\n",
       "</table>\n",
       "  </div>\n",
       "</div>\n",
       "<style>\n",
       ".tuneStatus {\n",
       "  color: var(--jp-ui-font-color1);\n",
       "}\n",
       ".tuneStatus .systemInfo {\n",
       "  display: flex;\n",
       "  flex-direction: column;\n",
       "}\n",
       ".tuneStatus td {\n",
       "  white-space: nowrap;\n",
       "}\n",
       ".tuneStatus .trialStatus {\n",
       "  display: flex;\n",
       "  flex-direction: column;\n",
       "}\n",
       ".tuneStatus h3 {\n",
       "  font-weight: bold;\n",
       "}\n",
       ".tuneStatus .hDivider {\n",
       "  border-bottom-width: var(--jp-border-width);\n",
       "  border-bottom-color: var(--jp-border-color0);\n",
       "  border-bottom-style: solid;\n",
       "}\n",
       ".tuneStatus .vDivider {\n",
       "  border-left-width: var(--jp-border-width);\n",
       "  border-left-color: var(--jp-border-color0);\n",
       "  border-left-style: solid;\n",
       "  margin: 0.5em 1em 0.5em 1em;\n",
       "}\n",
       "</style>\n"
      ],
      "text/plain": [
       "<IPython.core.display.HTML object>"
      ]
     },
     "metadata": {},
     "output_type": "display_data"
    },
    {
     "name": "stderr",
     "output_type": "stream",
     "text": [
      "2024-09-03 11:06:06,682\tINFO tune.py:1009 -- Wrote the latest version of all result files and experiment state to '/home/glucas11/ray_results/train_hesitation_2024-09-03_10-55-25' in 0.0131s.\n",
      "2024-09-03 11:06:06,713\tINFO tune.py:1041 -- Total run time: 639.06 seconds (638.99 seconds for the tuning loop).\n"
     ]
    }
   ],
   "source": [
    "trainable_with_resources = tune.with_resources(train_hesitation, {\"cpu\": max_cpus, \"gpu\": max_gpus})\n",
    "\n",
    "tuner = tune.Tuner(\n",
    "\ttrainable_with_resources,\n",
    "\ttune_config=tune.TuneConfig(\n",
    "\t\tnum_samples=100,\n",
    "\t\tsearch_alg=optuna_search,\n",
    "\t\tscheduler=asas_scheduler\n",
    "\t),\n",
    "\tparam_space=config,\n",
    ")\n",
    "results = tuner.fit()"
   ]
  },
  {
   "cell_type": "code",
   "execution_count": 15,
   "metadata": {},
   "outputs": [],
   "source": [
    "results.get_dataframe().to_csv(\"raytune_results.csv\")"
   ]
  },
  {
   "cell_type": "code",
   "execution_count": 16,
   "metadata": {},
   "outputs": [
    {
     "data": {
      "text/plain": [
       "<Axes: title={'center': 'f1_score hist'}, ylabel='Frequency'>"
      ]
     },
     "execution_count": 16,
     "metadata": {},
     "output_type": "execute_result"
    },
    {
     "data": {
      "image/png": "[encoded data removed]",
      "text/plain": [
       "<Figure size 640x480 with 1 Axes>"
      ]
     },
     "metadata": {},
     "output_type": "display_data"
    }
   ],
   "source": [
    "df_results = results.get_dataframe()\n",
    "df_results['val_f1_score'].plot(kind='hist', title='f1_score hist')"
   ]
  },
  {
   "cell_type": "code",
   "execution_count": 17,
   "metadata": {},
   "outputs": [
    {
     "data": {
      "text/plain": [
       "<Axes: title={'center': 'loss hist'}, ylabel='Frequency'>"
      ]
     },
     "execution_count": 17,
     "metadata": {},
     "output_type": "execute_result"
    },
    {
     "data": {
      "image/png": "[encoded data removed]",
      "text/plain": [
       "<Figure size 640x480 with 1 Axes>"
      ]
     },
     "metadata": {},
     "output_type": "display_data"
    }
   ],
   "source": [
    "df_results[df_results['val_mean_loss'] < 1]['val_mean_loss'].plot(kind='hist', title='loss hist')"
   ]
  },
  {
   "cell_type": "code",
   "execution_count": 18,
   "metadata": {},
   "outputs": [
    {
     "data": {
      "text/plain": [
       "<Axes: title={'center': 'accuracy hist'}, ylabel='Frequency'>"
      ]
     },
     "execution_count": 18,
     "metadata": {},
     "output_type": "execute_result"
    },
    {
     "data": {
      "image/png": "[encoded data removed]",
      "text/plain": [
       "<Figure size 640x480 with 1 Axes>"
      ]
     },
     "metadata": {},
     "output_type": "display_data"
    }
   ],
   "source": [
    "df_results['val_accuracy'].plot(kind='hist', title='accuracy hist')"
   ]
  },
  {
   "cell_type": "code",
   "execution_count": 19,
   "metadata": {},
   "outputs": [
    {
     "name": "stdout",
     "output_type": "stream",
     "text": [
      "{'dropout': 0.4428414500048028, 'coraa_filter_func': 'filter0', 'learning_rate': 1.0007728920648612e-05, 'weight_decay': 6.80737797894744e-05, 'model_architecture': 'CnnMFCC'}\n",
      "---------- epoch: 1/30 ----------\n",
      "train: {'mean_loss': 0.9895106752713522, 'accuracy': 0.5384615384615384, 'f1_score': np.float64(0.35714285714285715)}\n",
      "val: {'mean_loss': 0.8263849020004272, 'accuracy': 0.3076923076923077, 'f1_score': np.float64(0.0)}\n",
      "---------- epoch: 2/30 ----------\n",
      "train: {'mean_loss': 1.1112321019172668, 'accuracy': 0.5, 'f1_score': np.float64(0.36065573770491804)}\n",
      "val: {'mean_loss': 0.7947201132774353, 'accuracy': 0.3076923076923077, 'f1_score': np.float64(0.0)}\n",
      "---------- epoch: 3/30 ----------\n",
      "train: {'mean_loss': 1.0402823289235432, 'accuracy': 0.5128205128205128, 'f1_score': np.float64(0.2962962962962963)}\n",
      "val: {'mean_loss': 0.7878245711326599, 'accuracy': 0.3076923076923077, 'f1_score': np.float64(0.0)}\n",
      "---------- epoch: 4/30 ----------\n",
      "train: {'mean_loss': 0.865738054116567, 'accuracy': 0.5128205128205128, 'f1_score': np.float64(0.2962962962962963)}\n",
      "val: {'mean_loss': 0.7797455191612244, 'accuracy': 0.3076923076923077, 'f1_score': np.float64(0.0)}\n",
      "---------- epoch: 5/30 ----------\n",
      "train: {'mean_loss': 0.9833396871884664, 'accuracy': 0.5128205128205128, 'f1_score': np.float64(0.2692307692307692)}\n",
      "val: {'mean_loss': 0.7689507007598877, 'accuracy': 0.3076923076923077, 'f1_score': np.float64(0.0)}\n",
      "---------- epoch: 6/30 ----------\n",
      "train: {'mean_loss': 1.0788346727689107, 'accuracy': 0.5256410256410257, 'f1_score': np.float64(0.3728813559322034)}\n",
      "val: {'mean_loss': 0.7613821029663086, 'accuracy': 0.3076923076923077, 'f1_score': np.float64(0.0)}\n",
      "---------- epoch: 7/30 ----------\n",
      "train: {'mean_loss': 1.0641639431317647, 'accuracy': 0.5128205128205128, 'f1_score': np.float64(0.36666666666666664)}\n",
      "val: {'mean_loss': 0.7590307593345642, 'accuracy': 0.3076923076923077, 'f1_score': np.float64(0.0)}\n",
      "---------- epoch: 8/30 ----------\n",
      "train: {'mean_loss': 1.1414945125579834, 'accuracy': 0.4230769230769231, 'f1_score': np.float64(0.11764705882352941)}\n",
      "val: {'mean_loss': 0.7624200582504272, 'accuracy': 0.3076923076923077, 'f1_score': np.float64(0.0)}\n",
      "---------- epoch: 9/30 ----------\n",
      "train: {'mean_loss': 1.0289038022359211, 'accuracy': 0.5, 'f1_score': np.float64(0.23529411764705882)}\n",
      "val: {'mean_loss': 0.7574161887168884, 'accuracy': 0.3076923076923077, 'f1_score': np.float64(0.0)}\n",
      "---------- epoch: 10/30 ----------\n",
      "train: {'mean_loss': 1.0308021505673726, 'accuracy': 0.47435897435897434, 'f1_score': np.float64(0.2807017543859649)}\n",
      "val: {'mean_loss': 0.7549844980239868, 'accuracy': 0.3076923076923077, 'f1_score': np.float64(0.0)}\n",
      "---------- epoch: 11/30 ----------\n",
      "train: {'mean_loss': 0.9694099823633829, 'accuracy': 0.5, 'f1_score': np.float64(0.20408163265306123)}\n",
      "val: {'mean_loss': 0.7524921894073486, 'accuracy': 0.3076923076923077, 'f1_score': np.float64(0.0)}\n",
      "---------- epoch: 12/30 ----------\n",
      "train: {'mean_loss': 1.2989101807276409, 'accuracy': 0.5, 'f1_score': np.float64(0.2641509433962264)}\n",
      "val: {'mean_loss': 0.7472718954086304, 'accuracy': 0.3076923076923077, 'f1_score': np.float64(0.0)}\n",
      "---------- epoch: 13/30 ----------\n",
      "train: {'mean_loss': 1.1549664537111919, 'accuracy': 0.46153846153846156, 'f1_score': np.float64(0.25)}\n",
      "val: {'mean_loss': 0.7423682808876038, 'accuracy': 0.34615384615384615, 'f1_score': np.float64(0.10526315789473684)}\n",
      "---------- epoch: 14/30 ----------\n",
      "train: {'mean_loss': 0.9798085490862528, 'accuracy': 0.48717948717948717, 'f1_score': np.float64(0.2857142857142857)}\n",
      "val: {'mean_loss': 0.7347411513328552, 'accuracy': 0.38461538461538464, 'f1_score': np.float64(0.2)}\n",
      "---------- epoch: 15/30 ----------\n",
      "train: {'mean_loss': 1.075553059577942, 'accuracy': 0.5, 'f1_score': np.float64(0.23529411764705882)}\n",
      "val: {'mean_loss': 0.7303112745285034, 'accuracy': 0.38461538461538464, 'f1_score': np.float64(0.2)}\n",
      "---------- epoch: 16/30 ----------\n",
      "train: {'mean_loss': 0.7607821226119995, 'accuracy': 0.6282051282051282, 'f1_score': np.float64(0.5084745762711864)}\n",
      "val: {'mean_loss': 0.7278410196304321, 'accuracy': 0.38461538461538464, 'f1_score': np.float64(0.2)}\n",
      "---------- epoch: 17/30 ----------\n",
      "train: {'mean_loss': 1.222701072692871, 'accuracy': 0.3974358974358974, 'f1_score': np.float64(0.17543859649122806)}\n",
      "val: {'mean_loss': 0.7250556945800781, 'accuracy': 0.38461538461538464, 'f1_score': np.float64(0.2)}\n",
      "---------- epoch: 18/30 ----------\n",
      "train: {'mean_loss': 0.8781942923863729, 'accuracy': 0.5256410256410257, 'f1_score': np.float64(0.3508771929824561)}\n",
      "val: {'mean_loss': 0.7217361927032471, 'accuracy': 0.38461538461538464, 'f1_score': np.float64(0.2)}\n",
      "---------- epoch: 19/30 ----------\n",
      "train: {'mean_loss': 1.0670123895009358, 'accuracy': 0.5, 'f1_score': np.float64(0.3157894736842105)}\n",
      "val: {'mean_loss': 0.7170711159706116, 'accuracy': 0.4230769230769231, 'f1_score': np.float64(0.2857142857142857)}\n",
      "---------- epoch: 20/30 ----------\n",
      "train: {'mean_loss': 1.0341708064079285, 'accuracy': 0.5, 'f1_score': np.float64(0.36065573770491804)}\n",
      "val: {'mean_loss': 0.7124155759811401, 'accuracy': 0.4230769230769231, 'f1_score': np.float64(0.34782608695652173)}\n",
      "---------- epoch: 21/30 ----------\n",
      "train: {'mean_loss': 0.8707393705844879, 'accuracy': 0.5256410256410257, 'f1_score': np.float64(0.3728813559322034)}\n",
      "val: {'mean_loss': 0.7110493779182434, 'accuracy': 0.4230769230769231, 'f1_score': np.float64(0.34782608695652173)}\n",
      "---------- epoch: 22/30 ----------\n",
      "train: {'mean_loss': 0.9781226913134257, 'accuracy': 0.41025641025641024, 'f1_score': np.float64(0.23333333333333334)}\n",
      "val: {'mean_loss': 0.7106824517250061, 'accuracy': 0.4230769230769231, 'f1_score': np.float64(0.34782608695652173)}\n",
      "---------- epoch: 23/30 ----------\n",
      "train: {'mean_loss': 1.1063036918640137, 'accuracy': 0.48717948717948717, 'f1_score': np.float64(0.3333333333333333)}\n",
      "val: {'mean_loss': 0.7054413557052612, 'accuracy': 0.4230769230769231, 'f1_score': np.float64(0.4)}\n",
      "---------- epoch: 24/30 ----------\n",
      "train: {'mean_loss': 0.8810155193010966, 'accuracy': 0.5769230769230769, 'f1_score': np.float64(0.4406779661016949)}\n",
      "val: {'mean_loss': 0.7053909301757812, 'accuracy': 0.4230769230769231, 'f1_score': np.float64(0.34782608695652173)}\n",
      "---------- epoch: 25/30 ----------\n",
      "train: {'mean_loss': 0.7667422890663147, 'accuracy': 0.5512820512820513, 'f1_score': np.float64(0.47761194029850745)}\n",
      "val: {'mean_loss': 0.7047020792961121, 'accuracy': 0.38461538461538464, 'f1_score': np.float64(0.3333333333333333)}\n",
      "---------- epoch: 26/30 ----------\n",
      "train: {'mean_loss': 1.041192650794983, 'accuracy': 0.48717948717948717, 'f1_score': np.float64(0.3548387096774194)}\n",
      "val: {'mean_loss': 0.7028039693832397, 'accuracy': 0.4230769230769231, 'f1_score': np.float64(0.4)}\n",
      "---------- epoch: 27/30 ----------\n",
      "train: {'mean_loss': 0.8565031091372172, 'accuracy': 0.47435897435897434, 'f1_score': np.float64(0.3880597014925373)}\n",
      "val: {'mean_loss': 0.7024980187416077, 'accuracy': 0.4230769230769231, 'f1_score': np.float64(0.4)}\n",
      "---------- epoch: 28/30 ----------\n",
      "train: {'mean_loss': 1.039603352546692, 'accuracy': 0.46153846153846156, 'f1_score': np.float64(0.3)}\n",
      "val: {'mean_loss': 0.7011851668357849, 'accuracy': 0.46153846153846156, 'f1_score': np.float64(0.46153846153846156)}\n",
      "---------- epoch: 29/30 ----------\n",
      "train: {'mean_loss': 0.8264252543449402, 'accuracy': 0.5512820512820513, 'f1_score': np.float64(0.4262295081967213)}\n",
      "val: {'mean_loss': 0.698698103427887, 'accuracy': 0.46153846153846156, 'f1_score': np.float64(0.46153846153846156)}\n",
      "---------- epoch: 30/30 ----------\n",
      "train: {'mean_loss': 0.8760854601860046, 'accuracy': 0.5641025641025641, 'f1_score': np.float64(0.37037037037037035)}\n",
      "val: {'mean_loss': 0.6979767084121704, 'accuracy': 0.46153846153846156, 'f1_score': np.float64(0.46153846153846156)}\n"
     ]
    }
   ],
   "source": [
    "best_result = results.get_best_result(\"val_f1_score\", mode=\"max\")\n",
    "best_config = best_result.metrics['config']\n",
    "print(best_config)\n",
    "best_train = train_hesitation(best_config, max_epochs=30, tunning=False)\n",
    "model = best_train[\"model\"]"
   ]
  },
  {
   "cell_type": "code",
   "execution_count": 20,
   "metadata": {},
   "outputs": [
    {
     "data": {
      "image/png": "[encoded data removed]",
      "text/plain": [
       "<Figure size 640x480 with 2 Axes>"
      ]
     },
     "metadata": {},
     "output_type": "display_data"
    },
    {
     "name": "stdout",
     "output_type": "stream",
     "text": [
      "\n",
      "\n",
      "              precision    recall  f1-score   support\n",
      "\n",
      "      ausent       0.82      0.82      0.82        17\n",
      "  hesitation       0.67      0.67      0.67         9\n",
      "\n",
      "    accuracy                           0.77        26\n",
      "   macro avg       0.75      0.75      0.75        26\n",
      "weighted avg       0.77      0.77      0.77        26\n",
      "\n",
      "\n",
      "accuracy: 0.7692307692307693\n"
     ]
    }
   ],
   "source": [
    "model.eval()\n",
    "losses = []\n",
    "pred_np = []\n",
    "target_np = []\n",
    "with torch.no_grad():\n",
    "\tfor batch_idx, (data, target) in enumerate(best_train['test_dataloader']):\n",
    "\t\tdata, target = data.to(DEVICE), target.to(DEVICE)\n",
    "\t\tlogits = model(data)\n",
    "\t\tloss = cross_entropy(logits, target)\n",
    "\t\tlosses.append(loss.item())\n",
    "\t\t\n",
    "\t\tpreds = torch.max(logits, dim=1).indices\n",
    "\t\tpred_np.append(preds.detach().cpu().numpy())\n",
    "\t\ttarget_np.append(target.detach().cpu().numpy())\n",
    "\n",
    "pred_np = np.concatenate(pred_np)\n",
    "target_np = np.concatenate(target_np)\n",
    "\n",
    "classes_names = ['ausent', 'hesitation']\n",
    "\n",
    "cm = confusion_matrix(target_np, pred_np)\n",
    "disp = ConfusionMatrixDisplay(confusion_matrix=cm, display_labels=classes_names)\n",
    "disp.plot()\n",
    "plt.show()\n",
    "print(\"\\n\")\n",
    "print(classification_report(target_np, pred_np, target_names=classes_names))\n",
    "print(\"\\naccuracy:\", accuracy_score(target_np, pred_np))"
   ]
  }
 ],
 "metadata": {
  "kernelspec": {
   "display_name": ".venv",
   "language": "python",
   "name": "python3"
  },
  "language_info": {
   "codemirror_mode": {
    "name": "ipython",
    "version": 3
   },
   "file_extension": ".py",
   "mimetype": "text/x-python",
   "name": "python",
   "nbconvert_exporter": "python",
   "pygments_lexer": "ipython3",
   "version": "3.10.12"
  }
 },
 "nbformat": 4,
 "nbformat_minor": 2
}
