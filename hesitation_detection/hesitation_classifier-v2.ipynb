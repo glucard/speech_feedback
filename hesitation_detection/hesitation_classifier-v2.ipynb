{
 "cells": [
  {
   "cell_type": "code",
   "execution_count": null,
   "metadata": {},
   "outputs": [],
   "source": [
    "from src.hesitation_dataset import HesitationDataset\n",
    "from src.utils import pad_collate_fn, plot_spectrogram\n",
    "import torch"
   ]
  },
  {
   "cell_type": "code",
   "execution_count": null,
   "metadata": {},
   "outputs": [],
   "source": [
    "dev_dataset = HesitationDataset(annotations_file='metadata_dev_final.csv', audio_dir='./')\n",
    "\n",
    "# Usage in DataLoader\n",
    "train_dataloader = torch.utils.data.DataLoader(\n",
    "    dataset=dev_dataset,\n",
    "    batch_size=32,\n",
    "    collate_fn=pad_collate_fn\n",
    ")"
   ]
  },
  {
   "cell_type": "code",
   "execution_count": null,
   "metadata": {},
   "outputs": [],
   "source": [
    "for batch_idx, (data, target) in enumerate(train_dataloader):\n",
    "\ttest_sample_mfcc = data[5]\n",
    "\tprint(data.shape)\n",
    "\tplot_spectrogram(test_sample_mfcc)\n",
    "\tbreak\n"
   ]
  }
 ],
 "metadata": {
  "kernelspec": {
   "display_name": ".venv",
   "language": "python",
   "name": "python3"
  },
  "language_info": {
   "codemirror_mode": {
    "name": "ipython",
    "version": 3
   },
   "file_extension": ".py",
   "mimetype": "text/x-python",
   "name": "python",
   "nbconvert_exporter": "python",
   "pygments_lexer": "ipython3",
   "version": "3.10.12"
  }
 },
 "nbformat": 4,
 "nbformat_minor": 2
}
