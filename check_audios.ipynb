{
 "cells": [
  {
   "cell_type": "code",
   "execution_count": null,
   "metadata": {},
   "outputs": [],
   "source": [
    "from IPython.display import Audio, display"
   ]
  },
  {
   "cell_type": "code",
   "execution_count": null,
   "metadata": {},
   "outputs": [],
   "source": [
    "import torchaudio\n",
    "import pandas as pd"
   ]
  },
  {
   "cell_type": "code",
   "execution_count": null,
   "metadata": {},
   "outputs": [],
   "source": [
    "import os\n",
    "import random"
   ]
  },
  {
   "cell_type": "code",
   "execution_count": null,
   "metadata": {},
   "outputs": [],
   "source": [
    "from src.hesitation import coraa_filters\n",
    "from src.datasets import get_data_path"
   ]
  },
  {
   "cell_type": "code",
   "execution_count": null,
   "metadata": {},
   "outputs": [],
   "source": [
    "annotations_file_path, data_dir_path = get_data_path(\"hesitation_dev\")"
   ]
  },
  {
   "cell_type": "code",
   "execution_count": null,
   "metadata": {},
   "outputs": [],
   "source": [
    "filters = [coraa_filters.filter0, coraa_filters.filter1, coraa_filters.filter2]"
   ]
  },
  {
   "cell_type": "code",
   "execution_count": null,
   "metadata": {},
   "outputs": [],
   "source": [
    "def show_audio(row):\n",
    "    audio_path = os.path.join(data_dir_path, row['file_path'])\n",
    "    waveform, sample_rate = torchaudio.load(audio_path)\n",
    "    display(Audio(waveform, rate=sample_rate), f\"label: {row['has_hesitation']}\")\n",
    "\n",
    "def show_sample_audios_from_filter(n:int=5):\n",
    "\tfor i, filter in enumerate(filters):\n",
    "\t\ttrain_filter_annotations_file, val_filter_annotations_file, test_filter_annotations_file = filter(\n",
    "\t\t\tannotations_file_path, train_size=0.6, test_size_from_val_size=0.5\n",
    "\t\t\t)\n",
    "\t\ttrain_annotations = pd.read_csv(train_filter_annotations_file)\n",
    "\t\tprint(\n",
    "\t\t\t\"--------------------------------------------------------\\n\",\n",
    "\t\t\tf\"Audios filter{i}\\n count: train={len(train_annotations)}\"\n",
    "\t\t)\n",
    "\n",
    "\t\ttrain_annotations[['file_path', 'has_hesitation']].sample(n).apply(show_audio, axis=1)\n",
    "\t\tprint(\"\\n\\n\\n--------------------------------------------------------\\n\"*3)"
   ]
  },
  {
   "cell_type": "code",
   "execution_count": null,
   "metadata": {},
   "outputs": [],
   "source": [
    "show_sample_audios_from_filter(n=20)"
   ]
  }
 ],
 "metadata": {
  "kernelspec": {
   "display_name": ".venv",
   "language": "python",
   "name": "python3"
  },
  "language_info": {
   "codemirror_mode": {
    "name": "ipython",
    "version": 3
   },
   "file_extension": ".py",
   "mimetype": "text/x-python",
   "name": "python",
   "nbconvert_exporter": "python",
   "pygments_lexer": "ipython3",
   "version": "3.10.12"
  }
 },
 "nbformat": 4,
 "nbformat_minor": 2
}
